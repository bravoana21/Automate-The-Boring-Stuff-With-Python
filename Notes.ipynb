{
 "cells": [
  {
   "cell_type": "markdown",
   "metadata": {},
   "source": [
    "# Automate The Boring Stuff With Python"
   ]
  },
  {
   "cell_type": "markdown",
   "metadata": {},
   "source": [
    "## Part I: Python Programming Basics"
   ]
  },
  {
   "cell_type": "markdown",
   "metadata": {},
   "source": [
    "### Chapter 1: Python Basics"
   ]
  },
  {
   "cell_type": "markdown",
   "metadata": {},
   "source": [
    "#### __Entering expressions into the interactive shell__"
   ]
  },
  {
   "cell_type": "markdown",
   "metadata": {},
   "source": [
    "You can do simple math on the interactive shell that opens after you click on _Run_.\n",
    "\n",
    "```python\n",
    ">>> 2 + 2\n",
    "4\n",
    ">>>\n",
    "```\n",
    "\n",
    "In python, 2 + 2 is called an __expression__, teh ost basic kind of programming instruction which consists of values (2) and operators (+), and they can evaluate to a single value.\n",
    "\n",
    "You can use expressions anywhere in Python code that you could also use a value.\n",
    "\n",
    "A __crash__ means the program stopped running unexpectedly, to find out the reason you can search for the exact error message text online for more information.\n",
    "\n",
    "_Table 1-1: Math operators from highest to lowest precedence_\n",
    "|__Operator__|   __Operation__    |__Example__|__Evaluates to...__|\n",
    "|------------|--------------------|-----------|-------------------|\n",
    "| **         | Exponent           | 2 ** 3    | 8                 |\n",
    "| %          | Modulus/ remainder | 22 % 8    | 6                 |\n",
    "| //         | Integer division/ floored quotient | 22 // 8   | 2                 |\n",
    "| /          | Division           | 22 / 8    | 2.75              |\n",
    "| *          | Multiplication     | 3 * 5     | 15                |\n",
    "| -          | Substraction       | 5 - 2     | 3                 |\n",
    "| +          | Addition           | 2 + 2     | 4                 |\n",
    "\n",
    "The order of operations or __precedence__ of Python math is similar to that of mathematics. The ** operators are first; the *, /, // and % are evaluated next, from left to right; and the + and - are last. You can use parentheses to override the usual precedence if needed to. Whitespace in between the operators and values doesn't matter but a single space is convention.\n",
    "\n",
    "```python\n",
    ">>> 2 + 3 * 6\n",
    "20\n",
    ">>> (2 + 3) * 6\n",
    "30\n",
    ">>> 48565878 * 578453\n",
    "28093077826734\n",
    ">>> 2 ** 8\n",
    "256\n",
    ">>> 23 / 7\n",
    "3.2857142857142856\n",
    ">>> 23 // 7\n",
    "3\n",
    ">>> 23 % 7\n",
    "2\n",
    ">>> 2      +           2\n",
    "4\n",
    ">>> (5 - 1) * ((7 + 1) / (3 - 1))\n",
    "16.0\n",
    "```\n",
    "\n",
    "Python will keep evaluating parts of the expression until it becomes a single value.\n",
    "\n",
    "If you enter a bad Python instruction, Python won’t be able to understand it and will display a SyntaxError error message.\n",
    "\n",
    "```python\n",
    ">>> 5 +\n",
    "  File \"<stdin>\", line 1\n",
    "    5 +\n",
    "      ^\n",
    "SyntaxError: invalid syntax\n",
    ">>> 42 + 5 + * 2\n",
    "  File \"<stdin>\", line 1\n",
    "    42 + 5 + * 2\n",
    "             ^\n",
    "SyntaxError: invalid syntax\n",
    "```"
   ]
  },
  {
   "cell_type": "markdown",
   "metadata": {},
   "source": [
    "#### __The integer, floating-point, and string data types__"
   ]
  },
  {
   "cell_type": "markdown",
   "metadata": {},
   "source": [
    "A __data type__ is a category for values, and every value belogns to one data type. \n",
    "\n",
    "_Table 1-2: Common Data Types_\n",
    "|__Data Type__ |__Examples__ |\n",
    "|--------------|-------------|\n",
    "|Integers      |-2, -1, 0, 1, 2, 3, 4, 5 |\n",
    "|Floating-point numbers |-1.25, -1.0, -0.5, 0.0, 0.5, 1.0, 1.25 |\n",
    "|Strings       |'a', 'aa', 'aaa', 'Hello!', '11 cats' |\n",
    "\n",
    "The __integer__ (int) data type indicates values that are whole numbers. Numbers with a decimal point are called __floating-point__ (floats). \n",
    "\n",
    "As for text values, we have __strings__ (strs). Always surround your string in single quote (') so Python knows where the string begins and ends. You can even have a strings without anything inside (''), called _blank string_ or an _empty string_."
   ]
  },
  {
   "cell_type": "markdown",
   "metadata": {},
   "source": [
    "#### __String Concatenation and Replication__"
   ]
  },
  {
   "cell_type": "markdown",
   "metadata": {},
   "source": [
    "The meaning of an operator may change based on data types. For example, + is the addition operator when it operates on two integers or floats, but, when it comes to two string values, it joins the strings as the __string concatenation__ operator.\n",
    "\n",
    "```python\n",
    ">>> 'Alice' + 'Bob'\n",
    "'AliceBob'\n",
    "```\n",
    "\n",
    "However, if you try to use the + operator on a string and an integer value, Python will not know how to handle this, and it will display an error message.\n",
    "\n",
    "```python\n",
    ">>> 'Alice' + 42\n",
    "Traceback (most recent call last):\n",
    "  File \"<pyshell#0>\", line 1, in <module>\n",
    "    'Alice' + 42\n",
    "TypeError: can only concatenate str (not \"int\") to str\n",
    "```\n",
    "\n",
    "Your code will have to explicitly convert the integer to a string because Python cannot do this automatically.\n",
    "\n",
    "When the * operator multiplies one string value and one integer value, it becomes the __string replication__ operator.\n",
    "\n",
    "```python\n",
    ">>> 'Alice' * 5\n",
    "'AliceAliceAliceAliceAlice'\n",
    "```\n",
    "\n",
    "String replication is a useful trick, but not used as often as string concatenation.\n",
    "\n",
    "The * operator can be used with only two numeric values, or one string value and one integer value. Otherwise, Python will just display an error message."
   ]
  },
  {
   "cell_type": "markdown",
   "metadata": {},
   "source": [
    "#### __Storing values in variables__"
   ]
  },
  {
   "cell_type": "markdown",
   "metadata": {},
   "source": [
    "A __variable__ is like a box where you can store a single value, you can even store the result of an evaluated expression inside one."
   ]
  },
  {
   "cell_type": "markdown",
   "metadata": {},
   "source": [
    "##### Assignment statements"
   ]
  },
  {
   "cell_type": "markdown",
   "metadata": {},
   "source": [
    "An __assignment statement__ consists of a variable name, an equal sign (assignment operator) and the value to be stored. If you enter the assignment statement _spam = 42_, then a variable named _spam_ will have the integer value _42_ stored in it.\n",
    "\n",
    "A variable is __initialized__ the first time a value is stored in it. When a variable is assigned a new value, the old value is forgotten, which is why spam evaluated to 42 instead of 40 at the end of the example. This is called __overwriting__ the variable.\n",
    "\n",
    "```python\n",
    ">>> spam = 40\n",
    ">>> spam\n",
    "40\n",
    ">>> eggs = 2\n",
    ">>> spam + eggs\n",
    "42\n",
    ">>> spam + eggs + spam\n",
    "82\n",
    ">>> spam = spam + 2\n",
    ">>> spam\n",
    "42\n",
    "```"
   ]
  },
  {
   "cell_type": "markdown",
   "metadata": {},
   "source": [
    "##### Variable names"
   ]
  },
  {
   "cell_type": "markdown",
   "metadata": {},
   "source": [
    "A good variable name describes the data it contains. Python does have some naming restrictions, but you can name a variable anything as long as it obeys these three rules:\n",
    "- It can be only one word with no spaces.\n",
    "- It can use only letters, numbers, and the underscore (_) character.\n",
    "- It can’t begin with a number.\n",
    "\n",
    "|__Valid Variable Names__ |__Invalid Variable names__ |\n",
    "|-------------------------|---------------------------|\n",
    "|current_balance          |current-balance (hyphens are not allowed) |\n",
    "|currentBalance           |current balance (spaces aren't allowed) |\n",
    "|account4                 |4account (can't begin with a number) |\n",
    "|_42                      |42 (can't begin with a number) |\n",
    "|TOTAL_SUM                |TOTAL_$UM (special characters like $ aren't allowed) |\n",
    "|hello                    |'hello' (special characters like ' aren't allowed) |\n",
    "\n",
    "Variable names are case-sensitive, meaning that _spam_, _SPAM_, _Spam_, and _sPaM_ are four different variables. It's a Python convention to start your variables in lowercase."
   ]
  },
  {
   "cell_type": "markdown",
   "metadata": {},
   "source": [
    "#### __Your first program__"
   ]
  },
  {
   "cell_type": "markdown",
   "metadata": {},
   "source": [
    "While the interactive shell is good for running Python instructions one at a time, to write entire Python programs, you’ll type the instructions into the __file editor__. The file editor lets you type in many instructions, save the file, and run the program.\n",
    "\n",
    "```python\n",
    "# This program says hello and asks for my name.\n",
    "\n",
    "print('Hello, world!')\n",
    "print('What is your name?')    # ask for their name\n",
    "myName = input()\n",
    "print('It is good to meet you, ' + myName)\n",
    "print('The length of your name is:')\n",
    "print(len(myName))\n",
    "print('What is your age?')    # ask for their age\n",
    "myAge = input()\n",
    "print('You will be ' + str(int(myAge) + 1) + ' in a year.')\n",
    "```\n",
    "\n",
    "Once you’ve entered your source code, save it so that you won’t have to retype it each time you start. Click _Save_, enter hello.py in the _File Name_ field, and then click _Save_. You should save your programs every once in a while as you type them. As a shortcut, you can press _CTRL-S_ on Windows and Linux.\n",
    "\n",
    "Your program should run in the interactive shell window. The program’s output in the interactive shell should look something like this:\n",
    "\n",
    "```python\n",
    ">>>\n",
    "Hello, world!\n",
    "What is your name?\n",
    "Ana\n",
    "It is good to meet you, Ana\n",
    "The length of your name is:\n",
    "3\n",
    "What is your age?\n",
    "19\n",
    "You will be 20 in a year.\n",
    ">>>\n",
    "```\n",
    "When there are no more lines of code to execute, the Python program __terminates__; that is, it stops running. Remember to save your program before closing it, then you can reopen it from wherever you've stored it and resume where you left it."
   ]
  },
  {
   "cell_type": "markdown",
   "metadata": {},
   "source": [
    "###### ___hello.py___"
   ]
  },
  {
   "cell_type": "code",
   "execution_count": 3,
   "metadata": {},
   "outputs": [
    {
     "name": "stdout",
     "output_type": "stream",
     "text": [
      "Hello, world!\n",
      "What is your name?\n",
      "It is good to meet you, Ana\n",
      "The length of your name is:\n",
      "3\n",
      "What is your age?\n",
      "You will be 20 in a year.\n"
     ]
    }
   ],
   "source": [
    "# This program says hello and asks for my name.\n",
    "\n",
    "print('Hello, world!')\n",
    "print('What is your name?')    # ask for their name\n",
    "myName = input()\n",
    "print('It is good to meet you, ' + myName)\n",
    "print('The length of your name is:')\n",
    "print(len(myName))\n",
    "print('What is your age?')    # ask for their age\n",
    "myAge = input()\n",
    "print('You will be ' + str(int(myAge) + 1) + ' in a year.')"
   ]
  },
  {
   "cell_type": "markdown",
   "metadata": {},
   "source": [
    "#### __Disecting your program__"
   ]
  },
  {
   "cell_type": "markdown",
   "metadata": {},
   "source": [
    "Let’s take a look at the Python instructions it uses."
   ]
  },
  {
   "cell_type": "markdown",
   "metadata": {},
   "source": [
    "##### Comments"
   ]
  },
  {
   "cell_type": "markdown",
   "metadata": {},
   "source": [
    "```python\n",
    "# This program says hello and asks for my name.\n",
    "```\n",
    "\n",
    "Python ignores __comments__, and you can use them to write notes or remind yourself what the code is trying to do. Sometimes, programmers will put a # in front of a line of code to temporarily remove it while testing a program. This is called __commenting out__ code, and it can be useful when you’re trying to figure out why a program isn’t working.\n",
    "\n",
    "Python also ignores blank lines so you can add as many blank lines to your program as you want."
   ]
  },
  {
   "cell_type": "markdown",
   "metadata": {},
   "source": [
    "##### The print() function"
   ]
  },
  {
   "cell_type": "markdown",
   "metadata": {},
   "source": [
    "```python\n",
    "print('Hello, world!')\n",
    "print('What is your name?')    # ask for their name\n",
    "```\n",
    "The __print()__ function displays the string value inside its parentheses on the screen. When Python executes this line, you say that Python is __calling__ the print() function and the string value is being __passed__ to the function. A value that is passed to a function call is an __argument__.\n",
    "\n",
    "To put a blank line on the screen , just call an _print()_ with nothing between the parentheses."
   ]
  },
  {
   "cell_type": "markdown",
   "metadata": {},
   "source": [
    "##### The input() function"
   ]
  },
  {
   "cell_type": "markdown",
   "metadata": {},
   "source": [
    "```python\n",
    "myName= input()\n",
    "```\n",
    "The __input()__ function waits for the user to type some text on the keyboard and press _ENTER_. This function call evaluates to a string equal to the user’s text, and the line of code assigns the _myName_ variable to this string value."
   ]
  },
  {
   "cell_type": "markdown",
   "metadata": {},
   "source": [
    "##### Printing the user's name"
   ]
  },
  {
   "cell_type": "markdown",
   "metadata": {},
   "source": [
    "```python\n",
    "print('It is good to meet you, ' + myName)\n",
    "```\n",
    "\n",
    "If _'Ana'_ is the value stored in _myName_, then this expression evaluates to _'It is good to meet you, Ana'_. This single string value is then passed to _print()_, which prints it on the screen."
   ]
  },
  {
   "cell_type": "markdown",
   "metadata": {},
   "source": [
    "##### The len() function"
   ]
  },
  {
   "cell_type": "markdown",
   "metadata": {},
   "source": [
    "```python\n",
    "print('The length of your name is:')\n",
    "print(len(myName))\n",
    "```\n",
    "\n",
    "You can pass the _len()_ function a string value (or a variable containing a string), and the function evaluates to the integer value of the number of characters in that string.\n",
    "\n",
    "```python\n",
    ">>> len('hello')\n",
    "5\n",
    ">>> len('My very energetic monster just scarfed nachos.')\n",
    "46\n",
    ">>> len('')\n",
    "0\n",
    "```"
   ]
  },
  {
   "cell_type": "markdown",
   "metadata": {},
   "source": [
    "##### The str(), int(), and float() functions"
   ]
  },
  {
   "cell_type": "markdown",
   "metadata": {},
   "source": [
    "```python\n",
    ">>> str(29)\n",
    "'29'\n",
    ">>> print('I am ' + str(29) + ' years old.')\n",
    "I am 29 years old.\n",
    "```\n",
    "\n",
    "The _str()_ function can be passed an integer value and will evaluate to a string value version of the integer. The _str()_, _int()_, and _float()_ functions will evaluate to the string, integer, and floating-point forms of the value you pass, respectively.\n",
    "\n",
    "```python\n",
    ">>> str(0)\n",
    "'0'\n",
    ">>> str(-3.14)\n",
    "'-3.14'\n",
    ">>> int('42')\n",
    "42\n",
    ">>> int('-99')\n",
    "-99\n",
    ">>> int(1.25)\n",
    "1\n",
    ">>> int(1.99)\n",
    "1\n",
    ">>> float('3.14')\n",
    "3.14\n",
    ">>> float(10)\n",
    "10.0\n",
    "```\n",
    "\n",
    "The _str()_ function is handy when you have an integer or float that you want to concatenate to a string. The _int()_ function is also helpful if you have a number as a string value that you want to use in some mathematics. For example, the _input()_ function always returns a string, even if the user enters a number. If you want to do math using the value in a variable, use the _int()_ function to get its integer form and then store this as the new value of the variable. The _int()_ function is also useful if you need to round a floating-point number down. Note that if you pass a value to _int()_ that it cannot evaluate as an integer, Python will display an error message. "
   ]
  },
  {
   "cell_type": "markdown",
   "metadata": {},
   "source": [
    "#### ___My answers to the practice questions___"
   ]
  },
  {
   "cell_type": "markdown",
   "metadata": {},
   "source": [
    "1. operators (*, -, /, +) and values ('hello', -88.8, 5)\n",
    "2. variable (spam) and string ('spam')\n",
    "3. integers, floating-point numbers and strings\n",
    "4. An expression is made up of values and operators, and it returns a value.\n",
    "5. A statement stores a value in a variable that can be used later in the code, the expression just gets a value.\n",
    "6. 20\n",
    "7. 'spamspamspam'\n",
    "8. Because 100 starts with a number which it goes against the Python rules.\n",
    "9. int(), float() and str()\n",
    "10. Because it's trying to add an integer to strings, I would fix it by converting the _99_ to a tring with the _str()_ function, like this (_'I have eaten' + str(99) + 'burritos'_)"
   ]
  },
  {
   "cell_type": "markdown",
   "metadata": {},
   "source": [
    "### Chapter 2: Flow Control"
   ]
  },
  {
   "cell_type": "markdown",
   "metadata": {},
   "source": [
    "__Flow control statements__ can decide which Python instructions to execute under which conditions. These statements directly correspond to the symbols in a flowchart. There is usually more than one way to go from the start to the end.\n",
    "\n",
    "_Figure 2-1: A flowchart to tell you what to do if it's raining_\n",
    "\n",
    "![automatetheboringstuff](https://automatetheboringstuff.com/2e/images/000039.jpg)"
   ]
  },
  {
   "cell_type": "markdown",
   "metadata": {},
   "source": [
    "#### __Boolean Values__"
   ]
  },
  {
   "cell_type": "markdown",
   "metadata": {},
   "source": [
    "The __Boolean__ data type has only two values: _True_ and _False_. These lack the quotes around strings and are always written with a capital T or F. Boolean values are used in expressions and can be stored in variables. If you don’t use the proper case or you try to use _True_ and _False_ for variable names, Python will give you an error message.\n",
    "\n",
    "```python\n",
    ">>> spam = True\n",
    ">>> spam\n",
    "True\n",
    ">>> true\n",
    "Traceback (most recent call last):\n",
    "  File \"<pyshell#2>\", line 1, in <module>\n",
    "    true\n",
    "NameError: name 'true' is not defined\n",
    ">>> True = 2 + 2\n",
    "SyntaxError: can't assign to keyword\n",
    "```"
   ]
  },
  {
   "cell_type": "markdown",
   "metadata": {},
   "source": [
    "#### __Comparison Operators__"
   ]
  },
  {
   "cell_type": "markdown",
   "metadata": {},
   "source": [
    "__Comparison operators__, or __relational operators__, compare two values and evaluate down to a single Boolean value.\n",
    "\n",
    "|__Operator__ |__Meaning__ |\n",
    "|-------------|------------|\n",
    "|==           |Equal to    |\n",
    "|!=           |Not equal to|\n",
    "|<            |Less than   |\n",
    "|>            |Greater than|\n",
    "|<=           |Less than or equal to|\n",
    "|>=           |Greater than or equal to|\n",
    "\n",
    "The == and != operators can actually work with values of any data type. Note that an integer or floating-point value will always be unequal to a string value.\n",
    "\n",
    "```python\n",
    ">>> 42 == 42\n",
    "True\n",
    ">>> 42 == 99\n",
    "False\n",
    ">>> 2 != 3\n",
    "True\n",
    ">>> 2 != 2\n",
    "False\n",
    "\n",
    ">>> 'hello' == 'hello'\n",
    "True\n",
    ">>> 'hello' == 'Hello'\n",
    "False\n",
    ">>> 'dog' != 'cat'\n",
    "True\n",
    ">>> True == True\n",
    "True\n",
    ">>> True != False\n",
    "True\n",
    ">>> 42 == 42.0\n",
    "True\n",
    ">>> 42 == '42'\n",
    "False\n",
    "```\n",
    "\n",
    "The <, >, <=, and >= operators work properly only with integer and floating-point values.\n",
    "\n",
    "```python\n",
    ">>> 42 < 100\n",
    "True\n",
    ">>> 42 > 100\n",
    "False\n",
    ">>> 42 < 42\n",
    "False\n",
    ">>> eggCount = 42\n",
    ">>> eggCount <= 42\n",
    "True\n",
    ">>> myAge = 29\n",
    ">>> myAge >= 10\n",
    "True\n",
    "```"
   ]
  },
  {
   "cell_type": "markdown",
   "metadata": {},
   "source": [
    "#### __Boolean Operators__"
   ]
  },
  {
   "cell_type": "markdown",
   "metadata": {},
   "source": [
    "The three Boolean operators (_and_, _or_ and _not_) are used to compare Boolean values. They evaluate these expressions down to a Boolean value."
   ]
  },
  {
   "cell_type": "markdown",
   "metadata": {},
   "source": [
    "##### Binary Boolean Operators"
   ]
  },
  {
   "cell_type": "markdown",
   "metadata": {},
   "source": [
    "The _and_ and _or_ operators always take two Boolean values, so they're considered __binary__ operators. The _and_ operator evaluates an expression to _True_ if __both__ Boolean values are _True_; toherwise, it evaluates to _False_.\n",
    "\n",
    "```python\n",
    ">>> True and True\n",
    "True\n",
    ">>> True and False\n",
    "False\n",
    "```\n",
    "\n",
    "A __truth table__ shows every possible result of a Boolean operator.\n",
    "\n",
    "_Table 2-2: The and Operator's Truth Table_\n",
    "|__Expression__ |__Evaluates to...__ |\n",
    "|---------------|--------------------|\n",
    "|_True and True_|_True_              |\n",
    "|_True and False_|_False_            |\n",
    "|_False and True_|_False_            |\n",
    "|_False and False_|_False_           |\n",
    "\n",
    "The _or_ operator evaluates an expression to _True_ if __either__ of the two Boolean values is _True_. If both are _False_, it evaluates to False.\n",
    "\n",
    "```python\n",
    ">>> False or True\n",
    "True\n",
    ">>> False or False\n",
    "False\n",
    "```\n",
    "\n",
    "_Table 2-3: The or Operator's Truth Table_\n",
    "|__Expression__ |__Evaluates to...__ |\n",
    "|---------------|--------------------|\n",
    "|_True or True_ |_True_              |\n",
    "|_True or False_|_Ture_              |\n",
    "|_False or True_|_True_              |\n",
    "|_False or False_|_False_            |\n"
   ]
  },
  {
   "cell_type": "markdown",
   "metadata": {},
   "source": [
    "##### The _not_ Operator"
   ]
  },
  {
   "cell_type": "markdown",
   "metadata": {},
   "source": [
    "The _not_ operator operates on only one Boolean value, this makes it a __unary__ operator. It simply evaluates to the opposite Boolean value.\n",
    "\n",
    "```python\n",
    ">>> not True\n",
    "False\n",
    ">>> not not not not True\n",
    "True\n",
    "```\n",
    "\n",
    "_Table 2-4: The not Operator's Truth Table_\n",
    "|__Expression__ |__Evaluates to...__ |\n",
    "|---------------|--------------------|\n",
    "|_not True_     |_False_             |\n",
    "|_not False_    |_True_              |"
   ]
  },
  {
   "cell_type": "markdown",
   "metadata": {},
   "source": [
    "#### __Mixing Boolean and Comparison Operators__"
   ]
  },
  {
   "cell_type": "markdown",
   "metadata": {},
   "source": [
    "Since the comparison operators evaluate to Boolean values, you can use them in expressions with the Boolean operators. The computer will evaluate the left expression first, and then it will evaluate the right expression. When it knows the Boolean value for each, it will then evaluate the whole expression down to one Boolean value.\n",
    "\n",
    "```python\n",
    ">>> (4 < 5) and (5 < 6)\n",
    "True\n",
    ">>> (4 < 5) and (9 < 6)\n",
    "False\n",
    ">>> (1 == 2) or (2 == 2)\n",
    "True\n",
    "```\n",
    "\n",
    "You can also use multiple Boolean operators in an expression, along with the comparison operators.\n",
    "\n",
    "```python\n",
    ">>> 2 + 2 == 4 and not 2 + 2 == 5 and 2 * 2 == 2 + 2\n",
    "True\n",
    "```\n",
    "\n",
    "After any math and comparison operators evaluate, Python evaluates the _not_ operators first, then the _and_ operators, and then the _or_ operators."
   ]
  },
  {
   "cell_type": "markdown",
   "metadata": {},
   "source": [
    "#### __Elements of Flow Control__"
   ]
  },
  {
   "cell_type": "markdown",
   "metadata": {},
   "source": [
    "Flow control statements often start with a part called the __condition__ and are always followed by a block of code called the __clause__."
   ]
  },
  {
   "cell_type": "markdown",
   "metadata": {},
   "source": [
    "##### Conditions"
   ]
  },
  {
   "cell_type": "markdown",
   "metadata": {},
   "source": [
    "Same thing as expressions; __condition__ is just a more specific name in the context of flow control statements. Conditions always evaluate down to a Boolean value, _True_ or _False_. A flow control statement decides what to do based on its condition, and almost every flow control statement uses a condition."
   ]
  },
  {
   "cell_type": "markdown",
   "metadata": {},
   "source": [
    "##### Blocks of Code"
   ]
  },
  {
   "cell_type": "markdown",
   "metadata": {},
   "source": [
    "Lines of Python code can be grouped together in __blocks__, which begins and ends from the indentation of the lines of code. There are three rules:\n",
    "- Blocks begin when the indentation increases.\n",
    "- Blocks can contain other blocks.\n",
    "- Blocks end when the indentation decreases to zero or to a containing block’s indentation.\n",
    "\n",
    "```python\n",
    "name = 'Mary'\n",
    "password = 'swordfish'\n",
    "if name == 'Mary':\n",
    "    print('Hello, Mary')\n",
    "    if password == 'swordfish':\n",
    "        print('Access granted.')\n",
    "    else:\n",
    "        print('Wrong password.')\n",
    "```"
   ]
  },
  {
   "cell_type": "markdown",
   "metadata": {},
   "source": [
    "#### __Program Execution__"
   ]
  },
  {
   "cell_type": "markdown",
   "metadata": {},
   "source": [
    "The __program execution__ is a term for the current instruction being executed. It usually goes straight down, line by line. If you use a program with flow control statements, it’ll likely jump around the source code based on conditions, and will probably skip entire clauses."
   ]
  },
  {
   "cell_type": "markdown",
   "metadata": {},
   "source": [
    "#### __Flow Control Statements__"
   ]
  },
  {
   "cell_type": "markdown",
   "metadata": {},
   "source": [
    "The statements represent the diamonds in the flowchart from Figure 2-1, and they are the actual decisions your programs will make."
   ]
  },
  {
   "cell_type": "markdown",
   "metadata": {},
   "source": [
    "##### _if_ Statements"
   ]
  },
  {
   "cell_type": "markdown",
   "metadata": {},
   "source": [
    "An _if_ statement’s clause will execute if the statement’s condition is _True_, otherwise it's skipped. In plain English, an _if_ statement could be read as, “If this condition is true, execute the code in the clause.” In Python, an _if_ statement consists of the following:\n",
    "- The _if_ keyword.\n",
    "- A condition (that is, an expression that evaluates to _True_ or _False_).\n",
    "- A colon.\n",
    "- Starting on the next line, an indented block of code (called the _if_ clause).\n",
    "\n",
    "All flow control statements end with a colon and are followed by a new block of code (the clause). \n",
    "\n",
    "```python\n",
    "if name == 'Alice':\n",
    "    print('Hi, Alice')\n",
    "```\n",
    "\n",
    "This _if_ statement’s clause is the block with print('Hi, Alice.')."
   ]
  },
  {
   "cell_type": "markdown",
   "metadata": {},
   "source": [
    "##### _else_ Statements"
   ]
  },
  {
   "cell_type": "markdown",
   "metadata": {},
   "source": [
    "An _if_ clause can optionally be followed by an _else_ statement. The _else_ clause is executed only when the _if_ statement’s condition is _False_. In plain English, it could be read as, “If this condition is true, execute this code. Or else, execute that code.” An _else_ statement always consists of the following:\n",
    "- The _else_ keyword.\n",
    "- A colon.\n",
    "- Starting on the next line, an indented block of code (called the _else_ clause).\n",
    "\n",
    "```python\n",
    "if name == 'Alice':\n",
    "    print('Hi, Alice.')\n",
    "else:\n",
    "    print('Hello, stranger.')\n",
    "```"
   ]
  },
  {
   "cell_type": "markdown",
   "metadata": {},
   "source": [
    "##### _elif_ Statements"
   ]
  },
  {
   "cell_type": "markdown",
   "metadata": {},
   "source": [
    "The _elif_ statement is an “else if” statement that always follows an _if_ or another _elif_ statement. It provides another condition that is checked only if all of the previous conditions were _False_. In code, an _elif_ statement always consists of the following:\n",
    "- The _elif_ keyword.\n",
    "- A condition (that is, an expression that evaluates to _True_ or _False_).\n",
    "- A colon.\n",
    "- Starting on the next line, an indented block of code (called the _elif_ clause).\n",
    "\n",
    "```python\n",
    "if name == 'Alice':\n",
    "    print('Hi, Alice.')\n",
    "elif age < 12:\n",
    "    print('You are not Alice, kiddo.')\n",
    "```\n",
    "This time, you check the person’s age, and the program will tell them something different if they’re younger than 12. It is not guaranteed that at least one of the clauses will be executed. Once one of the statements’ conditions is found to be _True_, the rest of the _elif_ clauses are automatically skipped. The order of the _elif_ statements does matter!\n",
    "\n",
    "Optionally, you can have an _else_ statement after the last _elif_ statement. In that case, it is guaranteed that at least one (and only one) of the clauses will be executed.\n",
    "\n",
    "```python\n",
    "name = 'Carol'\n",
    "age = 3000\n",
    "if name == 'Alice':\n",
    "    print('Hi, Alice.')\n",
    "elif age < 12:\n",
    "    print('You are not Alice, kiddo.')\n",
    "else:\n",
    "    print('You are neither Alice nor a little kid.')\n",
    "```\n",
    "\n",
    "In plain English, this type of flow control structure would be “If the first condition is true, do this. Else, if the second condition is true, do that. Otherwise, do something else.”"
   ]
  },
  {
   "cell_type": "markdown",
   "metadata": {},
   "source": [
    "###### ___vampire.py___"
   ]
  },
  {
   "cell_type": "code",
   "execution_count": 4,
   "metadata": {},
   "outputs": [
    {
     "name": "stdout",
     "output_type": "stream",
     "text": [
      "Unlike you, Alice is not an undead, immortal vampire.\n"
     ]
    }
   ],
   "source": [
    "name = 'Carol'\n",
    "age = 3000\n",
    "if name == 'Alice':\n",
    "    print('Hi, Alice.')\n",
    "elif age < 12:\n",
    "    print('You are not Alice, kiddo.')\n",
    "elif age > 2000:\n",
    "    print('Unlike you, Alice is not an undead, immortal vampire.')\n",
    "elif age > 100:\n",
    "    print('You are not Alice, grannie.')"
   ]
  },
  {
   "cell_type": "markdown",
   "metadata": {},
   "source": [
    "###### ___vampire2.py___"
   ]
  },
  {
   "cell_type": "code",
   "execution_count": 5,
   "metadata": {},
   "outputs": [
    {
     "name": "stdout",
     "output_type": "stream",
     "text": [
      "You are not Alice, grannie.\n"
     ]
    }
   ],
   "source": [
    "name = 'Carol'\n",
    "age = 3000\n",
    "if name == 'Alice':\n",
    "    print('Hi, Alice.')\n",
    "elif age < 12:\n",
    "    print('You are not Alice, kiddo.')\n",
    "elif age > 100:\n",
    "    print('You are not Alice, grannie.')\n",
    "elif age > 2000:\n",
    "    print('Unlike you, Alice is not an undead, immortal vampire.')"
   ]
  },
  {
   "cell_type": "markdown",
   "metadata": {},
   "source": [
    "###### ___littleKid.py___"
   ]
  },
  {
   "cell_type": "code",
   "execution_count": 6,
   "metadata": {},
   "outputs": [
    {
     "name": "stdout",
     "output_type": "stream",
     "text": [
      "You are neither Alice nor a little kid.\n"
     ]
    }
   ],
   "source": [
    "name = 'Carol'\n",
    "age = 3000\n",
    "if name == 'Alice':\n",
    "    print('Hi, Alice.')\n",
    "elif age < 12:\n",
    "    print('You are not Alice, kiddo.')\n",
    "else:\n",
    "    print('You are neither Alice nor a little kid.')"
   ]
  },
  {
   "cell_type": "markdown",
   "metadata": {},
   "source": [
    "##### _while_ Loop Statements"
   ]
  },
  {
   "cell_type": "markdown",
   "metadata": {},
   "source": [
    "The code in a _while_ clause will be executed as long as the _while_ statement’s condition is _True_. In code, a _while_ statement always consists of the following:\n",
    "- The _while_ keyword.\n",
    "- A condition (that is, an expression that evaluates to _True_ or _False_).\n",
    "- A colon.\n",
    "- Starting on the next line, an indented block of code (called the _while_ clause).\n",
    "\n",
    "The difference it has with an _if_ statement is that, at the end of an _if clause_, the program execution continues after the _if_ statement whereas, at the end of a _while_ clause the program executing jumps back to the start of the _while_ statement. The _while_ clause is often called the __while loop__ or just the __loop__.\n",
    "\n",
    "```python\n",
    "spam = 0\n",
    "if spam < 5:\n",
    "    print('Hello, world.')\n",
    "    spam = spam + 1\n",
    "```\n",
    "Now we'll use a _while_ clause.\n",
    "\n",
    "```python\n",
    "spam = 0\n",
    "while spam < 5:\n",
    "    print('Hello, world.')\n",
    "    spam = spam + 1\n",
    "```\n",
    "\n",
    "These statements are similar—both _if_ and _while_ check the value of spam, and if it’s less than 5, they print a message. But when you run these two code snippets, the _if_ statement, the output is simply \"Hello, world.\", when, for the _while_ statement, it’s \"Hello, world.\" repeated five times. The loop stops after five prints because the integer in _spam_ increases by one at the end of each loop iteration, which means that the loop will execute five times before _spam < 5_ is _False_."
   ]
  },
  {
   "cell_type": "markdown",
   "metadata": {},
   "source": [
    "#### __An Annoying While Loop__"
   ]
  },
  {
   "cell_type": "markdown",
   "metadata": {},
   "source": [
    "```python\n",
    "name = ''\n",
    "while name != 'your name':\n",
    "    print('Please type your name.')\n",
    "    name = input()\n",
    "print('Thank you!')\n",
    "```\n",
    "If you never enter _your name_, then the _while_ loop’s condition will never be _False_, and the program will just keep asking forever. Here, the _input()_ call lets the user enter the right string to make the program move on. In other programs, the condition might never actually change, and that can be a problem."
   ]
  },
  {
   "cell_type": "markdown",
   "metadata": {},
   "source": [
    "###### ___yourName.py___"
   ]
  },
  {
   "cell_type": "code",
   "execution_count": 7,
   "metadata": {},
   "outputs": [
    {
     "name": "stdout",
     "output_type": "stream",
     "text": [
      "Please type your name.\n",
      "Please type your name.\n",
      "Please type your name.\n",
      "Thank you!\n"
     ]
    }
   ],
   "source": [
    "name = ''\n",
    "while name != 'your name':\n",
    "    print('Please type your name.')\n",
    "    name = input()\n",
    "print('Thank you!')"
   ]
  },
  {
   "cell_type": "markdown",
   "metadata": {},
   "source": [
    "##### _break_ Statements"
   ]
  },
  {
   "cell_type": "markdown",
   "metadata": {},
   "source": [
    "If the execution reaches a _break_ statement, it immediately exits the _while_ loop’s clause. In code, a _break_ statement simply contains the _break_ keyword.\n",
    "\n",
    "```python\n",
    "while True:\n",
    "    print('Please type your name.')\n",
    "    name = input()\n",
    "    if name == 'your name':\n",
    "        break\n",
    "print('Thank you!')\n",
    "```\n",
    "This program asks the user to enter _your name_. An _if_ statement checks whether _name_ is equal to _'your name'_. If this condition is _True_, the _break_ statement is run, and the execution moves out of the loop to _print('Thank you!')_. Otherwise, the _if_ statement’s clause is skipped, which puts the execution at the end of the _while_ loop. At this point, the program execution jumps back to the start of the _while_ statement to recheck the condition. Since this condition is merely the _True_ Boolean value, the execution enters the loop to ask the user to type _your name_ again."
   ]
  },
  {
   "cell_type": "markdown",
   "metadata": {},
   "source": [
    "###### ___yourName2.py___"
   ]
  },
  {
   "cell_type": "code",
   "execution_count": 8,
   "metadata": {},
   "outputs": [
    {
     "name": "stdout",
     "output_type": "stream",
     "text": [
      "Please type your name.\n",
      "Please type your name.\n",
      "Thank you!\n"
     ]
    }
   ],
   "source": [
    "while True:\n",
    "    print('Please type your name.')\n",
    "    name = input()\n",
    "    if name == 'your name':\n",
    "        break\n",
    "print('Thank you!')"
   ]
  },
  {
   "cell_type": "markdown",
   "metadata": {},
   "source": [
    "##### _continue_ Statements"
   ]
  },
  {
   "cell_type": "markdown",
   "metadata": {},
   "source": [
    "When the program execution reaches a _continue_ statement, the program execution jumps back to the start of the loop and reevaluates the loop’s condition. (This is also what happens when the execution reaches the end of the loop.)\n",
    "\n",
    "If you ever run a program that has a bug causing it to get stuck in an infinite loop, press __CTRL-C__ or select __Shell ▸ Restart Shell__ from IDLE’s menu. This will send a KeyboardInterrupt error to your program and cause it to stop immediately.\n",
    "\n",
    "```python\n",
    "while True:\n",
    "    print('Who are you?')\n",
    "    name = input()\n",
    "    if name != 'Joe':\n",
    "        continue\n",
    "    print('Hello, Joe. What is the password? (It is a fish.)')\n",
    "    password = input()\n",
    "    if password == 'swordfish':\n",
    "        break\n",
    "print('Access granted.')\n",
    "```\n",
    "\n",
    "If the user enters any name besides _Joe_, the _continue_ statement causes the program execution to jump back to the start of the loop. When the program reevaluates the condition, the execution will always enter the loop, since the condition is simply the value _True_. Once the user makes it past that _if_ statement, they are asked for a password. If the password entered is _swordfish_, then the _break_ statement is run, and the execution jumps out of the while loop to print _Access granted_. Otherwise, the execution continues to the end of the _while_ loop, where it then jumps back to the start of the loop.\n",
    "\n",
    "When used in conditions, _0_, _0.0_, and _''_ are considered _False_, while all other values are considered _True_.\n",
    "\n",
    "```python\n",
    "name = ''\n",
    "while not name:\n",
    "    print('Enter your name:')\n",
    "    name = input()\n",
    "print('How many guests will you have?')\n",
    "numOfGuests = int(input())\n",
    "if numOfGuests:\n",
    "    print('Be sure to have enough room for all your guests.')\n",
    "print('Done')\n",
    "```"
   ]
  },
  {
   "cell_type": "markdown",
   "metadata": {},
   "source": [
    "###### ___swordfish.py___"
   ]
  },
  {
   "cell_type": "code",
   "execution_count": 9,
   "metadata": {},
   "outputs": [
    {
     "name": "stdout",
     "output_type": "stream",
     "text": [
      "Who are you?\n",
      "Hello, Joe. What is the password? (It is a fish.)\n",
      "Who are you?\n",
      "Who are you?\n",
      "Hello, Joe. What is the password? (It is a fish.)\n",
      "Access granted.\n"
     ]
    }
   ],
   "source": [
    "while True:\n",
    "    print('Who are you?')\n",
    "    name = input()\n",
    "    if name != 'Joe':\n",
    "        continue\n",
    "    print('Hello, Joe. What is the password? (It is a fish.)')\n",
    "    password = input()\n",
    "    if password == 'swordfish':\n",
    "        break\n",
    "print('Access granted.')"
   ]
  },
  {
   "cell_type": "markdown",
   "metadata": {},
   "source": [
    "##### _for_ Loops and the _range()_ Function"
   ]
  },
  {
   "cell_type": "markdown",
   "metadata": {},
   "source": [
    "When you want to execute a block of code only a certain number of times you can use a _for_ loop statement and the _range()_ function. In code, this statement looks something like _for i in range(5):_ and includes the following:\n",
    "- The _for_ keyword.\n",
    "- A variable name.\n",
    "- The _in_ keyword.\n",
    "- A call to the _range()_ method with up to three integers passed to it.\n",
    "- A colon.\n",
    "- Starting on the next line, an indented block of code (called the _for_ clause).\n",
    "\n",
    "```python\n",
    "print('My name is')\n",
    "for i in range(5):\n",
    "    print('Jimmy Five Times (' + str(i) + ')')\n",
    "```\n",
    "\n",
    "When you run this program, it should print _Jimmy Five Times_ followed by the value of _i_ five times before leaving the for loop. The variable _i_ will go up to, but will not include, the integer passed to _range()_.\n",
    "\n",
    "You can use _break_ and _continue_ statements inside _for_ loops as well. The _continue_ statement will continue to the next value of the _for_ loop’s counter. In fact, you can use _continue_ and _break_ statements only inside _while_ and _for_ loops.\n",
    "\n",
    "```python\n",
    "total = 0\n",
    "for num in range(101):\n",
    "    total = total + num\n",
    "print(total)\n",
    "```\n",
    "\n",
    "As another for loop example, this program adds up all the numbers from 0 to 100. The result should be 5,050. Even on the slowest computers, this program takes less than a second to complete."
   ]
  },
  {
   "cell_type": "markdown",
   "metadata": {},
   "source": [
    "###### ___fiveTimes.py___"
   ]
  },
  {
   "cell_type": "code",
   "execution_count": 10,
   "metadata": {},
   "outputs": [
    {
     "name": "stdout",
     "output_type": "stream",
     "text": [
      "My name is\n",
      "Jimmy Five Times (0)\n",
      "Jimmy Five Times (1)\n",
      "Jimmy Five Times (2)\n",
      "Jimmy Five Times (3)\n",
      "Jimmy Five Times (4)\n"
     ]
    }
   ],
   "source": [
    "print('My name is')\n",
    "for i in range(5):\n",
    "    print('Jimmy Five Times (' + str(i) + ')')"
   ]
  },
  {
   "cell_type": "markdown",
   "metadata": {},
   "source": [
    "#### __The Starting, Stopping, and Stepping Arguments to range()__"
   ]
  },
  {
   "cell_type": "markdown",
   "metadata": {},
   "source": [
    "_range()_, like some other functions, can be called with multiple arguments separated by a coma, which lets us change the integer passed to _range()_ to follow any sequence of integers, including starting at a number other than zero.\n",
    "\n",
    "```python\n",
    "for i in range(12, 16):\n",
    "    print(i)\n",
    "```\n",
    "\n",
    "The first argument is where the loop starts and the second is the number to stop at.\n",
    "\n",
    "```python\n",
    "12\n",
    "13\n",
    "14\n",
    "15\n",
    "16\n",
    "```\n",
    "\n",
    "We can add a third, the __step argument__, that signifies the amount that the variable is increased after each iteration.\n",
    "\n",
    "```python\n",
    "for i in range(0, 10, 2):\n",
    "    print (i)\n",
    "```\n",
    "```python\n",
    "0\n",
    "2\n",
    "4\n",
    "6\n",
    "8\n",
    "```\n",
    "\n",
    "The _range()_ function is flexible in the sequence of numbers it produces, it can even use a negative number for the step argument to make the _for_ loop count down instead of up."
   ]
  },
  {
   "cell_type": "markdown",
   "metadata": {},
   "source": [
    "#### __Importing Modules__"
   ]
  },
  {
   "cell_type": "markdown",
   "metadata": {},
   "source": [
    "All Python programs can call a basic set of functions called __built-in functions__, including the _print()_, _input()_, and _len()_ functions you’ve seen before. Python also comes with a set of modules called the __standard library__. Each module is a Python program that contains a related group of functions that can be embedded in your programs.\n",
    "\n",
    "You must import the module with an _import_ statement in order to use it, which consists of the following:\n",
    "- The _import_ keyword.\n",
    "- The name of the module.\n",
    "- Optionally, more module names, as long as they are separated by commas.\n",
    "\n",
    "For example, the _random_ module will give us access to all its functions, like the _random.randint()_ function.\n",
    "\n",
    "```python\n",
    "import random\n",
    "for i in range(5):\n",
    "    print(random.randint(1, 10))\n",
    "```\n",
    "The _random.randint()_ function call evaluates to a random integer value between the two integers that you pass it. Since _randint()_ is in the random module, you must first type __random.__ in front of the function name to tell Python to look for this function inside the _random_ module.\n",
    "\n",
    "Here’s an example of an import statement that imports four different modules.\n",
    "\n",
    "```python\n",
    "import random, sys, os, math\n",
    "```"
   ]
  },
  {
   "cell_type": "markdown",
   "metadata": {},
   "source": [
    "###### ___printRandom.py___"
   ]
  },
  {
   "cell_type": "code",
   "execution_count": 11,
   "metadata": {},
   "outputs": [
    {
     "name": "stdout",
     "output_type": "stream",
     "text": [
      "8\n",
      "4\n",
      "2\n",
      "4\n",
      "6\n"
     ]
    }
   ],
   "source": [
    "import random\n",
    "for i in range(5):\n",
    "    print(random.randint(1, 10))"
   ]
  },
  {
   "cell_type": "markdown",
   "metadata": {},
   "source": [
    "##### _from import_ Statements"
   ]
  },
  {
   "cell_type": "markdown",
   "metadata": {},
   "source": [
    "An alternative form of the _import_ statement is composed of the _from_ keyword, followed by the module name, the _import_ keyword, and a star; _from random import *_. It calls to functions in _random_ without needing the _random._ prefix. However, using the full name makes for more readable code, so it is better to use the _import random_ form of the statement."
   ]
  },
  {
   "cell_type": "markdown",
   "metadata": {},
   "source": [
    "#### __Ending a Program Early with the sys.exit() Function__"
   ]
  },
  {
   "cell_type": "markdown",
   "metadata": {},
   "source": [
    "You can cause the program to terminate, or exit, before the last instruction by calling the _sys.exit()_ function. Since this function is in the _sys_ module, you have to import _sys_ before your program can use it."
   ]
  },
  {
   "cell_type": "markdown",
   "metadata": {},
   "source": [
    "###### ___exitExample.py___"
   ]
  },
  {
   "cell_type": "code",
   "execution_count": 13,
   "metadata": {},
   "outputs": [
    {
     "name": "stdout",
     "output_type": "stream",
     "text": [
      "Type exit to exit.\n",
      "You typed lol.\n",
      "Type exit to exit.\n"
     ]
    },
    {
     "ename": "SystemExit",
     "evalue": "",
     "output_type": "error",
     "traceback": [
      "An exception has occurred, use %tb to see the full traceback.\n",
      "\u001b[1;31mSystemExit\u001b[0m\n"
     ]
    }
   ],
   "source": [
    "import sys\n",
    "\n",
    "while True:\n",
    "    print('Type exit to exit.')\n",
    "    response = input()\n",
    "    if response == 'exit':\n",
    "        sys.exit()\n",
    "    print('You typed ' + response + '.')"
   ]
  },
  {
   "cell_type": "markdown",
   "metadata": {},
   "source": [
    "#### __A Short Program: Guess the Number__"
   ]
  },
  {
   "cell_type": "markdown",
   "metadata": {},
   "source": [
    "###### ___guessTheNumber.py___"
   ]
  },
  {
   "cell_type": "code",
   "execution_count": 14,
   "metadata": {},
   "outputs": [
    {
     "name": "stdout",
     "output_type": "stream",
     "text": [
      "I am thinking of a number between 1 and 20.\n",
      "Take a guess.\n",
      "Your guess is too low.\n",
      "Take a guess.\n",
      "Good job! You guessed my number in 2guesses!\n"
     ]
    }
   ],
   "source": [
    "# This is a guess the number game.\n",
    "import random\n",
    "secretNumber = random.randint(1, 20)\n",
    "print('I am thinking of a number between 1 and 20.')\n",
    "\n",
    "# Ask the player to guess 6 times.\n",
    "for guessesTaken in range(1, 7):\n",
    "    print('Take a guess.')\n",
    "    guess = int(input())\n",
    "\n",
    "    if guess < secretNumber:\n",
    "        print('Your guess is too low.')\n",
    "    elif guess > secretNumber:\n",
    "        print('Your guess is too high.')\n",
    "    else:\n",
    "        break    # This condition is the correct guess!\n",
    "\n",
    "if guess == secretNumber:\n",
    "    print('Good job! You guessed my number in ' + str(guessesTaken) + 'guesses!')\n",
    "else:\n",
    "    print('Nope. The number I was thinking of was ' + str(secretNumber))"
   ]
  },
  {
   "cell_type": "markdown",
   "metadata": {},
   "source": [
    "#### __A Short Program: Rock, Paper, Scissors__"
   ]
  },
  {
   "cell_type": "markdown",
   "metadata": {},
   "source": [
    "###### ___rpsGame.py___"
   ]
  },
  {
   "cell_type": "code",
   "execution_count": 15,
   "metadata": {},
   "outputs": [
    {
     "name": "stdout",
     "output_type": "stream",
     "text": [
      "ROCK, PAPER, SCISSORS\n",
      "0 Wins, 0 Losses, 0 Ties\n",
      "Enter your move: (r)ock (p)aper (s)cissors or (q)uit\n",
      "ROCK versus...\n",
      "ROCK\n",
      "It is a tie!\n",
      "0 Wins, 0 Losses, 1 Ties\n",
      "Enter your move: (r)ock (p)aper (s)cissors or (q)uit\n",
      "PAPER versus...\n",
      "PAPER\n",
      "It is a tie!\n",
      "0 Wins, 0 Losses, 2 Ties\n",
      "Enter your move: (r)ock (p)aper (s)cissors or (q)uit\n",
      "SCISSORS versus...\n",
      "ROCK\n",
      "You lose!\n",
      "0 Wins, 1 Losses, 2 Ties\n",
      "Enter your move: (r)ock (p)aper (s)cissors or (q)uit\n",
      "SCISSORS versus...\n",
      "SCISSORS\n",
      "It is a tie!\n",
      "0 Wins, 1 Losses, 3 Ties\n",
      "Enter your move: (r)ock (p)aper (s)cissors or (q)uit\n"
     ]
    },
    {
     "ename": "SystemExit",
     "evalue": "",
     "output_type": "error",
     "traceback": [
      "An exception has occurred, use %tb to see the full traceback.\n",
      "\u001b[1;31mSystemExit\u001b[0m\n"
     ]
    }
   ],
   "source": [
    "import random, sys\n",
    "\n",
    "print('ROCK, PAPER, SCISSORS')\n",
    "\n",
    "# These variables keep track of the number of wins, losses, and ties.\n",
    "wins = 0\n",
    "losses = 0\n",
    "ties = 0\n",
    "\n",
    "while True: # The main game loop.\n",
    "    print('%s Wins, %s Losses, %s Ties' % (wins, losses, ties))\n",
    "    while True: # The player input loop.\n",
    "        print('Enter your move: (r)ock (p)aper (s)cissors or (q)uit')\n",
    "        playerMove = input()\n",
    "        if playerMove == 'q':\n",
    "            sys.exit() # Quit the program.\n",
    "        if playerMove == 'r' or playerMove == 'p' or playerMove == 's':\n",
    "            break # Break out of the player input loop.\n",
    "        print('Type one of r, p, s, or q.')\n",
    "\n",
    "    # Display what the player chose:\n",
    "    if playerMove == 'r':\n",
    "        print('ROCK versus...')\n",
    "    elif playerMove == 'p':\n",
    "        print('PAPER versus...')\n",
    "    elif playerMove == 's':\n",
    "        print('SCISSORS versus...')\n",
    "\n",
    "    # Display what the computer chose:\n",
    "    randomNumber = random.randint(1, 3)\n",
    "    if randomNumber == 1:\n",
    "        computerMove = 'r'\n",
    "        print('ROCK')\n",
    "    elif randomNumber == 2:\n",
    "        computerMove = 'p'\n",
    "        print('PAPER')\n",
    "    elif randomNumber == 3:\n",
    "        computerMove = 's'\n",
    "        print('SCISSORS')\n",
    "\n",
    "    # Display and record the win/loss/tie:\n",
    "    if playerMove == computerMove:\n",
    "        print('It is a tie!')\n",
    "        ties = ties + 1\n",
    "    elif playerMove == 'r' and computerMove == 's':\n",
    "        print('You win!')\n",
    "        wins = wins + 1\n",
    "    elif playerMove == 'p' and computerMove == 'r':\n",
    "        print('You win!')\n",
    "        wins = wins + 1\n",
    "    elif playerMove == 's' and computerMove == 'p':\n",
    "        print('You win!')\n",
    "        wins = wins + 1\n",
    "    elif playerMove == 'r' and computerMove == 'p':\n",
    "        print('You lose!')\n",
    "        losses = losses + 1\n",
    "    elif playerMove == 'p' and computerMove == 's':\n",
    "        print('You lose!')\n",
    "        losses = losses + 1\n",
    "    elif playerMove == 's' and computerMove == 'r':\n",
    "        print('You lose!')\n",
    "        losses = losses + 1"
   ]
  },
  {
   "cell_type": "markdown",
   "metadata": {},
   "source": [
    "#### ___My answers to the practice questions___"
   ]
  },
  {
   "cell_type": "markdown",
   "metadata": {},
   "source": [
    "1. _True_ and _False_\n",
    "2. _and_, _or_ and _not_\n",
    "3. \n",
    "|__Expression__ |__Evaluates to...__ |\n",
    "|---------------|--------------------|\n",
    "|_True and True_|_True_              |\n",
    "|_True and False_|_False_            |\n",
    "|_False and True_|_False_            |\n",
    "|_False and False_|_False_           |\n",
    "\n",
    "\n",
    "|__Expression__ |__Evaluates to...__ |\n",
    "|---------------|--------------------|\n",
    "|_True or True_ |_True_              |\n",
    "|_True or False_|_True_              |\n",
    "|_False or True_|_True_              |\n",
    "|_False or False_|_False_            |\n",
    "\n",
    "\n",
    "|__Expression__ |__Evaluates to...__ |\n",
    "|---------------|--------------------|\n",
    "|_not True_     |_False_             |\n",
    "|_not False_    |_True_              |\n",
    "\n",
    "4. \n",
    "```python\n",
    "(5 > 4) and (3 == 5)                # False\n",
    "not (5 > 4)                         # False\n",
    "(5 > 4) or (3 == 5)                 # True\n",
    "not ((5 > 4) or (3 == 5))           # False\n",
    "(True and True) and (True == False) # False\n",
    "(not False) or (not True)           # True\n",
    "```\n",
    "5. ==, !=, <, >, <= and >=\n",
    "6. == it compares two expressions to a Boolean value, when the = assigns a value to a variable.\n",
    "7. A condition is a expression that evaluates to a Boolean value, which will lead the direction of a flow control statement.\n",
    "8.\n",
    "```python\n",
    "spam = 0                # First block\n",
    "if spam == 10:\n",
    "    print('eggs')       # Second block\n",
    "    if spam > 5:\n",
    "        print('bacon')  # Third block\n",
    "    else:\n",
    "        print('ham')\n",
    "    print('spam')\n",
    "print('spam')\n",
    "```\n",
    "9. "
   ]
  },
  {
   "cell_type": "code",
   "execution_count": 17,
   "metadata": {},
   "outputs": [
    {
     "name": "stdout",
     "output_type": "stream",
     "text": [
      "Write a one-digit number, please!\n",
      "Howdy\n"
     ]
    }
   ],
   "source": [
    "print('Write a one-digit number, please!')\n",
    "spam = input()\n",
    "if int(spam) == 1:\n",
    "    print('Hello')\n",
    "elif int(spam) == 2:\n",
    "    print('Howdy')\n",
    "else:\n",
    "    print('Greetings!')"
   ]
  },
  {
   "cell_type": "markdown",
   "metadata": {},
   "source": [
    "10. ctrl + C\n",
    "11. _break_ is used to terminate a loop, from which _continue_ is used to start again the loop.\n",
    "12. The three are basically the same, count from _0_ to _9_ linearly.\n",
    "13. "
   ]
  },
  {
   "cell_type": "code",
   "execution_count": 19,
   "metadata": {},
   "outputs": [
    {
     "name": "stdout",
     "output_type": "stream",
     "text": [
      "1\n",
      "2\n",
      "3\n",
      "4\n",
      "5\n",
      "6\n",
      "7\n",
      "8\n",
      "9\n",
      "10\n"
     ]
    }
   ],
   "source": [
    "for i in range(1, 11):\n",
    "    print(i)"
   ]
  },
  {
   "cell_type": "code",
   "execution_count": 18,
   "metadata": {},
   "outputs": [
    {
     "name": "stdout",
     "output_type": "stream",
     "text": [
      "1\n",
      "2\n",
      "3\n",
      "4\n",
      "5\n",
      "6\n",
      "7\n",
      "8\n",
      "9\n",
      "10\n"
     ]
    }
   ],
   "source": [
    "i = 1\n",
    "while i <= 10:\n",
    "    print(i)\n",
    "    i = i + 1"
   ]
  },
  {
   "cell_type": "markdown",
   "metadata": {},
   "source": [
    "14.  spam.bacon()"
   ]
  },
  {
   "cell_type": "markdown",
   "metadata": {},
   "source": [
    "### Chapter 3: Functions"
   ]
  },
  {
   "cell_type": "markdown",
   "metadata": {},
   "source": [
    "A __function__ is like a miniprogram within a program. Python provides several built-in functions like these, but you can also write your own functions.\n",
    "\n",
    "```python\n",
    "def hello():\n",
    "    print('Howdy!')\n",
    "    print('Howdy!!!')\n",
    "    print('Hello there.')\n",
    "\n",
    "hello()\n",
    "hello()\n",
    "hello()\n",
    "```\n",
    "\n",
    "The first line is a _def_ statement, which defines a function named _hello()_. The code in the block that follows the _def_ statement is the body of the function. This code is executed when the function is called, not when the function is first defined. The _hello()_ lines after the function are function calls. A function call is just the function’s name followed by parentheses, possibly with some number of arguments in between the parentheses.\n",
    "\n",
    "Since this program calls _hello()_ three times, the code in that function is executed three times. A major purpose of functions is to group code that gets executed multiple times.\n",
    "\n",
    "__Deduplicating code__ means getting rid of duplicated or copy-and-pasted code. Deduplication makes a program shorter, easier to read, and easier to update."
   ]
  },
  {
   "cell_type": "markdown",
   "metadata": {},
   "source": [
    "###### ___helloFunc.py___"
   ]
  },
  {
   "cell_type": "code",
   "execution_count": 20,
   "metadata": {},
   "outputs": [
    {
     "name": "stdout",
     "output_type": "stream",
     "text": [
      "Howdy!\n",
      "Howdy!!!\n",
      "Hello there.\n",
      "Howdy!\n",
      "Howdy!!!\n",
      "Hello there.\n",
      "Howdy!\n",
      "Howdy!!!\n",
      "Hello there.\n"
     ]
    }
   ],
   "source": [
    "def hello():\n",
    "    print('Howdy!')\n",
    "    print('Howdy!!!')\n",
    "    print('Hello there.')\n",
    "\n",
    "hello()\n",
    "hello()\n",
    "hello()"
   ]
  },
  {
   "cell_type": "markdown",
   "metadata": {},
   "source": [
    "#### __def Statements with Parameters__"
   ]
  },
  {
   "cell_type": "markdown",
   "metadata": {},
   "source": [
    "You can also define your own functions that accept arguments.\n",
    "\n",
    "```python\n",
    "def hello(name):\n",
    "    print('Hello, ' + name)\n",
    "\n",
    "hello('Alice')\n",
    "hello('Bob')\n",
    "```\n",
    "\n",
    "The definition of the _hello()_ function in this program has a parameter called _name_. __Parameters__ are variables that contain arguments. When a function is called with arguments, the arguments are stored in the parameters. It should be noted that the value stored in a parameter is forgotten when the function returns. "
   ]
  },
  {
   "cell_type": "markdown",
   "metadata": {},
   "source": [
    "###### ___helloFunc2.py___"
   ]
  },
  {
   "cell_type": "code",
   "execution_count": 21,
   "metadata": {},
   "outputs": [
    {
     "name": "stdout",
     "output_type": "stream",
     "text": [
      "Hello, Alice\n",
      "Hello, Bob\n"
     ]
    }
   ],
   "source": [
    "def hello(name):\n",
    "    print('Hello, ' + name)\n",
    "\n",
    "hello('Alice')\n",
    "hello('Bob')"
   ]
  },
  {
   "cell_type": "markdown",
   "metadata": {},
   "source": [
    "##### Define, Call, Pass, Argument, Parameter"
   ]
  },
  {
   "cell_type": "markdown",
   "metadata": {},
   "source": [
    "To __define__ a function is to create it, just like an assignment statement like _spam = 42_ creates the _spam_ variable. The _def_ statement defines the _sayHello()_ function. The _sayHello('Al')_ line __calls__ the now-created function, sending the execution to the top of the function’s code. This function call is also known as __passing__ the string value _'Al'_ to the function. A value being passed to a function in a function call is an __argument__. The argument _'Al'_ is assigned to a local variable named _name_. Variables that have arguments assigned to them are __parameters__.\n",
    "\n",
    "```python\n",
    "def sayHello(name):\n",
    "    print('Hello, ' + name)\n",
    "sayHello('Al')\n",
    "```"
   ]
  },
  {
   "cell_type": "markdown",
   "metadata": {},
   "source": [
    "#### __Return Values and return Statements__"
   ]
  },
  {
   "cell_type": "markdown",
   "metadata": {},
   "source": [
    "The value that a function call evaluates to is called the __return value__ of the function. When creating a function using the _def_ statement, you can specify what the return value should be with a _return_ statement, which consists of the following:\n",
    "- The _return_ keyword.\n",
    "- The value or expression that the function should return.\n",
    "\n",
    "When an expression is used with a _return_ statement, the return value is what this expression evaluates to. Remember, expressions are composed of values and operators. A function call can be used in an expression because the call evaluates to its return value."
   ]
  },
  {
   "cell_type": "markdown",
   "metadata": {},
   "source": [
    "###### ___magic8Ball.py___"
   ]
  },
  {
   "cell_type": "code",
   "execution_count": 22,
   "metadata": {},
   "outputs": [
    {
     "name": "stdout",
     "output_type": "stream",
     "text": [
      "It is certain\n"
     ]
    }
   ],
   "source": [
    "import random\n",
    "\n",
    "def getAnswer(answerNumber):\n",
    "    if answerNumber == 1:\n",
    "        return 'It is certain'\n",
    "    elif answerNumber == 2:\n",
    "        return 'It is decidedly so'\n",
    "    elif answerNumber == 3:\n",
    "        return 'Yes'\n",
    "    elif answerNumber == 4:\n",
    "        return 'Reply hazy try again'\n",
    "    elif answerNumber == 5:\n",
    "        return 'Ask again later'\n",
    "    elif answerNumber == 6:\n",
    "        return 'Concentrate and ask again'\n",
    "    elif answerNumber == 7:\n",
    "        return 'My reply is no'\n",
    "    elif answerNumber == 8:\n",
    "        return 'Outlook not so good'\n",
    "    elif answerNumber == 9:\n",
    "        return 'Very doubtful'\n",
    "\n",
    "'''\n",
    "r = random.randint(1, 9)\n",
    "fortune = getAnswer(r)\n",
    "print(fortune)\n",
    "'''\n",
    "\n",
    "print(getAnswer(random.randint(1, 9)))"
   ]
  },
  {
   "cell_type": "markdown",
   "metadata": {},
   "source": [
    "#### __The None Value__"
   ]
  },
  {
   "cell_type": "markdown",
   "metadata": {},
   "source": [
    "There is a value called _None_, which represents the absence of a value. It's the only value of the _NoneType_ data type. Just like the Boolean _True_ and _False_ values, _None_ must be typed with a capital _N_. This value-without-a-value can be helpful when you need to store something that won’t be confused for a real value in a variable. \n",
    "\n",
    "One place where _None_ is used is as the return value of _print()_. The _print()_ function displays text on the screen, but it doesn’t need to return anything in the same way _len()_ or _input()_ does. But since all function calls need to evaluate to a return value, _print()_ returns _None_.\n",
    "\n",
    "```python\n",
    ">>> spam = print('Hello!')\n",
    "Hello!\n",
    ">>> None == spam\n",
    "True\n",
    "```\n",
    "\n",
    "Also, if you use a _return_ statement without a value (that is, just the _return_ keyword by itself), then _None_ is returned."
   ]
  },
  {
   "cell_type": "markdown",
   "metadata": {},
   "source": [
    "#### __Keyword Arguments and the print() Function__"
   ]
  },
  {
   "cell_type": "markdown",
   "metadata": {},
   "source": [
    "__Keyword arguments__ are identified by the keyword put before them in the function call. Keyword arguments are often used for __optional parameters__. For example, the _print()_ function has the optional parameters _end_ and _sep_ to specify what should be printed at the end of its arguments and between its arguments (separating them), respectively.\n",
    "\n",
    "You can set the _end_ keyword argument to change the newline character to a different string.\n",
    "\n",
    "```python\n",
    "print('Hello', end='')\n",
    "print('World')\n",
    "```\n",
    "\n",
    "The output would look like this:\n",
    "\n",
    "```python\n",
    "HelloWolrd\n",
    "```\n",
    "\n",
    "Similarly, when you pass multiple string values to _print()_, the function will automatically separate them with a single space.\n",
    "\n",
    "```python\n",
    ">>> print('cats', 'dogs', 'mice')\n",
    "cats dogs mice\n",
    "```\n",
    "\n",
    "But you could replace the default separating string by passing the _sep_ keyword argument a different string.\n",
    "\n",
    "```python\n",
    ">>> print('cats', 'dogs', 'mice', sep=',')\n",
    "cats,dogs,mice\n",
    "```"
   ]
  },
  {
   "cell_type": "markdown",
   "metadata": {},
   "source": [
    "#### __The Call Stack__"
   ]
  },
  {
   "cell_type": "markdown",
   "metadata": {},
   "source": [
    "When  calling a function doesn’t send the execution on a one-way trip to the top of a function, it is said that it follows a __stack__-like structure. Python will remember which line of code called the function so that the execution can return there when it encounters a _return_ statement. If that original function called other functions, the execution would return to __those__ function calls first, before returning from the original function call.\n",
    "\n",
    "The __call stack__ is how Python remembers where to return the execution after each function call. When your program calls a function, Python creates a __frame object__ on the top of the call stack. These store the line number of the original function call so that Python can remember where to return. If another function call is made, Python puts another frame object on the call stack above the other one. When a function call returns, Python removes a frame object from the top of the stack and moves the execution to the line number stored in it. Note that frame objects are always added and removed from the top of the stack and not from any other place. \n",
    "\n",
    "_Figure 3-1: The frame objects of the call stack as abcdCallStack.py calls and returns from functions_\n",
    "\n",
    "![CallStack](https://automatetheboringstuff.com/2e/images/000054.jpg)\n",
    "\n",
    "The top of the call stack is which function the execution is currently in. When the call stack is empty, the execution is on a line outside of all functions."
   ]
  },
  {
   "cell_type": "markdown",
   "metadata": {},
   "source": [
    "###### ___abcdCallStack.py___"
   ]
  },
  {
   "cell_type": "code",
   "execution_count": 23,
   "metadata": {},
   "outputs": [
    {
     "name": "stdout",
     "output_type": "stream",
     "text": [
      "a() starts\n",
      "b() starts\n",
      "c() starts\n",
      "c() returns\n",
      "b() returns\n",
      "d() starts\n",
      "d() returns\n",
      "a() returns\n"
     ]
    }
   ],
   "source": [
    "def a():\n",
    "    print('a() starts')\n",
    "    b()\n",
    "    d()\n",
    "    print('a() returns')\n",
    "\n",
    "def b():\n",
    "    print('b() starts')\n",
    "    c()\n",
    "    print('b() returns')\n",
    "\n",
    "def c():\n",
    "    print('c() starts')\n",
    "    print('c() returns')\n",
    "\n",
    "def d():\n",
    "    print('d() starts')\n",
    "    print('d() returns')\n",
    "\n",
    "a()"
   ]
  },
  {
   "cell_type": "markdown",
   "metadata": {},
   "source": [
    "#### __Local and Global Scope__"
   ]
  },
  {
   "cell_type": "markdown",
   "metadata": {},
   "source": [
    "Parameters and variables that are assigned in a called function are said to exist in that function’s __local scope__. Variables that are assigned outside all functions are said to exist in the __global scope__. A variable that exists in a local scope is called a __local variable__, while a variable that exists in the global scope is called a __global variable__.\n",
    "\n",
    "A __scope__ is a container for variables. When is destroyed, all the values stored in the scope’s variables are forgotten. There is only one global scope, and it is created when your program begins. When it terminates, the global scope is destroyed, and all its variables are forgotten. A local scope is created whenever a function is called. Any variables assigned in the function exist within the function’s local scope. When the function returns, the local scope is destroyed, and its variables are forgotten. Local variables are also stored in frame objects on the call stack.\n",
    "\n",
    "Scopes matter for several reasons:\n",
    "\n",
    "- Code in the global scope, outside of all functions, cannot use any local variables.\n",
    "- Code in a local scope can access global variables.\n",
    "- Code in a function’s local scope cannot use variables in any other local scope.\n",
    "- You can use the same name for different variables if they are in different scopes. That is, there can be a local variable named spam and a global variable also named spam."
   ]
  },
  {
   "cell_type": "markdown",
   "metadata": {},
   "source": [
    "##### Local Variables Cannot Be Used in the Global Scope"
   ]
  },
  {
   "cell_type": "markdown",
   "metadata": {},
   "source": [
    "```python\n",
    "def spam():\n",
    "    eggs = 31337\n",
    "spam()\n",
    "print(eggs)\n",
    "```\n",
    "The output will look like this:\n",
    "```python\n",
    "Traceback (most recent call last):\n",
    "  File \"C:/test1.py\", line 4, in <module>\n",
    "    print(eggs)\n",
    "NameError: name 'eggs' is not defined\n",
    "```\n",
    "\n",
    "The error happens because the _eggs_ variable exists only in the local scope created when _spam()_ is called. Once the program execution returns from _spam_, that local scope is destroyed, and there is no longer a variable named _eggs_. So when your program tries to run _print(eggs)_, Python gives you an error saying that _eggs_ is not defined."
   ]
  },
  {
   "cell_type": "markdown",
   "metadata": {},
   "source": [
    "##### Local Scopes Cannot Use Variables in Other Local Scopes"
   ]
  },
  {
   "cell_type": "markdown",
   "metadata": {},
   "source": [
    "A new local scope is created whenever a function is called, including when a function is called from another function.\n",
    "\n",
    "```python\n",
    " def spam():\n",
    "    eggs = 99\n",
    "    bacon()\n",
    "    print(eggs)\n",
    "\n",
    "   def bacon():\n",
    "       ham = 101\n",
    "       eggs = 0\n",
    "\n",
    "spam()\n",
    "```\n",
    "\n",
    "When the _bacon()_ function is called, and a second local scope is created. Multiple local scopes can exist at the same time.\n",
    "\n",
    "The upshot is that local variables in one function are completely separate from the local variables in another function.\n"
   ]
  },
  {
   "cell_type": "markdown",
   "metadata": {},
   "source": [
    "##### Global Variables Can Be Read from a Local Scope"
   ]
  },
  {
   "cell_type": "markdown",
   "metadata": {},
   "source": [
    "```python\n",
    "def spam():\n",
    "    print(eggs)\n",
    "eggs = 42\n",
    "spam()\n",
    "print(eggs)\n",
    "```\n",
    "\n",
    "Since there is no parameter named _eggs_ or any code that assigns _eggs_ a value in the _spam()_ function, when _eggs_ is used in _spam()_, Python considers it a reference to the global variable _eggs_. "
   ]
  },
  {
   "cell_type": "markdown",
   "metadata": {},
   "source": [
    "##### Local and Global Variables with the Same Name"
   ]
  },
  {
   "cell_type": "markdown",
   "metadata": {},
   "source": [
    "It’s perfectly acceptable to use the same variable name for a global variable and local variables in different scopes in Python. But it's not recommendable. "
   ]
  },
  {
   "cell_type": "markdown",
   "metadata": {},
   "source": [
    "###### ___localGlobalSameName.py___"
   ]
  },
  {
   "cell_type": "code",
   "execution_count": 24,
   "metadata": {},
   "outputs": [
    {
     "name": "stdout",
     "output_type": "stream",
     "text": [
      "bacon local\n",
      "spam local\n",
      "bacon local\n",
      "global\n"
     ]
    }
   ],
   "source": [
    "def spam():\n",
    "    eggs = 'spam local'\n",
    "    print(eggs)    # prints 'spam local'\n",
    "\n",
    "def bacon():\n",
    "    eggs = 'bacon local'\n",
    "    print(eggs)    # prints 'bacon local'\n",
    "    spam()\n",
    "    print(eggs)    # prints 'bacon local'\n",
    "\n",
    "eggs = 'global'\n",
    "bacon()\n",
    "print(eggs)        # prints 'global'"
   ]
  },
  {
   "cell_type": "markdown",
   "metadata": {},
   "source": [
    "#### __The global Statement__"
   ]
  },
  {
   "cell_type": "markdown",
   "metadata": {},
   "source": [
    "If you need to modify a global variable from within a function, use the _global_ statement. There are four rules to tell whether a variable is in a local scope or global scope:\n",
    "\n",
    "- If a variable is being used in the global scope, then it's always a global variable.\n",
    "- If there is a global statement for that variable in a function, it is a global variable.\n",
    "- If the variable is used in an assignment statement in the function, it is a local variable.\n",
    "- If the variable is not used in an assignment statement, it is a global variable.\n",
    "\n",
    "In a function, a variable will either always be global or always be local. The code in a function can’t use a local variable named _eggs_ and then use the global _eggs_ variable later in that same function. \n",
    "\n",
    "If you try to use a local variable in a function before you assign a value to it, as in the following program, Python will give you an error.\n",
    "\n",
    "Often, all you need to know about a function are its inputs (the parameters) and output value; you don’t always have to burden yourself with how the function’s code actually works. When you think about functions in this high-level way, it’s common to say that you’re treating a function as a “black box.”"
   ]
  },
  {
   "cell_type": "markdown",
   "metadata": {},
   "source": [
    "###### ___globalStatement.py___"
   ]
  },
  {
   "cell_type": "code",
   "execution_count": 25,
   "metadata": {},
   "outputs": [
    {
     "name": "stdout",
     "output_type": "stream",
     "text": [
      "spam\n"
     ]
    }
   ],
   "source": [
    "def spam():\n",
    "    global eggs\n",
    "    eggs = 'spam'\n",
    "\n",
    "eggs ='global'\n",
    "spam()\n",
    "print(eggs)"
   ]
  },
  {
   "cell_type": "markdown",
   "metadata": {},
   "source": [
    "###### ___sameNameLocalGlobal.py___"
   ]
  },
  {
   "cell_type": "code",
   "execution_count": 26,
   "metadata": {},
   "outputs": [
    {
     "name": "stdout",
     "output_type": "stream",
     "text": [
      "spam\n"
     ]
    }
   ],
   "source": [
    "def spam():\n",
    "    global eggs\n",
    "    eggs = 'spam' # this is the global\n",
    "\n",
    "def bacon():\n",
    "    eggs = 'bacon' # this is a local\n",
    "\n",
    "def ham():\n",
    "    print(eggs) # this is the global\n",
    "\n",
    "eggs = 42 # this is the global\n",
    "spam()\n",
    "print(eggs)"
   ]
  },
  {
   "cell_type": "markdown",
   "metadata": {},
   "source": [
    "#### __Exception Handling__"
   ]
  },
  {
   "cell_type": "markdown",
   "metadata": {},
   "source": [
    "Right now, getting an error, or __exception__, in your Python program means the entire program will crash. \n",
    "\n",
    "Errors can be handled with _try_ and _except_ statements. The code that could potentially have an error is put in a _try_ clause. The program execution moves to the start of a following _except_ clause if an error happens. Once the execution jumps to the code in the _except_ clause, it does not return to the _try_ clause. Instead, it just continues moving down the program as normal."
   ]
  },
  {
   "cell_type": "markdown",
   "metadata": {},
   "source": [
    "###### ___zeroDivide.py___"
   ]
  },
  {
   "cell_type": "code",
   "execution_count": 27,
   "metadata": {},
   "outputs": [
    {
     "name": "stdout",
     "output_type": "stream",
     "text": [
      "21.0\n",
      "3.5\n",
      "Error: Invalid argument.\n",
      "None\n",
      "42.0\n"
     ]
    }
   ],
   "source": [
    "def spam(divideBy):\n",
    "    try:\n",
    "        return 42 / divideBy\n",
    "    except ZeroDivisionError:\n",
    "        print('Error: Invalid argument.')\n",
    "\n",
    "print(spam(2))\n",
    "print(spam(12))\n",
    "print(spam(0))\n",
    "print(spam(1))"
   ]
  },
  {
   "cell_type": "markdown",
   "metadata": {},
   "source": [
    "#### __A Short Program: Zigzag__"
   ]
  },
  {
   "cell_type": "markdown",
   "metadata": {},
   "source": [
    "_zigzag.py_ will create a back-and-forth, zigzag pattern until the user stops it by pressing the Stop button (_ctrl + C_).\n",
    "\n",
    "The _time.sleep()_ function hasn’t been covered yet, but suffice it to say that it introduces a one-tenth-second pause in our program"
   ]
  },
  {
   "cell_type": "markdown",
   "metadata": {},
   "source": [
    "###### ___zigzag.py___"
   ]
  },
  {
   "cell_type": "code",
   "execution_count": 28,
   "metadata": {},
   "outputs": [
    {
     "name": "stdout",
     "output_type": "stream",
     "text": [
      "********\n",
      " ********\n",
      "  ********\n",
      "   ********\n",
      "    ********\n",
      "     ********\n",
      "      ********\n",
      "       ********\n",
      "        ********\n",
      "         ********\n",
      "          ********\n",
      "           ********\n",
      "            ********\n",
      "             ********\n",
      "              ********\n",
      "               ********\n",
      "                ********\n",
      "                 ********\n",
      "                  ********\n",
      "                   ********\n",
      "                    ********\n",
      "                   ********\n",
      "                  ********\n",
      "                 ********\n",
      "                ********\n",
      "               ********\n",
      "              ********\n",
      "             ********\n",
      "            ********\n",
      "           ********\n",
      "          ********\n",
      "         ********\n",
      "        ********\n",
      "       ********\n",
      "      ********\n",
      "     ********\n",
      "    ********\n",
      "   ********\n",
      "  ********\n",
      " ********\n",
      "********\n",
      " ********\n",
      "  ********\n",
      "   ********\n",
      "    ********\n",
      "     ********\n",
      "      ********\n",
      "       ********\n",
      "        ********\n",
      "         ********\n",
      "          ********\n",
      "           ********\n",
      "            ********\n",
      "             ********\n",
      "              ********\n",
      "               ********\n",
      "                ********\n",
      "                 ********\n",
      "                  ********\n",
      "                   ********\n",
      "                    ********\n",
      "                   ********\n",
      "                  ********\n",
      "                 ********\n",
      "                ********\n",
      "               ********\n",
      "              ********\n",
      "             ********\n",
      "            ********\n",
      "           ********\n",
      "          ********\n",
      "         ********\n",
      "        ********\n",
      "       ********\n",
      "      ********\n",
      "     ********\n",
      "    ********\n",
      "   ********\n",
      "  ********\n",
      " ********\n",
      "********\n",
      " ********\n",
      "  ********\n",
      "   ********\n",
      "    ********\n",
      "     ********\n",
      "      ********\n",
      "       ********\n",
      "        ********\n",
      "         ********\n",
      "          ********\n",
      "           ********\n",
      "            ********\n",
      "             ********\n",
      "              ********\n",
      "               ********\n",
      "                ********\n",
      "                 ********\n",
      "                  ********\n",
      "                   ********\n",
      "                    ********\n",
      "                   ********\n",
      "                  ********\n",
      "                 ********\n",
      "                ********\n",
      "               ********\n",
      "              ********\n",
      "             ********\n",
      "            ********\n",
      "           ********\n",
      "          ********\n",
      "         ********\n",
      "        ********\n",
      "       ********\n",
      "      ********\n",
      "     ********\n",
      "    ********\n",
      "   ********\n",
      "  ********\n",
      " ********\n",
      "********\n",
      " ********\n",
      "  ********\n",
      "   ********\n",
      "    ********\n",
      "     ********\n",
      "      ********\n",
      "       ********\n",
      "        ********\n",
      "         ********\n",
      "          ********\n",
      "           ********\n",
      "            ********\n",
      "             ********\n",
      "              ********\n",
      "               ********\n",
      "                ********\n",
      "                 ********\n",
      "                  ********\n",
      "                   ********\n",
      "                    ********\n",
      "                   ********\n",
      "                  ********\n",
      "                 ********\n",
      "                ********\n",
      "               ********\n",
      "              ********\n",
      "             ********\n",
      "            ********\n",
      "           ********\n",
      "          ********\n",
      "         ********\n",
      "        ********\n",
      "       ********\n",
      "      ********\n",
      "     ********\n",
      "    ********\n",
      "   ********\n",
      "  ********\n",
      " ********\n",
      "********\n",
      " ********\n",
      "  ********\n",
      "   ********\n",
      "    ********\n",
      "     ********\n",
      "      ********\n",
      "       ********\n",
      "        ********\n",
      "         ********\n",
      "          ********\n",
      "           ********\n",
      "            ********\n",
      "             ********\n",
      "              ********\n",
      "               ********\n",
      "                ********\n",
      "                 ********\n",
      "                  ********\n",
      "                   ********\n",
      "                    ********\n",
      "                   ********\n",
      "                  ********\n",
      "                 ********\n",
      "                ********\n",
      "               ********\n",
      "              ********\n",
      "             ********\n",
      "            ********\n",
      "           ********\n",
      "          ********\n",
      "         ********\n",
      "        ********\n",
      "       ********\n",
      "      ********\n",
      "     ********\n",
      "    ********\n",
      "   ********\n",
      "  ********\n",
      " ********\n",
      "********\n",
      " ********\n",
      "  ********\n",
      "   ********\n",
      "    ********\n",
      "     ********\n",
      "      ********\n",
      "       ********\n",
      "        ********\n",
      "         ********\n",
      "          ********\n",
      "           ********\n",
      "            ********\n",
      "             ********\n",
      "              ********\n",
      "               ********\n",
      "                ********\n",
      "                 ********\n",
      "                  ********\n",
      "                   ********\n",
      "                    ********\n",
      "                   ********\n",
      "                  ********\n",
      "                 ********\n",
      "                ********\n",
      "               ********\n",
      "              ********\n",
      "             ********\n",
      "            ********\n",
      "           ********\n",
      "          ********\n",
      "         ********\n",
      "        ********\n",
      "       ********\n",
      "      ********\n",
      "     ********\n",
      "    ********\n",
      "   ********\n",
      "  ********\n",
      " ********\n",
      "********\n",
      " ********\n",
      "  ********\n",
      "   ********\n",
      "    ********\n",
      "     ********\n",
      "      ********\n",
      "       ********\n",
      "        ********\n",
      "         ********\n",
      "          ********\n",
      "           ********\n",
      "            ********\n",
      "             ********\n",
      "              ********\n",
      "               ********\n",
      "                ********\n",
      "                 ********\n",
      "                  ********\n",
      "                   ********\n",
      "                    ********\n",
      "                   ********\n",
      "                  ********\n",
      "                 ********\n",
      "                ********\n",
      "               ********\n",
      "              ********\n",
      "             ********\n",
      "            ********\n",
      "           ********\n",
      "          ********\n",
      "         ********\n",
      "        ********\n",
      "       ********\n",
      "      ********\n",
      "     ********\n",
      "    ********\n",
      "   ********\n",
      "  ********\n",
      " ********\n",
      "********\n",
      " ********\n"
     ]
    },
    {
     "ename": "",
     "evalue": "",
     "output_type": "error",
     "traceback": [
      "\u001b[1;31mThe Kernel crashed while executing code in the current cell or a previous cell. \n",
      "\u001b[1;31mPlease review the code in the cell(s) to identify a possible cause of the failure. \n",
      "\u001b[1;31mClick <a href='https://aka.ms/vscodeJupyterKernelCrash'>here</a> for more info. \n",
      "\u001b[1;31mView Jupyter <a href='command:jupyter.viewOutput'>log</a> for further details."
     ]
    }
   ],
   "source": [
    "import time, sys\n",
    "indent = 0 # How many spaces to indent.\n",
    "indentIncreasing = True # Whether the indentation is increasing or not.\n",
    "\n",
    "try:\n",
    "    while True: # The main program loop.\n",
    "        print(' ' * indent, end='')\n",
    "        print('********')\n",
    "        time.sleep(0.1) # Pause for 1/10 of a second.\n",
    "\n",
    "        if indentIncreasing:\n",
    "            # Increase the number of spaces:\n",
    "            indent = indent + 1\n",
    "            if indent == 20:\n",
    "                # Change direction:\n",
    "                indentIncreasing = False\n",
    "\n",
    "        else:\n",
    "            # Decrease the number of spaces:\n",
    "            indent = indent - 1\n",
    "            if indent == 0:\n",
    "                # Change direction:\n",
    "                indentIncreasing = True\n",
    "except KeyboardInterrupt:\n",
    "    sys.exit()"
   ]
  },
  {
   "cell_type": "markdown",
   "metadata": {},
   "source": [
    "#### ___My answers to the practice questions___"
   ]
  },
  {
   "cell_type": "markdown",
   "metadata": {},
   "source": [
    "1. So we don't repeat the same line of codes each time we want to do the same process.\n",
    "2. When a function is called.\n",
    "3. _def_ statement.\n",
    "4. A function is defined by a _def_ statement and has written all the lines of code that will be executed, whereas the function call is done in the global scope with only the name of the function and its parameters.\n",
    "5. Global scope is only one, but local scopes exists as many as there are functions in the code.\n",
    "6. They are forgotten.\n",
    "7. A return value is given by a function and uses the _return_ statement, and yes it can be part of an expression as any other value.\n",
    "8. The _return_ value is _None_.\n",
    "9. You call the variable with the _global_ statement before using it.\n",
    "10. It's _NoneType_.\n",
    "11. Imports that module.\n",
    "12. spam.bacon()\n",
    "13. By using an exception handling with the _try_ and _except_ clauses.\n",
    "14. In the _try_ go all the possible escenarios, while in the _except_ we simply put whatever the program should do if an error happens."
   ]
  },
  {
   "cell_type": "markdown",
   "metadata": {},
   "source": [
    "#### ___Practice Projects___"
   ]
  },
  {
   "cell_type": "markdown",
   "metadata": {},
   "source": [
    "##### The Collatz Sequence"
   ]
  },
  {
   "cell_type": "markdown",
   "metadata": {},
   "source": [
    "Write a function named _collatz()_ that has one parameter named _number_. If _number_ is even, then _collatz()_ should print _number // 2_ and return this value. If _number_ is odd, then _collatz()_ should print and return _3 * number + 1_. Then write a program that lets the user type in an integer and that keeps calling _collatz()_ on that number until the function returns the value 1.\n",
    "\n",
    "The output of this program could look something like this:\n",
    "```python\n",
    "Enter number:\n",
    "3\n",
    "10\n",
    "5\n",
    "16\n",
    "8\n",
    "4\n",
    "2\n",
    "1\n",
    "```"
   ]
  },
  {
   "cell_type": "markdown",
   "metadata": {},
   "source": [
    "##### Input Validation"
   ]
  },
  {
   "cell_type": "markdown",
   "metadata": {},
   "source": [
    "Add _try_ and _except_ statements to the previous project to detect whether the user types in a noninteger string. In the _except_ clause, print a message to the user saying they must enter an integer."
   ]
  },
  {
   "cell_type": "markdown",
   "metadata": {},
   "source": [
    "###### ___theCollatzSequence.py___"
   ]
  },
  {
   "cell_type": "code",
   "execution_count": 2,
   "metadata": {},
   "outputs": [
    {
     "name": "stdout",
     "output_type": "stream",
     "text": [
      "Type an integer:\n",
      "16\n",
      "Type an integer:\n",
      "3\n",
      "Type an integer:\n",
      "1\n"
     ]
    }
   ],
   "source": [
    "def collatz(number):\n",
    "    try:\n",
    "        number = int(number)\n",
    "        if number % 2 == 0:\n",
    "            evenResult = number // 2\n",
    "            print(evenResult)\n",
    "            return evenResult\n",
    "        else:\n",
    "            oddResult = 3 * number + 1\n",
    "            print(oddResult)\n",
    "            return oddResult\n",
    "    except ValueError:\n",
    "        print('The value you entered is not valid. It must be an integer.')\n",
    "    \n",
    "while True:\n",
    "    print('Type an integer:')\n",
    "    intUser = input()\n",
    "    if collatz(intUser) == 1:\n",
    "        break"
   ]
  },
  {
   "cell_type": "markdown",
   "metadata": {},
   "source": [
    "### Chapter 4: Lists"
   ]
  },
  {
   "cell_type": "markdown",
   "metadata": {},
   "source": [
    "Lists and tuples can contain multiple values, which makes writing programs that handle large amounts of data easier. And since lists themselves can contain other lists, you can use them to arrange data into hierarchical structures."
   ]
  },
  {
   "cell_type": "markdown",
   "metadata": {},
   "source": [
    "#### __The List Data Type__"
   ]
  },
  {
   "cell_type": "markdown",
   "metadata": {},
   "source": [
    "A __list__ is a value that contains multiple values in an ordered sequence. A __list value__ looks like this: _['cat', 'bat', 'rat', 'elephant']_. A list begins with an opening square bracket and ends with a closing square bracket, _[]_. Values inside the list are also called __items__. Items are separated with commas (that is, they are __comma-delimited__).\n",
    "\n",
    "```python\n",
    ">>> [1, 2, 3]\n",
    "[1, 2, 3]\n",
    ">>> ['cat', 'bat', 'rat', 'elephant']\n",
    "['cat', 'bat', 'rat', 'elephant']\n",
    ">>> ['hello', 3.1415, True, None, 42]\n",
    "['hello', 3.1415, True, None, 42]\n",
    ">>> spam = ['cat', 'bat', 'rat', 'elephant']\n",
    ">>> spam\n",
    "['cat', 'bat', 'rat', 'elephant']\n",
    "```\n",
    "\n",
    "The value _[]_ is an empty list that contains no values"
   ]
  },
  {
   "cell_type": "markdown",
   "metadata": {},
   "source": [
    "##### Getting Individual Values in a List with Indexes"
   ]
  },
  {
   "cell_type": "markdown",
   "metadata": {},
   "source": [
    "Say you have the list _['cat', 'bat', 'rat', 'elephant']_ stored in a variable named _spam_. The Python code _spam[0]_ would evaluate to _'cat'_, and _spam[1]_ would evaluate to _'bat'_, and so on. The integer inside the square brackets that follows the list is called an __index__. Note that because the first index is _0_, the last index is one less than the size of the list; a list of four items has _3_ as its last index.\n",
    "\n",
    "```python\n",
    ">>> spam = ['cat', 'bat', 'rat', 'elephant']\n",
    ">>> spam[0]\n",
    "'cat'\n",
    ">>> spam[1]\n",
    "'bat'\n",
    ">>> spam[2]\n",
    "'rat'\n",
    ">>> spam[3]\n",
    "'elephant'\n",
    ">>> ['cat', 'bat', 'rat', 'elephant'][3]\n",
    "'elephant'\n",
    ">>> 'Hello, ' + spam[0]\n",
    "'Hello, cat'\n",
    ">>> 'The ' + spam[1] + ' ate the ' + spam[0] + '.'\n",
    "'The bat ate the cat.'\n",
    "```\n",
    "\n",
    "Python will give you an _IndexError_ error message if you use an index that exceeds the number of values in your list value. Indexes can be only integer values, not floats. Lists can also contain other list values. The values in these lists of lists can be accessed using multiple indexes, like so:\n",
    "\n",
    "```python\n",
    ">>> spam = [['cat', 'bat'], [10, 20, 30, 40, 50]]\n",
    ">>> spam[0]\n",
    "['cat', 'bat']\n",
    ">>> spam[0][1]\n",
    "'bat'\n",
    ">>> spam[1][4]\n",
    "50\n",
    "```\n",
    "\n",
    "If you only use one index, the program will print the full list value at that index."
   ]
  },
  {
   "cell_type": "markdown",
   "metadata": {},
   "source": [
    "##### Negative Indexes"
   ]
  },
  {
   "cell_type": "markdown",
   "metadata": {},
   "source": [
    "While indexes start at _0_ and go up, you can also use negative integers for the index. The integer value _-1_ refers to the last index in a list.\n",
    "\n",
    "```python\n",
    ">>> spam = ['cat', 'bat', 'rat', 'elephant']\n",
    ">>> spam[-1]\n",
    "'elephant'\n",
    ">>> spam[-3]\n",
    "'bat'\n",
    ">>> 'The ' + spam[-1] + ' is afraid of the ' + spam[-3] + '.'\n",
    "'The elephant is afraid of the bat.'\n",
    "```"
   ]
  },
  {
   "cell_type": "markdown",
   "metadata": {},
   "source": [
    "##### Getting a List from Another List with Slices"
   ]
  },
  {
   "cell_type": "markdown",
   "metadata": {},
   "source": [
    "A __slice_ can get several values from a list, in the form of a new list. A slice is typed between square brackets, like an index, but it has two integers separated by a colon. Notice the difference between indexes and slices.\n",
    "- _spam[2]_ is a list with an index (one integer).\n",
    "- _spam[1:4]_ is a list with a slice (two integers).\n",
    "\n",
    "In a slice, the first integer is the index where the slice starts. It will go up to, but not include, the value at the second index. Evaluates to a new list value.\n",
    "\n",
    "```python\n",
    ">>> spam = ['cat', 'bat', 'rat', 'elephant']\n",
    ">>> spam[0:4]\n",
    "['cat', 'bat', 'rat', 'elephant']\n",
    ">>> spam[1:3]\n",
    "['bat', 'rat']\n",
    ">>> spam[0:-1]\n",
    "['cat', 'bat', 'rat']\n",
    "```\n",
    "\n",
    "As a shortcut, you can leave out one or both of the indexes on either side of the colon in the slice.\n",
    "\n",
    "```python\n",
    ">>> spam = ['cat', 'bat', 'rat', 'elephant']\n",
    ">>> spam[:2]\n",
    "['cat', 'bat']\n",
    ">>> spam[1:]\n",
    "['bat', 'rat', 'elephant']\n",
    ">>> spam[:]\n",
    "['cat', 'bat', 'rat', 'elephant']\n",
    "```"
   ]
  },
  {
   "cell_type": "markdown",
   "metadata": {},
   "source": [
    "##### Getting a List’s Length with the len() Function"
   ]
  },
  {
   "cell_type": "markdown",
   "metadata": {},
   "source": [
    "The _len()_ function will return the number of values that are in a list value passed to it, just like it can count the number of characters in a string value.\n",
    "\n",
    "```python\n",
    ">>> spam = ['cat', 'dog', 'moose']\n",
    ">>> len(spam)\n",
    "3\n",
    "```"
   ]
  },
  {
   "cell_type": "markdown",
   "metadata": {},
   "source": [
    "##### Changing Values in a List with Indexes"
   ]
  },
  {
   "cell_type": "markdown",
   "metadata": {},
   "source": [
    "You can use an index of a list to change the value at that index. For example, _spam[1] = 'aardvark'_ means “Assign the value at index _1_ in the list _spam_ to the string _'aardvark'_.”\n",
    "\n",
    "```python\n",
    ">>> spam = ['cat', 'bat', 'rat', 'elephant']\n",
    ">>> spam[1] = 'aardvark'\n",
    ">>> spam\n",
    "['cat', 'aardvark', 'rat', 'elephant']\n",
    ">>> spam[2] = spam[1]\n",
    ">>> spam\n",
    "['cat', 'aardvark', 'aardvark', 'elephant']\n",
    ">>> spam[-1] = 12345\n",
    ">>> spam\n",
    "['cat', 'aardvark', 'aardvark', 12345]\n",
    "```"
   ]
  },
  {
   "cell_type": "markdown",
   "metadata": {},
   "source": [
    "##### List Concatenation and List Replication"
   ]
  },
  {
   "cell_type": "markdown",
   "metadata": {},
   "source": [
    "The + operator combines two lists to create a new list value and the * operator can be used with a list and an integer value to replicate the list. \n",
    "\n",
    "```python\n",
    ">>> [1, 2, 3] + ['A', 'B', 'C']\n",
    "[1, 2, 3, 'A', 'B', 'C']\n",
    ">>> ['X', 'Y', 'Z'] * 3\n",
    "['X', 'Y', 'Z', 'X', 'Y', 'Z', 'X', 'Y', 'Z']\n",
    ">>> spam = [1, 2, 3]\n",
    ">>> spam = spam + ['A', 'B', 'C']\n",
    ">>> spam\n",
    "[1, 2, 3, 'A', 'B', 'C']\n",
    "```"
   ]
  },
  {
   "cell_type": "markdown",
   "metadata": {},
   "source": [
    "##### Removing Values from Lists with del Statements"
   ]
  },
  {
   "cell_type": "markdown",
   "metadata": {},
   "source": [
    "The _del_ statement will delete values at an index in a list. All of the values in the list after the deleted value will be moved up one index.\n",
    "\n",
    "```python\n",
    ">>> spam = ['cat', 'bat', 'rat', 'elephant']\n",
    ">>> del spam[2]\n",
    ">>> spam\n",
    "['cat', 'bat', 'elephant']\n",
    ">>> del spam[2]\n",
    ">>> spam\n",
    "['cat', 'bat']\n",
    "```\n",
    "\n",
    "The _del_ statement can also be used on a simple variable to delete it, as if it were an “unassignment” statement. If you try to use the variable after deleting it, you will get a _NameError_ error because the variable no longer exists."
   ]
  },
  {
   "cell_type": "markdown",
   "metadata": {},
   "source": [
    "#### __Working with Lists__"
   ]
  },
  {
   "cell_type": "markdown",
   "metadata": {},
   "source": [
    "Instead of using multiple, repetitive variables, you can use a single variable that contains a list value. The benefit of using a list is that your data is now in a structure, so your program is much more flexible in processing the data than it would be with several repetitive variables."
   ]
  },
  {
   "cell_type": "markdown",
   "metadata": {},
   "source": [
    "###### ___allMyCats1.py___"
   ]
  },
  {
   "cell_type": "code",
   "execution_count": 3,
   "metadata": {},
   "outputs": [
    {
     "name": "stdout",
     "output_type": "stream",
     "text": [
      "Enter the name of cat 1:\n",
      "Enter the name of cat 2:\n",
      "Enter the name of cat 3:\n",
      "Enter the name of cat 4:\n",
      "Enter the name of cat 5:\n",
      "Enter the name of cat 6:\n",
      "The cat names are:\n",
      "melody julliete allison petskin margaret dorothy\n"
     ]
    }
   ],
   "source": [
    "print('Enter the name of cat 1:')\n",
    "catName1 = input()\n",
    "print('Enter the name of cat 2:')\n",
    "catName2 = input()\n",
    "print('Enter the name of cat 3:')\n",
    "catName3 = input()\n",
    "print('Enter the name of cat 4:')\n",
    "catName4 = input()\n",
    "print('Enter the name of cat 5:')\n",
    "catName5 = input()\n",
    "print('Enter the name of cat 6:')\n",
    "catName6 = input()\n",
    "print('The cat names are:')\n",
    "print(catName1 + ' ' + catName2 + ' ' + catName3 + ' ' + catName4 + ' ' +\n",
    "catName5 + ' ' + catName6)"
   ]
  },
  {
   "cell_type": "markdown",
   "metadata": {},
   "source": [
    "###### ___allMyCats2.py___"
   ]
  },
  {
   "cell_type": "code",
   "execution_count": 4,
   "metadata": {},
   "outputs": [
    {
     "name": "stdout",
     "output_type": "stream",
     "text": [
      "Enter the name of cat 1 (Or enter nothing to stop.):\n",
      "Enter the name of cat 2 (Or enter nothing to stop.):\n",
      "Enter the name of cat 3 (Or enter nothing to stop.):\n",
      "Enter the name of cat 4 (Or enter nothing to stop.):\n",
      "Enter the name of cat 5 (Or enter nothing to stop.):\n",
      "Enter the name of cat 6 (Or enter nothing to stop.):\n",
      "Enter the name of cat 7 (Or enter nothing to stop.):\n",
      "Enter the name of cat 8 (Or enter nothing to stop.):\n",
      "The cat names are:\n",
      "  margaret\n",
      "  felicity\n",
      "  bonnie\n",
      "  josephina\n",
      "  narea\n",
      "  tilly\n",
      "  ulises\n"
     ]
    }
   ],
   "source": [
    "catNames = []\n",
    "while True:\n",
    "    print('Enter the name of cat ' + str(len(catNames) + 1) +\n",
    "      ' (Or enter nothing to stop.):')\n",
    "    name = input()\n",
    "    if name == '':\n",
    "        break\n",
    "    catNames = catNames + [name]  # list concatenation\n",
    "print('The cat names are:')\n",
    "for name in catNames:\n",
    "    print('  ' + name)"
   ]
  },
  {
   "cell_type": "markdown",
   "metadata": {},
   "source": [
    "##### Using for Loops with Lists"
   ]
  },
  {
   "cell_type": "markdown",
   "metadata": {},
   "source": [
    "A _for_ loop repeats the code block once for each item in a list value.\n",
    "\n",
    "```python\n",
    "for i in range(4):\n",
    "    print(i)\n",
    "```\n",
    "\n",
    "the output of this program would be:\n",
    "\n",
    "```python\n",
    "0\n",
    "1\n",
    "2\n",
    "3\n",
    "```\n",
    "\n",
    "This is because the return value from range(4) is a sequence value that Python considers similar to [0, 1, 2, 3]. The following program has the same output as the previous one:\n",
    "\n",
    "```python\n",
    "for i in [0, 1, 2, 3]:\n",
    "    print(i)\n",
    "```\n",
    "\n",
    "A common Python technique is to use _range(len(someList))_ with a _for_ loop to iterate over the indexes of a list.\n",
    "\n",
    "```python\n",
    ">>> supplies = ['pens', 'staplers', 'flamethrowers', 'binders']\n",
    ">>> for i in range(len(supplies)):\n",
    "...     print('Index ' + str(i) + ' in supplies is: ' + supplies[i])\n",
    "\n",
    "Index 0 in supplies is: pens\n",
    "Index 1 in supplies is: staplers\n",
    "Index 2 in supplies is: flamethrowers\n",
    "Index 3 in supplies is: binders\n",
    "```\n",
    "\n",
    "Using _range(len(supplies))_ in the previously shown _for_ loop is handy because the code in the loop can access the index and the value at that index. Best of all, _range(len(supplies))_ will iterate through all the indexes of _supplies_, no matter how many items it contains."
   ]
  },
  {
   "cell_type": "markdown",
   "metadata": {},
   "source": [
    "##### The in and not in Operators"
   ]
  },
  {
   "cell_type": "markdown",
   "metadata": {},
   "source": [
    "You can determine whether a value is or isn’t in a list with the _in_ and _not in_ operators. They're used in expressions and connect two values: a value to look for in a list and the list where it may be found. These expressions will evaluate to a Boolean value.\n",
    "\n",
    "```python\n",
    ">>> 'howdy' in ['hello', 'hi', 'howdy', 'heyas']\n",
    "True\n",
    ">>> spam = ['hello', 'hi', 'howdy', 'heyas']\n",
    ">>> 'cat' in spam\n",
    "False\n",
    ">>> 'howdy' not in spam\n",
    "False\n",
    ">>> 'cat' not in spam\n",
    "True\n",
    "```"
   ]
  },
  {
   "cell_type": "markdown",
   "metadata": {},
   "source": [
    "###### ___myPets.py___"
   ]
  },
  {
   "cell_type": "code",
   "execution_count": 5,
   "metadata": {},
   "outputs": [
    {
     "name": "stdout",
     "output_type": "stream",
     "text": [
      "Enter a pet name:\n",
      "I do not have a pet named Sarah\n"
     ]
    }
   ],
   "source": [
    "myPets = ['Zophie', 'Pooka', 'Fat-tail']\n",
    "print('Enter a pet name:')\n",
    "name = input()\n",
    "if name not in myPets:\n",
    "    print('I do not have a pet named ' + name)\n",
    "else:\n",
    "    print(name + ' is my pet.')"
   ]
  },
  {
   "cell_type": "markdown",
   "metadata": {},
   "source": [
    "##### The Multiple Assignment Trick"
   ]
  },
  {
   "cell_type": "markdown",
   "metadata": {},
   "source": [
    "The __multiple assignment trick__ is a shortcut that lets you assign multiple variables with the values in a list in one line of code. So instead of doing this:\n",
    "\n",
    "```python\n",
    ">>> cat = ['fat', 'gray', 'loud']\n",
    ">>> size = cat[0]\n",
    ">>> color = cat[1]\n",
    ">>> disposition = cat[2]\n",
    "```\n",
    "\n",
    "you could type this line of code:\n",
    "\n",
    "```python\n",
    ">>> cat = ['fat', 'gray', 'loud']\n",
    ">>> size, color, disposition = cat\n",
    "```\n",
    "\n",
    "The number of variables and the length of the list must be exactly equal, or Python will give you a _ValueError_."
   ]
  },
  {
   "cell_type": "markdown",
   "metadata": {},
   "source": [
    "##### Using the enumerate() Function with Lists"
   ]
  },
  {
   "cell_type": "markdown",
   "metadata": {},
   "source": [
    "To obtain the integer index of the items in the list, you can call the _enumerate()_ function. On each iteration of the loop, _enumerate()_ will return two values: the index of the item in the list, and the item in the list itself. The _enumerate()_ function is useful if you need both the item and the item’s index in the loop’s block.\n",
    "\n",
    "```python\n",
    ">>> supplies = ['pens', 'staplers', 'flamethrowers', 'binders']\n",
    ">>> for index, item in enumerate(supplies):\n",
    "...     print('Index ' + str(index) + ' in supplies is: ' + item)\n",
    "\n",
    "Index 0 in supplies is: pens\n",
    "Index 1 in supplies is: staplers\n",
    "Index 2 in supplies is: flamethrowers\n",
    "Index 3 in supplies is: binders\n",
    "```"
   ]
  },
  {
   "cell_type": "markdown",
   "metadata": {},
   "source": [
    "##### Using the random.choice() and random.shuffle() Functions with Lists"
   ]
  },
  {
   "cell_type": "markdown",
   "metadata": {},
   "source": [
    "The _random_ module has a couple functions that accept lists for arguments. The _random.choice()_ function will return a randomly selected item from the list. You can consider _random.choice(someList)_ to be a shorter form of _someList[random.randint(0, len(someList) – 1]_.\n",
    "\n",
    "```python\n",
    ">>> import random\n",
    ">>> pets = ['Dog', 'Cat', 'Moose']\n",
    ">>> random.choice(pets)\n",
    "'Dog'\n",
    ">>> random.choice(pets)\n",
    "'Cat'\n",
    ">>> random.choice(pets)\n",
    "'Cat'\n",
    "```\n",
    "\n",
    "The _random.shuffle()_ function will reorder the items in a list. This function modifies the list in place, rather than returning a new list. \n",
    "\n",
    "```python\n",
    ">>> import random\n",
    ">>> people = ['Alice', 'Bob', 'Carol', 'David']\n",
    ">>> random.shuffle(people)\n",
    ">>> people\n",
    "['Carol', 'David', 'Alice', 'Bob']\n",
    ">>> random.shuffle(people)\n",
    ">>> people\n",
    "['Alice', 'David', 'Bob', 'Carol']\n",
    "```"
   ]
  },
  {
   "cell_type": "markdown",
   "metadata": {},
   "source": [
    "#### __Augmented Assignment Operators__"
   ]
  },
  {
   "cell_type": "markdown",
   "metadata": {},
   "source": [
    "There are augmented assignment operators for the +, -, *, /, and % operators, described in Table 4-1.\n",
    "\n",
    "_Table 4-1: The Augmented Assignment Operators_\n",
    "|__Augmented assignment statement__|   __Equivalent assignment statement__    |\n",
    "|----------------------------------|------------------------------------------|\n",
    "| spam += 1                        | spam = spam + 1                          |\n",
    "| spam -= 1                        | spam = spam - 1                          |\n",
    "| spam *= 1                        | spam = spam * 1                          |\n",
    "| spam /= 1                        | spam = spam / 1                          |\n",
    "| spam %= 1                        | spam = spam % 1                          |\n",
    "\n",
    "The += operator can also do string and list concatenation, and the *= operator can do string and list replication."
   ]
  },
  {
   "cell_type": "markdown",
   "metadata": {},
   "source": [
    "#### __Methods__"
   ]
  },
  {
   "cell_type": "markdown",
   "metadata": {},
   "source": [
    "A __method__ is the same thing as a function, except it is “called on” a value. The method part comes after the value, separated by a period. Each data type has its own set of methods. The list data type, for example, has several useful methods for finding, adding, removing, and otherwise manipulating values in a list."
   ]
  },
  {
   "cell_type": "markdown",
   "metadata": {},
   "source": [
    "##### Finding a Value in a List with the index() Method"
   ]
  },
  {
   "cell_type": "markdown",
   "metadata": {},
   "source": [
    "List values have an _index()_ method that can be passed a value, and if that value exists in the list, the index of the value is returned. If the value isn’t in the list, then Python produces a _ValueError_ error.\n",
    "\n",
    "```python\n",
    ">>> spam = ['hello', 'hi', 'howdy', 'heyas']\n",
    ">>> spam.index('hello')\n",
    "0\n",
    ">>> spam.index('heyas')\n",
    "3\n",
    ">>> spam.index('howdy howdy howdy')\n",
    "Traceback (most recent call last):\n",
    "  File \"<pyshell#31>\", line 1, in <module>\n",
    "    spam.index('howdy howdy howdy')\n",
    "ValueError: 'howdy howdy howdy' is not in list\n",
    "```\n",
    "\n",
    "When there are duplicates of the value in the list, the index of its first appearance is returned.\n",
    "\n",
    "```python\n",
    ">>> spam = ['Zophie', 'Pooka', 'Fat-tail', 'Pooka']\n",
    ">>> spam.index('Pooka')\n",
    "1\n",
    "```"
   ]
  },
  {
   "cell_type": "markdown",
   "metadata": {},
   "source": [
    "##### Adding Values to Lists with the append() and insert() Methods"
   ]
  },
  {
   "cell_type": "markdown",
   "metadata": {},
   "source": [
    "```python\n",
    ">>> spam = ['cat', 'dog', 'bat']\n",
    ">>> spam.append('moose')\n",
    ">>> spam\n",
    "['cat', 'dog', 'bat', 'moose']\n",
    "```\n",
    "\n",
    "The previous _append()_ method call adds the argument to the end of the list. The _insert()_ method can insert a value at any index in the list. The first argument to _insert()_ is the index for the new value, and the second argument is the new value to be inserted.\n",
    "\n",
    "```python\n",
    ">>> spam = ['cat', 'dog', 'bat']\n",
    ">>> spam.insert(1, 'chicken')\n",
    ">>> spam\n",
    "['cat', 'chicken', 'dog', 'bat']\n",
    "```\n",
    "\n",
    "Methods belong to a single data type. The _append()_ and _insert()_ methods are list methods and can be called only on list values.\n",
    "\n",
    "```python\n",
    ">>> eggs = 'hello'\n",
    ">>> eggs.append('world')\n",
    "Traceback (most recent call last):\n",
    "  File \"<pyshell#19>\", line 1, in <module>\n",
    "    eggs.append('world')\n",
    "AttributeError: 'str' object has no attribute 'append'\n",
    "```"
   ]
  },
  {
   "cell_type": "markdown",
   "metadata": {},
   "source": [
    "##### Removing Values from Lists with the remove() Method"
   ]
  },
  {
   "cell_type": "markdown",
   "metadata": {},
   "source": [
    "The _remove()_ method is passed the value to be removed from the list it is called on. \n",
    "\n",
    "```python\n",
    ">>> spam = ['cat', 'bat', 'rat', 'elephant']\n",
    ">>> spam.remove('bat')\n",
    ">>> spam\n",
    "['cat', 'rat', 'elephant']\n",
    "```\n",
    "\n",
    "Attempting to delete a value that does not exist in the list will result in a _ValueError_ error. \n",
    "\n",
    "```python\n",
    ">>> spam = ['cat', 'bat', 'rat', 'elephant']\n",
    ">>> spam.remove('chicken')\n",
    "Traceback (most recent call last):\n",
    "  File \"<pyshell#11>\", line 1, in <module>\n",
    "    spam.remove('chicken')\n",
    "ValueError: list.remove(x): x not in list\n",
    "```\n",
    "\n",
    "If the value appears multiple times in the list, only the first instance of the value will be removed.\n",
    "\n",
    "```python\n",
    ">>> spam = ['cat', 'bat', 'rat', 'cat', 'hat', 'cat']\n",
    ">>> spam.remove('cat')\n",
    ">>> spam\n",
    "['bat', 'rat', 'cat', 'hat', 'cat']\n",
    "```\n",
    "\n",
    "The _del_ statement is good to use when you know the index of the value you want to remove from the list. The _remove()_ method is useful when you know the value you want to remove from the list."
   ]
  },
  {
   "cell_type": "markdown",
   "metadata": {},
   "source": [
    "##### Sorting the Values in a List with the sort() Method"
   ]
  },
  {
   "cell_type": "markdown",
   "metadata": {},
   "source": [
    "Lists of number values or lists of strings can be sorted with the _sort()_ method.\n",
    "\n",
    "```python\n",
    ">>> spam = [2, 5, 3.14, 1, -7]\n",
    ">>> spam.sort()\n",
    ">>> spam\n",
    "[-7, 1, 2, 3.14, 5]\n",
    ">>> spam = ['ants', 'cats', 'dogs', 'badgers', 'elephants']\n",
    ">>> spam.sort()\n",
    ">>> spam\n",
    "['ants', 'badgers', 'cats', 'dogs', 'elephants']\n",
    "```\n",
    "\n",
    "You can also pass _True_ for the _reverse_ keyword argument to have _sort()_ sort the values in reverse order.\n",
    "\n",
    "```python\n",
    ">>> spam.sort(reverse=True)\n",
    ">>> spam\n",
    "['elephants', 'dogs', 'cats', 'badgers', 'ants']\n",
    "```\n",
    "\n",
    "There are three things you should note about the _sort()_ method. First, it sorts the list in place; don’t try to capture the return value by writing code like _spam = spam.sort()_. Second, you cannot sort lists that have both number values and string values in them. Third, _sort()_ uses “ASCIIbetical order” rather than actual alphabetical order for sorting strings. This means uppercase letters come before lowercase letters. If you need to sort the values in regular alphabetical order, pass _str.lower_ for the key keyword argument in the _sort()_ method call.\n",
    "\n",
    "```python\n",
    ">>> spam = ['a', 'z', 'A', 'Z']\n",
    ">>> spam.sort(key=str.lower)\n",
    ">>> spam\n",
    "['a', 'A', 'z', 'Z']\n",
    "```\n",
    "\n",
    "This causes the _sort()_ function to treat all the items in the list as if they were lowercase without actually changing the values in the list."
   ]
  },
  {
   "cell_type": "markdown",
   "metadata": {},
   "source": [
    "##### Reversing the Values in a List with the reverse() Method"
   ]
  },
  {
   "cell_type": "markdown",
   "metadata": {},
   "source": [
    "If you need to quickly reverse the order of the items in a list, you can call the _reverse()_ list method.\n",
    "\n",
    "```python\n",
    ">>> spam = ['cat', 'dog', 'moose']\n",
    ">>> spam.reverse()\n",
    ">>> spam\n",
    "['moose', 'dog', 'cat']\n",
    "```\n",
    "\n",
    "Lists can actually span several lines in the source code file. The indentation of these lines does not matter; Python knows that the list is not finished until it sees the ending square bracket.\n",
    "\n",
    "```python\n",
    "spam = ['apples',\n",
    "    'oranges',\n",
    "                    'bananas',\n",
    "'cats']\n",
    "print(spam)\n",
    "```\n",
    "\n",
    "You can also split up a single instruction across multiple lines using the __\\ line continuation character__ at the end. Think of \\ as saying, “This instruction continues on the next line.” The indentation on the line after a \\ line continuation is not significant. For example, the following is valid Python code:\n",
    "\n",
    "```python\n",
    "print('Four score and seven ' + \\\n",
    "      'years ago...')\n",
    "```"
   ]
  },
  {
   "cell_type": "markdown",
   "metadata": {},
   "source": [
    "#### __Example Program: Magic 8 Ball with a List__"
   ]
  },
  {
   "cell_type": "markdown",
   "metadata": {},
   "source": [
    "Using lists, you can write a much more elegant version of the previous chapter’s Magic 8 Ball program. Instead of several lines of nearly identical _elif_ statements, you can create a single list that the code works with. When you run this program, you’ll see that it works the same as the previous program.\n",
    "\n",
    "Notice the expression you use as the index for _messages: random.randint (0, len(messages) - 1)_. This produces a random number to use for the index, regardless of the size of _messages_. The benefit of this approach is that you can easily add and remove strings to the _messages_ list without changing other lines of code."
   ]
  },
  {
   "cell_type": "markdown",
   "metadata": {},
   "source": [
    "###### ___magic8Ball2.py___"
   ]
  },
  {
   "cell_type": "code",
   "execution_count": 7,
   "metadata": {},
   "outputs": [
    {
     "name": "stdout",
     "output_type": "stream",
     "text": [
      "Yes definitely\n"
     ]
    }
   ],
   "source": [
    "import random\n",
    "\n",
    "messages = ['It is certain',\n",
    "    'It is decidedly so',\n",
    "    'Yes definitely',\n",
    "    'Reply hazy try again',\n",
    "    'Ask again later',\n",
    "    'Concentrate and ask again',\n",
    "    'My reply is no',\n",
    "    'Outlook not so good',\n",
    "    'Very doubtful']\n",
    "\n",
    "print(messages[random.randint(0, len(messages) - 1)])"
   ]
  },
  {
   "cell_type": "markdown",
   "metadata": {},
   "source": [
    "#### __Sequence Data Types__"
   ]
  },
  {
   "cell_type": "markdown",
   "metadata": {},
   "source": [
    "The Python sequence data types include lists, strings, range objects returned by _range()_, and tuples. Many of the things you can do with lists can also be done with strings and other values of sequence types: indexing; slicing; and using them with _for_ loops, with _len()_, and with the _in_ and _not in_ operators.\n",
    "\n",
    "```python\n",
    ">>> name = 'Zophie'\n",
    ">>> name[0]\n",
    "'Z'\n",
    ">>> name[-2]\n",
    "'i'\n",
    ">>> name[0:4]\n",
    "'Zoph'\n",
    ">>> 'Zo' in name\n",
    "True\n",
    ">>> 'z' in name\n",
    "False\n",
    ">>> 'p' not in name\n",
    "False\n",
    ">>> for i in name:\n",
    "...     print('* * * ' + i + ' * * *')\n",
    "\n",
    "* * * Z * * *\n",
    "* * * o * * *\n",
    "* * * p * * *\n",
    "* * * h * * *\n",
    "* * * i * * *\n",
    "* * * e * * *\n",
    "```"
   ]
  },
  {
   "cell_type": "markdown",
   "metadata": {},
   "source": [
    "##### Mutable and Immutable Data Types"
   ]
  },
  {
   "cell_type": "markdown",
   "metadata": {},
   "source": [
    "A list value is a __mutable__ data type: it can have values added, removed, or changed. However, a string is __immutable__: it cannot be changed. The proper way to “mutate” a string is to use slicing and concatenation to build a __new__ string by copying from parts of the old string. \n",
    "\n",
    "```python\n",
    ">>> name = 'Zophie a cat'\n",
    ">>> newName = name[0:7] + 'the' + name[8:12]\n",
    ">>> name\n",
    "'Zophie a cat'\n",
    ">>> newName\n",
    "'Zophie the cat'\n",
    "```\n",
    "\n",
    "If you want to modify a list like _eggs_ to contain _[4, 5, 6]_, you would have to do something like this:\n",
    "\n",
    "```python\n",
    ">>> eggs = [1, 2, 3]\n",
    ">>> del eggs[2]\n",
    ">>> del eggs[1]\n",
    ">>> del eggs[0]\n",
    ">>> eggs.append(4)\n",
    ">>> eggs.append(5)\n",
    ">>> eggs.append(6)\n",
    ">>> eggs\n",
    "[4, 5, 6]\n",
    "```\n",
    "\n",
    "Changing a value of a mutable data type changes the value in place, since the variable’s value is not replaced with a new list value."
   ]
  },
  {
   "cell_type": "markdown",
   "metadata": {},
   "source": [
    "##### The Tuple Data Type"
   ]
  },
  {
   "cell_type": "markdown",
   "metadata": {},
   "source": [
    "The __tuple__ data type is almost identical to the list data type, except in two ways. First, tuples are typed with parentheses, ( and ), instead of square brackets, [ and ]. But the main way that tuples are different from lists is that tuples, like strings, are immutable. Tuples cannot have their values modified, appended, or removed. \n",
    "\n",
    "If you have only one value in your tuple, you can indicate this by placing a trailing comma after the value inside the parentheses. The comma is what lets Python know this is a tuple value. \n",
    "\n",
    "```python\n",
    ">>> type(('hello',))\n",
    "<class 'tuple'>\n",
    ">>> type(('hello'))\n",
    "<class 'str'>\n",
    "```\n",
    "\n",
    "If you need an ordered sequence of values that never changes, use a tuple. A second benefit of using tuples instead of lists is that, because they are immutable and their contents don’t change, Python can implement some optimizations that make code using tuples slightly faster than code using lists."
   ]
  },
  {
   "cell_type": "markdown",
   "metadata": {},
   "source": [
    "##### Converting Types with the list() and tuple() Functions"
   ]
  },
  {
   "cell_type": "markdown",
   "metadata": {},
   "source": [
    "The functions _list()_ and _tuple()_ will return list and tuple versions of the values passed to them. \n",
    "\n",
    "```python\n",
    ">>> tuple(['cat', 'dog', 5])\n",
    "('cat', 'dog', 5)\n",
    ">>> list(('cat', 'dog', 5))\n",
    "['cat', 'dog', 5]\n",
    ">>> list('hello')\n",
    "['h', 'e', 'l', 'l', 'o']\n",
    "```\n",
    "\n",
    "Converting a tuple to a list is handy if you need a mutable version of a tuple value."
   ]
  },
  {
   "cell_type": "markdown",
   "metadata": {},
   "source": [
    "#### __References__"
   ]
  },
  {
   "cell_type": "markdown",
   "metadata": {},
   "source": [
    "Variables store references to the computer memory locations where the values are stored. \n",
    "\n",
    "```python\n",
    ">>> spam = 42\n",
    ">>> cheese = spam\n",
    ">>> spam = 100\n",
    ">>> spam\n",
    "100\n",
    ">>> cheese\n",
    "42\n",
    "```\n",
    "\n",
    "When you assign _42_ to the _spam_ variable, you are actually creating the _42_ value in the computer’s memory and storing a __reference__ to it in the _spam_ variable. When you copy the value in _spam_ and assign it to the variable _cheese_, you are actually copying the reference. Both the _spam_ and _cheese_ variables refer to the _42_ value in the computer’s memory. When you later change the value in _spam_ to _100_, you’re creating a new _100_ value and storing a reference to it in _spam_. This doesn’t affect the value in _cheese_. Integers are __immutable__ values that don’t change; changing the _spam_ variable is actually making it refer to a completely different value in memory. But lists don’t work this way, because lists are __mutable__.\n",
    "\n",
    "```python\n",
    ">>> spam = [0, 1, 2, 3, 4, 5]\n",
    ">>> cheese = spam # The reference is being copied, not the list.\n",
    ">>> cheese[1] = 'Hello!' # This changes the list value.\n",
    ">>> spam\n",
    "[0, 'Hello!', 2, 3, 4, 5]\n",
    ">>> cheese # The cheese variable refers to the same list.\n",
    "[0, 'Hello!', 2, 3, 4, 5]\n",
    "```\n",
    "\n",
    "When you create the list, you assign a reference to it in the _spam_ variable. But the next line copies only the list reference in _spam_ to _cheese_, not the list value itself. This means the values stored in _spam_ and _cheese_ now both refer to the same list. There is only one underlying list because the list itself was never actually copied. So when you modify the first element of _cheese_, you are modifying the same list that _spam_ refers to."
   ]
  },
  {
   "cell_type": "markdown",
   "metadata": {},
   "source": [
    "##### Identity and the id() Function"
   ]
  },
  {
   "cell_type": "markdown",
   "metadata": {},
   "source": [
    "All values in Python have a unique identity that can be obtained with the _id()_ function. \n",
    "\n",
    "```python\n",
    ">>> id('Howdy') # The returned number will be different on your machine.\n",
    "44491136\n",
    "```\n",
    "\n",
    "When Python runs _id('Howdy')_, it creates the _'Howdy'_ string in the computer’s memory. The numeric memory address where the string is stored is returned by the _id()_ function. Python picks this address based on which memory bytes happen to be free on your computer at the time, so it’ll be different each time you run this code.\n",
    "\n",
    "Like all strings, _'Howdy'_ is immutable and cannot be changed. If you “change” the string in a variable, a new string object is being made at a different place in memory, and the variable refers to this new string. \n",
    "\n",
    "```python\n",
    ">>> bacon = 'Hello'\n",
    ">>> id(bacon)\n",
    "44491136\n",
    ">>> bacon += ' world!' # A new string is made from 'Hello' and ' world!'.\n",
    ">>> id(bacon) # bacon now refers to a completely different string.\n",
    "44609712\n",
    "```\n",
    "\n",
    "However, lists can be modified because they are mutable objects. The _append()_ method doesn’t create a new list object; it changes the existing list object. We call this “modifying the object __in-place__.”\n",
    "\n",
    "```python\n",
    ">>> eggs = ['cat', 'dog'] # This creates a new list.\n",
    ">>> id(eggs)\n",
    "35152584\n",
    ">>> eggs.append('moose') # append() modifies the list \"in place\".\n",
    ">>> id(eggs) # eggs still refers to the same list as before.\n",
    "35152584\n",
    ">>> eggs = ['bat', 'rat', 'cow'] # This creates a new list, which has a new\n",
    "identity.\n",
    ">>> id(eggs) # eggs now refers to a completely different list.\n",
    "44409800\n",
    "```\n",
    "\n",
    "If two variables refer to the same list and the list value itself changes, both variables are affected because they both refer to the same list. The _append(), extend(), remove(), sort(), reverse(),_ and other list methods modify their lists in place.\n",
    "\n",
    "Python’s __automatic garbage collector__ deletes any values not being referred to by any variables to free up memory."
   ]
  },
  {
   "cell_type": "markdown",
   "metadata": {},
   "source": [
    "##### Passing References"
   ]
  },
  {
   "cell_type": "markdown",
   "metadata": {},
   "source": [
    "When a function is called, the values of the arguments are copied to the parameter variables. For lists, this means a copy of the reference is used for the parameter. It modifies the list in place, directly."
   ]
  },
  {
   "cell_type": "markdown",
   "metadata": {},
   "source": [
    "###### ___passingReference.py___"
   ]
  },
  {
   "cell_type": "code",
   "execution_count": 8,
   "metadata": {},
   "outputs": [
    {
     "name": "stdout",
     "output_type": "stream",
     "text": [
      "[1, 2, 3, 'Hello']\n"
     ]
    }
   ],
   "source": [
    "def eggs(someParameter):\n",
    "    someParameter.append('Hello')\n",
    "\n",
    "spam = [1, 2, 3]\n",
    "eggs(spam)\n",
    "print(spam)"
   ]
  },
  {
   "cell_type": "markdown",
   "metadata": {},
   "source": [
    "##### The copy Module’s copy() and deepcopy() Functions"
   ]
  },
  {
   "cell_type": "markdown",
   "metadata": {},
   "source": [
    "Python provides a module named _copy_ that provides both the _copy()_ and _deepcopy()_ functions. The first of these, _copy.copy()_, can be used to make a duplicate copy of a mutable value like a list or dictionary, not just a copy of a reference.\n",
    "\n",
    "```python\n",
    ">>> import copy\n",
    ">>> spam = ['A', 'B', 'C', 'D']\n",
    ">>> id(spam)\n",
    "44684232\n",
    ">>> cheese = copy.copy(spam)\n",
    ">>> id(cheese) # cheese is a different list with different identity.\n",
    "44685832\n",
    ">>> cheese[1] = 42\n",
    ">>> spam\n",
    "['A', 'B', 'C', 'D']\n",
    ">>> cheese\n",
    "['A', 42, 'C', 'D']\n",
    "```\n",
    "\n",
    "Now the _spam_ and _cheese_ variables refer to separate lists, which is why only the list in _cheese_ is modified when you assign _42_ at index _1_. If the list you need to copy contains lists, then use the _copy.deepcopy()_ function instead, this function will copy these inner lists as well."
   ]
  },
  {
   "cell_type": "markdown",
   "metadata": {},
   "source": [
    "#### __A Short Program: Conway’s Game of Life__"
   ]
  },
  {
   "cell_type": "markdown",
   "metadata": {},
   "source": [
    "Conway’s Game of Life is an example of __cellular automata__: a set of rules governing the behavior of a field made up of discrete cells. In practice, it creates a pretty animation to look at. A filled-in square will be “alive” and an empty square will be “dead.” If a living square has two or three living neighbors, it continues to live on the next step. If a dead square has exactly three living neighbors, it comes alive on the next step. Every other square dies or remains dead on the next step. You can see an example of the progression of steps in Figure 4-8.  Patterns in Conway’s Game of Life can move, self-replicate, or even mimic CPUs. But at the foundation of all of this complex, advanced behavior is a rather simple program.\n",
    "\n",
    "_Figure 4-8: Four steps in a Conway’s Game of Life simulation_\n",
    "\n",
    "![automatetheboringstuff](https://automatetheboringstuff.com/2e/images/000117.jpg)\n"
   ]
  },
  {
   "cell_type": "markdown",
   "metadata": {},
   "source": [
    "###### ___conway.py___"
   ]
  },
  {
   "cell_type": "code",
   "execution_count": 1,
   "metadata": {},
   "outputs": [
    {
     "name": "stdout",
     "output_type": "stream",
     "text": [
      "\n",
      "\n",
      "\n",
      "\n",
      "\n",
      "\n",
      "    #    ##  # #  # ### ######  ## ##  ## #     ## # #  # ##\n",
      " ######  ## # #    # ### #     #  ## ####  #  # ## # # # ## \n",
      "##  # ####  ####  ####  ##  # # #   # ##   #  #  ### # #### \n",
      "## # #    # #### #     ## #  # ##  ## # ###   ###  ##    # #\n",
      "    ### # ##    #     ## #### ##   ##  ##  #   #      ##  # \n",
      "## ###  ## ###   #  # ##  ## # ### # #     #  ## ## # ##  ##\n",
      "## ### # #     #     ###### ##  #####  #   ### #   #  #     \n",
      " ##  # # #   # ## #  ## #  ## #### #  ## #    ##   #   #### \n",
      "#    ## #  # ##  #####   # # # # ###  # ##### # # #      #  \n",
      "# # ## # ###  # ##########    # #  ##       # ###   ####  # \n",
      "##  ##  #### ######    ##   ## ### #  #  ###   ##### ## # ##\n",
      " # ### # ## #####    # ## #  ###  ###    ##   #      #######\n",
      "#  #  #      ## #  ## ########  ###        ##  ######## #  #\n",
      " # # #  ##  #  # #  # #    ## ### ####  # ## #   ## ##### ##\n",
      "# # ##### ###  ## #   #  #   #   ## ## # # ## # # ####     #\n",
      "#       #  ###     ### ####   ## # #  # #          #  #     \n",
      "#    #      ## ### ##  ###    # ##   # ### #     #  # #### #\n",
      "##   ##    #### #  ## ##   #  ## ##   #  #     ## # ## ###  \n",
      " ###   ####### #####    #  ####  # ##  # ###  ##  ## # #####\n",
      "### #  #   # #   # # #  # ### ### ###  ####   # ######   ## \n",
      "\n",
      "\n",
      "\n",
      "\n",
      "\n",
      "\n",
      "      # ##   #    #          #            ##         #  #   \n",
      " ##   #     #                 ##  #      ###       # # #    \n",
      "       ##       # ## #    #  ## ###        # ##      # #    \n",
      " ###      #      #####          #     #  ###  # ## ###      \n",
      "      ###      ###   #           #    ###  #     ## # ####  \n",
      " #         ##   #                    #### ## # #  ##      # \n",
      "       # #   # # #  #                # ## ####     ####     \n",
      "  ##   # ## ## ## #                  ##  #      # ##   #####\n",
      "# ##       # #           # # #       ## #####   ## ###      \n",
      "   #   #                 ##         ## ##   # #     #  ## # \n",
      "       #                    #    #   #   # # #   ###        \n",
      " # #   #          ####    #         #    #  # #             \n",
      " # #  ##  ##     # ##                #      #####           \n",
      " # #    ### #    ## # #       ##     ## ##   ##         ### \n",
      "  #####   #   #####   #  # ###         # # ###            # \n",
      "    #   ###          #    #  ###   #       ##    #    # # # \n",
      "     ##        ###           #       #   ##     ### #    ###\n",
      "    ######           ##  ###       ####    #  ### #         \n",
      "   ### ###     #     ## ##          ####   #  #        #    \n",
      "    #  #     # #     ## #            ##       #      # #    \n",
      "\n",
      "\n",
      "\n",
      "\n",
      "\n",
      "\n",
      "     ## #   ###               #          # #         # ##   \n",
      "      #  #       ###           ## #      #           # ##   \n",
      "   #   #             #       ## # #          ###  ## #      \n",
      "  #   #  #     #     ##        ## #   # ## # ##### #        \n",
      " #     #   #   #   # #                        ##      ####  \n",
      "      #     # #                      #       ##  #      ##  \n",
      "  #      #   # # #                  #        ##  #   ####  #\n",
      " ###     ### # ###                  #        #  #      #####\n",
      " #  #   # ## ##          #                #### ###   ##     \n",
      "  ##                     ####       #  #        #    #      \n",
      "  #   ###          ##    ###         ##  ###  #   ##        \n",
      "       ##         #  #              ##    ##    ###         \n",
      "## ## ##  ##     #                  ### ##  #            #  \n",
      " #      #      #    #       ###      #######             ## \n",
      "  #  # #       ## ##  #   ###         ## # #  #        ## ##\n",
      "       # ##   #   #       ##            ##   #  ###         \n",
      "          #     #    ##  # ###     # ##   # #     ##     ###\n",
      "   #     #     #     ######        #   #   #  # # ##      # \n",
      "   #     #    #     #   #          #   #     ##       #     \n",
      "   ##                ## ##          #  #  ##           ##   \n",
      "\n",
      "\n",
      "\n",
      "\n",
      "\n",
      "\n",
      "    ####     #    #            #        ## #             #  \n",
      "     ## #    #    #          #  #         #   #      # ##   \n",
      "      ###         # ###       #   ##    ### ##   ###  #     \n",
      "  #   ###            ##       ###           #    # ## ###   \n",
      "      ##      ##    ###                     #    ##    # #  \n",
      "            #####                               #    #    # \n",
      "####     # # # # #                  ##      #  ###    #    #\n",
      " # #    #  # # # #                         #             ###\n",
      "##  #      # ####        # #               ##### #   ###### \n",
      " ###    ##              #   #        ##  #   ## # # ###     \n",
      "  ##  # #          ##    #  #         #  # #   ## ##        \n",
      " ### #   #        ###     #            ##   #    ###        \n",
      "###   #  #                   #              #    #       ## \n",
      " # ###  #      # ###        ##      #      ##               \n",
      "      ## #    ######      #          #     ##    #      # ##\n",
      "      # ###     # ## ##  #   #       #  ## ###   ###    #   \n",
      "        # #    #     #      #       # ######## ##        ###\n",
      "         ##    #    #     ###     ##   #   ## ## ###     ###\n",
      "  ##                #     #        ## ### ######       #    \n",
      "   ###        #      # ###              # ###           #   \n",
      "\n",
      "\n",
      "\n",
      "\n",
      "\n",
      "\n",
      "   #   #     ##         #               #   #          # #  \n",
      "    #   #        ##  #        ##            ##    #   ###   \n",
      "         #         ## #      ## ##       ## ##   # #        \n",
      "     #             #   #      ##         #  #   #   ### #   \n",
      "      # #       #   # #        #                ###### # #  \n",
      "###         #        #                         #  #   #   ##\n",
      " # #      ##     #                             ###       #  \n",
      "   ##      # #   #                         #     #   #      \n",
      "    #   ###  # ##                         ##   ###  #  ##   \n",
      "#   #  ###    ##        #####        ##    #      # #   ##  \n",
      "       ##         # #    # #         ##  ## #####    #      \n",
      "#   ######        # #                  ##  ##      #        \n",
      "#     # ##       #  #       ##              ##   #          \n",
      " # ###  ##    ##   #        ##               #              \n",
      "    # #   #   #             ##      ##           #       #  \n",
      "      #   #   #    # ##             ##        #  ##     #   \n",
      "       ##  #   ##  # ##   # ##     ####        #        #  #\n",
      "         ##         ##    # #     #              ##     ## #\n",
      "  ##                ##  # #       ### # #      ## #     ### \n",
      "  #                     ##                    #         #   \n",
      "\n",
      "\n",
      "\n",
      "\n",
      "\n",
      "\n",
      "   #                    ##                  #         #  #  \n",
      "        #         ####       ####        #        #   ###   \n",
      "                   ####      #  #        ##      ####   #   \n",
      "                   #  ##     #           #####  #     ###   \n",
      "##                  ###       ##               ## #    #####\n",
      "###        #         #                         #    ### ####\n",
      " # ##     ##                                   # ##       ##\n",
      "  ###      #  #  #                        ##      #     #   \n",
      "    ## #  # ## ##        ###              ###   ###### ###  \n",
      "          #   ###       ## ##        ##  #   #     ### ###  \n",
      "    #                   ## ##        #  ###  ###   ##       \n",
      "     #           ## ##      #         #####    ##           \n",
      "## #      #       # #       ##             # #              \n",
      "   ## # # #   ##           #  #             ##              \n",
      "   ## ##  #  ##     #       ##      ##           ##         \n",
      "     ##  ###  #      ##    #                    ###     ##  \n",
      "       ##  #   #   #        ##     #  #         #      ## # \n",
      "        ###        #      # ##    #   ##       # ##    #   #\n",
      "  ##                ##  # ##      ##           ## #    #  # \n",
      "  #                    ##          #   #       #       #  # \n"
     ]
    },
    {
     "ename": "",
     "evalue": "",
     "output_type": "error",
     "traceback": [
      "\u001b[1;31mThe Kernel crashed while executing code in the current cell or a previous cell. \n",
      "\u001b[1;31mPlease review the code in the cell(s) to identify a possible cause of the failure. \n",
      "\u001b[1;31mClick <a href='https://aka.ms/vscodeJupyterKernelCrash'>here</a> for more info. \n",
      "\u001b[1;31mView Jupyter <a href='command:jupyter.viewOutput'>log</a> for further details."
     ]
    }
   ],
   "source": [
    "# Conway's Game of Life\n",
    "import random, time, copy\n",
    "WIDTH = 60\n",
    "HEIGHT = 20\n",
    "\n",
    "# Create a list of list for the cells:\n",
    "nextCells = []\n",
    "for x in range(WIDTH):\n",
    "    column = [] # Create a new column.\n",
    "    for y in range(HEIGHT):\n",
    "        if random.randint(0, 1) == 0:\n",
    "            column.append('#') # Add a living cell.\n",
    "        else:\n",
    "            column.append(' ') # Add a dead cell.\n",
    "    nextCells.append(column) # nextCells is a list of column lists.\n",
    "\n",
    "while True: # Main program loop.\n",
    "    print('\\n\\n\\n\\n\\n') # Separate each step with newlines.\n",
    "    currentCells = copy.deepcopy(nextCells)\n",
    "\n",
    "    # Print currentCells on the screen:\n",
    "    for y in range(HEIGHT):\n",
    "        for x in range(WIDTH):\n",
    "            print(currentCells[x][y], end='') # Print the # or space.\n",
    "        print() # Print a newline at the end of the row.\n",
    "\n",
    "    # Calculate the next step's cells based on current step's cells:\n",
    "    for x in range(WIDTH):\n",
    "        for y in range(HEIGHT):\n",
    "            # Get neighboring coordinates:\n",
    "            # `% WIDTH` ensures leftCoord is always between 0 and WIDTH - 1\n",
    "            leftCoord  = (x - 1) % WIDTH\n",
    "            rightCoord = (x + 1) % WIDTH\n",
    "            aboveCoord = (y - 1) % HEIGHT\n",
    "            belowCoord = (y + 1) % HEIGHT\n",
    "\n",
    "            # Count number of living neighbors:\n",
    "            numNeighbors = 0\n",
    "            if currentCells[leftCoord][aboveCoord] == '#':\n",
    "                numNeighbors += 1 # Top-left neighbor is alive.\n",
    "            if currentCells[x][aboveCoord] == '#':\n",
    "                numNeighbors += 1 # Top neighbor is alive.\n",
    "            if currentCells[rightCoord][aboveCoord] == '#':\n",
    "                numNeighbors += 1 # Top-right neighbor is alive.\n",
    "            if currentCells[leftCoord][y] == '#':\n",
    "                numNeighbors += 1 # Left neighbor is alive.\n",
    "            if currentCells[rightCoord][y] == '#':\n",
    "                numNeighbors += 1 # Right neighbor is alive.\n",
    "            if currentCells[leftCoord][belowCoord] == '#':\n",
    "                numNeighbors += 1 # Bottom-left neighbor is alive.\n",
    "            if currentCells[x][belowCoord] == '#':\n",
    "                numNeighbors += 1 # Bottom neighbor is alive.\n",
    "            if currentCells[rightCoord][belowCoord] == '#':\n",
    "                numNeighbors += 1 # Bottom-right neighbor is alive.\n",
    "\n",
    "            # Set cell based on Conway's Game of Life rules:\n",
    "            if currentCells[x][y] == '#' and (numNeighbors == 2 or\n",
    "numNeighbors == 3):\n",
    "                # Living cells with 2 or 3 neighbors stay alive:\n",
    "                nextCells[x][y] = '#'\n",
    "            elif currentCells[x][y] == ' ' and numNeighbors == 3:\n",
    "                # Dead cells with 3 neighbors become alive:\n",
    "                nextCells[x][y] = '#'\n",
    "            else:\n",
    "                # Everything else dies or stays dead:\n",
    "                nextCells[x][y] = ' '\n",
    "    time.sleep(1) # Add a 1-second pause to reduce flickering."
   ]
  },
  {
   "cell_type": "markdown",
   "metadata": {},
   "source": [
    "#### ___My answers to the practice questions___"
   ]
  },
  {
   "cell_type": "markdown",
   "metadata": {},
   "source": [
    "1. The empty list value.\n",
    "2. _spam[2] = 'hello'_\n",
    "3. _'d'_\n",
    "4. _'d'_\n",
    "5. _['a', 'b']_\n",
    "6. _1_\n",
    "7. _[3.14, 'cat', 11, 'cat', True, 99]_\n",
    "8. _[3.14, 11, 'cat', True]_\n",
    "9. _+_ for concatenation and _*_ for replication.\n",
    "10. _append()_ adds values to the end of the list while _insert()_ can add them anywhere in the list.\n",
    "11. By using the _del_ statement and by using the method _remove()_.\n",
    "12. We can concatenate and replicate both, use the _len()_ function, they have indexes and slices, can be used in _for_ loops or with the _in_ and _not in_ operators.\n",
    "13. Lists are mutable (which means that they can have values added, removed, or changed) and use square brackets [] when tuples are immutable (not modifiable) and use parentheses ().\n",
    "14. _(42,)_\n",
    "15. By using the _list()_ and _tuple()_ functions.\n",
    "16. A references to list values.\n",
    "17. _copy.copy()_ will do a shallow copy of a list, whereas _copy.deepcopy()_ wil do a deep copy, it can copy a list stored inside a list."
   ]
  },
  {
   "cell_type": "markdown",
   "metadata": {},
   "source": [
    "#### ___Practice Projects___"
   ]
  },
  {
   "cell_type": "markdown",
   "metadata": {},
   "source": [
    "##### Comma Code"
   ]
  },
  {
   "cell_type": "markdown",
   "metadata": {},
   "source": [
    "Write a function that takes a list value as an argument and returns a string with all the items separated by a comma and a space, with and inserted before the last item. Be sure to test the case where an empty list [] is passed to your function."
   ]
  },
  {
   "cell_type": "markdown",
   "metadata": {},
   "source": [
    "###### ___commaCode.py___"
   ]
  },
  {
   "cell_type": "code",
   "execution_count": 1,
   "metadata": {},
   "outputs": [
    {
     "name": "stdout",
     "output_type": "stream",
     "text": [
      "apples, bananas, tofu,  and cats\n",
      "None\n"
     ]
    }
   ],
   "source": [
    "def listWithComma(list):\n",
    "    listStr = ''\n",
    "    for i in list:\n",
    "        if list[len(list) - 1] == i:\n",
    "            listStr += ' and ' + i\n",
    "            return listStr\n",
    "        listStr += i + ', '\n",
    "\n",
    "\n",
    "spam = ['apples', 'bananas', 'tofu', 'cats']\n",
    "print(listWithComma(spam))\n",
    "print(listWithComma([]))"
   ]
  },
  {
   "cell_type": "markdown",
   "metadata": {},
   "source": [
    "##### Coin Flip Streaks"
   ]
  },
  {
   "cell_type": "markdown",
   "metadata": {},
   "source": [
    "If you flip a coin 100 times and write down an “H” for each heads and “T” for each tails. Write a program to find out how often a streak of six heads or a streak of six tails comes up in a randomly generated list of heads and tails. Your program breaks up the experiment into two parts: the first part generates a list of randomly selected 'heads' and 'tails' values, and the second part checks if there is a streak in it. Put all of this code in a loop that repeats the experiment 10,000 times so we can find out what percentage of the coin flips contains a streak of six heads or tails in a row."
   ]
  },
  {
   "cell_type": "markdown",
   "metadata": {},
   "source": [
    "###### ___coinFlipStreaks.py___"
   ]
  },
  {
   "cell_type": "code",
   "execution_count": 5,
   "metadata": {},
   "outputs": [
    {
     "name": "stdout",
     "output_type": "stream",
     "text": [
      "Chance of streak: 81.0%\n"
     ]
    }
   ],
   "source": [
    "import random\n",
    "\n",
    "numberOfStreaks = 0\n",
    "numberOfExperiments = 10000\n",
    "\n",
    "for experimentNumber in range(numberOfExperiments):\n",
    "    # Code that creates a list of 100 'heads' or 'tails' values.\n",
    "    headsAndTails = []\n",
    "    for j in range(100):\n",
    "        if random.randint(0, 1)  == 0:\n",
    "            headsAndTails.append('H')\n",
    "        else:\n",
    "            headsAndTails.append('T')\n",
    "\n",
    "    # Code that checks if there is a streak of 6 heads or tails in a row.\n",
    "    timesRepeated = 0\n",
    "    for i in range(1, 100):\n",
    "        if headsAndTails[i] == headsAndTails[i - 1]:\n",
    "            timesRepeated += 1\n",
    "            if timesRepeated == 5:\n",
    "                numberOfStreaks += 1\n",
    "                break\n",
    "        else:\n",
    "            timesRepeated = 0\n",
    "\n",
    "print('Chance of streak: %s%%' % (numberOfStreaks / numberOfExperiments * 100))"
   ]
  },
  {
   "cell_type": "markdown",
   "metadata": {},
   "source": [
    "##### Character Picture Grid"
   ]
  },
  {
   "cell_type": "markdown",
   "metadata": {},
   "source": [
    "Say you have a list of lists where each value in the inner lists is a one-character string, like this:\n",
    "\n",
    "```python\n",
    "grid = [['.', '.', '.', '.', '.', '.'],\n",
    "        ['.', 'O', 'O', '.', '.', '.'],\n",
    "        ['O', 'O', 'O', 'O', '.', '.'],\n",
    "        ['O', 'O', 'O', 'O', 'O', '.'],\n",
    "        ['.', 'O', 'O', 'O', 'O', 'O'],\n",
    "        ['O', 'O', 'O', 'O', 'O', '.'],\n",
    "        ['O', 'O', 'O', 'O', '.', '.'],\n",
    "        ['.', 'O', 'O', '.', '.', '.'],\n",
    "        ['.', '.', '.', '.', '.', '.']]\n",
    "```\n",
    "\n",
    "Think of _grid[x][y]_ as being the character at the x- and y-coordinates of a “picture” drawn with text characters. The _(0, 0)_ origin is in the upper-left corner, the x-coordinates increase going right, and the y-coordinates increase going down.\n",
    "\n",
    "Copy the previous grid value, and write code that uses it to print the image."
   ]
  },
  {
   "cell_type": "markdown",
   "metadata": {},
   "source": [
    "###### ___characterPictureGrid.py___"
   ]
  },
  {
   "cell_type": "code",
   "execution_count": 6,
   "metadata": {},
   "outputs": [
    {
     "name": "stdout",
     "output_type": "stream",
     "text": [
      "..OO.OO..\n",
      ".OOOOOOO.\n",
      ".OOOOOOO.\n",
      "..OOOOO..\n",
      "...OOO...\n",
      "....O....\n"
     ]
    }
   ],
   "source": [
    "grid = [['.', '.', '.', '.', '.', '.'],\n",
    "        ['.', 'O', 'O', '.', '.', '.'],\n",
    "        ['O', 'O', 'O', 'O', '.', '.'],\n",
    "        ['O', 'O', 'O', 'O', 'O', '.'],\n",
    "        ['.', 'O', 'O', 'O', 'O', 'O'],\n",
    "        ['O', 'O', 'O', 'O', 'O', '.'],\n",
    "        ['O', 'O', 'O', 'O', '.', '.'],\n",
    "        ['.', 'O', 'O', '.', '.', '.'],\n",
    "        ['.', '.', '.', '.', '.', '.']]\n",
    "\n",
    "width = 6\n",
    "height = 9\n",
    "\n",
    "for y in range(width):\n",
    "    for x in range(height):\n",
    "        print(grid[x][y], end = '')\n",
    "    print()"
   ]
  },
  {
   "cell_type": "markdown",
   "metadata": {},
   "source": [
    "### Chapter 5: Dictionaries and Structuring Data"
   ]
  },
  {
   "cell_type": "markdown",
   "metadata": {},
   "source": [
    "#### __The Dictionary Data Type__"
   ]
  },
  {
   "cell_type": "markdown",
   "metadata": {},
   "source": [
    "A __dictionary__ is a mutable collection of many values. Indexes for dictionaries are called __keys__, and a key with its associated value is called a __key-value pair__. In code, a dictionary is typed with braces, _{}_.\n",
    "\n",
    "```python\n",
    ">>> myCat = {'size': 'fat', 'color': 'gray', 'disposition': 'loud'}\n",
    "```\n",
    "\n",
    "This assigns a dictionary to the _myCat_ variable. This dictionary’s keys are _'size'_, _'color'_, and _'disposition'_. The values for these keys are _'fat'_, _'gray'_, and _'loud'_, respectively. You can access these values through their keys:\n",
    "\n",
    "```python\n",
    ">>> myCat['size']\n",
    "'fat'\n",
    ">>> 'My cat has ' + myCat['color'] + ' fur.'\n",
    "'My cat has gray fur.'\n",
    "```\n",
    "\n",
    "Dictionaries can still use integer values as keys and can be any number.\n",
    "\n",
    "```python\n",
    ">>> spam = {12345: 'Luggage Combination', 42: 'The Answer'}\n",
    "```"
   ]
  },
  {
   "cell_type": "markdown",
   "metadata": {},
   "source": [
    "##### Dictionaries vs. Lists"
   ]
  },
  {
   "cell_type": "markdown",
   "metadata": {},
   "source": [
    "Unlike lists, items in dictionaries are unordered. While the order of items matters for determining whether two lists are the same, it does not matter in what order the key-value pairs are typed in a dictionary. \n",
    "\n",
    "```python\n",
    ">>> spam = ['cats', 'dogs', 'moose']\n",
    ">>> bacon = ['dogs', 'moose', 'cats']\n",
    ">>> spam == bacon\n",
    "False\n",
    ">>> eggs = {'name': 'Zophie', 'species': 'cat', 'age': '8'}\n",
    ">>> ham = {'species': 'cat', 'age': '8', 'name': 'Zophie'}\n",
    ">>> eggs == ham\n",
    "True\n",
    "```\n",
    "\n",
    "Because dictionaries are not ordered, they can’t be sliced like lists. Though dictionaries are not ordered, the fact that you can have arbitrary values for the keys allows you to organize your data in powerful ways."
   ]
  },
  {
   "cell_type": "markdown",
   "metadata": {},
   "source": [
    "###### ___birthdays.py___"
   ]
  },
  {
   "cell_type": "code",
   "execution_count": 7,
   "metadata": {},
   "outputs": [
    {
     "name": "stdout",
     "output_type": "stream",
     "text": [
      "Enter a name: (blank to quit)\n",
      "Dec 12 is the birthday of Bob\n",
      "Enter a name: (blank to quit)\n",
      "I do not have birthday information for Ana\n",
      "What is their birthday?\n",
      "Birthday database updated.\n",
      "Enter a name: (blank to quit)\n",
      "Dec 21 is the birthday of Ana\n",
      "Enter a name: (blank to quit)\n"
     ]
    }
   ],
   "source": [
    "birthdays = {'Alice': 'Apr 1', 'Bob': 'Dec 12', 'Carol': 'Mar 4'}\n",
    "\n",
    "while True:\n",
    "    print('Enter a name: (blank to quit)')\n",
    "    name = input()\n",
    "    if name == '':\n",
    "        break\n",
    "\n",
    "    if name in birthdays:\n",
    "        print(birthdays[name] + ' is the birthday of ' + name)\n",
    "    else:\n",
    "        print('I do not have birthday information for ' + name)\n",
    "        print('What is their birthday?')\n",
    "        bday = input()\n",
    "        birthdays[name] = bday\n",
    "        print('Birthday database updated.')"
   ]
  },
  {
   "cell_type": "markdown",
   "metadata": {},
   "source": [
    "##### The keys(), values(), and items() Methods"
   ]
  },
  {
   "cell_type": "markdown",
   "metadata": {},
   "source": [
    "There are three dictionary methods that will return list-like values of the dictionary’s keys, values, or both keys and values: _keys()_, _values()_, and _items()_. The values returned by these methods are not true lists, but these data types __can__ be used in _for_ loops.\n",
    "\n",
    "```python\n",
    ">>> spam = {'color': 'red', 'age': 42}\n",
    ">>> for v in spam.values():\n",
    "...     print(v)\n",
    "\n",
    "red\n",
    "42\n",
    "```\n",
    "\n",
    "Here, a _for_ loop iterates over each of the values in the _spam_ dictionary. A _for_ loop can also iterate over the keys or both keys and values:\n",
    "\n",
    "```python\n",
    ">>> for k in spam.keys():\n",
    "...     print(k)\n",
    "\n",
    "color\n",
    "age\n",
    ">>> for i in spam.items():\n",
    "...     print(i)\n",
    "\n",
    "('color', 'red')\n",
    "('age', 42)\n",
    "```\n",
    "\n",
    "Notice that the values in the _dict_items_ value returned by the _items()_ method are tuples of the key and value. You can also use the multiple assignment trick in a for loop to assign the key and value to separate variables.\n",
    "\n",
    "```python\n",
    ">>> spam = {'color': 'red', 'age': 42}\n",
    ">>> for k, v in spam.items():\n",
    "...     print('Key: ' + k + ' Value: ' + str(v))\n",
    "\n",
    "Key: age Value: 42\n",
    "Key: color Value: red\n",
    "```"
   ]
  },
  {
   "cell_type": "markdown",
   "metadata": {},
   "source": [
    "##### Checking Whether a Key or Value Exists in a Dictionary"
   ]
  },
  {
   "cell_type": "markdown",
   "metadata": {},
   "source": [
    "You can also use the _in_ and _not in_ operators to see whether a certain key or value exists in a dictionary. \n",
    "\n",
    "```python\n",
    ">>> spam = {'name': 'Zophie', 'age': 7}\n",
    ">>> 'name' in spam.keys()\n",
    "True\n",
    ">>> 'Zophie' in spam.values()\n",
    "True\n",
    ">>> 'color' in spam.keys()\n",
    "False\n",
    ">>> 'color' not in spam.keys()\n",
    "True\n",
    ">>> 'color' in spam\n",
    "False\n",
    "```"
   ]
  },
  {
   "cell_type": "markdown",
   "metadata": {},
   "source": [
    "##### The get() Method"
   ]
  },
  {
   "cell_type": "markdown",
   "metadata": {},
   "source": [
    "Dictionaries have a get() method that takes two arguments: the key of the value to retrieve and a fallback value to return if that key does not exist.\n",
    "\n",
    "```python\n",
    ">>> picnicItems = {'apples': 5, 'cups': 2}\n",
    ">>> 'I am bringing ' + str(picnicItems.get('cups', 0)) + ' cups.'\n",
    "'I am bringing 2 cups.'\n",
    ">>> 'I am bringing ' + str(picnicItems.get('eggs', 0)) + ' eggs.'\n",
    "'I am bringing 0 eggs.'\n",
    "```\n",
    "\n",
    "Because there is no _'eggs'_ key in the _picnicItems_ dictionary, the default value _0_ is returned by the _get()_ method. Without using _get()_, the code would have caused an error message."
   ]
  },
  {
   "cell_type": "markdown",
   "metadata": {},
   "source": [
    "##### The setdefault() Method"
   ]
  },
  {
   "cell_type": "markdown",
   "metadata": {},
   "source": [
    "You’ll often have to set a value in a dictionary for a certain key only if that key does not already have a value. \n",
    "\n",
    "```python\n",
    "spam = {'name': 'Pooka', 'age': 5}\n",
    "if 'color' not in spam:\n",
    "    spam['color'] = 'black'\n",
    "```\n",
    "\n",
    "The _setdefault()_ method offers a way to do this in one line of code. The first argument passed to the method is the key to check for, and the second argument is the value to set at that key if the key does not exist. If the key does exist, the setdefault() method returns the key’s value. \n",
    "\n",
    "```python\n",
    ">>> spam = {'name': 'Pooka', 'age': 5}\n",
    ">>> spam.setdefault('color', 'black')\n",
    "'black'\n",
    ">>> spam\n",
    "{'color': 'black', 'age': 5, 'name': 'Pooka'}\n",
    ">>> spam.setdefault('color', 'white')\n",
    "'black'\n",
    ">>> spam\n",
    "{'color': 'black', 'age': 5, 'name': 'Pooka'}\n",
    "```"
   ]
  },
  {
   "cell_type": "markdown",
   "metadata": {},
   "source": [
    "###### ___characterCount.py___"
   ]
  },
  {
   "cell_type": "code",
   "execution_count": 8,
   "metadata": {},
   "outputs": [
    {
     "name": "stdout",
     "output_type": "stream",
     "text": [
      "{'I': 1, 't': 6, ' ': 13, 'w': 2, 'a': 4, 's': 3, 'b': 1, 'r': 5, 'i': 6, 'g': 2, 'h': 3, 'c': 3, 'o': 2, 'l': 3, 'd': 3, 'y': 1, 'n': 4, 'A': 1, 'p': 1, ',': 1, 'e': 5, 'k': 2, '.': 1}\n"
     ]
    }
   ],
   "source": [
    "message = 'It was a bright cold day in April, and the clocks were striking thirteen.'\n",
    "count = {}\n",
    "\n",
    "for character in message:\n",
    "    count.setdefault(character, 0)\n",
    "    count[character] = count[character] + 1\n",
    "\n",
    "print(count)"
   ]
  },
  {
   "cell_type": "markdown",
   "metadata": {},
   "source": [
    "#### __Pretty Printing__"
   ]
  },
  {
   "cell_type": "markdown",
   "metadata": {},
   "source": [
    "If you import the _pprint_ module into your programs, you’ll have access to the _pprint()_ and _pformat()_ functions that will “pretty print” a dictionary’s values. The _pprint.pprint()_ function is especially helpful when the dictionary itself contains nested lists or dictionaries.\n",
    "\n",
    "If you want to obtain the prettified text as a string value instead of displaying it on the screen, call _pprint.pformat()_ instead. These two lines are equivalent to each other:\n",
    "\n",
    "```python\n",
    "pprint.pprint(someDictionaryValue)\n",
    "print(pprint.pformat(someDictionaryValue))\n",
    "```"
   ]
  },
  {
   "cell_type": "markdown",
   "metadata": {},
   "source": [
    "###### ___prettyCharacterCount.py___"
   ]
  },
  {
   "cell_type": "code",
   "execution_count": 10,
   "metadata": {},
   "outputs": [
    {
     "name": "stdout",
     "output_type": "stream",
     "text": [
      "{' ': 13,\n",
      " ',': 1,\n",
      " '.': 1,\n",
      " 'A': 1,\n",
      " 'I': 1,\n",
      " 'a': 4,\n",
      " 'b': 1,\n",
      " 'c': 3,\n",
      " 'd': 3,\n",
      " 'e': 5,\n",
      " 'g': 2,\n",
      " 'h': 3,\n",
      " 'i': 6,\n",
      " 'k': 2,\n",
      " 'l': 3,\n",
      " 'n': 4,\n",
      " 'o': 2,\n",
      " 'p': 1,\n",
      " 'r': 5,\n",
      " 's': 3,\n",
      " 't': 6,\n",
      " 'w': 2,\n",
      " 'y': 1}\n"
     ]
    }
   ],
   "source": [
    "import pprint\n",
    "message = 'It was a bright cold day in April, and the clocks were striking thirteen.'\n",
    "count = {}\n",
    "\n",
    "for character in message:\n",
    "    count.setdefault(character, 0)\n",
    "    count[character] = count[character] + 1\n",
    "\n",
    "pprint.pprint(count)"
   ]
  },
  {
   "cell_type": "markdown",
   "metadata": {},
   "source": [
    "#### __Using Data Structures to Model Real-World Things__"
   ]
  },
  {
   "cell_type": "markdown",
   "metadata": {},
   "source": [
    "In __algebraic chess notation__, the spaces on the chessboard are identified by a number and letter coordinate, as in Figure 5-1.\n",
    "\n",
    "_Figure 5-1: The coordinates of a chessboard in algebraic chess notation_\n",
    "\n",
    "![automatetheboringstuff](https://automatetheboringstuff.com/2e/images/000006.jpg)\n",
    "\n",
    "The chess pieces are identified by letters: _K_ for king, _Q_ for queen, _R_ for rook, _B_ for bishop, and _N_ for knight. Describing a move uses the letter of the piece and the coordinates of its destination. A pair of these moves describes what happens in a single turn (with white going first); for instance, the notation _2. Nf3 Nc6_ indicates that white moved a knight to f3 and black moved a knight to c6 on the second turn of the game.\n",
    "\n",
    "This is where lists and dictionaries can come in. For example, the dictionary _{'1h': 'bking', '6c': 'wqueen', '2g': 'bbishop', '5h': 'bqueen', '3e': 'wking'}_ could represent the chess board in Figure 5-2.\n",
    "\n",
    "_Figure 5-2: A chess board modeled by the dictionary '1h': 'bking', '6c': 'wqueen', '2g': 'bbishop', '5h': 'bqueen', '3e': 'wking'}_\n",
    "\n",
    "![automatetheboringstuff](https://automatetheboringstuff.com/2e/images/000101.jpg)"
   ]
  },
  {
   "cell_type": "markdown",
   "metadata": {},
   "source": [
    "##### A Tic-Tac-Toe Board"
   ]
  },
  {
   "cell_type": "markdown",
   "metadata": {},
   "source": [
    "To represent a tic-tac-toe board with a dictionary, you can assign each slot a string-value key, as shown in Figure 5-3.\n",
    "\n",
    "_Figure 5-3: The slots of a tic-tac-toe board with their corresponding keys_\n",
    "\n",
    "![automatetheboringstuff](https://automatetheboringstuff.com/2e/images/000048.jpg)\n",
    "\n",
    "You can use string values to represent what’s in each slot on the board: _'X'_, _'O'_, or _' '_. Thus, you’ll need to store nine strings. The string value with the key _'top-R'_ can represent the top-right corner, the string value with the key _'low-L'_ can represent the bottom-left corner, the string value with the key _'mid-M'_ can represent the middle, and so on.\n",
    "\n",
    "This dictionary is a data structure that represents a tic-tac-toe board. This isn’t a complete tic-tac-toe game—for instance, it doesn’t ever check whether a player has won—but it’s enough to see how data structures can be used in programs."
   ]
  },
  {
   "cell_type": "markdown",
   "metadata": {},
   "source": [
    "###### ___ticTacToe.py___"
   ]
  },
  {
   "cell_type": "code",
   "execution_count": 11,
   "metadata": {},
   "outputs": [
    {
     "name": "stdout",
     "output_type": "stream",
     "text": [
      " | | \n",
      "-+-+-\n",
      " | | \n",
      "-+-+-\n",
      " | | \n",
      "Turn for X. Move on which space?\n",
      " | |X\n",
      "-+-+-\n",
      " | | \n",
      "-+-+-\n",
      " | | \n",
      "Turn for O. Move on which space?\n"
     ]
    },
    {
     "ename": "",
     "evalue": "",
     "output_type": "error",
     "traceback": [
      "\u001b[1;31mThe Kernel crashed while executing code in the current cell or a previous cell. \n",
      "\u001b[1;31mPlease review the code in the cell(s) to identify a possible cause of the failure. \n",
      "\u001b[1;31mClick <a href='https://aka.ms/vscodeJupyterKernelCrash'>here</a> for more info. \n",
      "\u001b[1;31mView Jupyter <a href='command:jupyter.viewOutput'>log</a> for further details."
     ]
    }
   ],
   "source": [
    "theBoard = {'top-L': ' ', 'top-M': ' ', 'top-R': ' ',\n",
    "            'mid-L': ' ', 'mid-M': ' ', 'mid-R': ' ',\n",
    "            'low-L': ' ', 'low-M': ' ', 'low-R': ' '}\n",
    "\n",
    "def printBoard(board):\n",
    "    print(board['top-L'] + '|' + board['top-M'] + '|' + board['top-R'])\n",
    "    print('-+-+-')\n",
    "    print(board['mid-L'] + '|' + board['mid-M'] + '|' + board['mid-R'])\n",
    "    print('-+-+-')\n",
    "    print(board['low-L'] + '|' + board['low-M'] + '|' + board['low-R'])\n",
    "\n",
    "turn = 'X'\n",
    "for i in range(9):\n",
    "    printBoard(theBoard)\n",
    "    print('Turn for ' + turn + '. Move on which space?')\n",
    "    move = input()\n",
    "    theBoard[move] = turn\n",
    "    if turn == 'X':\n",
    "        turn = 'O'\n",
    "    else:\n",
    "        turn = 'X'\n",
    "\n",
    "printBoard(theBoard)"
   ]
  },
  {
   "cell_type": "markdown",
   "metadata": {},
   "source": [
    "##### Nested Dictionaries and Lists"
   ]
  },
  {
   "cell_type": "markdown",
   "metadata": {},
   "source": [
    "You may find you need dictionaries and lists that contain other dictionaries and lists. Lists are useful to contain an ordered series of values, and dictionaries are useful for associating keys with values. For example, here’s a program that uses a dictionary that contains other dictionaries of what items guests are bringing to a picnic. The _totalBrought()_ function can read this data structure and calculate the total number of an item being brought by all the guests."
   ]
  },
  {
   "cell_type": "code",
   "execution_count": 3,
   "metadata": {},
   "outputs": [
    {
     "name": "stdout",
     "output_type": "stream",
     "text": [
      "Number of things being brought:\n",
      " - Apples         5\n",
      " - Cups           0\n",
      " - Cakes          0\n",
      " - Ham Sandwiches 0\n",
      " - Apple Pies     0\n"
     ]
    }
   ],
   "source": [
    "allGuests = {'Alice': {'apples': 5, 'pretzels': 12},\n",
    "             'Bob': {'ham sandwiches': 3, 'apples': 2},\n",
    "             'Carol': {'cups': 3, 'apple pies': 1}}\n",
    "\n",
    "def totalBrought(guests, item):\n",
    "  numBrought = 0\n",
    "  for k, v in guests.items():\n",
    "    numBrought = numBrought + v.get(item, 0)\n",
    "    return numBrought\n",
    "\n",
    "print('Number of things being brought:')\n",
    "print(' - Apples         ' + str(totalBrought(allGuests, 'apples')))\n",
    "print(' - Cups           ' + str(totalBrought(allGuests, 'cups')))\n",
    "print(' - Cakes          ' + str(totalBrought(allGuests, 'cakes')))\n",
    "print(' - Ham Sandwiches ' + str(totalBrought(allGuests, 'ham sandwiches')))\n",
    "print(' - Apple Pies     ' + str(totalBrought(allGuests, 'apple pies')))"
   ]
  },
  {
   "cell_type": "markdown",
   "metadata": {},
   "source": [
    "Inside the loop, the string of the guest’s name is assigned to _k_, and the dictionary of picnic items they’re bringing is assigned to _v_. If the item parameter exists as a key in this dictionary, its value is added to _numBrought_. If it does not exist as a key, the _get()_ method returns _0_ to be added to _numBrought_.\n",
    "\n",
    "This _totalBrought()_ function could easily handle a dictionary that contains thousands of guests, each bringing thousands of different picnic items. You can model things with data structures in whatever way you like, as long as the rest of the code in your program can work with the data model correctly. "
   ]
  },
  {
   "cell_type": "markdown",
   "metadata": {},
   "source": [
    "#### ___My answers to the practice questions___"
   ]
  },
  {
   "cell_type": "markdown",
   "metadata": {},
   "source": [
    "1. _{}_\n",
    "2. _{'foo': 42}_\n",
    "3. A dictionary doesn't follow an order, while lists do. \n",
    "4. It will give you a _keyerror_.\n",
    "5. None, both look for 'cat' in the dictiory's keys.\n",
    "6. _spam.values()_ will look for 'cat' in the dictionary values while just _spam_ means that it will look for it in the keys. \n",
    "7. _spam.setdefault('color': 'black')_\n",
    "8. _pprint.pprint()_"
   ]
  },
  {
   "cell_type": "markdown",
   "metadata": {},
   "source": [
    "#### ___Practice Projects___"
   ]
  },
  {
   "cell_type": "markdown",
   "metadata": {},
   "source": [
    "##### Chess Dictionary Validator"
   ]
  },
  {
   "cell_type": "markdown",
   "metadata": {},
   "source": [
    "A function, named _isValidChessBoard()_, takes a dictionary argument and returns _True_ or _False_ depending on if the board is valid. A valid board will have exactly one black king and exactly one white king. Each player can only have at most 16 pieces, at most 8 pawns, and all pieces must be on a valid space from _'1a'_ to _'8h'_. The piece names begin with either a _'w'_ or _'b'_ to represent white or black, followed by _'pawn', 'knight', 'bishop', 'rook', 'queen',_ or _'king'_. This function should detect when a bug has resulted in an improper chess board."
   ]
  },
  {
   "cell_type": "markdown",
   "metadata": {},
   "source": [
    "###### ___chessDictionaryValidator.py___"
   ]
  },
  {
   "cell_type": "code",
   "execution_count": 8,
   "metadata": {},
   "outputs": [
    {
     "name": "stdout",
     "output_type": "stream",
     "text": [
      "True 1\n",
      "False 2\n",
      "False 3\n",
      "False 4\n",
      "False 5\n",
      "True 6\n",
      "False 7\n",
      "False 8\n",
      "True 9\n",
      "False 10\n",
      "False 11\n",
      "False 12\n",
      "True 13\n"
     ]
    }
   ],
   "source": [
    "def isValidChessBoard(chessBoard):\n",
    "    piece_count = {\n",
    "        'bking': 0, 'wking': 0,\n",
    "        'bpawn': 0, 'wpawn': 0,\n",
    "        'b': 0, 'w': 0\n",
    "    }\n",
    "    valid_pieces = ['king', 'pawn', 'knight', 'bishop', 'rook', 'queen']\n",
    "    valid_x_spaces = ['a', 'b', 'c', 'd', 'e', 'f', 'g', 'h']\n",
    "    valid_y_spaces = ['1', '2', '3', '4', '5', '6', '7', '8']\n",
    "\n",
    "    for position, piece in chessBoard.items():\n",
    "        if not (position[0] in valid_y_spaces and position[1:] in valid_x_spaces):\n",
    "            return False    # Spaces range from '1' to '8' and 'a' to 'h'\n",
    "        \n",
    "        if piece[0] not in 'bw' or piece[1:] not in valid_pieces:\n",
    "            return False     # Piece name is valid\n",
    "        \n",
    "        piece_count[piece] = piece_count.get(piece, 0) + 1\n",
    "        piece_count[piece[0]] += 1\n",
    "\n",
    "        if piece in ['bking', 'wking'] and piece_count[piece] > 1:\n",
    "            return False  # There's onnly one king for each player\n",
    "        if piece in ['bpawn', 'wpawn'] and piece_count[piece] > 8:\n",
    "            return False    # At most 8 pawns for each player\n",
    "        if piece_count[piece[0]] > 16:\n",
    "            return False    # At most 16 pieces for each player\n",
    "\n",
    "    return piece_count['bking'] == 1 and piece_count['wking'] == 1\n",
    "\n",
    "\n",
    "# Test Cases\n",
    "chessBoard_1 = {'1h': 'bking', '6c': 'wqueen', '2g': 'bbishop', '5h': 'bqueen', '3e': 'wking'}\n",
    "print(str(isValidChessBoard(chessBoard_1)) + ' 1')\n",
    "chessBoard_2 = {'1h': 'bking', '2h': 'bking', '6c': 'wqueen', '2g': 'bbishop', '5h': 'bqueen', '3e': 'wking'}\n",
    "print(str(isValidChessBoard(chessBoard_2)) + ' 2')  # Two bkings\n",
    "chessBoard_3 = {'1z': 'bking', '6c': 'wqueen', '2g': 'bbishop', '5h': 'bqueen', '3e': 'wking'}\n",
    "print(str(isValidChessBoard(chessBoard_3)) + ' 3')  # 'z' out of range\n",
    "chessBoard_4 = {'1h': 'bking', '6c': 'wqueen', '9g': 'bbishop', '5h': 'bqueen', '3e': 'wking'}\n",
    "print(str(isValidChessBoard(chessBoard_4)) + ' 4')   # '9' out of range\n",
    "chessBoard_5 = {'1h': 'bking', '61c': 'wqueen', '2g': 'bbishop', '5h': 'bqueen', '3e': 'wking'}\n",
    "print(str(isValidChessBoard(chessBoard_5)) + ' 5')   # '61' out of range\n",
    "chessBoard_6 = {'1h': 'bking', '6c': 'wqueen', '2g': 'wknight', '5h': 'brook', '3e': 'wking'}\n",
    "print(str(isValidChessBoard(chessBoard_6)) + ' 6')   # brook and wknight are considered\n",
    "chessBoard_7 = {'6c': 'wqueen', '2g': 'bbishop', '5h': 'bqueen', '3e': 'wking'}\n",
    "print(str(isValidChessBoard(chessBoard_7)) + ' 7')   # No bking\n",
    "chessBoard_8 = {'1h': 'bking', '8g': 'bpawn', '7g': 'bpawn', '8f': 'bpawn', '6g': 'bpawn', '5g': 'bpawn', '4g': 'bpawn', '3g': 'bpawn', '2g': 'bpawn', '1g': 'bpawn', '3e': 'wking'}\n",
    "print(str(isValidChessBoard(chessBoard_8)) + ' 8') # More pawns than allowed\n",
    "chessBoard_9 = {'1h': 'bking', '7g': 'bpawn', '8f': 'bpawn', '6g': 'bpawn', '5g': 'bpawn', '4g': 'bpawn', '3g': 'bpawn', '2g': 'bpawn', '1g': 'bpawn', '3e': 'wking'}\n",
    "print(str(isValidChessBoard(chessBoard_9)) + ' 9')  # 8 pawns\n",
    "chessBoard_10 = {'1h': 'zking', '2g': 'bbishop', '5h': 'bqueen', '3e': 'wking'}\n",
    "print(str(isValidChessBoard(chessBoard_10)) + ' 10') # 'zking' doesn't belong to neither player\n",
    "chessBoard_11 = {'1h': 'bking', '6c': 'wquen', '2g': 'wknight', '5h': 'brook', '3e': 'wking'}\n",
    "print(str(isValidChessBoard(chessBoard_11)) + ' 11')   # 'wquen' is not a valid name of piece\n",
    "chessBoard_12 = {'1h': 'bking', '7g': 'wpawn', '8g': 'wpawn', '6g': 'wpawn', '5g': 'wpawn', '4g': 'wpawn', '3g': 'wpawn', '2g': 'wpawn', '1g': 'wpawn',  '2a': 'wknight',  '2b': 'wbishop',  '2c': 'wrook',  '2d': 'wqueen',  '2e': 'wknight',  '2f': 'wbishop',  '2h': 'wrook',   '7h': 'wrook', '3e': 'wking'}\n",
    "print(str(isValidChessBoard(chessBoard_12)) + ' 12')  # More pieces than allowed\n",
    "chessBoard_13 = {'1h': 'bking', '7g': 'wpawn', '8g': 'wpawn', '6g': 'wpawn', '5g': 'wpawn', '4g': 'wpawn', '3g': 'wpawn', '2g': 'wpawn', '1g': 'wpawn',  '2a': 'wknight',  '2b': 'wbishop',  '2c': 'wrook',  '2d': 'wqueen',  '2e': 'wknight',  '2f': 'wbishop',  '2h': 'wrook', '3e': 'wking'}\n",
    "print(str(isValidChessBoard(chessBoard_13)) + ' 13')  # 16 pieces"
   ]
  },
  {
   "cell_type": "markdown",
   "metadata": {},
   "source": [
    "##### Fantasy Game Inventory"
   ]
  },
  {
   "cell_type": "markdown",
   "metadata": {},
   "source": [
    "In a fantasy video game, the data structure to model the player’s inventory will be a dictionary where the keys are string values describing the item in the inventory and the value is an integer value detailing how many of that item the player has. For example, the dictionary value _{'rope': 1, 'torch': 6, 'gold coin': 42, 'dagger': 1, 'arrow': 12}_ means the player has 1 rope, 6 torches, 42 gold coins, and so on."
   ]
  },
  {
   "cell_type": "markdown",
   "metadata": {},
   "source": [
    "##### List to Dictionary Function for Fantasy Game Inventory"
   ]
  },
  {
   "cell_type": "markdown",
   "metadata": {},
   "source": [
    "A function named _addToInventory(inventory, addedItems)_, where the _inventory_ parameter is a dictionary representing the player’s inventory and the _addedItems_ parameter is a list. The _addToInventory()_ function should return a dictionary that represents the updated inventory. Note that the _addedItems_ list can contain multiples of the same item."
   ]
  },
  {
   "cell_type": "markdown",
   "metadata": {},
   "source": [
    "###### ___fantasyGameInventory.py___"
   ]
  },
  {
   "cell_type": "code",
   "execution_count": 12,
   "metadata": {},
   "outputs": [
    {
     "name": "stdout",
     "output_type": "stream",
     "text": [
      "Inventory:\n",
      "1 rope\n",
      "6 torch\n",
      "45 gold coin\n",
      "2 dagger\n",
      "12 arrow\n",
      "1 ruby\n",
      "Total number of items: 6\n"
     ]
    },
    {
     "ename": "",
     "evalue": "",
     "output_type": "error",
     "traceback": [
      "\u001b[1;31mThe Kernel crashed while executing code in the current cell or a previous cell. \n",
      "\u001b[1;31mPlease review the code in the cell(s) to identify a possible cause of the failure. \n",
      "\u001b[1;31mClick <a href='https://aka.ms/vscodeJupyterKernelCrash'>here</a> for more info. \n",
      "\u001b[1;31mView Jupyter <a href='command:jupyter.viewOutput'>log</a> for further details."
     ]
    }
   ],
   "source": [
    "def displayInventory(inventory):\n",
    "    items_count = 0\n",
    "    print('Inventory:')\n",
    "    for item, quantity in inventory.items():\n",
    "        print(str(quantity) + ' ' + item)\n",
    "        items_count += 1\n",
    "    print('Total number of items: ' + str(items_count))\n",
    "\n",
    "def addToInventory(inventory, addedItems):\n",
    "    for added_item in addedItems:\n",
    "        inventory[added_item] = inventory.get(added_item, 0) + 1\n",
    "    return inventory\n",
    "\n",
    "inventory_1 = {'rope': 1, 'torch': 6, 'gold coin': 42, 'dagger': 1, 'arrow': 12}\n",
    "dragonLoot = ['gold coin', 'dagger', 'gold coin', 'gold coin', 'ruby']\n",
    "inventory_1 = addToInventory(inventory_1, dragonLoot)\n",
    "displayInventory(inventory_1)"
   ]
  },
  {
   "cell_type": "markdown",
   "metadata": {},
   "source": [
    "### Chapter 6: Manipulating Strings"
   ]
  },
  {
   "cell_type": "markdown",
   "metadata": {},
   "source": [
    "#### __Working with Strings__"
   ]
  },
  {
   "cell_type": "markdown",
   "metadata": {},
   "source": [
    "##### Double Quotes"
   ]
  },
  {
   "cell_type": "markdown",
   "metadata": {},
   "source": [
    "Strings can begin and end with double quotes, just as they do with single quotes. One benefit of using double quotes is that the string can have a single quote character in it.\n",
    "\n",
    "```python\n",
    ">>> spam = \"That is Alice's cat.\"\n",
    "```"
   ]
  },
  {
   "cell_type": "markdown",
   "metadata": {},
   "source": [
    "##### Escape Characters"
   ]
  },
  {
   "cell_type": "markdown",
   "metadata": {},
   "source": [
    "An __escape character__ lets you use characters that are otherwise impossible to put into a string. An escape character consists of a backslash (\\) followed by the character you want to add to the string. You can use this inside a string that begins and ends with single quotes. \n",
    "\n",
    "```python\n",
    ">>> spam = 'Say hi to Bob\\'s mother.'\n",
    "```\n",
    "\n",
    "Python knows that since the single quote in _Bob\\'s_ has a backslash, it is not a single quote meant to end the string value.\n",
    "\n",
    "\n",
    "_Table 6-1: Escape Characters_\n",
    "|__Escape character__ |__Prints as__ |\n",
    "|---------------------|--------------|\n",
    "|_\\'_                 |_Single quote_ |\n",
    "|_\\\"_                 |_Double quote_ |\n",
    "|_\\t_                 |_Tab_         |\n",
    "|_\\n_                 |_Newline (line break)_ |\n",
    "|\\\\\\                  |_Backslash_   |\n",
    "\n",
    "```python\n",
    ">>> print(\"Hello there!\\nHow are you?\\nI\\'m doing fine.\")\n",
    "Hello there!\n",
    "How are you?\n",
    "I'm doing fine."
   ]
  },
  {
   "cell_type": "markdown",
   "metadata": {},
   "source": [
    "##### Raw Strings"
   ]
  },
  {
   "cell_type": "markdown",
   "metadata": {},
   "source": [
    "You can place an _r_ before the beginning quotation mark of a string to make it a raw string. A __raw string__ completely ignores all escape characters and prints any backslash that appears in the string.\n",
    "\n",
    "```python\n",
    ">>> print(r'That is Carol\\'s cat.')\n",
    "That is Carol\\'s cat.\n",
    "```\n",
    "\n",
    "Raw strings are helpful if you are typing string values that contain many backslashes, such as the strings used for Windows file paths like _r'C:\\Users\\Al\\Desktop'_ or regular expressions described in the next chapter."
   ]
  },
  {
   "cell_type": "markdown",
   "metadata": {},
   "source": [
    "##### Multiline Strings with Triple Quotes"
   ]
  },
  {
   "cell_type": "markdown",
   "metadata": {},
   "source": [
    "A multiline string in Python begins and ends with either three single quotes or three double quotes. Any quotes, tabs, or newlines in between the “triple quotes” are considered part of the string. Python’s indentation rules for blocks do not apply to lines inside a multiline string."
   ]
  },
  {
   "cell_type": "markdown",
   "metadata": {},
   "source": [
    "###### ___catnapping.py___"
   ]
  },
  {
   "cell_type": "code",
   "execution_count": 3,
   "metadata": {},
   "outputs": [
    {
     "name": "stdout",
     "output_type": "stream",
     "text": [
      "Dear Alice,\n",
      "\n",
      "Eve's cat has been arrested for catnapping, cat burglary, and extortion.\n",
      "\n",
      "Sincerely,\n",
      "Bob\n",
      "Dear Alice,\n",
      "\n",
      "Eve's cat has been arrested for catnapping, cat burglary, and extortion.\n",
      "\n",
      "Sincerely,\n",
      "Bob\n"
     ]
    }
   ],
   "source": [
    "print('''Dear Alice,\n",
    "\n",
    "Eve's cat has been arrested for catnapping, cat burglary, and extortion.\n",
    "\n",
    "Sincerely,\n",
    "Bob''')\n",
    "\n",
    "print('Dear Alice,\\n\\nEve\\'s cat has been arrested for catnapping, cat burglary, and extortion.\\n\\nSincerely,\\nBob')"
   ]
  },
  {
   "cell_type": "markdown",
   "metadata": {},
   "source": [
    "##### Multiline Comments"
   ]
  },
  {
   "cell_type": "markdown",
   "metadata": {},
   "source": [
    "A multiline string is often used for comments that span multiple lines.\n",
    "\n",
    "```python\n",
    "\"\"\"This is a test Python program.\n",
    "Written by Al Sweigart al@inventwithpython.com\n",
    "\n",
    "This program was designed for Python 3, not Python 2.\n",
    "\"\"\"\n",
    "\n",
    "def spam():\n",
    "    \"\"\"This is a multiline comment to help\n",
    "    explain what the spam() function does.\"\"\"\n",
    "    print('Hello!')"
   ]
  },
  {
   "cell_type": "markdown",
   "metadata": {},
   "source": [
    "##### Indexing and Slicing Strings"
   ]
  },
  {
   "cell_type": "markdown",
   "metadata": {},
   "source": [
    "Strings use indexes and slices the same way lists do. \n",
    "\n",
    "```python\n",
    "'   H   e   l   l   o   ,       w   o   r   l    d    !   '\n",
    "    0   1   2   3   4   5   6   7   8   9   10   11   12\n",
    "\n",
    ">>> spam = 'Hello, world!'\n",
    ">>> spam[0]\n",
    "'H'\n",
    ">>> spam[4]\n",
    "'o'\n",
    ">>> spam[-1]\n",
    "'!'\n",
    ">>> spam[0:5]\n",
    "'Hello'\n",
    ">>> spam[:5]\n",
    "'Hello'\n",
    ">>> spam[7:]\n",
    "'world!'\n",
    "```\n",
    "\n",
    "Note that slicing a string does not modify the original string. You can capture a slice from one variable in a separate variable. Try entering the following into the interactive shell:\n",
    "\n",
    "```python\n",
    ">>> spam = 'Hello, world!'\n",
    ">>> fizz = spam[0:5]\n",
    ">>> fizz\n",
    "'Hello'\n",
    "```\n",
    "\n",
    "By slicing and storing the resulting substring in another variable, you can have both the whole string and the substring handy for quick, easy access."
   ]
  },
  {
   "cell_type": "markdown",
   "metadata": {},
   "source": [
    "##### The in and not in Operators with Strings"
   ]
  },
  {
   "cell_type": "markdown",
   "metadata": {},
   "source": [
    "The _in_ and _not in_ operators can be used with strings just like with list values. These expressions test whether the first string can be found within the second string.\n",
    "\n",
    "```python\n",
    ">>> 'Hello' in 'Hello, World'\n",
    "True\n",
    ">>> 'Hello' in 'Hello'\n",
    "True\n",
    ">>> 'HELLO' in 'Hello, World'\n",
    "False\n",
    ">>> '' in 'spam'\n",
    "True\n",
    ">>> 'cats' not in 'cats and dogs'\n",
    "False"
   ]
  },
  {
   "cell_type": "markdown",
   "metadata": {},
   "source": [
    "##### Putting Strings Inside Other Strings"
   ]
  },
  {
   "cell_type": "markdown",
   "metadata": {},
   "source": [
    "__String interpolation__ is where the _%s_ operator inside the string acts as a marker to be replaced by values following the string. One benefit of string interpolation is that _str()_ doesn’t have to be called to convert values to strings. \n",
    "\n",
    "```python\n",
    ">>> name = 'Al'\n",
    ">>> age = 4000\n",
    ">>> 'My name is %s. I am %s years old.' % (name, age)\n",
    "'My name is Al. I am 4000 years old.'\n",
    "```\n",
    "\n",
    "Python 3.6 introduced __f-strings__, which is similar to string interpolation except that braces are used instead of _%s_, with the expressions placed directly inside the braces. Like raw strings, f-strings have an f prefix before the starting quotation mark. \n",
    "\n",
    "```python\n",
    ">>> name = 'Al'\n",
    ">>> age = 4000\n",
    ">>> f'My name is {name}. Next year I will be {age + 1}.'\n",
    "'My name is Al. Next year I will be 4001.'\n",
    "```"
   ]
  },
  {
   "cell_type": "markdown",
   "metadata": {},
   "source": [
    "#### __Useful String Methods__"
   ]
  },
  {
   "cell_type": "markdown",
   "metadata": {},
   "source": [
    "##### The upper(), lower(), isupper(), and islower() Methods"
   ]
  },
  {
   "cell_type": "markdown",
   "metadata": {},
   "source": [
    "The _upper()_ and _lower()_ string methods return a new string where all the letters in the original string have been converted to uppercase or lowercase, respectively. \n",
    "\n",
    "```python\n",
    ">>> spam = 'Hello, world!'\n",
    ">>> spam = spam.upper()\n",
    ">>> spam\n",
    "'HELLO, WORLD!'\n",
    ">>> spam = spam.lower()\n",
    ">>> spam\n",
    "'hello, world!'\n",
    "```\n",
    "\n",
    "Note that these methods do not change the string itself but return new string values. The _upper()_ and _lower()_ methods are helpful if you need to make a case-insensitive comparison. \n",
    "\n",
    "```python\n",
    "print('How are you?')\n",
    "feeling = input()\n",
    "if feeling.lower() == 'great':\n",
    "    print('I feel great too.')\n",
    "else:\n",
    "    print('I hope the rest of your day is good.')\n",
    "\n",
    "How are you?\n",
    "GREat\n",
    "I feel great too.\n",
    "```\n",
    "\n",
    "The _isupper()_ and _islower()_ methods will return a Boolean _True_ value if the string has at least one letter and all the letters are uppercase or lowercase, respectively. Otherwise, the method returns _False_.\n",
    "\n",
    "```python\n",
    ">>> spam = 'Hello, world!'\n",
    ">>> spam.islower()\n",
    "False\n",
    ">>> spam.isupper()\n",
    "False\n",
    ">>> 'HELLO'.isupper()\n",
    "True\n",
    ">>> 'abc12345'.islower()\n",
    "True\n",
    ">>> '12345'.islower()\n",
    "False\n",
    ">>> '12345'.isupper()\n",
    "False\n",
    "```\n",
    "\n",
    "Since the _upper()_ and _lower()_ string methods themselves return strings, you can call string methods on __those__ returned string values as well. Expressions that do this will look like a chain of method calls. \n",
    "\n",
    "```python\n",
    ">>> 'Hello'.upper()\n",
    "'HELLO'\n",
    ">>> 'Hello'.upper().lower()\n",
    "'hello'\n",
    ">>> 'Hello'.upper().lower().upper()\n",
    "'HELLO'\n",
    ">>> 'HELLO'.lower()\n",
    "'hello'\n",
    ">>> 'HELLO'.lower().islower()\n",
    "True"
   ]
  },
  {
   "cell_type": "markdown",
   "metadata": {},
   "source": [
    "##### The isX() Methods"
   ]
  },
  {
   "cell_type": "markdown",
   "metadata": {},
   "source": [
    "The _isX_ string methods return a Boolean value that describes the nature of the string. Here are some of the most common:\n",
    "\n",
    "- _isalpha()_ Returns _True_ if the string consists only of letters and isn’t blank\n",
    "- _isalnum()_ Returns _True_ if the string consists only of letters and numbers and is not blank\n",
    "- _isdecimal()_ Returns _True_ if the string consists only of numeric characters and is not blank\n",
    "- _isspace()_ Returns _True_ if the string consists only of spaces, tabs, and newlines and is not blank\n",
    "- _istitle()_ Returns _True_ if the string consists only of words that begin with an uppercase letter followed by only lowercase letters\n",
    "\n",
    "```python\n",
    ">>> 'hello'.isalpha()\n",
    "True\n",
    ">>> 'hello123'.isalpha()\n",
    "False\n",
    ">>> 'hello123'.isalnum()\n",
    "True\n",
    ">>> 'hello'.isalnum()\n",
    "True\n",
    ">>> '123'.isdecimal()\n",
    "True\n",
    ">>> '    '.isspace()\n",
    "True\n",
    ">>> 'This Is Title Case'.istitle()\n",
    "True\n",
    ">>> 'This Is Title Case 123'.istitle()\n",
    "True\n",
    ">>> 'This Is not Title Case'.istitle()\n",
    "False\n",
    ">>> 'This Is NOT Title Case Either'.istitle()\n",
    "False\n",
    "```"
   ]
  },
  {
   "cell_type": "markdown",
   "metadata": {},
   "source": [
    "###### ___validateInput.py___"
   ]
  },
  {
   "cell_type": "code",
   "execution_count": 4,
   "metadata": {},
   "outputs": [
    {
     "name": "stdout",
     "output_type": "stream",
     "text": [
      "Enter your age:\n",
      "Select a new password (letters and numbers only):\n"
     ]
    }
   ],
   "source": [
    "while True:\n",
    "    print('Enter your age:')\n",
    "    age = input()\n",
    "    if age.isdecimal():\n",
    "        break\n",
    "    print('Please enter a number for your age.')\n",
    "\n",
    "while True:\n",
    "    print('Select a new password (letters and numbers only):')\n",
    "    password = input()\n",
    "    if password.isalnum():\n",
    "        break\n",
    "    print('Passwords can only have letters and numbers.')"
   ]
  },
  {
   "cell_type": "markdown",
   "metadata": {},
   "source": [
    "##### The startswith() and endswith() Methods"
   ]
  },
  {
   "cell_type": "markdown",
   "metadata": {},
   "source": [
    "The _startswith()_ and _endswith()_ methods return _True_ if the string value they are called on begins or ends (respectively) with the string passed to the method\n",
    "\n",
    "```python\n",
    ">>> 'Hello, world!'.startswith('Hello')\n",
    "True\n",
    ">>> 'Hello, world!'.endswith('world!')\n",
    "True\n",
    ">>> 'abc123'.startswith('abcdef')\n",
    "False\n",
    ">>> 'abc123'.endswith('12')\n",
    "False\n",
    ">>> 'Hello, world!'.startswith('Hello, world!')\n",
    "True\n",
    ">>> 'Hello, world!'.endswith('Hello, world!')\n",
    "True\n",
    "```"
   ]
  },
  {
   "cell_type": "markdown",
   "metadata": {},
   "source": [
    "##### The join() and split() Methods"
   ]
  },
  {
   "cell_type": "markdown",
   "metadata": {},
   "source": [
    "The _join()_ method is useful when you have a list of strings that need to be joined together into a single string value. It's called on a string, gets passed a list of strings, and returns a string. \n",
    "\n",
    "```python\n",
    ">>> ', '.join(['cats', 'rats', 'bats'])\n",
    "'cats, rats, bats'\n",
    ">>> ' '.join(['My', 'name', 'is', 'Simon'])\n",
    "'My name is Simon'\n",
    ">>> 'ABC'.join(['My', 'name', 'is', 'Simon'])\n",
    "'MyABCnameABCisABCSimon'\n",
    "```\n",
    "\n",
    "Remember that _join()_ is called on a string value and is passed a list value. (It’s easy to accidentally call it the other way around.) The _split()_ method does the opposite: It’s called on a string value and returns a list of strings.\n",
    "\n",
    "```python\n",
    ">>> 'My name is Simon'.split()\n",
    "['My', 'name', 'is', 'Simon']\n",
    "\n",
    ">>> 'MyABCnameABCisABCSimon'.split('ABC')\n",
    "['My', 'name', 'is', 'Simon']\n",
    ">>> 'My name is Simon'.split('m')\n",
    "['My na', 'e is Si', 'on']\n",
    "\n",
    ">>> spam = '''Dear Alice,\n",
    "How have you been? I am fine.\n",
    "There is a container in the fridge\n",
    "that is labeled \"Milk Experiment.\"\n",
    "\n",
    "Please do not drink it.\n",
    "Sincerely,\n",
    "Bob'''\n",
    ">>> spam.split('\\n')\n",
    "['Dear Alice,', 'How have you been? I am fine.', 'There is a container in the\n",
    "fridge', 'that is labeled \"Milk Experiment.\"', '', 'Please do not drink it.',\n",
    "'Sincerely,', 'Bob']"
   ]
  },
  {
   "cell_type": "markdown",
   "metadata": {},
   "source": [
    "##### Splitting Strings with the partition() Method"
   ]
  },
  {
   "cell_type": "markdown",
   "metadata": {},
   "source": [
    "The _partition()_ string method can split a string into the text before and after a separator string. This method searches the string it is called on for the separator string it is passed, and returns a tuple of three substrings for the “before,” “separator,” and “after” substrings. \n",
    "\n",
    "```python\n",
    ">>> 'Hello, world!'.partition('w')\n",
    "('Hello, ', 'w', 'orld!')\n",
    ">>> 'Hello, world!'.partition('world')\n",
    "('Hello, ', 'world', '!')\n",
    "```\n",
    "\n",
    "If the separator string you pass to _partition()_ occurs multiple times in the string, the method splits the string only on the first occurrence:\n",
    "\n",
    "```python\n",
    ">>> 'Hello, world!'.partition('o')\n",
    "('Hell', 'o', ', world!')\n",
    "```\n",
    "\n",
    "If the separator string can’t be found, the first string returned in the tuple will be the entire string, and the other two strings will be empty:\n",
    "\n",
    "```python\n",
    ">>> 'Hello, world!'.partition('XYZ')\n",
    "('Hello, world!', '', '')\n",
    "```\n",
    "\n",
    "You can use the multiple assignment trick to assign the three returned strings to three variables:\n",
    "\n",
    "```python\n",
    ">>> before, sep, after = 'Hello, world!'.partition(' ')\n",
    ">>> before\n",
    "'Hello,'\n",
    ">>> after\n",
    "'world!'"
   ]
  },
  {
   "cell_type": "markdown",
   "metadata": {},
   "source": [
    "##### Justifying Text with the rjust(), ljust(), and center() Methods"
   ]
  },
  {
   "cell_type": "markdown",
   "metadata": {},
   "source": [
    "The _rjust()_ and _ljust()_ string methods return a padded version of the string they are called on, with spaces inserted to justify the text. The first argument to both methods is an integer length for the justified string.\n",
    "\n",
    "```python\n",
    ">>> 'Hello'.rjust(10)\n",
    "'     Hello'\n",
    ">>> 'Hello'.rjust(20)\n",
    "'              Hello'\n",
    ">>> 'Hello, World'.rjust(20)\n",
    "'         Hello, World'\n",
    ">>> 'Hello'.ljust(10)\n",
    "'Hello     '\n",
    "```\n",
    "\n",
    "_'Hello'.rjust(10)_ says that we want to right-justify _'Hello'_ in a string of total length 10. _'Hello'_ is five characters, so five spaces will be added to its left, giving us a string of 10 characters with _'Hello'_ justified right. An optional second argument to _rjust()_ and _ljust()_ will specify a fill character other than a space character. \n",
    "\n",
    "```python\n",
    ">>> 'Hello'.rjust(20, '*')\n",
    "'***************Hello'\n",
    ">>> 'Hello'.ljust(20, '-')\n",
    "'Hello---------------'\n",
    "```\n",
    "\n",
    "The _center()_ string method centers the text.\n",
    "\n",
    "```python\n",
    ">>> 'Hello'.center(20)\n",
    "'       Hello        '\n",
    ">>> 'Hello'.center(20, '=')\n",
    "'=======Hello========'"
   ]
  },
  {
   "cell_type": "markdown",
   "metadata": {},
   "source": [
    "###### ___picnicTable.py___"
   ]
  },
  {
   "cell_type": "code",
   "execution_count": 5,
   "metadata": {},
   "outputs": [
    {
     "name": "stdout",
     "output_type": "stream",
     "text": [
      "---PICNIC ITEMS--\n",
      "sandwiches..    4\n",
      "apples......   12\n",
      "cups........    4\n",
      "cookies..... 8000\n",
      "-------PICNIC ITEMS-------\n",
      "sandwiches..........     4\n",
      "apples..............    12\n",
      "cups................     4\n",
      "cookies.............  8000\n"
     ]
    }
   ],
   "source": [
    "def printPicnic(itemsDict, leftWidth, rightWidth):\n",
    "    print('PICNIC ITEMS'.center(leftWidth + rightWidth, '-'))\n",
    "    for k, v in itemsDict.items():\n",
    "        print(k.ljust(leftWidth, '.') + str(v).rjust(rightWidth))\n",
    "\n",
    "picnicItems = {'sandwiches': 4, 'apples': 12, 'cups': 4, 'cookies': 8000}\n",
    "printPicnic(picnicItems, 12, 5)\n",
    "printPicnic(picnicItems, 20, 6)"
   ]
  },
  {
   "cell_type": "markdown",
   "metadata": {},
   "source": [
    "##### Removing Whitespace with the strip(), rstrip(), and lstrip() Methods"
   ]
  },
  {
   "cell_type": "markdown",
   "metadata": {},
   "source": [
    "The _strip()_ string method will return a new string without any whitespace characters at the beginning or end. The _lstrip()_ and _rstrip()_ methods will remove whitespace characters from the left and right ends, respectively. \n",
    "\n",
    "```python\n",
    ">>> spam = '    Hello, World    '\n",
    ">>> spam.strip()\n",
    "'Hello, World'\n",
    ">>> spam.lstrip()\n",
    "'Hello, World    '\n",
    ">>> spam.rstrip()\n",
    "'    Hello, World'\n",
    "\n",
    ">>> spam = 'SpamSpamBaconSpamEggsSpamSpam'\n",
    ">>> spam.strip('ampS')\n",
    "'BaconSpamEggs'\n",
    "```\n",
    "\n",
    "The order of the characters in the string passed to _strip()_ does not matter: _strip('ampS')_ will do the same thing as _strip('mapS')_ or _strip('Spam')_."
   ]
  },
  {
   "cell_type": "markdown",
   "metadata": {},
   "source": [
    "#### __Numeric Values of Characters with the ord() and chr() Functions__"
   ]
  },
  {
   "cell_type": "markdown",
   "metadata": {},
   "source": [
    "Computers store information as bytes—strings of binary numbers, which means we need to be able to convert text to numbers. Because of this, every text character has a corresponding numeric value called a __Unicode code point__. For example, the numeric code point is 65 for 'A', 52 for '4', and 33 for '!'. You can use the _ord()_ function to get the code point of a one-character string, and the _chr()_ function to get the one-character string of an integer code point. \n",
    "\n",
    "```python\n",
    ">>> ord('A')\n",
    "65\n",
    ">>> ord('4')\n",
    "52\n",
    ">>> ord('!')\n",
    "33\n",
    ">>> chr(65)\n",
    "'A'\n",
    "\n",
    ">>> ord('B')\n",
    "66\n",
    ">>> ord('A') < ord('B')\n",
    "True\n",
    ">>> chr(ord('A'))\n",
    "'A'\n",
    ">>> chr(ord('A') + 1)\n",
    "'B'"
   ]
  },
  {
   "cell_type": "markdown",
   "metadata": {},
   "source": [
    "#### __Copying and Pasting Strings with the pyperclip Module__"
   ]
  },
  {
   "cell_type": "markdown",
   "metadata": {},
   "source": [
    "The _pyperclip_ module has _copy()_ and _paste()_ functions that can send text to and receive text from your computer’s clipboard. Sending the output of your program to the clipboard will make it easy to paste it into an email, word processor, or some other software.\n",
    "\n",
    "```python\n",
    ">>> import pyperclip\n",
    ">>> pyperclip.copy('Hello, world!')\n",
    ">>> pyperclip.paste()\n",
    "'Hello, world!'"
   ]
  },
  {
   "cell_type": "markdown",
   "metadata": {},
   "source": [
    "#### __Project: Multi-Clipboard Automatic Messages__"
   ]
  },
  {
   "cell_type": "markdown",
   "metadata": {},
   "source": [
    "If you’ve responded to a large number of emails with similar phrasing, you’ve probably had to do a lot of repetitive typing. Maybe you keep a text document with these phrases so you can easily copy and paste them using the clipboard. But your clipboard can only store one message at a time, which isn’t very convenient."
   ]
  },
  {
   "cell_type": "markdown",
   "metadata": {},
   "source": [
    "##### Step 1: Program Design and Data Structures"
   ]
  },
  {
   "cell_type": "markdown",
   "metadata": {},
   "source": [
    "You want to be able to run this program with a command line argument that is a short key phrase—for instance, __agree__ or __busy__. The message associated with that key phrase will be copied to the clipboard so that the user can paste it into an email.\n",
    "\n",
    "You need to start the program with a #! (shebang) line (see Appendix B) and should also write a comment that briefly describes the program. Since you want to associate each piece of text with its key phrase, you can store these as strings in a dictionary."
   ]
  },
  {
   "cell_type": "markdown",
   "metadata": {},
   "source": [
    "##### Step 2: Handle Command Line Arguments"
   ]
  },
  {
   "cell_type": "markdown",
   "metadata": {},
   "source": [
    "The command line arguments will be stored in the variable _sys.argv_. The first item in the _sys.argv_ list should always be a string containing the program’s filename, and the second item should be the first command line argument. Since the command line argument is mandatory, you display a usage message to the user if they forget to add it."
   ]
  },
  {
   "cell_type": "markdown",
   "metadata": {},
   "source": [
    "##### Step 3: Copy the Right Phrase"
   ]
  },
  {
   "cell_type": "markdown",
   "metadata": {},
   "source": [
    "Now you need to see whether the key phrase exists in the _TEXT_ dictionary as a key. If so, you want to copy the key’s value to the clipboard using _pyperclip.copy()_. \n",
    "\n",
    "This new code looks in the TEXT dictionary for the key phrase. If the key phrase is a key in the dictionary, we get the value corresponding to that key, copy it to the clipboard, and print a message saying that we copied the value. Otherwise, we print a message saying there’s no key phrase with that name."
   ]
  },
  {
   "cell_type": "markdown",
   "metadata": {},
   "source": [
    "###### ___mclip.py___"
   ]
  },
  {
   "cell_type": "code",
   "execution_count": 9,
   "metadata": {},
   "outputs": [
    {
     "name": "stdout",
     "output_type": "stream",
     "text": [
      "There is no text for --f=c:\\Users\\akare\\AppData\\Roaming\\jupyter\\runtime\\kernel-v2-32312KzcXT7XEG3t7.json\n"
     ]
    }
   ],
   "source": [
    "#! python3\n",
    "# mclip.py - A multi-clipboard program.\n",
    "\n",
    "TEXT = {'agree': \"\"\"Yes, I agree. That sounds fine to me.\"\"\",\n",
    "        'busy': \"\"\"Sorry, can we do this later this week or next week?\"\"\",\n",
    "        'upsell': \"\"\"Would you consider making this a monthly donation?\"\"\"}\n",
    "\n",
    "# STEP 2\n",
    "import sys, pyperclip\n",
    "if len(sys.argv) < 2:\n",
    "    print('Usage: py mclip.py [keyphrase] - copy phrase text')\n",
    "    sys.exit()\n",
    "\n",
    "keyphrase = sys.argv[1]    # first command line arg is the keyphrase\n",
    "\n",
    "# STEP 3\n",
    "if keyphrase in TEXT:\n",
    "    pyperclip.copy(TEXT[keyphrase])\n",
    "    print('Text for ' + keyphrase + ' copied to clipboard.')\n",
    "else:\n",
    "    print('There is no text for ' + keyphrase)"
   ]
  },
  {
   "cell_type": "markdown",
   "metadata": {},
   "source": [
    "#### __Project: Adding Bullets to Wiki Markup__"
   ]
  },
  {
   "cell_type": "markdown",
   "metadata": {},
   "source": [
    "When editing a Wikipedia article, you can create a bulleted list by putting each list item on its own line and placing a star in front. The _bulletPointAdder.py_ script will get the text from the clipboard, add a star and space to the beginning of each line, and then paste this new text to the clipboard."
   ]
  },
  {
   "cell_type": "markdown",
   "metadata": {},
   "source": [
    "##### Step 1: Copy and Paste from the Clipboard"
   ]
  },
  {
   "cell_type": "markdown",
   "metadata": {},
   "source": [
    "You want the _bulletPointAdder.py_ program to do the following:\n",
    "\n",
    "1. Paste text from the clipboard.\n",
    "2. Do something to it.\n",
    "3. Copy the new text to the clipboard.\n",
    "\n",
    "Steps 1 and 3 just involve the _pyperclip.copy()_ and _pyperclip.paste()_ functions."
   ]
  },
  {
   "cell_type": "markdown",
   "metadata": {},
   "source": [
    "##### Step 2: Separate the Lines of Text and Add the Star"
   ]
  },
  {
   "cell_type": "markdown",
   "metadata": {},
   "source": [
    "The call to _pyperclip.paste()_ returns all the text on the clipboard as one big string. If we used the wikipedia's “List of Lists of Lists”, the string stored in text would look like this:\n",
    "\n",
    "```python\n",
    "'Lists of animals\\nLists of aquarium life\\nLists of biologists by author abbreviation\\nLists of cultivars'\n",
    "```\n",
    "\n",
    "You could write code that searches for each _\\n_ newline character in the string and then adds the star just after that. But it would be easier to use the split() method to return a list of strings, one for each line in the original string, and then add the star to the front of each string in the list."
   ]
  },
  {
   "cell_type": "markdown",
   "metadata": {},
   "source": [
    "##### Step 3: Join the Modified Lines"
   ]
  },
  {
   "cell_type": "markdown",
   "metadata": {},
   "source": [
    "_pyperclip.copy()_ is expecting a single string value, to make this single string value, pass lines into the _join()_ method to get a single string joined from the list’s strings.\n",
    "\n",
    "When this program is run, it replaces the text on the clipboard with text that has stars at the start of each line. Now the program is complete, and you can try running it with text copied to the clipboard."
   ]
  },
  {
   "cell_type": "markdown",
   "metadata": {},
   "source": [
    "###### ___bulletPointAdder.py___"
   ]
  },
  {
   "cell_type": "code",
   "execution_count": 10,
   "metadata": {},
   "outputs": [],
   "source": [
    "#! python3\n",
    "# bulletPointAdder.py - Adds Wikipedia bullet points to the start\n",
    "# of each line of text on the clipboard.\n",
    "\n",
    "import pyperclip\n",
    "text = pyperclip.paste()\n",
    "\n",
    "# Separate lines and add stars.\n",
    "lines = text.split('\\n')\n",
    "for i in range(len(lines)):    # loop through all indexes for \"lines\" list\n",
    "    lines[i] = '* ' + lines[i] # add star to each string in \"lines\" list\n",
    "text = '\\n'.join(lines)\n",
    "pyperclip.copy(text)"
   ]
  },
  {
   "cell_type": "markdown",
   "metadata": {},
   "source": [
    "#### __A Short Program: Pig Latin__"
   ]
  },
  {
   "cell_type": "markdown",
   "metadata": {},
   "source": [
    "Pig Latin is a silly made-up language that alters English words. If a word begins with a vowel, the word __yay__ is added to the end of it. If a word begins with a consonant or consonant cluster (like __ch__ or __gr__), that consonant or cluster is moved to the end of the word followed by __ay__.\n",
    "\n",
    "First, we ask the user to enter the English text to translate into Pig Latin. Next, we’re going to create the _pigLatin_ variable to store the words as we translate them into Pig Latin. We need each word to be its own string, so we call _message.split()_ to get a list of the words as separate strings. \n",
    "\n",
    "We need to remove any non-letters from the start and end of each word so that strings like _'old.'_ translate to _'oldyay.'_ A loop that calls _isalpha()_ on the first character in the word will determine if we should remove a character from a word and concatenate it to the end of _prefixNonLetters_. If the entire word is made of non-letter characters, we can simply append it to the _pigLatin_ list and continue to the next word to translate. We also need to save the non-letters at the end of the word string. \n",
    "\n",
    "Next, we’ll make sure the program remembers if the word was in uppercase or title case so we can restore it after translating the word to Pig Latin. We use a loop similar to the loop that removed the non-letters from the start of _word_, except now we are pulling off consonants and storing them to a variable named _prefixConsonants_. We should concatenate that variable and the string _'ay'_ to the end of _word_. Otherwise, we can assume _word_ begins with a vowel and we only need to concatenate _'yay'_.\n",
    "\n",
    "At the end of the _for_ loop, we append the word, along with any non-letter prefix or suffix it originally had, to the _pigLatin_ list. After this loop finishes, we combine the list of strings into a single string by calling the _join()_ method. This single string is passed to _print()_ to display our Pig Latin on the screen."
   ]
  },
  {
   "cell_type": "markdown",
   "metadata": {},
   "source": [
    "###### ___pigLat.py___"
   ]
  },
  {
   "cell_type": "code",
   "execution_count": 11,
   "metadata": {},
   "outputs": [
    {
     "name": "stdout",
     "output_type": "stream",
     "text": [
      "Enter the English message to translate into Pig Latin:\n",
      "i'myay eallyray aredscay atyay ethay omentmay, utbay i'llyay ebay alrightyay.\n"
     ]
    }
   ],
   "source": [
    "# English to Pig Latin\n",
    "print('Enter the English message to translate into Pig Latin:')\n",
    "message = input()\n",
    "\n",
    "VOWELS = ('a', 'e', 'i', 'o', 'u', 'y')\n",
    "\n",
    "pigLatin = [] # A list of the words in Pig Latin.\n",
    "for word in message.split():\n",
    "    # Separate the non-letters at the start of this word:\n",
    "    prefixNonLetters = ''\n",
    "    while len(word) > 0 and not word[0].isalpha():\n",
    "        prefixNonLetters += word[0]\n",
    "        word = word[1:]\n",
    "    if len(word) == 0:\n",
    "        pigLatin.append(prefixNonLetters)\n",
    "        continue\n",
    "\n",
    "    # Separate the non-letters at the end of this word:\n",
    "    suffixNonLetters = ''\n",
    "    while not word[-1].isalpha():\n",
    "        suffixNonLetters = word[-1] + suffixNonLetters\n",
    "        word = word[:-1]\n",
    "\n",
    "    # Remember if the word was in uppercase or title case.\n",
    "    wasUpper = word.isupper()\n",
    "    wasTitle = word.istitle()\n",
    "\n",
    "    word = word.lower() # Make the word lowercase for translation.\n",
    "\n",
    "    # Separate the consonants at the start of this word:\n",
    "    prefixConsonants = ''\n",
    "    while len(word) > 0 and not word[0] in VOWELS:\n",
    "        prefixConsonants += word[0]\n",
    "        word = word[1:]\n",
    "\n",
    "    # Add the Pig Latin ending to the word:\n",
    "    if prefixConsonants != '':\n",
    "        word += prefixConsonants + 'ay'\n",
    "    else:\n",
    "        word += 'yay'\n",
    "\n",
    "    # Set the word back to uppercase or title case:\n",
    "    if wasUpper:\n",
    "        word = word.upper()\n",
    "    if wasTitle:\n",
    "        word = word.title()\n",
    "\n",
    "    # Add the non-letters back to the start or end of the word.\n",
    "    pigLatin.append(prefixNonLetters + word + suffixNonLetters)\n",
    "\n",
    "# Join all the words back together into a single string:\n",
    "print(' '.join(pigLatin))"
   ]
  },
  {
   "cell_type": "markdown",
   "metadata": {},
   "source": [
    "#### ___My answers to the practice questions___"
   ]
  },
  {
   "cell_type": "markdown",
   "metadata": {},
   "source": [
    "1. Kind off like invisible characters in string values.\n",
    "2. Newline for _'\\n'_ and tab for _'\\t'_.\n",
    "3. By writting _'\\\\'_.\n",
    "4. Because the string is encapsuled by double quotes.\n",
    "5. With multiline strings _'''hey'''_\n",
    "6. \n",
    "```python\n",
    "'Hello, world!'[1]      # 'e'\n",
    "'Hello, world!'[0:5]    # 'Hello'\n",
    "'Hello, world!'[:5]     # 'Hello'\n",
    "'Hello, world!'[3:]     # 'lo, world!'\n",
    "```\n",
    "7. \n",
    "```python\n",
    "'Hello'.upper()             # 'HELLO'\n",
    "'Hello'.upper().isupper()   # True\n",
    "'Hello'.upper().lower()     # 'hello'\n",
    "```\n",
    "8. \n",
    "```python\n",
    "'Remember, remember, the fifth of November.'.split()    # ['Remember,', 'remember,', 'the', 'fifth', 'of', 'November.']\n",
    "'-'.join('There can be only one.'.split())              # 'There-can-be-only-one.'\n",
    "```\n",
    "9. _rjus()_, _ljus()_ and _center()_\n",
    "10. _rstrip()_ and _lstrip()_"
   ]
  },
  {
   "cell_type": "markdown",
   "metadata": {},
   "source": [
    "#### ___Practice Projects___"
   ]
  },
  {
   "cell_type": "markdown",
   "metadata": {},
   "source": [
    "##### Table Printer"
   ]
  },
  {
   "cell_type": "markdown",
   "metadata": {},
   "source": [
    "A function named _printTable()_ takes a list of lists of strings and displays it in a well-organized table with each column right-justified."
   ]
  },
  {
   "cell_type": "markdown",
   "metadata": {},
   "source": [
    "###### ___tablePrinter.py___"
   ]
  },
  {
   "cell_type": "code",
   "execution_count": 1,
   "metadata": {},
   "outputs": [
    {
     "name": "stdout",
     "output_type": "stream",
     "text": [
      "  apples Alice  dogs \n",
      " oranges   Bob  cats \n",
      "cherries Carol moose \n",
      "  banana David goose \n"
     ]
    }
   ],
   "source": [
    "def printTable(tableData):\n",
    "\n",
    "    # Get the maximum width for each column\n",
    "    colWidths = [0] * len(tableData)\n",
    "    for col in range(len(tableData)):\n",
    "        longestString = 0\n",
    "        for item in tableData[col]:\n",
    "            if longestString < len(item):\n",
    "                longestString = len(item)\n",
    "        colWidths[col] = longestString\n",
    "\n",
    "    # Print the table with right-justifies columns\n",
    "    for row in range(len(tableData[0])):\n",
    "        for col in range(len(tableData)):\n",
    "            print(tableData[col][row].rjust(colWidths[col]) + ' ', end = '')\n",
    "        print()\n",
    "\n",
    "tableData = [['apples', 'oranges', 'cherries', 'banana'],\n",
    "             ['Alice', 'Bob', 'Carol', 'David'],\n",
    "             ['dogs', 'cats', 'moose', 'goose']]\n",
    "printTable(tableData)"
   ]
  },
  {
   "cell_type": "markdown",
   "metadata": {},
   "source": [
    "##### Zombie Dice Bots"
   ]
  },
  {
   "cell_type": "markdown",
   "metadata": {},
   "source": [
    "__Programming games__ are a game genre where instead of playing a game directly, players write bot programs to play the game autonomously. Zombie Dice simulator allows programmers to practice their skills while making game-playing AIs.\n",
    "\n",
    "Zombie Dice is a quick, fun dice game from Steve Jackson Games. The players are zombies trying to eat as many human brains as possible without getting shot three times. There is a cup of 13 dice with brains, footsteps, and shotgun icons on their faces. The dice icons are colored, and each color has a different likelihood of each event occurring. Every die has two sides with footsteps, but dice with green icons have more sides with brains, red-icon dice have more shotguns, and yellow-icon dice have an even split of brains and shotguns. Do the following on each player’s turn:\n",
    "\n",
    "1. Place all 13 dice in the cup. The player randomly draws three dice from the cup and then rolls them. Players always roll exactly three dice.\n",
    "2. They set aside and count up any brains (humans whose brains were eaten) and shotguns (humans who fought back). Accumulating three shotguns automatically ends a player’s turn with zero points (regardless of how many brains they had). If they have between zero and two shotguns, they may continue rolling if they want. They may also choose to end their turn and collect one point per brain.\n",
    "3. If the player decides to keep rolling, they must reroll all dice with footsteps. Remember that the player must always roll three dice; they must draw more dice out of the cup if they have fewer than three footsteps to roll. A player may keep rolling dice until either they get three shotguns—losing everything—or all 13 dice have been rolled. A player may not reroll only one or two dice, and may not stop mid-reroll.\n",
    "4. When someone reaches 13 brains, the rest of the players finish out the round. The person with the most brains wins. If there’s a tie, the tied players play one last tiebreaker round.\n",
    "\n",
    "Zombie Dice has a push-your-luck game mechanic: the more you reroll the dice, the more brains you can get, but the more likely you’ll eventually accrue three shotguns and lose everything. Once a player reaches 13 points, the rest of the players get one more turn (to potentially catch up) and the game ends. The player with the most points wins.\n",
    "\n",
    "You’ll create bots by writing a class with a _turn()_ method, which is called by the simulator when it’s your bot’s turn to roll the dice. Writing a method is essentially the same as writing a function, and you can use the _turn()_ code as a template. Inside this turn() method, you’ll call the zombiedice.roll() function as often as you want your bot to roll the dice.\n",
    "\n",
    "The _turn()_ method takes two parameters: _self_ and _gameState_. The _turn()_ method should call _zombiedice.roll()_ at least once for the initial roll. Then, depending on the strategy the bot uses, it can call _zombiedice.roll()_ again as many times as it wants.\n",
    "\n",
    "The return value of _zombiedice.roll()_ tells your code the results of the dice roll. It is a dictionary with four keys. Three of the keys, _'shotgun', 'brains'_, and _'footsteps'_, have integer values of how many dice came up with those icons. The fourth _'rolls'_ key has a value that is a list of tuples for each die roll. The tuples contain two strings: the color of the die at index 0 and the icon rolled at index 1. If the bot has already rolled three shotguns, then _zombiedice.roll()_ will return _None_."
   ]
  },
  {
   "cell_type": "markdown",
   "metadata": {},
   "source": [
    "###### ___myZombie.py___"
   ]
  },
  {
   "cell_type": "code",
   "execution_count": 1,
   "metadata": {},
   "outputs": [
    {
     "name": "stdout",
     "output_type": "stream",
     "text": [
      "Zombie Dice Visualization is running. Open your browser to http://localhost:60083 to view it.\n",
      "Press Ctrl-C to quit.\n",
      "Tournament of 1000 games started...\n",
      "Tournament results:\n",
      "Wins:\n",
      "           Stop at 2 Shotguns  270\n",
      "                 Two Shotguns  260\n",
      "                Until Leading  134\n",
      "        Roll Up to Four Times  110\n",
      "            Stop at 1 Shotgun   91\n",
      "                   Two Brains   47\n",
      "                       Random   41\n",
      "              Random Decision   36\n",
      "    More Shotguns Than Brains    0\n",
      "Ties:\n",
      "           Stop at 2 Shotguns    5\n",
      "        Roll Up to Four Times    4\n",
      "              Random Decision    3\n",
      "                   Two Brains    3\n",
      "                 Two Shotguns    3\n",
      "                Until Leading    2\n",
      "                       Random    1\n",
      "            Stop at 1 Shotgun    1\n",
      "    More Shotguns Than Brains    0\n"
     ]
    },
    {
     "ename": "AttributeError",
     "evalue": "'tuple' object has no attribute 'tb_frame'",
     "output_type": "error",
     "traceback": [
      "\u001b[1;31m---------------------------------------------------------------------------\u001b[0m",
      "\u001b[1;31mKeyboardInterrupt\u001b[0m                         Traceback (most recent call last)",
      "File \u001b[1;32mc:\\Python312\\Lib\\site-packages\\zombiedice\\__init__.py:108\u001b[0m, in \u001b[0;36mrunWebGui\u001b[1;34m(zombies, numGames)\u001b[0m\n\u001b[0;32m    107\u001b[0m \u001b[38;5;28;01mtry\u001b[39;00m:\n\u001b[1;32m--> 108\u001b[0m     \u001b[43mhttpd\u001b[49m\u001b[38;5;241;43m.\u001b[39;49m\u001b[43mserve_forever\u001b[49m\u001b[43m(\u001b[49m\u001b[43m)\u001b[49m\n\u001b[0;32m    109\u001b[0m \u001b[38;5;28;01mexcept\u001b[39;00m (\u001b[38;5;167;01mKeyboardInterrupt\u001b[39;00m, \u001b[38;5;167;01mSystemExit\u001b[39;00m):\n",
      "File \u001b[1;32mc:\\Python312\\Lib\\socketserver.py:235\u001b[0m, in \u001b[0;36mBaseServer.serve_forever\u001b[1;34m(self, poll_interval)\u001b[0m\n\u001b[0;32m    234\u001b[0m \u001b[38;5;28;01mwhile\u001b[39;00m \u001b[38;5;129;01mnot\u001b[39;00m \u001b[38;5;28mself\u001b[39m\u001b[38;5;241m.\u001b[39m__shutdown_request:\n\u001b[1;32m--> 235\u001b[0m     ready \u001b[38;5;241m=\u001b[39m \u001b[43mselector\u001b[49m\u001b[38;5;241;43m.\u001b[39;49m\u001b[43mselect\u001b[49m\u001b[43m(\u001b[49m\u001b[43mpoll_interval\u001b[49m\u001b[43m)\u001b[49m\n\u001b[0;32m    236\u001b[0m     \u001b[38;5;66;03m# bpo-35017: shutdown() called during select(), exit immediately.\u001b[39;00m\n",
      "File \u001b[1;32mc:\\Python312\\Lib\\selectors.py:323\u001b[0m, in \u001b[0;36mSelectSelector.select\u001b[1;34m(self, timeout)\u001b[0m\n\u001b[0;32m    322\u001b[0m \u001b[38;5;28;01mtry\u001b[39;00m:\n\u001b[1;32m--> 323\u001b[0m     r, w, _ \u001b[38;5;241m=\u001b[39m \u001b[38;5;28;43mself\u001b[39;49m\u001b[38;5;241;43m.\u001b[39;49m\u001b[43m_select\u001b[49m\u001b[43m(\u001b[49m\u001b[38;5;28;43mself\u001b[39;49m\u001b[38;5;241;43m.\u001b[39;49m\u001b[43m_readers\u001b[49m\u001b[43m,\u001b[49m\u001b[43m \u001b[49m\u001b[38;5;28;43mself\u001b[39;49m\u001b[38;5;241;43m.\u001b[39;49m\u001b[43m_writers\u001b[49m\u001b[43m,\u001b[49m\u001b[43m \u001b[49m\u001b[43m[\u001b[49m\u001b[43m]\u001b[49m\u001b[43m,\u001b[49m\u001b[43m \u001b[49m\u001b[43mtimeout\u001b[49m\u001b[43m)\u001b[49m\n\u001b[0;32m    324\u001b[0m \u001b[38;5;28;01mexcept\u001b[39;00m \u001b[38;5;167;01mInterruptedError\u001b[39;00m:\n",
      "File \u001b[1;32mc:\\Python312\\Lib\\selectors.py:314\u001b[0m, in \u001b[0;36mSelectSelector._select\u001b[1;34m(self, r, w, _, timeout)\u001b[0m\n\u001b[0;32m    313\u001b[0m \u001b[38;5;28;01mdef\u001b[39;00m \u001b[38;5;21m_select\u001b[39m(\u001b[38;5;28mself\u001b[39m, r, w, _, timeout\u001b[38;5;241m=\u001b[39m\u001b[38;5;28;01mNone\u001b[39;00m):\n\u001b[1;32m--> 314\u001b[0m     r, w, x \u001b[38;5;241m=\u001b[39m \u001b[43mselect\u001b[49m\u001b[38;5;241;43m.\u001b[39;49m\u001b[43mselect\u001b[49m\u001b[43m(\u001b[49m\u001b[43mr\u001b[49m\u001b[43m,\u001b[49m\u001b[43m \u001b[49m\u001b[43mw\u001b[49m\u001b[43m,\u001b[49m\u001b[43m \u001b[49m\u001b[43mw\u001b[49m\u001b[43m,\u001b[49m\u001b[43m \u001b[49m\u001b[43mtimeout\u001b[49m\u001b[43m)\u001b[49m\n\u001b[0;32m    315\u001b[0m     \u001b[38;5;28;01mreturn\u001b[39;00m r, w \u001b[38;5;241m+\u001b[39m x, []\n",
      "\u001b[1;31mKeyboardInterrupt\u001b[0m: ",
      "\nDuring handling of the above exception, another exception occurred:\n",
      "\u001b[1;31mSystemExit\u001b[0m                                Traceback (most recent call last)",
      "    \u001b[1;31m[... skipping hidden 1 frame]\u001b[0m\n",
      "Cell \u001b[1;32mIn[1], line 114\u001b[0m\n\u001b[0;32m    112\u001b[0m \u001b[38;5;66;03m# Uncomment one of the following lines to run in CLI or Web GUI mode:\u001b[39;00m\n\u001b[0;32m    113\u001b[0m \u001b[38;5;66;03m#zombiedice.runTournament(zombies=zombies, numGames=1000)\u001b[39;00m\n\u001b[1;32m--> 114\u001b[0m \u001b[43mzombiedice\u001b[49m\u001b[38;5;241;43m.\u001b[39;49m\u001b[43mrunWebGui\u001b[49m\u001b[43m(\u001b[49m\u001b[43mzombies\u001b[49m\u001b[38;5;241;43m=\u001b[39;49m\u001b[43mzombies\u001b[49m\u001b[43m,\u001b[49m\u001b[43m \u001b[49m\u001b[43mnumGames\u001b[49m\u001b[38;5;241;43m=\u001b[39;49m\u001b[38;5;241;43m1000\u001b[39;49m\u001b[43m)\u001b[49m\n",
      "File \u001b[1;32mc:\\Python312\\Lib\\site-packages\\zombiedice\\__init__.py:111\u001b[0m, in \u001b[0;36mrunWebGui\u001b[1;34m(zombies, numGames)\u001b[0m\n\u001b[0;32m    110\u001b[0m httpd\u001b[38;5;241m.\u001b[39msocket\u001b[38;5;241m.\u001b[39mclose()\n\u001b[1;32m--> 111\u001b[0m \u001b[43msys\u001b[49m\u001b[38;5;241;43m.\u001b[39;49m\u001b[43mexit\u001b[49m\u001b[43m(\u001b[49m\u001b[38;5;124;43m'\u001b[39;49m\u001b[38;5;124;43mQuitting...\u001b[39;49m\u001b[38;5;124;43m'\u001b[39;49m\u001b[43m)\u001b[49m\n",
      "\u001b[1;31mSystemExit\u001b[0m: Quitting...",
      "\nDuring handling of the above exception, another exception occurred:\n",
      "\u001b[1;31mAttributeError\u001b[0m                            Traceback (most recent call last)",
      "    \u001b[1;31m[... skipping hidden 1 frame]\u001b[0m\n",
      "File \u001b[1;32m~\\AppData\\Roaming\\Python\\Python312\\site-packages\\IPython\\core\\interactiveshell.py:2145\u001b[0m, in \u001b[0;36mInteractiveShell.showtraceback\u001b[1;34m(self, exc_tuple, filename, tb_offset, exception_only, running_compiled_code)\u001b[0m\n\u001b[0;32m   2142\u001b[0m \u001b[38;5;28;01mif\u001b[39;00m exception_only:\n\u001b[0;32m   2143\u001b[0m     stb \u001b[38;5;241m=\u001b[39m [\u001b[38;5;124m'\u001b[39m\u001b[38;5;124mAn exception has occurred, use \u001b[39m\u001b[38;5;124m%\u001b[39m\u001b[38;5;124mtb to see \u001b[39m\u001b[38;5;124m'\u001b[39m\n\u001b[0;32m   2144\u001b[0m            \u001b[38;5;124m'\u001b[39m\u001b[38;5;124mthe full traceback.\u001b[39m\u001b[38;5;130;01m\\n\u001b[39;00m\u001b[38;5;124m'\u001b[39m]\n\u001b[1;32m-> 2145\u001b[0m     stb\u001b[38;5;241m.\u001b[39mextend(\u001b[38;5;28;43mself\u001b[39;49m\u001b[38;5;241;43m.\u001b[39;49m\u001b[43mInteractiveTB\u001b[49m\u001b[38;5;241;43m.\u001b[39;49m\u001b[43mget_exception_only\u001b[49m\u001b[43m(\u001b[49m\u001b[43metype\u001b[49m\u001b[43m,\u001b[49m\n\u001b[0;32m   2146\u001b[0m \u001b[43m                                                     \u001b[49m\u001b[43mvalue\u001b[49m\u001b[43m)\u001b[49m)\n\u001b[0;32m   2147\u001b[0m \u001b[38;5;28;01melse\u001b[39;00m:\n\u001b[0;32m   2149\u001b[0m     \u001b[38;5;28;01mdef\u001b[39;00m \u001b[38;5;21mcontains_exceptiongroup\u001b[39m(val):\n",
      "File \u001b[1;32m~\\AppData\\Roaming\\Python\\Python312\\site-packages\\IPython\\core\\ultratb.py:710\u001b[0m, in \u001b[0;36mListTB.get_exception_only\u001b[1;34m(self, etype, value)\u001b[0m\n\u001b[0;32m    702\u001b[0m \u001b[38;5;28;01mdef\u001b[39;00m \u001b[38;5;21mget_exception_only\u001b[39m(\u001b[38;5;28mself\u001b[39m, etype, value):\n\u001b[0;32m    703\u001b[0m \u001b[38;5;250m    \u001b[39m\u001b[38;5;124;03m\"\"\"Only print the exception type and message, without a traceback.\u001b[39;00m\n\u001b[0;32m    704\u001b[0m \n\u001b[0;32m    705\u001b[0m \u001b[38;5;124;03m    Parameters\u001b[39;00m\n\u001b[1;32m   (...)\u001b[0m\n\u001b[0;32m    708\u001b[0m \u001b[38;5;124;03m    value : exception value\u001b[39;00m\n\u001b[0;32m    709\u001b[0m \u001b[38;5;124;03m    \"\"\"\u001b[39;00m\n\u001b[1;32m--> 710\u001b[0m     \u001b[38;5;28;01mreturn\u001b[39;00m \u001b[43mListTB\u001b[49m\u001b[38;5;241;43m.\u001b[39;49m\u001b[43mstructured_traceback\u001b[49m\u001b[43m(\u001b[49m\u001b[38;5;28;43mself\u001b[39;49m\u001b[43m,\u001b[49m\u001b[43m \u001b[49m\u001b[43metype\u001b[49m\u001b[43m,\u001b[49m\u001b[43m \u001b[49m\u001b[43mvalue\u001b[49m\u001b[43m)\u001b[49m\n",
      "File \u001b[1;32m~\\AppData\\Roaming\\Python\\Python312\\site-packages\\IPython\\core\\ultratb.py:568\u001b[0m, in \u001b[0;36mListTB.structured_traceback\u001b[1;34m(self, etype, evalue, etb, tb_offset, context)\u001b[0m\n\u001b[0;32m    565\u001b[0m     chained_exc_ids\u001b[38;5;241m.\u001b[39madd(\u001b[38;5;28mid\u001b[39m(exception[\u001b[38;5;241m1\u001b[39m]))\n\u001b[0;32m    566\u001b[0m     chained_exceptions_tb_offset \u001b[38;5;241m=\u001b[39m \u001b[38;5;241m0\u001b[39m\n\u001b[0;32m    567\u001b[0m     out_list \u001b[38;5;241m=\u001b[39m (\n\u001b[1;32m--> 568\u001b[0m         \u001b[38;5;28;43mself\u001b[39;49m\u001b[38;5;241;43m.\u001b[39;49m\u001b[43mstructured_traceback\u001b[49m\u001b[43m(\u001b[49m\n\u001b[0;32m    569\u001b[0m \u001b[43m            \u001b[49m\u001b[43metype\u001b[49m\u001b[43m,\u001b[49m\n\u001b[0;32m    570\u001b[0m \u001b[43m            \u001b[49m\u001b[43mevalue\u001b[49m\u001b[43m,\u001b[49m\n\u001b[0;32m    571\u001b[0m \u001b[43m            \u001b[49m\u001b[43m(\u001b[49m\u001b[43metb\u001b[49m\u001b[43m,\u001b[49m\u001b[43m \u001b[49m\u001b[43mchained_exc_ids\u001b[49m\u001b[43m)\u001b[49m\u001b[43m,\u001b[49m\u001b[43m  \u001b[49m\u001b[38;5;66;43;03m# type: ignore\u001b[39;49;00m\n\u001b[0;32m    572\u001b[0m \u001b[43m            \u001b[49m\u001b[43mchained_exceptions_tb_offset\u001b[49m\u001b[43m,\u001b[49m\n\u001b[0;32m    573\u001b[0m \u001b[43m            \u001b[49m\u001b[43mcontext\u001b[49m\u001b[43m,\u001b[49m\n\u001b[0;32m    574\u001b[0m \u001b[43m        \u001b[49m\u001b[43m)\u001b[49m\n\u001b[0;32m    575\u001b[0m         \u001b[38;5;241m+\u001b[39m chained_exception_message\n\u001b[0;32m    576\u001b[0m         \u001b[38;5;241m+\u001b[39m out_list)\n\u001b[0;32m    578\u001b[0m \u001b[38;5;28;01mreturn\u001b[39;00m out_list\n",
      "File \u001b[1;32m~\\AppData\\Roaming\\Python\\Python312\\site-packages\\IPython\\core\\ultratb.py:1454\u001b[0m, in \u001b[0;36mAutoFormattedTB.structured_traceback\u001b[1;34m(self, etype, evalue, etb, tb_offset, number_of_lines_of_context)\u001b[0m\n\u001b[0;32m   1452\u001b[0m \u001b[38;5;28;01melse\u001b[39;00m:\n\u001b[0;32m   1453\u001b[0m     \u001b[38;5;28mself\u001b[39m\u001b[38;5;241m.\u001b[39mtb \u001b[38;5;241m=\u001b[39m etb\n\u001b[1;32m-> 1454\u001b[0m \u001b[38;5;28;01mreturn\u001b[39;00m \u001b[43mFormattedTB\u001b[49m\u001b[38;5;241;43m.\u001b[39;49m\u001b[43mstructured_traceback\u001b[49m\u001b[43m(\u001b[49m\n\u001b[0;32m   1455\u001b[0m \u001b[43m    \u001b[49m\u001b[38;5;28;43mself\u001b[39;49m\u001b[43m,\u001b[49m\u001b[43m \u001b[49m\u001b[43metype\u001b[49m\u001b[43m,\u001b[49m\u001b[43m \u001b[49m\u001b[43mevalue\u001b[49m\u001b[43m,\u001b[49m\u001b[43m \u001b[49m\u001b[43metb\u001b[49m\u001b[43m,\u001b[49m\u001b[43m \u001b[49m\u001b[43mtb_offset\u001b[49m\u001b[43m,\u001b[49m\u001b[43m \u001b[49m\u001b[43mnumber_of_lines_of_context\u001b[49m\n\u001b[0;32m   1456\u001b[0m \u001b[43m\u001b[49m\u001b[43m)\u001b[49m\n",
      "File \u001b[1;32m~\\AppData\\Roaming\\Python\\Python312\\site-packages\\IPython\\core\\ultratb.py:1345\u001b[0m, in \u001b[0;36mFormattedTB.structured_traceback\u001b[1;34m(self, etype, value, tb, tb_offset, number_of_lines_of_context)\u001b[0m\n\u001b[0;32m   1342\u001b[0m mode \u001b[38;5;241m=\u001b[39m \u001b[38;5;28mself\u001b[39m\u001b[38;5;241m.\u001b[39mmode\n\u001b[0;32m   1343\u001b[0m \u001b[38;5;28;01mif\u001b[39;00m mode \u001b[38;5;129;01min\u001b[39;00m \u001b[38;5;28mself\u001b[39m\u001b[38;5;241m.\u001b[39mverbose_modes:\n\u001b[0;32m   1344\u001b[0m     \u001b[38;5;66;03m# Verbose modes need a full traceback\u001b[39;00m\n\u001b[1;32m-> 1345\u001b[0m     \u001b[38;5;28;01mreturn\u001b[39;00m \u001b[43mVerboseTB\u001b[49m\u001b[38;5;241;43m.\u001b[39;49m\u001b[43mstructured_traceback\u001b[49m\u001b[43m(\u001b[49m\n\u001b[0;32m   1346\u001b[0m \u001b[43m        \u001b[49m\u001b[38;5;28;43mself\u001b[39;49m\u001b[43m,\u001b[49m\u001b[43m \u001b[49m\u001b[43metype\u001b[49m\u001b[43m,\u001b[49m\u001b[43m \u001b[49m\u001b[43mvalue\u001b[49m\u001b[43m,\u001b[49m\u001b[43m \u001b[49m\u001b[43mtb\u001b[49m\u001b[43m,\u001b[49m\u001b[43m \u001b[49m\u001b[43mtb_offset\u001b[49m\u001b[43m,\u001b[49m\u001b[43m \u001b[49m\u001b[43mnumber_of_lines_of_context\u001b[49m\n\u001b[0;32m   1347\u001b[0m \u001b[43m    \u001b[49m\u001b[43m)\u001b[49m\n\u001b[0;32m   1348\u001b[0m \u001b[38;5;28;01melif\u001b[39;00m mode \u001b[38;5;241m==\u001b[39m \u001b[38;5;124m'\u001b[39m\u001b[38;5;124mMinimal\u001b[39m\u001b[38;5;124m'\u001b[39m:\n\u001b[0;32m   1349\u001b[0m     \u001b[38;5;28;01mreturn\u001b[39;00m ListTB\u001b[38;5;241m.\u001b[39mget_exception_only(\u001b[38;5;28mself\u001b[39m, etype, value)\n",
      "File \u001b[1;32m~\\AppData\\Roaming\\Python\\Python312\\site-packages\\IPython\\core\\ultratb.py:1192\u001b[0m, in \u001b[0;36mVerboseTB.structured_traceback\u001b[1;34m(self, etype, evalue, etb, tb_offset, number_of_lines_of_context)\u001b[0m\n\u001b[0;32m   1183\u001b[0m \u001b[38;5;28;01mdef\u001b[39;00m \u001b[38;5;21mstructured_traceback\u001b[39m(\n\u001b[0;32m   1184\u001b[0m     \u001b[38;5;28mself\u001b[39m,\n\u001b[0;32m   1185\u001b[0m     etype: \u001b[38;5;28mtype\u001b[39m,\n\u001b[1;32m   (...)\u001b[0m\n\u001b[0;32m   1189\u001b[0m     number_of_lines_of_context: \u001b[38;5;28mint\u001b[39m \u001b[38;5;241m=\u001b[39m \u001b[38;5;241m5\u001b[39m,\n\u001b[0;32m   1190\u001b[0m ):\n\u001b[0;32m   1191\u001b[0m \u001b[38;5;250m    \u001b[39m\u001b[38;5;124;03m\"\"\"Return a nice text document describing the traceback.\"\"\"\u001b[39;00m\n\u001b[1;32m-> 1192\u001b[0m     formatted_exception \u001b[38;5;241m=\u001b[39m \u001b[38;5;28;43mself\u001b[39;49m\u001b[38;5;241;43m.\u001b[39;49m\u001b[43mformat_exception_as_a_whole\u001b[49m\u001b[43m(\u001b[49m\u001b[43metype\u001b[49m\u001b[43m,\u001b[49m\u001b[43m \u001b[49m\u001b[43mevalue\u001b[49m\u001b[43m,\u001b[49m\u001b[43m \u001b[49m\u001b[43metb\u001b[49m\u001b[43m,\u001b[49m\u001b[43m \u001b[49m\u001b[43mnumber_of_lines_of_context\u001b[49m\u001b[43m,\u001b[49m\n\u001b[0;32m   1193\u001b[0m \u001b[43m                                                           \u001b[49m\u001b[43mtb_offset\u001b[49m\u001b[43m)\u001b[49m\n\u001b[0;32m   1195\u001b[0m     colors \u001b[38;5;241m=\u001b[39m \u001b[38;5;28mself\u001b[39m\u001b[38;5;241m.\u001b[39mColors  \u001b[38;5;66;03m# just a shorthand + quicker name lookup\u001b[39;00m\n\u001b[0;32m   1196\u001b[0m     colorsnormal \u001b[38;5;241m=\u001b[39m colors\u001b[38;5;241m.\u001b[39mNormal  \u001b[38;5;66;03m# used a lot\u001b[39;00m\n",
      "File \u001b[1;32m~\\AppData\\Roaming\\Python\\Python312\\site-packages\\IPython\\core\\ultratb.py:1082\u001b[0m, in \u001b[0;36mVerboseTB.format_exception_as_a_whole\u001b[1;34m(self, etype, evalue, etb, number_of_lines_of_context, tb_offset)\u001b[0m\n\u001b[0;32m   1079\u001b[0m \u001b[38;5;28;01massert\u001b[39;00m \u001b[38;5;28misinstance\u001b[39m(tb_offset, \u001b[38;5;28mint\u001b[39m)\n\u001b[0;32m   1080\u001b[0m head \u001b[38;5;241m=\u001b[39m \u001b[38;5;28mself\u001b[39m\u001b[38;5;241m.\u001b[39mprepare_header(\u001b[38;5;28mstr\u001b[39m(etype), \u001b[38;5;28mself\u001b[39m\u001b[38;5;241m.\u001b[39mlong_header)\n\u001b[0;32m   1081\u001b[0m records \u001b[38;5;241m=\u001b[39m (\n\u001b[1;32m-> 1082\u001b[0m     \u001b[38;5;28;43mself\u001b[39;49m\u001b[38;5;241;43m.\u001b[39;49m\u001b[43mget_records\u001b[49m\u001b[43m(\u001b[49m\u001b[43metb\u001b[49m\u001b[43m,\u001b[49m\u001b[43m \u001b[49m\u001b[43mnumber_of_lines_of_context\u001b[49m\u001b[43m,\u001b[49m\u001b[43m \u001b[49m\u001b[43mtb_offset\u001b[49m\u001b[43m)\u001b[49m \u001b[38;5;28;01mif\u001b[39;00m etb \u001b[38;5;28;01melse\u001b[39;00m []\n\u001b[0;32m   1083\u001b[0m )\n\u001b[0;32m   1085\u001b[0m frames \u001b[38;5;241m=\u001b[39m []\n\u001b[0;32m   1086\u001b[0m skipped \u001b[38;5;241m=\u001b[39m \u001b[38;5;241m0\u001b[39m\n",
      "File \u001b[1;32m~\\AppData\\Roaming\\Python\\Python312\\site-packages\\IPython\\core\\ultratb.py:1150\u001b[0m, in \u001b[0;36mVerboseTB.get_records\u001b[1;34m(self, etb, number_of_lines_of_context, tb_offset)\u001b[0m\n\u001b[0;32m   1148\u001b[0m \u001b[38;5;28;01mwhile\u001b[39;00m cf \u001b[38;5;129;01mis\u001b[39;00m \u001b[38;5;129;01mnot\u001b[39;00m \u001b[38;5;28;01mNone\u001b[39;00m:\n\u001b[0;32m   1149\u001b[0m     \u001b[38;5;28;01mtry\u001b[39;00m:\n\u001b[1;32m-> 1150\u001b[0m         mod \u001b[38;5;241m=\u001b[39m inspect\u001b[38;5;241m.\u001b[39mgetmodule(\u001b[43mcf\u001b[49m\u001b[38;5;241;43m.\u001b[39;49m\u001b[43mtb_frame\u001b[49m)\n\u001b[0;32m   1151\u001b[0m         \u001b[38;5;28;01mif\u001b[39;00m mod \u001b[38;5;129;01mis\u001b[39;00m \u001b[38;5;129;01mnot\u001b[39;00m \u001b[38;5;28;01mNone\u001b[39;00m:\n\u001b[0;32m   1152\u001b[0m             mod_name \u001b[38;5;241m=\u001b[39m mod\u001b[38;5;241m.\u001b[39m\u001b[38;5;18m__name__\u001b[39m\n",
      "\u001b[1;31mAttributeError\u001b[0m: 'tuple' object has no attribute 'tb_frame'"
     ]
    }
   ],
   "source": [
    "import random\n",
    "import zombiedice\n",
    "'''\n",
    "class MyZombie:\n",
    "    def __init__(self, name):\n",
    "        # All zombies must have a name:\n",
    "        self.name = name\n",
    "\n",
    "    def turn(self, gameState):\n",
    "        # gameState is a dict with info about the current state of the game.\n",
    "        # You can choose to ignore it in your code.\n",
    "\n",
    "        diceRollResults = zombiedice.roll() # first roll\n",
    "        # roll() returns a dictionary with keys 'brains', 'shotgun', and\n",
    "        # 'footsteps' with how many rolls of each type there were.\n",
    "        # The 'rolls' key is a list of (color, icon) tuples with the\n",
    "        # exact roll result information.\n",
    "        # Example of a roll() return value:\n",
    "        # {'brains': 1, 'footsteps': 1, 'shotgun': 1,\n",
    "        #  'rolls': [('yellow', 'brains'), ('red', 'footsteps'),\n",
    "        #            ('green', 'shotgun')]}\n",
    "\n",
    "        # REPLACE THIS ZOMBIE CODE WITH YOUR OWN:\n",
    "        brains = 0\n",
    "        while diceRollResults is not None:\n",
    "            brains += diceRollResults['brains']\n",
    "\n",
    "            if brains < 2:\n",
    "                diceRollResults = zombiedice.roll() # roll again\n",
    "            else:\n",
    "                break\n",
    "'''\n",
    "class RandomDecisionZombie:\n",
    "    def __init__(self, name):\n",
    "        self.name = name\n",
    "\n",
    "    def turn(self, gameState):\n",
    "        diceRollResults = zombiedice.roll()\n",
    "        if diceRollResults is not None and random.choice([True, False]):\n",
    "                diceRollResults = zombiedice.roll()\n",
    "\n",
    "class TwoBrainsZombie:\n",
    "    def __init__(self, name):\n",
    "        self.name = name\n",
    "\n",
    "    def turn(self, gameState):\n",
    "        brains = 0\n",
    "        diceRollResults = zombiedice.roll()\n",
    "        while diceRollResults is not None:\n",
    "            brains += diceRollResults['brains']\n",
    "            if brains >= 2:\n",
    "                break\n",
    "            diceRollResults = zombiedice.roll()\n",
    "\n",
    "class TwoShotgunsZombie:\n",
    "    def __init__(self, name):\n",
    "        self.name = name\n",
    "\n",
    "    def turn(self, gameState):\n",
    "        shotguns = 0\n",
    "        diceRollResults = zombiedice.roll()\n",
    "        while diceRollResults is not None:\n",
    "            shotguns += diceRollResults['shotgun']\n",
    "            if shotguns >= 2:\n",
    "                break\n",
    "            diceRollResults = zombiedice.roll()\n",
    "\n",
    "class RollUpToFourTimesZombie:\n",
    "    def __init__(self, name):\n",
    "        self.name = name\n",
    "\n",
    "    def turn(self, gameState):\n",
    "        rolls = random. randint(1, 4)\n",
    "        shotguns = 0\n",
    "        for r in range(rolls):\n",
    "            diceRollResults = zombiedice.roll()\n",
    "            if diceRollResults is None:\n",
    "                break\n",
    "            shotguns += diceRollResults['shotgun']\n",
    "            if shotguns >= 2:\n",
    "                break\n",
    "\n",
    "class MoreShotgunsThanBrainsZombie:\n",
    "    def __init__(self, name):\n",
    "        self.name = name\n",
    "\n",
    "    def turn(self, gameState):\n",
    "        brains = 0\n",
    "        shotguns = 0\n",
    "        diceRollResults = zombiedice.roll()\n",
    "        while diceRollResults is not None:\n",
    "            brains += diceRollResults['brains']\n",
    "            shotguns += diceRollResults['shotgun'] \n",
    "            if shotguns > brains:\n",
    "                break\n",
    "            diceRollResults = zombiedice.roll()\n",
    "\n",
    "zombies = (\n",
    "    zombiedice.examples.RandomCoinFlipZombie(name='Random'),\n",
    "    zombiedice.examples.RollsUntilInTheLeadZombie(name='Until Leading'),\n",
    "    zombiedice.examples.MinNumShotgunsThenStopsZombie(name='Stop at 2 Shotguns', minShotguns=2),\n",
    "    zombiedice.examples.MinNumShotgunsThenStopsZombie(name='Stop at 1 Shotgun', minShotguns=1),\n",
    "    # MyZombie(name='My Zombie Bot'),\n",
    "    RandomDecisionZombie(name='Random Decision'),\n",
    "    TwoBrainsZombie(name='Two Brains'),\n",
    "    TwoShotgunsZombie(name='Two Shotguns'),\n",
    "    RollUpToFourTimesZombie(name='Roll Up to Four Times'),\n",
    "    MoreShotgunsThanBrainsZombie(name='More Shotguns Than Brains'),\n",
    "    # Add any other zombie players here.\n",
    ")\n",
    "\n",
    "# Uncomment one of the following lines to run in CLI or Web GUI mode:\n",
    "#zombiedice.runTournament(zombies=zombies, numGames=1000)\n",
    "zombiedice.runWebGui(zombies=zombies, numGames=1000)"
   ]
  },
  {
   "cell_type": "markdown",
   "metadata": {},
   "source": [
    "## Part II: Automating Tasks"
   ]
  },
  {
   "cell_type": "markdown",
   "metadata": {},
   "source": [
    "### Chapter 7: Pattern Matching with Regular Expressions"
   ]
  },
  {
   "cell_type": "markdown",
   "metadata": {},
   "source": [
    "#### __Finding Patterns of Text Without Regular Expressions__"
   ]
  },
  {
   "cell_type": "markdown",
   "metadata": {},
   "source": [
    "Say you want to find a US phone number in a string. The pattern is: three numbers, a hyphen, three numbers, a hyphen, and four numbers. We can use a function to check whether a string matches this pattern, returning either True or False. \n",
    "\n",
    "If you wanted to find a phone number within a larger string, you would have to add even more code to find the phone number pattern. "
   ]
  },
  {
   "cell_type": "markdown",
   "metadata": {},
   "source": [
    "###### ___isPhoneNumber.py___"
   ]
  },
  {
   "cell_type": "code",
   "execution_count": 3,
   "metadata": {},
   "outputs": [
    {
     "name": "stdout",
     "output_type": "stream",
     "text": [
      "Phone number found: 415-555-1011\n",
      "Phone number found: 415-555-9999\n",
      "Done\n"
     ]
    }
   ],
   "source": [
    "def isPhoneNumber(text):\n",
    "    if len(text) != 12:\n",
    "        return False\n",
    "    for i in range(0, 3):\n",
    "        if not text[i].isdecimal():\n",
    "            return False\n",
    "    if text[3] != '-':\n",
    "        return False\n",
    "    for i in range(4, 7):\n",
    "        if not text[i].isdecimal():\n",
    "            return False\n",
    "    if text[7] != '-':\n",
    "        return False\n",
    "    for i in range(8, 12):\n",
    "        if not text[i].isdecimal():\n",
    "            return False\n",
    "    return True\n",
    "\n",
    "message = 'Call me at 415-555-1011 tomorrow. 415-555-9999 is my office.'\n",
    "for i in range(len(message)):\n",
    "    chunk = message[i:i+12]\n",
    "    if isPhoneNumber(chunk):\n",
    "        print('Phone number found: ' + chunk)\n",
    "print('Done')"
   ]
  },
  {
   "cell_type": "markdown",
   "metadata": {},
   "source": [
    "#### __Finding Patterns of Text with Regular Expressions__"
   ]
  },
  {
   "cell_type": "markdown",
   "metadata": {},
   "source": [
    "The previous phone number–finding program works, but it uses a lot of code to do something limited: the isPhoneNumber() function is 17 lines but can find only one pattern of phone numbers.\n",
    "\n",
    "Regular expressions, called __regexes__ for short, are descriptions for a pattern of text. For example, a _\\d_ in a regex stands for a digit character—that is, any single numeral from 0 to 9. The regex _\\d\\d\\d-\\d\\d\\d-\\d\\d\\d\\d_ is used by Python to match the same text pattern the previous isPhoneNumber() function did. But regular expressions can be much more sophisticated. For example, adding a 3 in braces (_{3}_) after a pattern is like saying, “Match this pattern three times.” So the slightly shorter regex _\\d{3}-\\d{3}-\\d{4}_ also matches the correct phone number format."
   ]
  },
  {
   "cell_type": "markdown",
   "metadata": {},
   "source": [
    "##### Creating Regex Objects"
   ]
  },
  {
   "cell_type": "markdown",
   "metadata": {},
   "source": [
    "All the regex functions in Python are in the _re_ module. \n",
    "\n",
    "Passing a string value representing your regular expression to _re.compile()_ returns a _Regex_ object. To create a _Regex_ object that matches the phone number pattern, you'd use:\n",
    "\n",
    "```python\n",
    ">>> phoneNumRegex = re.compile(r'\\d\\d\\d-\\d\\d\\d-\\d\\d\\d\\d')"
   ]
  },
  {
   "cell_type": "markdown",
   "metadata": {},
   "source": [
    "##### Matching Regex Objects"
   ]
  },
  {
   "cell_type": "markdown",
   "metadata": {},
   "source": [
    "A _Regex_ object’s _search()_ method searches the string it is passed for any matches to the regex. This method will return _None_ if the regex pattern is not found in the string, but, if the pattern is found, it will return a _Match_ object, which have a _group()_ method that will return the actual matched text from the searched string. \n",
    "\n",
    "```python\n",
    ">>> phoneNumRegex = re.compile(r'\\d\\d\\d-\\d\\d\\d-\\d\\d\\d\\d')\n",
    ">>> mo = phoneNumRegex.search('My number is 415-555-4242.')\n",
    ">>> print('Phone number found: ' + mo.group())\n",
    "Phone number found: 415-555-4242\n",
    "```\n",
    "\n",
    "Here, we pass our desired pattern to _re.compile()_ and store the resulting _Regex_ object in _phoneNumRegex_. Then we call _search()_ on _phoneNumRegex_ and pass _search()_ the string we want to match for during the search. The result of the search gets stored in the variable _mo_. Knowing that _mo_ contains a _Match_ object and not the null value _None_, we can call _group()_ on _mo_ to return the match. Writing _mo.group()_ inside our _print()_ function call displays the whole match, _415-555-4242_."
   ]
  },
  {
   "cell_type": "markdown",
   "metadata": {},
   "source": [
    "##### Review of Regular Expression Matching"
   ]
  },
  {
   "cell_type": "markdown",
   "metadata": {},
   "source": [
    "The steps to using regular expressions are the following:\n",
    "1. Import the regex module with _import re_.\n",
    "2. Create a _Regex_ object with the _re.compile()_ function. (Remember to use a raw string.)\n",
    "3. Pass the string you want to search into the _Regex_ object’s _search()_ method. This returns a _Match_ object.\n",
    "4. Call the _Match_ object’s _group()_ method to return a string of the actual matched text."
   ]
  },
  {
   "cell_type": "markdown",
   "metadata": {},
   "source": [
    "#### __More Pattern Matching with Regular Expressions__"
   ]
  },
  {
   "cell_type": "markdown",
   "metadata": {},
   "source": [
    "##### Grouping with Parentheses"
   ]
  },
  {
   "cell_type": "markdown",
   "metadata": {},
   "source": [
    "Adding parentheses will create __groups__ in the regex: _(\\d\\d\\d)-(\\d\\d\\d-\\d\\d\\d\\d)_. Then you can use the _group()_ match object method to grab the matching text from just one group.\n",
    "\n",
    "The first set of parentheses in a regex string will be group _1_. The second set will be group _2_. By passing the __integer__ _1_ or _2_ to the _group()_ match object method, you can grab different parts of the matched text. Passing _0_ or nothing to the _group()_ method will return the entire matched text. \n",
    "\n",
    "```python\n",
    ">>> phoneNumRegex = re.compile(r'(\\d\\d\\d)-(\\d\\d\\d-\\d\\d\\d\\d)')\n",
    ">>> mo = phoneNumRegex.search('My number is 415-555-4242.')\n",
    ">>> mo.group(1)\n",
    "'415'\n",
    ">>> mo.group(2)\n",
    "'555-4242'\n",
    ">>> mo.group(0)\n",
    "'415-555-4242'\n",
    ">>> mo.group()\n",
    "'415-555-4242'\n",
    "\n",
    ">>> mo.groups()\n",
    "('415', '555-4242')\n",
    ">>> areaCode, mainNumber = mo.groups()\n",
    ">>> print(areaCode)\n",
    "415\n",
    ">>> print(mainNumber)\n",
    "555-4242\n",
    "```\n",
    "\n",
    "In regular expressions, the following characters have special meanings:\n",
    "\n",
    "```python\n",
    ".  ^  $  *  +  ?  {  }  [  ]  \\  |  (  )\n",
    "```\n",
    "\n",
    "If you want to detect these characters as part of your text pattern, you need to escape them with a backslash:\n",
    "\n",
    "```python\n",
    "\\.  \\^  \\$  \\*  \\+  \\?  \\{  \\}  \\[  \\]  \\\\  \\|  \\(  \\)"
   ]
  },
  {
   "cell_type": "markdown",
   "metadata": {},
   "source": [
    "##### Matching Multiple Groups with the Pipe"
   ]
  },
  {
   "cell_type": "markdown",
   "metadata": {},
   "source": [
    "The | character is called a __pipe__. You can use it anywhere you want to match one of many expressions. \n",
    "\n",
    "```python\n",
    ">>> heroRegex = re.compile (r'Batman|Tina Fey')\n",
    ">>> mo1 = heroRegex.search('Batman and Tina Fey')\n",
    ">>> mo1.group()\n",
    "'Batman'\n",
    "\n",
    ">>> mo2 = heroRegex.search('Tina Fey and Batman')\n",
    ">>> mo2.group()\n",
    "'Tina Fey'\n",
    "```\n",
    "\n",
    "You can also use the pipe to match one of several patterns as part of your regex. \n",
    "\n",
    "```python\n",
    ">>> batRegex = re.compile(r'Bat(man|mobile|copter|bat)')\n",
    ">>> mo = batRegex.search('Batmobile lost a wheel')\n",
    ">>> mo.group()\n",
    "'Batmobile'\n",
    ">>> mo.group(1)\n",
    "'mobile'\n",
    "```\n",
    "\n",
    "If you need to match an actual pipe character, escape it with a backslash, like \\\\|."
   ]
  },
  {
   "cell_type": "markdown",
   "metadata": {},
   "source": [
    "##### Optional Matching with the Question Mark"
   ]
  },
  {
   "cell_type": "markdown",
   "metadata": {},
   "source": [
    "Sometimes there is a pattern that you want to match only optionally. The ? character flags the group that precedes it as an optional part of the pattern. \n",
    "\n",
    "```python\n",
    ">>> batRegex = re.compile(r'Bat(wo)?man')\n",
    ">>> mo1 = batRegex.search('The Adventures of Batman')\n",
    ">>> mo1.group()\n",
    "'Batman'\n",
    "\n",
    ">>> mo2 = batRegex.search('The Adventures of Batwoman')\n",
    ">>> mo2.group()\n",
    "'Batwoman'\n",
    "\n",
    ">>> phoneRegex = re.compile(r'(\\d\\d\\d-)?\\d\\d\\d-\\d\\d\\d\\d')\n",
    ">>> mo1 = phoneRegex.search('My number is 415-555-4242')\n",
    ">>> mo1.group()\n",
    "'415-555-4242'\n",
    "\n",
    ">>> mo2 = phoneRegex.search('My number is 555-4242')\n",
    ">>> mo2.group()\n",
    "'555-4242'\n",
    "```\n",
    "\n",
    "You can think of the ? as saying, “Match zero or one of the group preceding this question mark.” If you need to match an actual question mark character, escape it with \\\\?."
   ]
  },
  {
   "cell_type": "markdown",
   "metadata": {},
   "source": [
    "##### Matching Zero or More with the Star"
   ]
  },
  {
   "cell_type": "markdown",
   "metadata": {},
   "source": [
    "The * means “match zero or more”—the group that precedes the star can occur any number of times in the text. It can be completely absent or repeated over and over again.\n",
    "\n",
    "```python\n",
    ">>> batRegex = re.compile(r'Bat(wo)*man')\n",
    ">>> mo1 = batRegex.search('The Adventures of Batman')\n",
    ">>> mo1.group()\n",
    "'Batman'\n",
    "\n",
    ">>> mo2 = batRegex.search('The Adventures of Batwoman')\n",
    ">>> mo2.group()\n",
    "'Batwoman'\n",
    "\n",
    ">>> mo3 = batRegex.search('The Adventures of Batwowowowoman')\n",
    ">>> mo3.group()\n",
    "'Batwowowowoman'\n",
    "```\n",
    "\n",
    "If you need to match an actual star character, prefix the star in the regular expression with a backslash, \\\\*."
   ]
  },
  {
   "cell_type": "markdown",
   "metadata": {},
   "source": [
    "##### Matching One or More with the Plus"
   ]
  },
  {
   "cell_type": "markdown",
   "metadata": {},
   "source": [
    "The + means “match one or more.” \n",
    "\n",
    "```python\n",
    ">>> batRegex = re.compile(r'Bat(wo)+man')\n",
    ">>> mo1 = batRegex.search('The Adventures of Batwoman')\n",
    ">>> mo1.group()\n",
    "'Batwoman'\n",
    "\n",
    ">>> mo2 = batRegex.search('The Adventures of Batwowowowoman')\n",
    ">>> mo2.group()\n",
    "'Batwowowowoman'\n",
    "\n",
    ">>> mo3 = batRegex.search('The Adventures of Batman')\n",
    ">>> mo3 == None\n",
    "True\n",
    "```\n",
    "\n",
    "If you need to match an actual plus sign character, prefix the plus sign with a backslash to escape it: \\\\+."
   ]
  },
  {
   "cell_type": "markdown",
   "metadata": {},
   "source": [
    "##### Matching Specific Repetitions with Braces"
   ]
  },
  {
   "cell_type": "markdown",
   "metadata": {},
   "source": [
    "If you have a group that you want to repeat a specific number of times, follow the group in your regex with a number in braces. Instead of one number, you can specify a range by writing a minimum, a comma, and a maximum in between the braces. You can also leave out the first or second number in the braces to leave the minimum or maximum unbounded. \n",
    "\n",
    "```python\n",
    "(Ha){3}\n",
    "(Ha)(Ha)(Ha)\n",
    "\n",
    "(Ha){3,5}\n",
    "((Ha)(Ha)(Ha))|((Ha)(Ha)(Ha)(Ha))|((Ha)(Ha)(Ha)(Ha)(Ha))\n",
    "\n",
    ">>> haRegex = re.compile(r'(Ha){3}')\n",
    ">>> mo1 = haRegex.search('HaHaHa')\n",
    ">>> mo1.group()\n",
    "'HaHaHa'\n",
    "\n",
    ">>> mo2 = haRegex.search('Ha')\n",
    ">>> mo2 == None\n",
    "True"
   ]
  },
  {
   "cell_type": "markdown",
   "metadata": {},
   "source": [
    "#### __Greedy and Non-greedy Matching__"
   ]
  },
  {
   "cell_type": "markdown",
   "metadata": {},
   "source": [
    "Python’s regular expressions are __greedy__ by default, which means that in ambiguous situations they will match the longest string possible. The __non-greedy__ (also called __lazy__) version of the braces, which matches the shortest string possible, has the closing brace followed by a question mark.\n",
    "\n",
    "```python\n",
    ">>> greedyHaRegex = re.compile(r'(Ha){3,5}')\n",
    ">>> mo1 = greedyHaRegex.search('HaHaHaHaHa')\n",
    ">>> mo1.group()\n",
    "'HaHaHaHaHa'\n",
    "\n",
    ">>> nongreedyHaRegex = re.compile(r'(Ha){3,5}?')\n",
    ">>> mo2 = nongreedyHaRegex.search('HaHaHaHaHa')\n",
    ">>> mo2.group()\n",
    "'HaHaHa'"
   ]
  },
  {
   "cell_type": "markdown",
   "metadata": {},
   "source": [
    "#### __The findall() Method__"
   ]
  },
  {
   "cell_type": "markdown",
   "metadata": {},
   "source": [
    "The _findall()_ method will return the strings of every match in the searched string. _findall()_ will a list of strings __—as long as there are no groups in the regular expression__.\n",
    "\n",
    "```python\n",
    ">>> phoneNumRegex = re.compile(r'\\d\\d\\d-\\d\\d\\d-\\d\\d\\d\\d') # has no groups\n",
    ">>> phoneNumRegex.findall('Cell: 415-555-9999 Work: 212-555-0000')\n",
    "['415-555-9999', '212-555-0000']\n",
    "```\n",
    "\n",
    "If there __are__ groups in the regular expression, then _findall()_ will return a list of tuples. Each tuple represents a found match, and its items are the matched strings for each group in the regex. \n",
    "\n",
    "```python\n",
    ">>> phoneNumRegex = re.compile(r'(\\d\\d\\d)-(\\d\\d\\d)-(\\d\\d\\d\\d)') # has groups\n",
    ">>> phoneNumRegex.findall('Cell: 415-555-9999 Work: 212-555-0000')\n",
    "[('415', '555', '9999'), ('212', '555', '0000')]"
   ]
  },
  {
   "cell_type": "markdown",
   "metadata": {},
   "source": [
    "#### __Character Classes__"
   ]
  },
  {
   "cell_type": "markdown",
   "metadata": {},
   "source": [
    "_Table 7-1: Shorthand Codes for Common Character Classes_\n",
    "|__Shorthand character class__ |__Represents__                   |\n",
    "|------------------------------|---------------------------------|\n",
    "|_\\d_                          |_Any numeric digit from 0 to 9._ |\n",
    "|_\\D_                          |_Any character that is not a numeric digit from 0 to 9._ |\n",
    "|_\\w_                          |_Any letter, numeric digit, or the underscore character. (Think of this as matching “word” characters.)_ |\n",
    "|_\\W_                          |_Any character that is not a letter, numeric digit, or the underscore character._ |\n",
    "|_\\s_                          |_Any space, tab, or newline character. (Think of this as matching “space” characters.)_ |\n",
    "|_\\S_                          |_Any character that is not a space, tab, or newline._ |\n",
    "\n",
    "Character classes are nice for shortening regular expressions. The character class [0-5] will match only the numbers 0 to 5; this is much shorter than typing (0|1|2|3|4|5).\n",
    "\n",
    "```python\n",
    ">>> xmasRegex = re.compile(r'\\d+\\s\\w+')\n",
    ">>> xmasRegex.findall('12 drummers, 11 pipers, 10 lords, 9 ladies, 8 maids, 7\n",
    "swans, 6 geese, 5 rings, 4 birds, 3 hens, 2 doves, 1 partridge')\n",
    "['12 drummers', '11 pipers', '10 lords', '9 ladies', '8 maids', '7 swans', '6\n",
    "geese', '5 rings', '4 birds', '3 hens', '2 doves', '1 partridge']"
   ]
  },
  {
   "cell_type": "markdown",
   "metadata": {},
   "source": [
    "#### __Making Your Own Character Classes__"
   ]
  },
  {
   "cell_type": "markdown",
   "metadata": {},
   "source": [
    "There are times when you want to match a set of characters but the shorthand character classes (\\d, \\w, \\s, and so on) are too broad. You can define your own character class using square brackets. \n",
    "\n",
    "```python\n",
    ">>> vowelRegex = re.compile(r'[aeiouAEIOU]')\n",
    ">>> vowelRegex.findall('RoboCop eats baby food. BABY FOOD.')\n",
    "['o', 'o', 'o', 'e', 'a', 'a', 'o', 'o', 'A', 'O', 'O']\n",
    "```\n",
    "\n",
    "You can also include ranges of letters or numbers by using a hyphen. For example, the character class _[a-zA-Z0-9]_ will match all lowercase letters, uppercase letters, and numbers. Note that inside the square brackets, the normal regular expression symbols are not interpreted as such.\n",
    "\n",
    "By placing a caret character (^) just after the character class’s opening bracket, you can make a __negative character class__. A negative character class will match all the characters that are not in the character class.\n",
    "\n",
    "```python\n",
    ">>> consonantRegex = re.compile(r'[^aeiouAEIOU]')\n",
    ">>> consonantRegex.findall('RoboCop eats baby food. BABY FOOD.')\n",
    "['R', 'b', 'C', 'p', ' ', 't', 's', ' ', 'b', 'b', 'y', ' ', 'f', 'd', '.', '\n",
    "', 'B', 'B', 'Y', ' ', 'F', 'D', '.']"
   ]
  },
  {
   "cell_type": "markdown",
   "metadata": {},
   "source": [
    "#### __The Caret and Dollar Sign Characters__"
   ]
  },
  {
   "cell_type": "markdown",
   "metadata": {},
   "source": [
    "You can also use the caret symbol (^) at the start of a regex to indicate that a match must occur at the __beginning__ of the searched text. Likewise, you can put a dollar sign (\\$) at the __end__ of the regex to indicate the string must end with this regex pattern. And you can use the ^ and \\$ together to indicate that the entire string must match the regex.\n",
    "\n",
    "```python\n",
    ">>> beginsWithHello = re.compile(r'^Hello')\n",
    ">>> beginsWithHello.search('Hello, world!')\n",
    "<re.Match object; span=(0, 5), match='Hello'>\n",
    ">>> beginsWithHello.search('He said hello.') == None\n",
    "True\n",
    "\n",
    ">>> endsWithNumber = re.compile(r'\\d$')\n",
    ">>> endsWithNumber.search('Your number is 42')\n",
    "<re.Match object; span=(16, 17), match='2'>\n",
    ">>> endsWithNumber.search('Your number is forty two.') == None\n",
    "True\n",
    "\n",
    ">>> wholeStringIsNum = re.compile(r'^\\d+$')\n",
    ">>> wholeStringIsNum.search('1234567890')\n",
    "<re.Match object; span=(0, 10), match='1234567890'>\n",
    ">>> wholeStringIsNum.search('12345xyz67890') == None\n",
    "True\n",
    ">>> wholeStringIsNum.search('12  34567890') == None\n",
    "True\n",
    "```\n",
    "\n",
    "Use the mnemonic “Carrots cost dollars” to remember that the caret comes first and the dollar sign comes last."
   ]
  },
  {
   "cell_type": "markdown",
   "metadata": {},
   "source": [
    "#### __The Wildcard Character__"
   ]
  },
  {
   "cell_type": "markdown",
   "metadata": {},
   "source": [
    "The . (or __dot__) character in a regular expression is called a __wildcard__ and will match any character except for a newline. \n",
    "\n",
    "```python\n",
    ">>> atRegex = re.compile(r'.at')\n",
    ">>> atRegex.findall('The cat in the hat sat on the flat mat.')\n",
    "['cat', 'hat', 'sat', 'lat', 'mat']"
   ]
  },
  {
   "cell_type": "markdown",
   "metadata": {},
   "source": [
    "##### Matching Everything with Dot-Star"
   ]
  },
  {
   "cell_type": "markdown",
   "metadata": {},
   "source": [
    "Sometimes you will want to match everything and anything. For example, say you want to match the string 'First Name:', followed by any and all text, followed by 'Last Name:', and then followed by anything again. You can use the dot-star (.*) to stand in for that “anything.” \n",
    "\n",
    "```python\n",
    ">>> nameRegex = re.compile(r'First Name: (.*) Last Name: (.*)')\n",
    ">>> mo = nameRegex.search('First Name: Al Last Name: Sweigart')\n",
    ">>> mo.group(1)\n",
    "'Al'\n",
    ">>> mo.group(2)\n",
    "'Sweigart'\n",
    "```\n",
    "\n",
    "The dot-star uses __greedy__ mode: It will always try to match as much text as possible. To match any and all text in a __non-greedy__ fashion, use the dot, star, and question mark (.*?). Like with braces, the question mark tells Python to match in a non-greedy way.\n",
    "\n",
    "```python\n",
    ">>> nongreedyRegex = re.compile(r'<.*?>')\n",
    ">>> mo = nongreedyRegex.search('<To serve man> for dinner.>')\n",
    ">>> mo.group()\n",
    "'<To serve man>'\n",
    "\n",
    ">>> greedyRegex = re.compile(r'<.*>')\n",
    ">>> mo = greedyRegex.search('<To serve man> for dinner.>')\n",
    ">>> mo.group()\n",
    "'<To serve man> for dinner.>'"
   ]
  },
  {
   "cell_type": "markdown",
   "metadata": {},
   "source": [
    "##### Matching Newlines with the Dot Character"
   ]
  },
  {
   "cell_type": "markdown",
   "metadata": {},
   "source": [
    "By passing _re.DOTALL_ as the second argument to _re.compile()_, you can make the dot character match __all__ characters, including the newline character.\n",
    "\n",
    "```python\n",
    ">>> newlineRegex = re.compile('.*', re.DOTALL)\n",
    ">>> newlineRegex.search('Serve the public trust.\\nProtect the innocent.\n",
    "\\nUphold the law.').group()\n",
    "'Serve the public trust.\\nProtect the innocent.\\nUphold the law.'"
   ]
  },
  {
   "cell_type": "markdown",
   "metadata": {},
   "source": [
    "#### __Review of Regex Symbols__"
   ]
  },
  {
   "cell_type": "markdown",
   "metadata": {},
   "source": [
    "- The ? matches zero or one of the preceding group.\n",
    "- The * matches zero or more of the preceding group.\n",
    "- The + matches one or more of the preceding group.\n",
    "- The {n} matches exactly n of the preceding group.\n",
    "- The {n,} matches n or more of the preceding group.\n",
    "- The {,m} matches 0 to m of the preceding group.\n",
    "- The {n,m} matches at least n and at most m of the preceding group.\n",
    "- {n,m}? or *? or +? performs a non-greedy match of the preceding group.\n",
    "- ^spam means the string must begin with spam.\n",
    "- spam$ means the string must end with spam.\n",
    "- The . matches any character, except newline characters.\n",
    "- \\d, \\w, and \\s match a digit, word, or space character, respectively.\n",
    "- \\D, \\W, and \\S match anything except a digit, word, or space character, respectively.\n",
    "- [abc] matches any character between the brackets (such as a, b, or c).\n",
    "- [^abc] matches any character that isn’t between the brackets."
   ]
  },
  {
   "cell_type": "markdown",
   "metadata": {},
   "source": [
    "#### __Case-Insensitive Matching__"
   ]
  },
  {
   "cell_type": "markdown",
   "metadata": {},
   "source": [
    "To make your regex case-insensitive, you can pass _re.IGNORECASE_ or _re.I_ as a second argument to _re.compile()_. \n",
    "\n",
    "```python\n",
    ">>> robocop = re.compile(r'robocop', re.I)\n",
    ">>> robocop.search('RoboCop is part man, part machine, all cop.').group()\n",
    "'RoboCop'\n",
    ">>> robocop.search('ROBOCOP protects the innocent.').group()\n",
    "'ROBOCOP'\n",
    ">>> robocop.search('Al, why does your programming book talk about robocop so much?').group()\n",
    "'robocop'"
   ]
  },
  {
   "cell_type": "markdown",
   "metadata": {},
   "source": [
    "#### __Substituting Strings with the sub() Method__"
   ]
  },
  {
   "cell_type": "markdown",
   "metadata": {},
   "source": [
    "Regular expressions can not only find text patterns but can also substitute new text in place of those patterns. The _sub()_ method for Regex objects is passed two arguments. The first argument is a string to replace any matches. The second is the string for the regular expression. The _sub()_ method returns a string with the substitutions applied.\n",
    "\n",
    "Sometimes you may need to use the matched text itself as part of the substitution. In the first argument to _sub()_, you can type \\1, \\2, \\3, and so on, to mean “Enter the text of group 1, 2, 3, and so on, in the substitution.”\n",
    "\n",
    "```python\n",
    ">>> agentNamesRegex = re.compile(r'Agent (\\w)\\w*')\n",
    ">>> agentNamesRegex.sub(r'\\1****', 'Agent Alice told Agent Carol that Agent Eve knew Agent Bob was a double agent.')\n",
    "A**** told C**** that E**** knew B**** was a double agent.'"
   ]
  },
  {
   "cell_type": "markdown",
   "metadata": {},
   "source": [
    "#### __Managing Complex Regexes__"
   ]
  },
  {
   "cell_type": "markdown",
   "metadata": {},
   "source": [
    "You can tell the _re.compile()_ function to ignore whitespace and comments inside the regular expression string. This “verbose mode” can be enabled by passing the variable _re.VERBOSE_ as the second argument to _re.compile()_.\n",
    "\n",
    "```python\n",
    "phoneRegex = re.compile(r'''(\n",
    "    (\\d{3}|\\(\\d{3}\\))?            # area code\n",
    "    (\\s|-|\\.)?                    # separator\n",
    "    \\d{3}                         # first 3 digits\n",
    "    (\\s|-|\\.)                     # separator\n",
    "    \\d{4}                         # last 4 digits\n",
    "    (\\s*(ext|x|ext.)\\s*\\d{2,5})?  # extension\n",
    "    )''', re.VERBOSE)\n",
    "```\n",
    "\n",
    "Note how uses the triple-quote syntax (''') to create a multiline string so that you can spread the regular expression definition over many lines, making it much more legible.\n",
    "\n",
    "The comment rules inside the regular expression string are the same as regular Python code: the # symbol and everything after it to the end of the line are ignored. Also, the extra spaces inside the multiline string for the regular expression are not considered part of the text pattern to be matched. This lets you organize the regular expression so it’s easier to read."
   ]
  },
  {
   "cell_type": "markdown",
   "metadata": {},
   "source": [
    "#### __Combining re.IGNORECASE, re.DOTALL, and re.VERBOSE__"
   ]
  },
  {
   "cell_type": "markdown",
   "metadata": {},
   "source": [
    "The _re.compile()_ function takes only a single value as its second argument. You can get around this limitation by combining the _re.IGNORECASE, re.DOTALL_, and _re.VERBOSE_ variables using the pipe character (|), which in this context is known as the __bitwise__ or operator.\n",
    "\n",
    "```python\n",
    ">>> someRegexValue = re.compile('foo', re.IGNORECASE | re.DOTALL)\n",
    ">>> someRegexValue = re.compile('foo', re.IGNORECASE | re.DOTALL | re.VERBOSE)"
   ]
  },
  {
   "cell_type": "markdown",
   "metadata": {},
   "source": [
    "#### __Project: Phone Number and Email Address Extractor__"
   ]
  },
  {
   "cell_type": "markdown",
   "metadata": {},
   "source": [
    "Your phone and email address extractor will need to do the following:\n",
    "\n",
    "1. Get the text off the clipboard.\n",
    "2. Find all phone numbers and email addresses in the text.\n",
    "3. Paste them onto the clipboard.\n",
    "\n",
    "Now you can start thinking about how this might work in code. The code will need to do the following:\n",
    "\n",
    "1. Use the _pyperclip_ module to copy and paste strings.\n",
    "2. Create two regexes, one for matching phone numbers and the other for matching email addresses.\n",
    "3. Find all matches, not just the first match, of both regexes.\n",
    "4. Neatly format the matched strings into a single string to paste.\n",
    "5. Display some kind of message if no matches were found in the text."
   ]
  },
  {
   "cell_type": "markdown",
   "metadata": {},
   "source": [
    "##### Step 1: Create a Regex for Phone Numbers"
   ]
  },
  {
   "cell_type": "markdown",
   "metadata": {},
   "source": [
    "First, you have to create a regular expression to search for phone numbers. The phone number begins with an __optional__ area code, so the area code group is followed with a question mark. Since the area code can be just three digits, you should have a pipe joining those parts.\n",
    "\n",
    "The phone number separator character can be a space (\\s), hyphen (-), or period (.), so these parts should also be joined by pipes. The next few parts of the regular expression are straightforward: three digits, followed by another separator, followed by four digits. The last part is an optional extension made up of any number of spaces followed by ext, x, or ext., followed by two to five digits."
   ]
  },
  {
   "cell_type": "markdown",
   "metadata": {},
   "source": [
    "##### Step 2: Create a Regex for Email Addresses"
   ]
  },
  {
   "cell_type": "markdown",
   "metadata": {},
   "source": [
    "The username part of the email address is one or more characters that can be any of the following: lowercase and uppercase letters, numbers, a dot, an underscore, a percent sign, a plus sign, or a hyphen. You can put all of these into a character class: [a-zA-Z0-9._%+-].\n",
    "\n",
    "The domain and username are separated by an @ symbol. The domain name has a slightly less permissive character class with only letters, numbers, periods, and hyphens: [a-zA-Z0-9.-]. And last will be the “dot-com” part (technically known as the __top-level domain__), which can really be dot-anything. This is between two and four characters.\n",
    "\n",
    "The format for email addresses has a lot of weird rules. This regular expression won’t match every possible valid email address, but it’ll match almost any typical email address you’ll encounter."
   ]
  },
  {
   "cell_type": "markdown",
   "metadata": {},
   "source": [
    "##### Step 3: Find All Matches in the Clipboard Text"
   ]
  },
  {
   "cell_type": "markdown",
   "metadata": {},
   "source": [
    "The _pyperclip.paste()_ function will get a string value of the text on the clipboard, and the _findall()_ regex method will return a list of tuples.\n",
    "\n",
    "There is one tuple for each match, and each tuple contains strings for each group in the regular expression. You’ll store the matches in a list variable named _matches_. It starts off as an empty list, and a couple _for_ loops. For the email addresses, you append group 0 of each match. For the matched phone numbers, you want the phone number appended to be in a single, standard format. The _phoneNum_ variable contains a string built from groups 1, 3, 5, and 8 of the matched text. (These groups are the area code, first three digits, last four digits, and extension.)"
   ]
  },
  {
   "cell_type": "markdown",
   "metadata": {},
   "source": [
    "##### Step 4: Join the Matches into a String for the Clipboard"
   ]
  },
  {
   "cell_type": "markdown",
   "metadata": {},
   "source": [
    "The _pyperclip.copy()_ function takes only a single string value, not a list of strings, so you call the _join()_ method on matches.\n",
    "\n",
    "To make it easier to see that the program is working, let’s print any matches you find to the terminal. If no phone numbers or email addresses were found, the program should tell the user this."
   ]
  },
  {
   "cell_type": "markdown",
   "metadata": {},
   "source": [
    "###### ___phoneAndEmail.py___"
   ]
  },
  {
   "cell_type": "code",
   "execution_count": 2,
   "metadata": {},
   "outputs": [
    {
     "name": "stdout",
     "output_type": "stream",
     "text": [
      "No phone numbers or email addresses found.\n"
     ]
    }
   ],
   "source": [
    "#! python3\n",
    "# phoneAndEmail.py - Finds phone numbers and email addresses on the clipboard.\n",
    "\n",
    "import pyperclip, re\n",
    "\n",
    "phoneRegex = re.compile(r'''(\n",
    "    (\\d{3}|\\(\\d{3}\\))?                # area code\n",
    "    (\\s|-|\\.)?                        # separator\n",
    "    (\\d{3})                           # first 3 digits\n",
    "    (\\s|-|\\.)                         # separator\n",
    "    (\\d{4})                           # last 4 digits\n",
    "    (\\s*(ext|x|ext.)\\s*(\\d{2,5}))?    # extension\n",
    "    )''', re.VERBOSE)\n",
    "\n",
    "emailRegex = re.compile(r'''(\n",
    "  [a-zA-Z0-9._%+-]+      # username\n",
    "  @                      # @ symbol\n",
    "  [a-zA-Z0-9.-]+         # domain name\n",
    "  (\\.[a-zA-Z]{2,4})       # dot-something\n",
    "  )''', re.VERBOSE)\n",
    "\n",
    "# Find matches in clipboard text.\n",
    "text = str(pyperclip.paste())\n",
    "\n",
    "matches = []\n",
    "for groups in phoneRegex.findall(text):\n",
    "    phoneNum = '-'.join([groups[1], groups[3], groups[5]])\n",
    "    if groups[8] != '':\n",
    "        phoneNum += ' x' + groups[8]\n",
    "    matches.append(phoneNum)\n",
    "for groups in emailRegex.findall(text):\n",
    "    matches.append(groups[0])\n",
    "\n",
    "# Copy results to the clipboard.\n",
    "if len(matches) > 0:\n",
    "    pyperclip.copy('\\n'.join(matches))\n",
    "    print('Copied to clipboard:')\n",
    "    print('\\n'.join(matches))\n",
    "else:\n",
    "    print('No phone numbers or email addresses found.')"
   ]
  },
  {
   "cell_type": "markdown",
   "metadata": {},
   "source": [
    "##### Ideas for Similar Programs"
   ]
  },
  {
   "cell_type": "markdown",
   "metadata": {},
   "source": [
    "Identifying patterns of text (and possibly substituting them with the _sub()_ method) has many different potential applications.\n",
    "\n",
    "- Find website URLs that begin with http:// or https://.\n",
    "- Clean up dates in different date formats (such as 3/14/2019, 03-14-2019, and 2015/3/19) by replacing them with dates in a single, standard format.\n",
    "- Remove sensitive information such as Social Security or credit card numbers.\n",
    "- Find common typos such as multiple spaces between words, repeated words, or multiple exclamation marks at the end of sentences."
   ]
  },
  {
   "cell_type": "markdown",
   "metadata": {},
   "source": [
    "#### ___My answers to the practice questions___"
   ]
  },
  {
   "cell_type": "markdown",
   "metadata": {},
   "source": [
    "1. re.compile().\n",
    "2. To fit all possibilities.\n",
    "3. Returns a match object.\n",
    "4. With the group() method.\n",
    "5. The group 0 covers the full expression, group 1 is the content of first parentheses and the group 2 the content of second parentheses.\n",
    "6. With a backlash: \\\\., \\\\( and \\\\).\n",
    "7. It depends if the regex has groups or not.\n",
    "8. It is like an 'or'.\n",
    "9. Match zero or one of preceding, but also indicates the code to be non-greedy while matching.\n",
    "10. For the + you have to specify the content of what you'll match (it has to exist) whereas the * needs surroundings of the content (it can be nothing).\n",
    "11. {3} will look for an expression repeated 3 times, but for {3, 5} will look for an expression of minimum 3 and will go up to 5 times repetition.\n",
    "12. \\\\d matches a digit, \\\\w matches a word and \\\\s matches a space.\n",
    "13. Do the inverse of last answer each.\n",
    "14. The question mark does a non-greedy match, where the matching ends as soon as it finds a character like the last regex. Without it, the method would look up to the very last one.\n",
    "15. [0-9a-z]\n",
    "16. re.I as second argument of re.compile or re.IGNORECASE\n",
    "17. The dot matches all characters except new line, so re.DOTALL just includes it.\n",
    "18. 'X drummers, X pipers, five rings, X hens'\n",
    "19. Allows you to make comments or add new lines inside the string (with triple quote marks) to make the regex more readable.\n",
    "20. re.compile(r'^\\d{1,3}(,\\d{3})*$')\n",
    "21. re.compile(r'^[A-Z][a-zA-Z]+\\s(Watanabe)$')\n",
    "22. re.compile(r'^(Alice|Bob|Carol)\\s(eats|pets|throws)\\s(apples|cats|baseballs)\\.$', re.I)"
   ]
  },
  {
   "cell_type": "markdown",
   "metadata": {},
   "source": [
    "#### ___Practice Projects___"
   ]
  },
  {
   "cell_type": "markdown",
   "metadata": {},
   "source": [
    "##### Date Detection"
   ]
  },
  {
   "cell_type": "markdown",
   "metadata": {},
   "source": [
    "Write a regular expression that can detect dates in the DD/MM/YYYY format. Assume that the days range from 01 to 31, the months range from 01 to 12, and the years range from 1000 to 2999. Then store these strings into variables named month, day, and year, and write additional code that can detect if it is a valid date. April, June, September, and November have 30 days, February has 28 days, and the rest of the months have 31 days. February has 29 days in leap years. Leap years are every year evenly divisible by 4, except for years evenly divisible by 100, unless the year is also evenly divisible by 400. "
   ]
  },
  {
   "cell_type": "markdown",
   "metadata": {},
   "source": [
    "###### ___detectDate.py___"
   ]
  },
  {
   "cell_type": "code",
   "execution_count": 2,
   "metadata": {},
   "outputs": [
    {
     "name": "stdout",
     "output_type": "stream",
     "text": [
      "29/02/2020\n",
      "28/02/2019\n",
      "01/01/2000\n",
      "31/12/2999\n",
      "15/07/1500\n",
      "01/04/1000\n",
      "No match\n",
      "No match\n",
      "No match\n",
      "No match\n",
      "No match\n",
      "No match\n",
      "No match\n",
      "No match\n",
      "01/01/1000\n",
      "31/12/2999\n",
      "29/02/2400\n",
      "No match\n",
      "No match\n",
      "No match\n",
      "No match\n",
      "No match\n",
      "No match\n"
     ]
    }
   ],
   "source": [
    "import re\n",
    "\n",
    "def validDate(day, month, year):\n",
    "    day = int(day)\n",
    "    month = int(month)\n",
    "    year = int(year)\n",
    "    if year < 1000 or year > 2999 or month < 1 or month >12 or day < 1:\n",
    "        return False\n",
    "    elif month in [4, 6, 9, 11] and day <= 30:\n",
    "        return True\n",
    "    elif month == 2:\n",
    "        if day <= 28:\n",
    "            return True\n",
    "        elif day == 29:\n",
    "            if year % 400 == 0 or (year % 100 != 0 and year % 4 == 0):\n",
    "                return True\n",
    "            else:\n",
    "                return False\n",
    "        else:\n",
    "            return False\n",
    "    elif month in [1, 3, 5, 7, 8, 10, 12] and day <= 31:\n",
    "        return True\n",
    "    else:\n",
    "        return False\n",
    "\n",
    "def detectDate(date):\n",
    "    dateRegex = re.compile(r'^(\\d{2})/(\\d{2})/(\\d{4})$')\n",
    "    match = dateRegex.search(date)\n",
    "    if match:\n",
    "        day = match.group(1)\n",
    "        month = match.group(2)\n",
    "        year = match.group(3)\n",
    "        if validDate(day, month, year) == True:\n",
    "            return day+'/'+month+'/'+year\n",
    "        else:\n",
    "            return 'No match'\n",
    "    else: \n",
    "        return 'No match'\n",
    " \n",
    "   \n",
    "# Valid Test Cases\n",
    "print(detectDate('29/02/2020'))\n",
    "print(detectDate('28/02/2019'))\n",
    "print(detectDate('01/01/2000'))\n",
    "print(detectDate('31/12/2999'))\n",
    "print(detectDate('15/07/1500'))\n",
    "print(detectDate('01/04/1000'))\n",
    "\n",
    "# Invalid Test Cases\n",
    "print(detectDate('32/01/2000'))\n",
    "print(detectDate('15/13/2000'))\n",
    "print(detectDate('29/02/2019'))\n",
    "print(detectDate('15/07/0999'))\n",
    "print(detectDate('15/07/3000'))\n",
    "print(detectDate('00/01/2000'))\n",
    "print(detectDate('15/00/2000'))\n",
    "print(detectDate('31/04/2000'))\n",
    "\n",
    "# Edge Cases\n",
    "print(detectDate('01/01/1000'))\n",
    "print(detectDate('31/12/2999'))\n",
    "print(detectDate('29/02/2400'))\n",
    "print(detectDate('29/02/2100'))\n",
    "\n",
    "# Format Check Test Cases\n",
    "print(detectDate('15-07-2000'))\n",
    "print(detectDate('2000/07/15'))\n",
    "print(detectDate('/07/2000'))\n",
    "print(detectDate('15//2000'))\n",
    "print(detectDate('15/07/'))"
   ]
  },
  {
   "cell_type": "markdown",
   "metadata": {},
   "source": [
    "##### Strong Password Detection"
   ]
  },
  {
   "cell_type": "markdown",
   "metadata": {},
   "source": [
    "Write a function that uses regular expressions to make sure the password string it is passed is strong. A strong password is defined as one that is at least eight characters long, contains both uppercase and lowercase characters, and has at least one digit."
   ]
  },
  {
   "cell_type": "markdown",
   "metadata": {},
   "source": [
    "###### ___strongPassword.py___"
   ]
  },
  {
   "cell_type": "code",
   "execution_count": 1,
   "metadata": {},
   "outputs": [
    {
     "name": "stdout",
     "output_type": "stream",
     "text": [
      "Password123\n",
      "No match\n",
      "No match\n",
      "No match\n",
      "No match\n"
     ]
    }
   ],
   "source": [
    "import re\n",
    "\n",
    "def isStrongPassword(password):\n",
    "    length_password = re.compile(r'.{8,}')\n",
    "    uppercase_password = re.compile(r'[A-Z]')\n",
    "    lowercase_password = re.compile(r'[a-z]')\n",
    "    digit_password = re.compile(r'\\d')\n",
    "    if length_password.search(password) and uppercase_password.search(password) and lowercase_password.search(password) and digit_password.search(password):\n",
    "        return password\n",
    "    return 'No match'\n",
    "\n",
    "# Test cases\n",
    "print(isStrongPassword('Password123'))  \n",
    "print(isStrongPassword('password123'))  \n",
    "print(isStrongPassword('PASSWORD123'))  \n",
    "print(isStrongPassword('Password'))     \n",
    "print(isStrongPassword('Pass12'))      "
   ]
  },
  {
   "cell_type": "markdown",
   "metadata": {},
   "source": [
    "##### Regex Version of the strip() Method"
   ]
  },
  {
   "cell_type": "markdown",
   "metadata": {},
   "source": [
    "Write a function that takes a string and does the same thing as the strip() string method. If no other arguments are passed other than the string to strip, then whitespace characters will be removed from the beginning and end of the string. Otherwise, the characters specified in the second argument to the function will be removed from the string."
   ]
  },
  {
   "cell_type": "markdown",
   "metadata": {},
   "source": [
    "###### ___regexStripMethod.py___"
   ]
  },
  {
   "cell_type": "code",
   "execution_count": 1,
   "metadata": {},
   "outputs": [
    {
     "name": "stdout",
     "output_type": "stream",
     "text": [
      "phrase\n",
      "Hello\n",
      "Hello, World!\n",
      "Hello, World!\n",
      "Hello\n",
      "Hello\n",
      "Hello\n",
      "\n",
      "\n"
     ]
    }
   ],
   "source": [
    "import re\n",
    "\n",
    "def regex_strip_method(phrase, to_strip = None):\n",
    "    if to_strip == None:\n",
    "        to_strip = r'\\s'\n",
    "    else:\n",
    "        to_strip = re.escape(to_strip)\n",
    "    \n",
    "    strip_regex = f'^[{to_strip}]+|[{to_strip}]+$'\n",
    "    return re.sub(strip_regex, '', phrase)\n",
    "\n",
    "# Test Cases\n",
    "print(regex_strip_method('     phrase     '))\n",
    "print(regex_strip_method('$$$Hello$$$', '$'))  # Output should be 'Hello'\n",
    "print(regex_strip_method('   Hello, World!   '))  # Output should be 'Hello, World!' (default whitespace)\n",
    "print(regex_strip_method('\\t\\t\\tHello, World!\\n\\n\\n', '\\t\\n'))  # Output should be 'Hello, World!'\n",
    "print(regex_strip_method('###Hello###', '#'))  # Output should be 'Hello'\n",
    "print(regex_strip_method('***Hello***', '*'))  # Output should be 'Hello'\n",
    "print(regex_strip_method('---Hello---', '-'))  # Output should be 'Hello'\n",
    "print(regex_strip_method('   '))  # Output should be '' (default whitespace)\n",
    "print(regex_strip_method(''))  # Output should be '' (default whitespace)"
   ]
  },
  {
   "cell_type": "markdown",
   "metadata": {},
   "source": [
    "### Chapter 8: Input Validation"
   ]
  },
  {
   "cell_type": "markdown",
   "metadata": {},
   "source": [
    "__Input validation__ code checks that values entered by the user, such as text from the _input()_ function, are formatted correctly."
   ]
  },
  {
   "cell_type": "markdown",
   "metadata": {},
   "source": [
    "#### __The PyInputPlus Module__"
   ]
  },
  {
   "cell_type": "markdown",
   "metadata": {},
   "source": [
    "If the user ever enters invalid input, such as a badly formatted date or a number that is outside of an intended range, _PyInputPlus_ will reprompt them for input. It has several functions for different kinds of input:\n",
    "\n",
    "- _inputStr()_ Is like the built-in _input()_ function but has the general _PyInputPlus_ features. You can also pass a custom validation function to it.\n",
    "- _inputNum()_ Ensures the user enters a number and returns an int or float, depending on if the number has a decimal point in it.\n",
    "- _inputChoice()_ Ensures the user enters one of the provided choices.\n",
    "- _inputMenu()_ Is similar to _inputChoice()_, but provides a menu with numbered or lettered options.\n",
    "- _inputDatetime()_ Ensures the user enters a date and time.\n",
    "- _inputYesNo()_ Ensures the user enters a “yes” or “no” response.\n",
    "- _inputBool()_ Is similar to _inputYesNo()_, but takes a “True” or “False” response and returns a Boolean value.\n",
    "- _inputEmail()_ Ensures the user enters a valid email address.\n",
    "- _inputFilepath()_ Ensures the user enters a valid file path and filename, and can optionally check that a file with that name exists.\n",
    "- _inputPassword()_ Is like the built-in _input()_, but displays * characters as the user types so that passwords, or other sensitive information, aren’t displayed on the screen.\n",
    "\n",
    "```python\n",
    ">>> import pyinputplus as pyip\n",
    ">>> response = pyip.inputNum()\n",
    "five\n",
    "'five' is not a number.\n",
    "42\n",
    ">>> response\n",
    "42\n",
    "```\n",
    "\n",
    "The as _pyip_ code in the _import_ statement saves us from typing _pyinputplus_ each time we want to call a _PyInputPlus_ function.\n",
    "\n",
    "```python\n",
    ">>> response = input('Enter a number: ')\n",
    "Enter a number: 42\n",
    ">>> response\n",
    "'42'\n",
    ">>> import pyinputplus as pyip\n",
    ">>> response = pyip.inputInt(prompt='Enter a number: ')\n",
    "Enter a number: cat\n",
    "'cat' is not an integer.\n",
    "Enter a number: 42\n",
    ">>> response\n",
    "42\n",
    "```\n",
    "\n",
    "Use Python’s _help()_ function to find out more about each of these functions. For example, _help(pyip.inputChoice)_ displays help information for the _inputChoice()_ function."
   ]
  },
  {
   "cell_type": "markdown",
   "metadata": {},
   "source": [
    "##### The min, max, greaterThan, and lessThan Keyword Arguments"
   ]
  },
  {
   "cell_type": "markdown",
   "metadata": {},
   "source": [
    "The _inputNum()_, _inputInt()_, and _inputFloat()_ functions, which accept int and float numbers, also have _min_, _max_, _greaterThan_, and _lessThan_ keyword arguments for specifying a range of valid values. \n",
    "\n",
    "```python\n",
    ">>> import pyinputplus as pyip\n",
    ">>> response = pyip.inputNum('Enter num: ', min=4)\n",
    "Enter num:3\n",
    "Input must be at minimum 4.\n",
    "Enter num:4\n",
    ">>> response\n",
    "4\n",
    ">>> response = pyip.inputNum('Enter num: ', greaterThan=4)\n",
    "Enter num: 4\n",
    "Input must be greater than 4.\n",
    "Enter num: 5\n",
    ">>> response\n",
    "5\n",
    ">>> response = pyip.inputNum('>', min=4, lessThan=6)\n",
    "Enter num: 6\n",
    "Input must be less than 6.\n",
    "Enter num: 3\n",
    "Input must be at minimum 4.\n",
    "Enter num: 4\n",
    ">>> response\n",
    "4\n",
    "```\n",
    "\n",
    "These keyword arguments are optional."
   ]
  },
  {
   "cell_type": "markdown",
   "metadata": {},
   "source": [
    "##### The blank Keyword Argument"
   ]
  },
  {
   "cell_type": "markdown",
   "metadata": {},
   "source": [
    "Use _blank=True_ if you’d like to make input optional so that the user doesn’t need to enter anything.\n",
    "\n",
    "```python\n",
    ">>> import pyinputplus as pyip\n",
    ">>> response = pyip.inputNum('Enter num: ')\n",
    "Enter num:(blank input entered here)\n",
    "Blank values are not allowed.\n",
    "Enter num: 42\n",
    ">>> response\n",
    "42\n",
    ">>> response = pyip.inputNum(blank=True)\n",
    "(blank input entered here)\n",
    ">>> response\n",
    "''\n",
    "```"
   ]
  },
  {
   "cell_type": "markdown",
   "metadata": {},
   "source": [
    "##### The limit, timeout, and default Keyword Arguments"
   ]
  },
  {
   "cell_type": "markdown",
   "metadata": {},
   "source": [
    "If you’d like a function to stop asking the user for input after a certain number of tries or a certain amount of time, you can use the _limit_ and _timeout_ keyword arguments. Pass an integer for the _limit_ keyword argument to determine how many attempts a PyInputPlus function will make to receive valid input before giving up, and pass an integer for the _timeout_ keyword argument to determine how many seconds the user has to enter valid input before the PyInputPlus function gives up.\n",
    "\n",
    "If the user fails to enter valid input, these keyword arguments will cause the function to raise a _RetryLimitException_ or _TimeoutException_, respectively. \n",
    "\n",
    "```python\n",
    ">>> import pyinputplus as pyip\n",
    ">>> response = pyip.inputNum(limit=2)\n",
    "blah\n",
    "'blah' is not a number.\n",
    "Enter num: number\n",
    "'number' is not a number.\n",
    "Traceback (most recent call last):\n",
    "    --snip--\n",
    "pyinputplus.RetryLimitException\n",
    ">>> response = pyip.inputNum(timeout=10)\n",
    "42 (entered after 10 seconds of waiting)\n",
    "Traceback (most recent call last):\n",
    "    --snip--\n",
    "pyinputplus.TimeoutException\n",
    "```\n",
    "\n",
    "When you use these keyword arguments and also pass a _default_ keyword argument, the function returns the default value instead of raising an exception.\n",
    "\n",
    "```python\n",
    ">>> response = pyip.inputNum(limit=2, default='N/A')\n",
    "hello\n",
    "'hello' is not a number.\n",
    "world\n",
    "'world' is not a number.\n",
    ">>> response\n",
    "'N/A'\n",
    "```\n",
    "\n",
    "Instead of raising _RetryLimitException_, the _inputNum()_ function simply returns the string 'N/A'."
   ]
  },
  {
   "cell_type": "markdown",
   "metadata": {},
   "source": [
    "##### The allowRegexes and blockRegexes Keyword Arguments"
   ]
  },
  {
   "cell_type": "markdown",
   "metadata": {},
   "source": [
    "The _allowRegexes_ and _blockRegexes_ keyword arguments take a list of regular expression strings to determine what the PyInputPlus function will accept or reject as valid input.\n",
    "\n",
    "```python\n",
    ">>> import pyinputplus as pyip\n",
    ">>> response = pyip.inputNum(allowRegexes=[r'(I|V|X|L|C|D|M)+', r'zero'])\n",
    "XLII\n",
    ">>> response\n",
    "'XLII'\n",
    ">>> response = pyip.inputNum(allowRegexes=[r'(i|v|x|l|c|d|m)+', r'zero'])\n",
    "xlii\n",
    ">>> response\n",
    "'xlii'\n",
    "```\n",
    "\n",
    "Of course, this regex affects only what letters the _inputNum()_ function will accept from the user; the function will still accept Roman numerals with invalid ordering such as 'XVX' or 'MILLI' because the _r'(I|V|X|L|C|D|M)+'_ regular expression accepts those strings. You can also specify a list of regular expression strings that a PyInputPlus function won’t accept by using the _blockRegexes_ keyword argument.\n",
    "\n",
    "```python\n",
    ">>> import pyinputplus as pyip\n",
    ">>> response = pyip.inputNum(blockRegexes=[r'[02468]$'])\n",
    "42\n",
    "This response is invalid.\n",
    "44\n",
    "This response is invalid.\n",
    "43\n",
    ">>> response\n",
    "43\n",
    "``` \n",
    "\n",
    "If you specify both an _allowRegexes_ and _blockRegexes_ argument, the allow list overrides the block list. \n",
    "\n",
    "```python\n",
    ">>> import pyinputplus as pyip\n",
    ">>> response = pyip.inputStr(allowRegexes=[r'caterpillar', 'category'],\n",
    "blockRegexes=[r'cat'])\n",
    "cat\n",
    "This response is invalid.\n",
    "catastrophe\n",
    "This response is invalid.\n",
    "category\n",
    ">>> response\n",
    "'category'"
   ]
  },
  {
   "cell_type": "markdown",
   "metadata": {},
   "source": [
    "##### Passing a Custom Validation Function to inputCustom()"
   ]
  },
  {
   "cell_type": "markdown",
   "metadata": {},
   "source": [
    "You can write a function to perform your own custom validation logic by passing the function to _inputCustom()_. For example, say you want the user to enter a series of digits that adds up to 10. You can create your own function that:\n",
    "\n",
    "- Accepts a single string argument of what the user entered.\n",
    "- Raises an exception if the string fails validation.\n",
    "- Returns _None_ (or has no _return_ statement) if _inputCustom()_ should return the string unchanged.\n",
    "- Returns a non-_None_ value if _inputCustom()_ should return a different string from the one the user entered.\n",
    "- Is passed as the first argument to _inputCustom()_.\n",
    "\n",
    "For example, we can create our own addsUpToTen() function, and then pass it to inputCustom(). Note that the function call looks like inputCustom(addsUpToTen).\n",
    "\n",
    "```python\n",
    ">>> import pyinputplus as pyip\n",
    ">>> def addsUpToTen(numbers):\n",
    "...   numbersList = list(numbers)\n",
    "...   for i, digit in enumerate(numbersList):\n",
    "...     numbersList[i] = int(digit)\n",
    "...   if sum(numbersList) != 10:\n",
    "...     raise Exception('The digits must add up to 10, not %s.' %\n",
    "(sum(numbersList)))\n",
    "...   return int(numbers) # Return an int form of numbers.\n",
    "...\n",
    ">>> response = pyip.inputCustom(addsUpToTen) # No parentheses after\n",
    "addsUpToTen here.\n",
    "123\n",
    "The digits must add up to 10, not 6.\n",
    "1235\n",
    "The digits must add up to 10, not 11.\n",
    "1234\n",
    ">>> response # inputStr() returned an int, not a string.\n",
    "1234\n",
    ">>> response = pyip.inputCustom(addsUpToTen)\n",
    "hello\n",
    "invalid literal for int() with base 10: 'h'\n",
    "55\n",
    ">>> response\n",
    "```\n",
    "\n",
    "The _inputCustom()_ function also supports the general PyInputPlus features."
   ]
  },
  {
   "cell_type": "markdown",
   "metadata": {},
   "source": [
    "#### __Project: How to Keep an Idiot Busy for Hours__"
   ]
  },
  {
   "cell_type": "markdown",
   "metadata": {},
   "source": [
    "Let’s use PyInputPlus to create a simple program that does the following:\n",
    "\n",
    "1. Ask the user if they’d like to know how to keep an idiot busy for hours.\n",
    "2. If the user answers no, quit.\n",
    "3. If the user answers yes, go to Step 1.\n",
    "\n",
    "Of course, we don’t know if the user will enter something besides “yes” or “no,” so we need to perform input validation. It would also be convenient for the user to be able to enter “y” or “n” instead of the full words. PyInputPlus’s _inputYesNo()_ function will handle this for us and, no matter what case the user enters, return a lowercase _'yes'_ or _'no'_ string value.\n",
    "\n",
    "Next, _while True:_ creates an infinite loop that continues to run until it encounters a _break_ statement. In this loop, we call _pyip.inputYesNo()_ to ensure that this function call won’t return until the user enters a valid answer. The _pyip.inputYesNo()_ call is guaranteed to only return either the string yes or the string no. If it returned no, then our program breaks out of the infinite loop and continues to the last line, which thanks the user. Otherwise, the loop iterates once again.\n",
    "\n",
    "You can also make use of the _inputYesNo()_ function in non-English languages by passing _yesVal_ and _noVal_ keyword arguments. \n",
    "\n",
    "```python\n",
    "prompt = '¿Quieres saber cómo mantener ocupado a un idiota durante horas?\\n'\n",
    "response = pyip.inputYesNo(prompt, yesVal='sí', noVal='no')\n",
    "if response == 'sí':\n",
    "```\n",
    "\n",
    "Now the user can enter either sí or s (in lower- or uppercase) for an affirmative answer."
   ]
  },
  {
   "cell_type": "markdown",
   "metadata": {},
   "source": [
    "###### ___idiot.py___"
   ]
  },
  {
   "cell_type": "code",
   "execution_count": 1,
   "metadata": {},
   "outputs": [
    {
     "name": "stdout",
     "output_type": "stream",
     "text": [
      "Want to know how to keep an idiot busy for hours?\n",
      "Want to know how to keep an idiot busy for hours?\n",
      "Want to know how to keep an idiot busy for hours?\n",
      "Want to know how to keep an idiot busy for hours?\n",
      "Want to know how to keep an idiot busy for hours?\n",
      "Thank you. Have a nice day.\n"
     ]
    }
   ],
   "source": [
    "import pyinputplus as pyip\n",
    "\n",
    "while True:\n",
    "    prompt = 'Want to know how to keep an idiot busy for hours?\\n'\n",
    "    response = pyip.inputYesNo(prompt)\n",
    "    if response == 'no':\n",
    "        break\n",
    "\n",
    "print('Thank you. Have a nice day.')\n"
   ]
  },
  {
   "cell_type": "markdown",
   "metadata": {},
   "source": [
    "#### __Project: Multiplication Quiz__"
   ]
  },
  {
   "cell_type": "markdown",
   "metadata": {},
   "source": [
    "Let’s create a program that poses 10 multiplication problems to the user, where the valid input is the problem’s correct answer.\n",
    "\n",
    "First, we’ll import _pyinputplus, random_, and _time_. We’ll keep track of how many questions the program asks and how many correct answers the user gives with the variables _numberOfQuestions_ and _correctAnswers_. A _for_ loop will repeatedly pose a random multiplication problem 10 times. Inside of it, the program will pick two single-digit numbers to multiply. We’ll use these numbers to create a _#Q: N × N =_ prompt for the user, where _Q_ is the question number (1 to 10) and _N_ are the two numbers to multiply.\n",
    "\n",
    "The argument we pass for _allowRegexes_ is a list with the regex string _'^%s$'_, where _%s_ is replaced with the correct answer. The ^ and % characters ensure that the answer begins and ends with the correct number, though PyInputPlus trims any whitespace from the start and end of the user’s response first just in case they inadvertently pressed the spacebar before or after their answer. The argument we pass for _blocklistRegexes_ is a list with _('.*', 'Incorrect!')_. The first string in the tuple is a regex that matches every possible string. Therefore, if the user response doesn’t match the correct answer, the program will reject any other answer they provide. In that case, the _'Incorrect!'_ string is displayed and the user is prompted to answer again. Additionally, passing _8_ for _timeout_ and _3_ for _limit_ will ensure that the user only has 8 seconds and 3 tries to provide a correct answer. \n",
    "\n",
    "Remember that, just like how _else_ blocks can follow an _if_ or _elif_ block, they can optionally follow the last _except_ block. The code inside the following _else_ block will run if no exception was raised in the _try_ block.\n",
    "\n",
    "No matter which of the three messages, “Out of time!”, “Out of tries!”, or “Correct!”, displays, let’s place a 1-second pause at the end of the _for_ loop to give the user time to read it. After the program has asked 10 questions and the _for_ loop continues, let’s show the user how many correct answers they made."
   ]
  },
  {
   "cell_type": "markdown",
   "metadata": {},
   "source": [
    "###### ___multiplicationQuiz.py___"
   ]
  },
  {
   "cell_type": "code",
   "execution_count": 2,
   "metadata": {},
   "outputs": [
    {
     "name": "stdout",
     "output_type": "stream",
     "text": [
      "#0: 7 x 1 = Correct!\n",
      "#1: 5 x 1 = Incorrect!\n",
      "#1: 5 x 1 = Correct!\n",
      "#2: 0 x 7 = Correct!\n",
      "#3: 6 x 3 = Correct!\n",
      "#4: 5 x 2 = Correct!\n",
      "#5: 1 x 9 = Correct!\n",
      "#6: 2 x 4 = Correct!\n",
      "#7: 1 x 8 = Correct!\n",
      "#8: 2 x 2 = Correct!\n",
      "#9: 1 x 5 = Correct!\n",
      "Score: 10 / 10\n"
     ]
    }
   ],
   "source": [
    "import pyinputplus as pyip\n",
    "import random, time\n",
    "\n",
    "numberOfQuestions = 10\n",
    "correctAnswers = 0\n",
    "\n",
    "for questionNumber in range(numberOfQuestions):\n",
    "    # Pick two random numbers:\n",
    "    num1 = random.randint(0, 9)\n",
    "    num2 = random.randint(0, 9)\n",
    "\n",
    "    prompt = '#%s: %s x %s = ' % (questionNumber, num1, num2)\n",
    "    \n",
    "    try:\n",
    "        # Right answers are handled by allowRegexes.\n",
    "        # Wrong answers are handled by blockRegexes, with a custom message.\n",
    "        pyip.inputStr(prompt, allowRegexes=['^%s$' % (num1 * num2)],\n",
    "                              blockRegexes=[('.*', 'Incorrect!')],\n",
    "                              timeout=8, limit=3)\n",
    "        \n",
    "    except pyip.TimeoutException:\n",
    "        print('Out of time!')\n",
    "\n",
    "    except pyip.RetryLimitException:\n",
    "        print('Out of tries!')\n",
    "\n",
    "    else:\n",
    "        # This block runs if no exceptions were raised in the try block.\n",
    "        print('Correct!')\n",
    "        correctAnswers += 1\n",
    "\n",
    "    time.sleep(1) # Brief pause to let user see the result.\n",
    "\n",
    "print('Score: %s / %s' % (correctAnswers, numberOfQuestions))"
   ]
  },
  {
   "cell_type": "markdown",
   "metadata": {},
   "source": [
    "#### ___My answers to the practice questions___"
   ]
  },
  {
   "cell_type": "markdown",
   "metadata": {},
   "source": [
    "1. No, you have to install it with pip.\n",
    "2. To shorten it's name on the code.\n",
    "3. _inputInt()_ returns an int, whilst _inputFloat()_ returns a float.\n",
    "4. With _pyip.inputInt(min=0, max=99)_.\n",
    "5. A list of regex strings.\n",
    "6. It will exit the code with _RetryLimitException_.\n",
    "7. It will return _'hello'_."
   ]
  },
  {
   "cell_type": "markdown",
   "metadata": {},
   "source": [
    "#### ___Practice Projects___"
   ]
  },
  {
   "cell_type": "markdown",
   "metadata": {},
   "source": [
    "##### Sandwich Maker"
   ]
  },
  {
   "cell_type": "markdown",
   "metadata": {},
   "source": [
    "This is a program that asks users for their sandwich preferences. Valid input, such as:\n",
    "\n",
    "- Using _inputMenu()_ for a bread type: wheat, white, or sourdough.\n",
    "- Using _inputMenu()_ for a protein type: chicken, turkey, ham, or tofu.\n",
    "- Using _inputYesNo()_ to ask if they want cheese.\n",
    "- If so, using _inputMenu()_ to ask for a cheese type: cheddar, Swiss, or mozzarella.\n",
    "- Using _inputYesNo()_ to ask if they want mayo, mustard, lettuce, or tomato.\n",
    "- Using _inputInt()_ to ask how many sandwiches they want. Make sure this number is 1 or more.\n",
    "\n",
    "Come up with prices for each of these options, so the program displays a total cost after the user enters their selection."
   ]
  },
  {
   "cell_type": "markdown",
   "metadata": {},
   "source": [
    "###### ___sandwichMaker.py___"
   ]
  },
  {
   "cell_type": "code",
   "execution_count": null,
   "metadata": {},
   "outputs": [],
   "source": [
    "import pyinputplus as pyip\n",
    "\n",
    "total = 0.00\n",
    "print('Welcome to Ana\\'s Loncheria!')\n",
    "\n",
    "bread_prompt = 'What type of bread would you like for your sandwich?\\n'\n",
    "bread_type = pyip.inputMenu(['wheat', 'white', 'sourdough'], bread_prompt)\n",
    "if bread_type == 'wheat':\n",
    "    total += 0.19\n",
    "elif bread_type == 'white':\n",
    "    total += 0.14\n",
    "else:\n",
    "    total += 0.21\n",
    "\n",
    "protein_prompt = 'What type of protein do you prefer?\\n'\n",
    "protein_type = pyip.inputMenu(['chicken', 'turkey', 'ham', 'tofu'], protein_prompt)\n",
    "if protein_type == 'chicken':\n",
    "    total += 0.21\n",
    "elif protein_type == 'turkey':\n",
    "    total += 0.18\n",
    "elif protein_type == 'ham':\n",
    "    total += 0.16\n",
    "else:\n",
    "    total += .16\n",
    "\n",
    "cheese_approval_prompt = 'Would you like to add cheese?\\n'\n",
    "cheese_decision = pyip.inputYesNo(cheese_approval_prompt)\n",
    "if cheese_decision == 'yes':\n",
    "    cheese_prompt = 'In that case, what type of cheese?\\n'\n",
    "    cheese_type = pyip.inputMenu(['cheddar', 'Swiss', 'mozzarella'], cheese_prompt)\n",
    "    if cheese_type == 'cheddar':\n",
    "        total += 0.25\n",
    "    elif cheese_type == 'Swiss':\n",
    "        total += 0.23\n",
    "    else:\n",
    "        total += 0.31\n",
    "\n",
    "mayo_prompt = 'Do you want some mayo?\\n'\n",
    "mayo_decision = pyip.inputYesNo(mayo_prompt)\n",
    "if mayo_decision == 'yes':\n",
    "    total += 0.08\n",
    "\n",
    "mustard_prompt = 'Do you want some mustard?\\n'\n",
    "mustard_decision = pyip.inputYesNo(mustard_prompt)\n",
    "if mustard_decision == 'yes':\n",
    "    total += 0.03\n",
    "\n",
    "lettuce_prompt = 'Do you want some lettuce?\\n'\n",
    "lettuce_decision = pyip.inputYesNo(lettuce_prompt)\n",
    "if lettuce_decision == 'yes':\n",
    "    total += 0.33\n",
    "\n",
    "tomato_prompt = 'Do you want some tomatos?\\n'\n",
    "tomato_decision = pyip.inputYesNo(tomato_prompt)\n",
    "if tomato_decision == 'yes':\n",
    "    total += 0.04\n",
    "\n",
    "amount_prompt = 'How many sandwiches do you want?\\n'\n",
    "amount = pyip.inputInt(amount_prompt, min=1)\n",
    "total *= amount ** 2\n",
    "\n",
    "service = 0.15 * total\n",
    "total += service\n",
    "\n",
    "print('You have a total cost of $' + str(round(total, 2)) + \n",
    "      ' for your sandwich(es). Enjoy your day :)')"
   ]
  },
  {
   "cell_type": "markdown",
   "metadata": {},
   "source": [
    "##### Write Your Own Multiplication Quiz"
   ]
  },
  {
   "cell_type": "markdown",
   "metadata": {},
   "source": [
    "Re-creating the multiplication quiz project. This program will prompt the user with 10 multiplication questions, ranging from 0 × 0 to 9 × 9. Features:\n",
    "\n",
    "- If the user enters the correct answer, the program displays “Correct!” for 1 second and moves on to the next question.\n",
    "- The user gets three tries to enter the correct answer before the program moves on to the next question.\n",
    "- Eight seconds after first displaying the question, the question is marked as incorrect even if the user enters the correct answer after the 8-second limit."
   ]
  },
  {
   "cell_type": "markdown",
   "metadata": {},
   "source": [
    "###### ___myMultiplicationQuiz.py___"
   ]
  },
  {
   "cell_type": "code",
   "execution_count": null,
   "metadata": {},
   "outputs": [],
   "source": [
    "import random, time\n",
    "\n",
    "numberOfQuestions = 10\n",
    "correctAnswers = 0\n",
    "\n",
    "for questionNumber in range(numberOfQuestions):\n",
    "    # Pick two random numbers:\n",
    "    num1 = random.randint(0, 9)\n",
    "    num2 = random.randint(0, 9)\n",
    "    \n",
    "    tries = 0\n",
    "    start = time.time()\n",
    "    \n",
    "    while (time.time() - start) < 8 and tries < 3:\n",
    "        answer = input('#%s: %s x %s = ' % (questionNumber, num1, num2))\n",
    "        if (time.time() - start) >= 8:\n",
    "            break\n",
    "        try:\n",
    "            if int(answer) == (num1 * num2):\n",
    "                print('Correct!')\n",
    "                correctAnswers += 1\n",
    "                break\n",
    "            else:\n",
    "                print('Incorrect!')\n",
    "                tries += 1\n",
    "\n",
    "        except:\n",
    "            print('Incorrect!')\n",
    "            tries += 1\n",
    "        \n",
    "    if tries == 3:\n",
    "        print('Out of tries!')\n",
    "    \n",
    "    elif (time.time() - start) >= 8:\n",
    "        print('Out of time!')\n",
    "        \n",
    "    time.sleep(1) # Brief pause to let user see the result.\n",
    "\n",
    "print('Score: %s / %s' % (correctAnswers, numberOfQuestions))"
   ]
  },
  {
   "cell_type": "markdown",
   "metadata": {},
   "source": [
    "### Chapter 9: Reading and Writing Files"
   ]
  },
  {
   "cell_type": "markdown",
   "metadata": {},
   "source": [
    "#### __Files and File Paths__"
   ]
  },
  {
   "cell_type": "markdown",
   "metadata": {},
   "source": [
    "A file has two key properties: a __filename__ and a __path__. The path specifies the location of a file on the computer. The part of the filename after the last period is called the file’s __extension__ and tells you a file’s type. __Folders__ can contain files and other folders. \n",
    "\n",
    "The C:\\ part of the path is the __root folder__, which contains all other folders. On macOS and Linux, the root folder is /.\n",
    "\n",
    "Additional __volumes__, such as a DVD drive or USB flash drive, will appear differently on different operating systems. On Windows, they appear as new, lettered root drives, such as D:\\ or E:\\. On macOS, they appear as new folders under the /Volumes folder. On Linux, they appear as new folders under the /mnt (“mount”) folder."
   ]
  },
  {
   "cell_type": "markdown",
   "metadata": {},
   "source": [
    "##### Backslash on Windows and Forward Slash on macOS and Linux"
   ]
  },
  {
   "cell_type": "markdown",
   "metadata": {},
   "source": [
    "On Windows, paths are written using backslashes (\\) as the separator between folder names. The macOS and Linux operating systems, however, use the forward slash (/) as their path separator. If you want your programs to work on all operating systems, you will have to write your Python scripts to handle both cases.\n",
    "\n",
    "With the _Path()_ function in the _pathlib_ module, the string values of individual file and folder names in your path, _Path()_ will return a string with a file path using the correct path separators.\n",
    "\n",
    "```python\n",
    ">>> from pathlib import Path\n",
    ">>> Path('spam', 'bacon', 'eggs')\n",
    "\n",
    "WindowsPath('spam/bacon/eggs')\n",
    ">>> str(Path('spam', 'bacon', 'eggs'))\n",
    "'spam\\\\bacon\\\\eggs'\n",
    "```\n",
    "\n",
    "Even though Windows uses backslashes, the _WindowsPath_ representation in the interactive shell displays them using forward slashes, since open source software developers have historically favored the Linux operating system. If I had called this function on, say, Linux, _Path()_ would have returned a _PosixPath_ object that, when passed to _str()_, would have returned _'spam/bacon/eggs'_.\n",
    "\n",
    "```python\n",
    ">>> from pathlib import Path\n",
    ">>> myFiles = ['accounts.txt', 'details.csv', 'invite.docx']\n",
    ">>> for filename in myFiles:\n",
    "        print(Path(r'C:\\Users\\Al', filename))\n",
    "C:\\Users\\Al\\accounts.txt\n",
    "C:\\Users\\Al\\details.csv\n",
    "C:\\Users\\Al\\invite.docx\n",
    "```\n",
    "\n",
    "You can use backslashes in filenames on __macOS__ and __Linux__. It’s usually a good idea to always use forward slashes in your Python code."
   ]
  },
  {
   "cell_type": "markdown",
   "metadata": {},
   "source": [
    "##### Using the / Operator to Join Paths"
   ]
  },
  {
   "cell_type": "markdown",
   "metadata": {},
   "source": [
    "The / operator that we normally use for division can also combine _Path_ objects and strings. \n",
    "\n",
    "```python\n",
    ">>> from pathlib import Path\n",
    ">>> Path('spam') / 'bacon' / 'eggs'\n",
    "WindowsPath('spam/bacon/eggs')\n",
    ">>> Path('spam') / Path('bacon/eggs')\n",
    "WindowsPath('spam/bacon/eggs')\n",
    ">>> Path('spam') / Path('bacon', 'eggs')\n",
    "WindowsPath('spam/bacon/eggs')\n",
    "\n",
    ">>> homeFolder = r'C:\\Users\\Al'\n",
    ">>> subFolder = 'spam'\n",
    ">>> homeFolder + '\\\\' + subFolder\n",
    "'C:\\\\Users\\\\Al\\\\spam'\n",
    ">>> '\\\\'.join([homeFolder, subFolder])\n",
    "'C:\\\\Users\\\\Al\\\\spam'\n",
    "```\n",
    "\n",
    "You could add an _if_ statement that checks _sys.platform_ (which contains a string describing the computer’s operating system) to decide what kind of slash to use, but applying this custom code everywhere it’s needed can be inconsistent and bug-prone. The _pathlib_ module solves these problems by reusing the / math division operator to join paths correctly, no matter what operating system your code is running on. \n",
    "\n",
    "```python\n",
    ">>> homeFolder = Path('C:/Users/Al')\n",
    ">>> subFolder = Path('spam')\n",
    ">>> homeFolder / subFolder\n",
    "WindowsPath('C:/Users/Al/spam')\n",
    ">>> str(homeFolder / subFolder)\n",
    "'C:\\\\Users\\\\Al\\\\spam'\n",
    "\n",
    ">>> 'spam' / 'bacon' / 'eggs'\n",
    "Traceback (most recent call last):\n",
    "  File \"<stdin>\", line 1, in <module>\n",
    "TypeError: unsupported operand type(s) for /: 'str' and 'str'\n",
    "```\n",
    "\n",
    "Python evaluates the / operator from left to right and evaluates to a Path object, so either the first or second leftmost value must be a Path object for the entire expression to evaluate to a Path object."
   ]
  },
  {
   "cell_type": "markdown",
   "metadata": {},
   "source": [
    "##### The Current Working Directory"
   ]
  },
  {
   "cell_type": "markdown",
   "metadata": {},
   "source": [
    "Every program that runs on your computer has a __current working directory__, or __cwd__. Any filenames or paths that do not begin with the root folder are assumed to be under the current working directory. You can get the current working directory as a string value with the _Path.cwd()_ function and change it using _os.chdir()_.\n",
    "\n",
    "```python\n",
    ">>> from pathlib import Path\n",
    ">>> import os\n",
    ">>> Path.cwd()\n",
    "WindowsPath('C:/Users/Al/AppData/Local/Programs/Python/Python37')'\n",
    ">>> os.chdir('C:\\\\Windows\\\\System32')\n",
    ">>> Path.cwd()\n",
    "WindowsPath('C:/Windows/System32')\n",
    "```\n",
    "\n",
    "Python will display an error if you try to change to a directory that does not exist. There is no _pathlib_ function for changing the working directory, because changing the current working directory while a program is running can often lead to subtle bugs."
   ]
  },
  {
   "cell_type": "markdown",
   "metadata": {},
   "source": [
    "##### The Home Directory"
   ]
  },
  {
   "cell_type": "markdown",
   "metadata": {},
   "source": [
    "All users have a folder for their own files on the computer called the __home directory__ or __home folder__. You can get a _Path_ object of the home folder by calling _Path.home()_:\n",
    "\n",
    "```python\n",
    ">>> Path.home()\n",
    "WindowsPath('C:/Users/Al')\n",
    "```\n",
    "\n",
    "The home directories are located in a set place depending on your operating system:\n",
    "\n",
    "- On Windows, home directories are under C:\\Users.\n",
    "- On Mac, home directories are under /Users.\n",
    "- On Linux, home directories are often under /home.\n",
    "\n",
    "Your scripts will almost certainly have permissions to read and write the files under your home directory, so it’s an ideal place to put the files that your Python programs will work with."
   ]
  },
  {
   "cell_type": "markdown",
   "metadata": {},
   "source": [
    "##### Absolute vs. Relative Paths"
   ]
  },
  {
   "cell_type": "markdown",
   "metadata": {},
   "source": [
    "There are two ways to specify a file path:\n",
    "\n",
    "- An __absolute path__, which always begins with the root folder.\n",
    "- A __relative path__, which is relative to the program’s current working directory.\n",
    "\n",
    "There are also the __dot (.)__ and __dot-dot (..)__ folders. A single period (“dot”) for a folder name is shorthand for “this directory.” Two periods (“dot-dot”) means “the parent folder.” The .\\ at the start of a relative path is optional. "
   ]
  },
  {
   "cell_type": "markdown",
   "metadata": {},
   "source": [
    "##### Creating New Folders Using the os.makedirs() Function"
   ]
  },
  {
   "cell_type": "markdown",
   "metadata": {},
   "source": [
    "```python\n",
    ">>> import os\n",
    ">>> os.makedirs('C:\\\\delicious\\\\walnut\\\\waffles')\n",
    "```\n",
    "\n",
    "The _os.makedirs()_ function will create any necessary intermediate folders in order to ensure that the full path exists. To make a directory from a _Path_ object, call the _mkdir()_ method. \n",
    "\n",
    "```python\n",
    ">>> from pathlib import Path\n",
    ">>> Path(r'C:\\Users\\Al\\spam').mkdir()\n",
    "```\n",
    "\n",
    "Note that _mkdir()_ can only make one directory at a time; it won’t make several subdirectories at once like _os.makedirs()_."
   ]
  },
  {
   "cell_type": "markdown",
   "metadata": {},
   "source": [
    "##### Handling Absolute and Relative Paths"
   ]
  },
  {
   "cell_type": "markdown",
   "metadata": {},
   "source": [
    "Calling the _is_absolute()_ method on a _Path_ object will return _True_ if it represents an absolute path or _False_ if it represents a relative path.\n",
    "\n",
    "```python\n",
    ">>> Path.cwd()\n",
    "WindowsPath('C:/Users/Al/AppData/Local/Programs/Python/Python37')\n",
    ">>> Path.cwd().is_absolute()\n",
    "True\n",
    ">>> Path('spam/bacon/eggs').is_absolute()\n",
    "False\n",
    "```\n",
    "\n",
    "To get an absolute path from a relative path, you can put _Path.cwd() /_ in front of the relative _Path_ object. After all, when we say “relative path,” we almost always mean a path that is relative to the current working directory.\n",
    "\n",
    "```python\n",
    ">>> Path('my/relative/path')\n",
    "WindowsPath('my/relative/path')\n",
    ">>> Path.cwd() / Path('my/relative/path')\n",
    "WindowsPath('C:/Users/Al/AppData/Local/Programs/Python/Python37/my/relative/path')\n",
    "\n",
    ">>> Path('my/relative/path')\n",
    "WindowsPath('my/relative/path')\n",
    ">>> Path.home() / Path('my/relative/path')\n",
    "WindowsPath('C:/Users/Al/my/relative/path')\n",
    "```\n",
    "\n",
    "The os.path module also has some useful functions related to absolute and relative paths:\n",
    "\n",
    "- Calling _os.path.abspath(path)_ will return a string of the absolute path of the argument. This is an easy way to convert a relative path into an absolute one.\n",
    "- Calling _os.path.isabs(path)_ will return _True_ if the argument is an absolute path and _False_ if it is a relative path.\n",
    "- Calling _os.path.relpath(path, start)_ will return a string of a relative path from the _start_ path to _path_. If _start_ is not provided, the current working directory is used as the start path.\n",
    "\n",
    "```python\n",
    ">>> os.path.abspath('.')\n",
    "\n",
    "'C:\\\\Users\\\\Al\\\\AppData\\\\Local\\\\Programs\\\\Python\\\\Python37'\n",
    ">>> os.path.abspath('.\\\\Scripts')\n",
    "'C:\\\\Users\\\\Al\\\\AppData\\\\Local\\\\Programs\\\\Python\\\\Python37\\\\Scripts'\n",
    ">>> os.path.isabs('.')\n",
    "False\n",
    ">>> os.path.isabs(os.path.abspath('.'))\n",
    "True\n",
    "\n",
    ">>> os.path.relpath('C:\\\\Windows', 'C:\\\\')\n",
    "'Windows'\n",
    ">>> os.path.relpath('C:\\\\Windows', 'C:\\\\spam\\\\eggs')\n",
    "'..\\\\..\\\\Windows'"
   ]
  },
  {
   "cell_type": "markdown",
   "metadata": {},
   "source": [
    "##### Getting the Parts of a File Path"
   ]
  },
  {
   "cell_type": "markdown",
   "metadata": {},
   "source": [
    "Given a Path object, you can extract the file path’s different parts as strings using several _Path_ object attributes. These can be useful for constructing new file paths based on existing ones. The attributes are diagrammed in Figure 9-4.\n",
    "\n",
    "_Figure 9-4: The parts of a Windows (top) and macOS/Linux (bottom) file path_\n",
    "\n",
    "![automatetheboringstuff](https://automatetheboringstuff.com/2e/images/000033.jpg)\n",
    "\n",
    "The parts of a file path include the following:\n",
    "\n",
    "- The __anchor__, which is the root folder of the filesystem.\n",
    "- On Windows, __the drive__, which is the single letter that often denotes a physical hard drive or other storage device. Doesn’t include the first backslash.\n",
    "- The __parent__, which is the folder that contains the file.\n",
    "- The __name__ of the file, made up of the __stem__ (or base name) and the __suffix__ (or extension).\n",
    "\n",
    "```python\n",
    ">>> p = Path('C:/Users/Al/spam.txt')\n",
    ">>> p.anchor\n",
    "'C:\\\\'\n",
    ">>> p.parent # This is a Path object, not a string.\n",
    "WindowsPath('C:/Users/Al')\n",
    ">>> p.name\n",
    "'spam.txt'\n",
    ">>> p.stem\n",
    "'spam'\n",
    ">>> p.suffix\n",
    "'.txt'\n",
    ">>> p.drive\n",
    "'C:'\n",
    "```\n",
    "\n",
    "The _parents_ attribute evaluates to the ancestor folders of a _Path_ object with an integer index:\n",
    "\n",
    "```python\n",
    ">>> Path.cwd()\n",
    "WindowsPath('C:/Users/Al/AppData/Local/Programs/Python/Python37')\n",
    ">>> Path.cwd().parents[0]\n",
    "WindowsPath('C:/Users/Al/AppData/Local/Programs/Python')\n",
    ">>> Path.cwd().parents[1]\n",
    "WindowsPath('C:/Users/Al/AppData/Local/Programs')\n",
    ">>> Path.cwd().parents[2]\n",
    "WindowsPath('C:/Users/Al/AppData/Local')\n",
    ">>> Path.cwd().parents[3]\n",
    "WindowsPath('C:/Users/Al/AppData')\n",
    ">>> Path.cwd().parents[4]\n",
    "WindowsPath('C:/Users/Al')\n",
    ">>> Path.cwd().parents[5]\n",
    "WindowsPath('C:/Users')\n",
    ">>> Path.cwd().parents[6]\n",
    "WindowsPath('C:/')\n",
    "```\n",
    "\n",
    "The older _os.path_ module also has similar functions for getting the different parts of a path written in a string value. Calling _os.path.dirname(path)_ will return a string of everything that comes before the last slash in the path argument. Calling _os.path.basename(path)_ will return a string of everything that comes after the last slash in the path argument. If you need a path’s dir name and base name together, you can just call _os.path.split()_ to get a tuple value with these two strings.\n",
    "\n",
    "_Figure 9-5: The base name follows the last slash in a path and is the same as the filename. The dir name is everything before the last slash._\n",
    "\n",
    "![automatetheboringstuff](https://automatetheboringstuff.com/2e/images/000022.jpg)\n",
    "\n",
    "```python\n",
    ">>> calcFilePath = 'C:\\\\Windows\\\\System32\\\\calc.exe'\n",
    ">>> os.path.basename(calcFilePath)\n",
    "'calc.exe'\n",
    ">>> os.path.dirname(calcFilePath)\n",
    "'C:\\\\Windows\\\\System32'\n",
    ">>> calcFilePath = 'C:\\\\Windows\\\\System32\\\\calc.exe'\n",
    ">>> os.path.split(calcFilePath)\n",
    "('C:\\\\Windows\\\\System32', 'calc.exe')\n",
    "\n",
    ">>> (os.path.dirname(calcFilePath), os.path.basename(calcFilePath))\n",
    "('C:\\\\Windows\\\\System32', 'calc.exe')\n",
    "```\n",
    "\n",
    "The _os.sep_ variable is set to the correct folder-separating slash for the computer running the program and splitting on it will return a list of the individual folders.\n",
    "\n",
    "```python\n",
    ">>> calcFilePath.split(os.sep)\n",
    "['C:', 'Windows', 'System32', 'calc.exe']\n",
    ">>> '/usr/bin'.split(os. sep)\n",
    "['', 'usr', 'bin']"
   ]
  },
  {
   "cell_type": "markdown",
   "metadata": {},
   "source": [
    "##### Finding File Sizes and Folder Contents"
   ]
  },
  {
   "cell_type": "markdown",
   "metadata": {},
   "source": [
    "The _os.path_ module provides functions for finding the size of a file in bytes and the files and folders inside a given folder.\n",
    "\n",
    "- Calling _os.path.getsize(path)_ will return the size in bytes of the file in the path argument.\n",
    "- Calling _os.listdir(path)_ will return a list of filename strings for each file in the path argument.\n",
    "\n",
    "```python\n",
    ">>> os.path.getsize('C:\\\\Windows\\\\System32\\\\calc.exe')\n",
    "27648\n",
    ">>> os.listdir('C:\\\\Windows\\\\System32')\n",
    "['0409', '12520437.cpx', '12520850.cpx', '5U877.ax', 'aaclient.dll',\n",
    "--snip--\n",
    "'xwtpdui.dll', 'xwtpw32.dll', 'zh-CN', 'zh-HK', 'zh-TW', 'zipfldr.dll']\n",
    ">>> totalSize = 0\n",
    ">>> for filename in os.listdir('C:\\\\Windows\\\\System32'):\n",
    "      totalSize = totalSize + os.path.getsize(os.path.join('C:\\\\Windows\\\\System32', filename))\n",
    ">>> print(totalSize)\n",
    "2559970473"
   ]
  },
  {
   "cell_type": "markdown",
   "metadata": {},
   "source": [
    "##### Modifying a List of Files Using Glob Patterns"
   ]
  },
  {
   "cell_type": "markdown",
   "metadata": {},
   "source": [
    "If you want to work on specific files, the _glob()_ method is simpler to use than _listdir()_. Path objects have a _glob()_ method for listing the contents of a folder according to a __glob pattern__. Glob patterns are like a simplified form of regular expressions often used in command line commands. The _glob()_ method returns a generator object that you’ll need to pass to _list()_ to easily view in the interactive shell:\n",
    "\n",
    "```python\n",
    ">>> p = Path('C:/Users/Al/Desktop')\n",
    ">>> p.glob('*')\n",
    "<generator object Path.glob at 0x000002A6E389DED0>\n",
    ">>> list(p.glob('*')) # Make a list from the generator.\n",
    "[WindowsPath('C:/Users/Al/Desktop/1.png'), WindowsPath('C:/Users/Al/Desktop/22-ap.pdf'), WindowsPath('C:/Users/Al/Desktop/cat.jpg'),\n",
    "  --snip--\n",
    "WindowsPath('C:/Users/Al/Desktop/zzz.txt')]\n",
    "```\n",
    "\n",
    "The asterisk (\\*) stands for “multiple of any characters,” so _p.glob('*')_ returns a generator of all files in the path stored in p.\n",
    "\n",
    "```python\n",
    ">>> list(p.glob('*.txt') # Lists all text files.\n",
    "[WindowsPath('C:/Users/Al/Desktop/foo.txt'),\n",
    "  --snip--\n",
    "WindowsPath('C:/Users/Al/Desktop/zzz.txt')]\n",
    "```\n",
    "\n",
    "In contrast with the asterisk, the question mark (?) stands for any single character:\n",
    "\n",
    "```python\n",
    ">>> list(p.glob('project?.docx')\n",
    "[WindowsPath('C:/Users/Al/Desktop/project1.docx'), WindowsPath('C:/Users/Al/\n",
    "Desktop/project2.docx'),\n",
    "  --snip--\n",
    "WindowsPath('C:/Users/Al/Desktop/project9.docx')]\n",
    "```\n",
    "\n",
    "Finally, you can also combine the asterisk and question mark to create even more complex glob expressions.\n",
    "\n",
    "```python\n",
    ">>> list(p.glob('*.?x?')\n",
    "[WindowsPath('C:/Users/Al/Desktop/calc.exe'), WindowsPath('C:/Users/Al/Desktop/foo.txt'),\n",
    "  --snip--\n",
    "WindowsPath('C:/Users/Al/Desktop/zzz.txt')]\n",
    "```\n",
    "\n",
    "\n",
    "By picking out files with specific attributes, the _glob()_ method lets you easily specify the files in a directory you want to perform some operation on.\n",
    "\n",
    "```python\n",
    ">>> p = Path('C:/Users/Al/Desktop')\n",
    ">>> for textFilePathObj in p.glob('*.txt'):\n",
    "...     print(textFilePathObj) # Prints the Path object as a string.\n",
    "...     # Do something with the text file.\n",
    "...\n",
    "C:\\Users\\Al\\Desktop\\foo.txt\n",
    "C:\\Users\\Al\\Desktop\\spam.txt\n",
    "C:\\Users\\Al\\Desktop\\zzz.txt\n",
    "```\n",
    "\n",
    "If you want to perform some operation on every file in a directory, you can use either _os.listdir(p)_ or _p.glob('*')_."
   ]
  },
  {
   "cell_type": "markdown",
   "metadata": {},
   "source": [
    "##### Checking Path Validity"
   ]
  },
  {
   "cell_type": "markdown",
   "metadata": {},
   "source": [
    "_Path_ objects have methods to check whether a given path exists and whether it is a file or folder. Assuming that a variable p holds a _Path_ object, you could expect the following:\n",
    "\n",
    "- Calling _p.exists()_ returns _True_ if the path exists or returns _False_ if it doesn’t exist.\n",
    "- Calling _p.is\\_file()_ returns _True_ if the path exists and is a file, or returns _False_ otherwise.\n",
    "- Calling _p.is\\_dir()_ returns _True_ if the path exists and is a directory, or returns _False_ otherwise.\n",
    "\n",
    "```python\n",
    ">>> winDir = Path('C:/Windows')\n",
    ">>> notExistsDir = Path('C:/This/Folder/Does/Not/Exist')\n",
    ">>> calcFile = Path('C:/Windows/System32/calc.exe')\n",
    ">>> winDir.exists()\n",
    "True\n",
    ">>> winDir.is_dir()\n",
    "True\n",
    ">>> notExistsDir.exists()\n",
    "False\n",
    ">>> calcFile.is_file()\n",
    "True\n",
    ">>> calcFile.is_dir()\n",
    "False\n",
    "```\n",
    "\n",
    "You can determine whether there is a DVD or flash drive currently attached to the computer by checking for it with the _exists()_ method.\n",
    "\n",
    "```python\n",
    ">>> dDrive = Path('D:/')\n",
    ">>> dDrive.exists()\n",
    "False\n",
    "```\n",
    "\n",
    "The older _os.path_ module can accomplish the same task with the _os.path.exists(path)_, _os.path.isfile(path)_, and _os.path.isdir(path)_ functions, which act just like their Path function counterparts."
   ]
  },
  {
   "cell_type": "markdown",
   "metadata": {},
   "source": [
    "#### __The File Reading/Writing Process__"
   ]
  },
  {
   "cell_type": "markdown",
   "metadata": {},
   "source": [
    "__Plaintext files__ contain only basic text characters and do not include font, size, or color information. Text files with the _.txt_ extension or Python script files with the _.py_ extension are examples of plaintext files. Your programs can easily read the contents of plaintext files and treat them as an ordinary string value.\n",
    "\n",
    "__Binary files__ are all other file types, such as word processing documents, PDFs, images, spreadsheets, and executable programs. Fortunately, many modules make working with binary files easier. There are three steps to reading or writing files in Python:\n",
    "\n",
    "1. Call the _open()_ function to return a _File_ object.\n",
    "2. Call the _read()_ or _write()_ method on the _File_ object.\n",
    "3. Close the file by calling the _close()_ method on the _File_ object."
   ]
  },
  {
   "cell_type": "markdown",
   "metadata": {},
   "source": [
    "##### Opening Files with the open() Function"
   ]
  },
  {
   "cell_type": "markdown",
   "metadata": {},
   "source": [
    "To open a file with the _open()_ function, you pass it a string path indicating the file you want to open; it can be either an absolute or relative path. The _open()_ function returns a _File_ object.\n",
    "\n",
    "```python\n",
    ">>> helloFile = open(Path.home() / 'hello.txt')\n",
    ">>> helloFile = open('C:\\\\Users\\\\your_home_folder\\\\hello.txt')\n",
    "```\n",
    "\n",
    "Both these commands will open the file in “reading plaintext” mode, or __read mode__ for short. When a file is opened in read mode, Python lets you only read data from the file; you can’t write or modify it in any way. Read mode is the default mode for files you open in Python. You can explicitly specify the mode by passing the string value _'r'_ as a second argument to _open()_.\n",
    "\n",
    "A _File_ object represents a file on your computer; it is simply another type of value in Python. Now, whenever you want to read from or write to the file, you can do so by calling methods on the _File_ object in _helloFile_."
   ]
  },
  {
   "cell_type": "markdown",
   "metadata": {},
   "source": [
    "##### Reading the Contents of Files"
   ]
  },
  {
   "cell_type": "markdown",
   "metadata": {},
   "source": [
    "If you want to read the entire contents of a file as a string value, use the _File_ object’s _read()_ method. \n",
    "\n",
    "```python\n",
    ">>> helloContent = helloFile.read()\n",
    ">>> helloContent\n",
    "'Hello, world!'\n",
    "```\n",
    "\n",
    "If you think of the contents of a file as a single large string value, the _read()_ method returns the string that is stored in the file. Alternatively, you can use the _readlines()_ method to get a __list__ of string values from the file, one string for each line of text. For example, a file named sonnet29.txt with the following text in it:\n",
    "\n",
    "```\n",
    "When, in disgrace with fortune and men's eyes,\n",
    "I all alone beweep my outcast state,\n",
    "And trouble deaf heaven with my bootless cries,\n",
    "And look upon myself and curse my fate,\n",
    "```\n",
    "\n",
    "```python\n",
    ">>> sonnetFile = open(Path.home() / 'sonnet29.txt')\n",
    ">>> sonnetFile.readlines()\n",
    "[\"When, in disgrace with fortune and men's eyes,\\n\", \" I all alone beweep my outcast state,\\n\", \"And trouble deaf heaven with my bootless cries,\\n\", \"And look upon myself and curse my fate,\"]\n",
    "```\n",
    "\n",
    "Note that, except for the last line of the file, each of the string values ends with a newline character _\\n_. A list of strings is often easier to work with than a single large string value."
   ]
  },
  {
   "cell_type": "markdown",
   "metadata": {},
   "source": [
    "##### Writing to Files"
   ]
  },
  {
   "cell_type": "markdown",
   "metadata": {},
   "source": [
    "You can’t write to a file you’ve opened in read mode, though. Instead, you need to open it in “write plaintext” mode or “append plaintext” mode, or __write mode__ and __append mode__ for short.\n",
    "\n",
    "Write mode will overwrite the existing file and start from scratch, just like when you overwrite a variable’s value with a new value. Pass _'w'_ as the second argument to _open()_ to open the file in write mode. Append mode, on the other hand, will append text to the end of the existing file. Pass _'a'_ as the second argument to _open()_ to open the file in append mode.\n",
    "\n",
    "If the filename passed to _open()_ does not exist, both write and append mode will create a new, blank file. After reading or writing a file, call the _close()_ method before opening the file again.\n",
    "\n",
    "```python\n",
    ">>> baconFile = open('bacon.txt', 'w')   \n",
    ">>> baconFile.write('Hello, world!\\n')\n",
    "13\n",
    ">>> baconFile.close()\n",
    ">>> baconFile = open('bacon.txt', 'a')\n",
    ">>> baconFile.write('Bacon is not a vegetable.')\n",
    "25\n",
    ">>> baconFile.close()\n",
    ">>> baconFile = open('bacon.txt')\n",
    ">>> content = baconFile.read()\n",
    ">>> baconFile.close()\n",
    ">>> print(content)\n",
    "Hello, world!\n",
    "Bacon is not a vegetable."
   ]
  },
  {
   "cell_type": "markdown",
   "metadata": {},
   "source": [
    "#### __Saving Variables with the shelve Module__"
   ]
  },
  {
   "cell_type": "markdown",
   "metadata": {},
   "source": [
    "You can save variables in your Python programs to binary shelf files using the _shelve_ module. This way, your program can restore data to variables from the hard drive. The shelve module will let you add Save and Open features to your program. For example, if you ran a program and entered some configuration settings, you could save those settings to a shelf file and then have the program load them the next time it is run.\n",
    "\n",
    "```python\n",
    ">>> import shelve\n",
    ">>> shelfFile = shelve.open('mydata')\n",
    ">>> cats = ['Zophie', 'Pooka', 'Simon']\n",
    ">>> shelfFile['cats'] = cats\n",
    ">>> shelfFile.close()\n",
    "```\n",
    "\n",
    "To read and write data using the shelve module, you first import _shelve_. Call _shelve.open()_ and pass it a filename, and then store the returned shelf value in a variable. You can make changes to the shelf value as if it were a dictionary. When you’re done, call _close()_ on the shelf value. \n",
    "\n",
    "After running the previous code on Windows, you will see three new files in the current working directory: __mydata.bak__, __mydata.dat__, and __mydata.dir__. These binary files contain the data you stored in your shelf.\n",
    "\n",
    "Your programs can use the _shelve_ module to later reopen and retrieve the data from these shelf files. Shelf values don’t have to be opened in read or write mode—they can do both once opened. \n",
    "\n",
    "```python\n",
    ">>> shelfFile = shelve.open('mydata')\n",
    ">>> type(shelfFile)\n",
    "<class 'shelve.DbfilenameShelf'>\n",
    ">>> shelfFile['cats']\n",
    "['Zophie', 'Pooka', 'Simon']\n",
    ">>> shelfFile.close()\n",
    "```\n",
    "\n",
    "Just like dictionaries, shelf values have _keys()_ and _values()_ methods that will return list-like values of the keys and values in the shelf. Since these methods return list-like values instead of true lists, you should pass them to the _list()_ function to get them in list form. \n",
    "\n",
    "```python\n",
    ">>> shelfFile = shelve.open('mydata')\n",
    ">>> list(shelfFile.keys())\n",
    "['cats']\n",
    ">>> list(shelfFile.values())\n",
    "[['Zophie', 'Pooka', 'Simon']]\n",
    ">>> shelfFile.close()\n",
    "```\n",
    "\n",
    "Plaintext is useful for creating files that you’ll read in a text editor such as Notepad or TextEdit, but if you want to save data from your Python programs, use the _shelve_ module."
   ]
  },
  {
   "cell_type": "markdown",
   "metadata": {},
   "source": [
    "#### __Saving Variables with the pprint.pformat() Function__"
   ]
  },
  {
   "cell_type": "markdown",
   "metadata": {},
   "source": [
    "Using _pprint.pformat()_ will give you a string that you can write to a _.py_ file. This file will be your very own module that you can import whenever you want to use the variable stored in it.\n",
    "\n",
    "```python\n",
    ">>> import pprint\n",
    ">>> cats = [{'name': 'Zophie', 'desc': 'chubby'}, {'name': 'Pooka', 'desc': 'fluffy'}]\n",
    ">>> pprint.pformat(cats)\n",
    "\"[{'desc': 'chubby', 'name': 'Zophie'}, {'desc': 'fluffy', 'name': 'Pooka'}]\"\n",
    ">>> fileObj = open('myCats.py', 'w')\n",
    ">>> fileObj.write('cats = ' + pprint.pformat(cats) + '\\n')\n",
    "83\n",
    ">>> fileObj.close()\n",
    "```\n",
    "\n",
    "The modules that an _import_ statement imports are themselves just Python scripts. When the string from _pprint.pformat()_ is saved to a _.py_ file, the file is a module that can be imported just like any other. And since Python scripts are themselves just text files with the _.py_ file extension, your Python programs can even generate other Python programs. You can then import these files into scripts.\n",
    "\n",
    "```python\n",
    ">>> import myCats\n",
    ">>> myCats.cats\n",
    "[{'name': 'Zophie', 'desc': 'chubby'}, {'name': 'Pooka', 'desc': 'fluffy'}]\n",
    ">>> myCats.cats[0]\n",
    "{'name': 'Zophie', 'desc': 'chubby'}\n",
    ">>> myCats.cats[0]['name']\n",
    "'Zophie'\n",
    "```\n",
    "\n",
    "The benefit of creating a _.py_ file (as opposed to saving variables with the shelve module) is that because it is a text file, the contents of the file can be read and modified by anyone with a simple text editor. For most applications, however, saving data using the _shelve_ module is the preferred way to save variables to a file. Only basic data types such as integers, floats, strings, lists, and dictionaries can be written to a file as simple text. File objects, for example, cannot be encoded as text."
   ]
  },
  {
   "cell_type": "markdown",
   "metadata": {},
   "source": [
    "#### __Project: Generating Random Quiz Files__"
   ]
  },
  {
   "cell_type": "markdown",
   "metadata": {},
   "source": [
    "Say you’re a geography teacher with 35 students in your class and you want to give a pop quiz on US state capitals. Alas, your class has a few bad eggs in it, and you can’t trust the students not to cheat. You’d like to randomize the order of questions so that each quiz is unique, making it impossible for anyone to crib answers from anyone else. \n",
    "\n",
    "Here is what the program does:\n",
    "\n",
    "1. Creates 35 different quizzes\n",
    "2. Creates 50 multiple-choice questions for each quiz, in random order\n",
    "3. Provides the correct answer and three random wrong answers for each question, in random order\n",
    "4. Writes the quizzes to 35 text files\n",
    "5. Writes the answer keys to 35 text files\n",
    "\n",
    "This means the code will need to do the following:\n",
    "\n",
    "1. Store the states and their capitals in a dictionary.\n",
    "2. Call _open()_, _write()_, and _close()_ for the quiz and answer key text files.\n",
    "3. Use _random.shuffle()_ to randomize the order of the questions and multiple-choice options"
   ]
  },
  {
   "cell_type": "markdown",
   "metadata": {},
   "source": [
    "##### Step 1: Store the Quiz Data in a Dictionary"
   ]
  },
  {
   "cell_type": "markdown",
   "metadata": {},
   "source": [
    "The first step is to create a skeleton script and fill it with your quiz data. \n",
    "\n",
    "Since this program will be randomly ordering the questions and answers, you’ll need to import the _random_ module to make use of its functions. The _capitals_ variable contains a dictionary with US states as keys and their capitals as values. And since you want to create 35 quizzes, the code that actually generates the quiz and answer key files will go inside a for loop that loops 35 times."
   ]
  },
  {
   "cell_type": "markdown",
   "metadata": {},
   "source": [
    "##### Step 2: Create the Quiz File and Shuffle the Question Order"
   ]
  },
  {
   "cell_type": "markdown",
   "metadata": {},
   "source": [
    "First you’ll create the actual quiz file. It needs to have a unique filename and should also have some kind of standard header in it, with places for the student to fill in a name, date, and class period. Then you’ll need to get a list of states in randomized order, which can be used later to create the questions and answers for the quiz.\n",
    "\n",
    "The filenames for the quizzes will be _capitalsquiz<N\\>.txt_, where <N\\> is a unique number for the quiz that comes from _quizNum_, the _for_ loop’s counter. The answer key for _capitalsquiz<N\\>_.txt will be stored in a text file named _capitalsquiz\\_answers<N\\>.txt_. Each time through the loop, the _{quizNum + 1}_ placeholder in _f'capitalsquiz{quizNum + 1}.txt'_ and _f'capitalsquiz\\_answers{quizNum + 1}.txt'_ will be replaced by the unique number. These files will be created with calls to the _open()_ function, with write mode.\n",
    "\n",
    "The _write()_ statements create a quiz header for the student to fill out. Finally, a randomized list of US states is created with the help of the _random.shuffle()_ function, which randomly reorders the values in any list that is passed to it."
   ]
  },
  {
   "cell_type": "markdown",
   "metadata": {},
   "source": [
    "##### Step 3: Create the Answer Options"
   ]
  },
  {
   "cell_type": "markdown",
   "metadata": {},
   "source": [
    "You’ll need to create another _for_ loop—this one to generate the content for each of the 50 questions on the quiz. Then there will be a third _for_ loop nested inside to generate the multiple-choice options for each question. \n",
    "\n",
    "The correct answer is easy to get—it’s stored as a value in the _capitals_ dictionary. This loop will loop through the states in the shuffled _states_ list, find each state in _capitals_, and store that state’s corresponding capital in _correctAnswer_.\n",
    "\n",
    "The list of possible wrong answers is trickier. You can get it by duplicating __all__ the values in the capitals dictionary, deleting the correct answer, and selecting three random values from this list. The _random.sample()_ function makes it easy to do this selection. Its first argument is the list you want to select from; the second argument is the number of values you want to select. The full list of answer options is the combination of these three wrong answers with the correct answers. Finally, the answers need to be randomized so that the correct response isn’t always choice D."
   ]
  },
  {
   "cell_type": "markdown",
   "metadata": {},
   "source": [
    "##### Step 4: Write Content to the Quiz and Answer Key Files"
   ]
  },
  {
   "cell_type": "markdown",
   "metadata": {},
   "source": [
    "All that is left is to write the question to the quiz file and the answer to the answer key file.\n",
    "\n",
    "A _for_ loop that goes through integers 0 to 3 will write the answer options in the _answerOptions_ list. The expression _'ABCD'[i]_ treats the string _'ABCD'_ as an array and will evaluate to _'A'_,_'B'_, _'C'_, and then _'D'_ on each respective iteration through the loop.\n",
    "\n",
    "In the final line, the expression _answerOptions.index(correctAnswer)_ will find the integer index of the correct answer in the randomly ordered answer options, and _'ABCD'[answerOptions.index(correctAnswer)]_ will evaluate to the correct answer’s letter to be written to the answer key file."
   ]
  },
  {
   "cell_type": "markdown",
   "metadata": {},
   "source": [
    "###### ___randomQuizGenerator.py___"
   ]
  },
  {
   "cell_type": "code",
   "execution_count": null,
   "metadata": {},
   "outputs": [],
   "source": [
    "#! python3\n",
    "# randomQuizGenerator.py - Creates quizzes with questions and answers in\n",
    "# random order, along with the answer key.\n",
    "\n",
    "import random\n",
    "\n",
    "# The quiz data. Keys are states and values are their capitals.\n",
    "capitals = {'Alabama': 'Montgomery', 'Alaska': 'Juneau', 'Arizona': 'Phoenix', \n",
    "            'Arkansas': 'Little Rock', 'California': 'Sacramento', 'Colorado': 'Denver',\n",
    "            'Connecticut': 'Hartford', 'Delaware': 'Dover', 'Florida': 'Tallahassee',\n",
    "            'Georgia': 'Atlanta', 'Hawaii': 'Honolulu', 'Idaho': 'Boise', 'Illinois':\n",
    "            'Springfield', 'Indiana': 'Indianapolis', 'Iowa': 'Des Moines', 'Kansas':\n",
    "            'Topeka', 'Kentucky': 'Frankfort', 'Louisiana': 'Baton Rouge', 'Maine':\n",
    "            'Augusta', 'Maryland': 'Annapolis', 'Massachusetts': 'Boston', 'Michigan':\n",
    "            'Lansing', 'Minnesota': 'Saint Paul', 'Mississippi': 'Jackson', 'Missouri':\n",
    "            'Jefferson City', 'Montana': 'Helena', 'Nebraska': 'Lincoln', 'Nevada':\n",
    "            'Carson City', 'New Hampshire': 'Concord', 'New Jersey': 'Trenton', \n",
    "            'New Mexico': 'Santa Fe', 'New York': 'Albany', 'North Carolina': 'Raleigh', \n",
    "            'North Dakota': 'Bismarck', 'Ohio': 'Columbus', 'Oklahoma': 'Oklahoma City',\n",
    "            'Oregon': 'Salem', 'Pennsylvania': 'Harrisburg', 'Rhode Island': 'Providence',\n",
    "            'South Carolina': 'Columbia', 'South Dakota': 'Pierre', 'Tennessee':\n",
    "            'Nashville', 'Texas': 'Austin', 'Utah': 'Salt Lake City', 'Vermont':\n",
    "            'Montpelier', 'Virginia': 'Richmond', 'Washington': 'Olympia', 'West Virginia': \n",
    "            'Charleston', 'Wisconsin': 'Madison', 'Wyoming': 'Cheyenne'}\n",
    "\n",
    "# Generate 35 quiz files.\n",
    "for quizNum in range(35):\n",
    "    # Create the quiz and answer key files.\n",
    "    quizFile = open(f'capitalsquiz{quizNum + 1}.txt', 'w')\n",
    "    answerKeyFile = open(f'capitalsquiz_answers{quizNum + 1}.txt', 'w')\n",
    "    \n",
    "    # Write out the header for the quiz.\n",
    "    quizFile.write('Name:\\n\\nDate:\\n\\nPeriod:\\n\\n')\n",
    "    quizFile.write((' ' * 20) + f'State Capitals Quiz (Form{quizNum + 1})')\n",
    "    quizFile.write('\\n\\n')\n",
    "\n",
    "    # Shuffle the order of the states.\n",
    "    states = list(capitals.keys())\n",
    "    random.shuffle(states)\n",
    "\n",
    "    # Loop through all 50 states, making a question for each.\n",
    "    for questionNum in range(50):\n",
    "\n",
    "        # Get right and wrong answers.\n",
    "        correctAnswer = capitals[states[questionNum]]\n",
    "        wrongAnswers = list(capitals.values())\n",
    "        del wrongAnswers[wrongAnswers.index(correctAnswer)]\n",
    "        wrongAnswers = random.sample(wrongAnswers, 3)\n",
    "        answerOptions = wrongAnswers + [correctAnswer]\n",
    "        random.shuffle(answerOptions)\n",
    "\n",
    "        # Write the question and the answer options to the quiz file.\n",
    "        quizFile.write(f'{questionNum + 1}. What is the capital of {states[questionNum]}?\\n')\n",
    "        for i in range(4):\n",
    "           quizFile.write(f\"    {'ABCD'[i]}. { answerOptions[i]}\\n\")\n",
    "        quizFile.write('\\n')\n",
    "\n",
    "        # Write the answer key to a file.\n",
    "        answerKeyFile.write(f\"{questionNum + 1}.{'ABCD'[answerOptions.index(correctAnswer)]}\")\n",
    "    quizFile.close()\n",
    "    answerKeyFile.close()"
   ]
  },
  {
   "cell_type": "markdown",
   "metadata": {},
   "source": [
    "#### __Project: Updatable Multi-Clipboard__"
   ]
  },
  {
   "cell_type": "markdown",
   "metadata": {},
   "source": [
    "The user will now be able to save new strings to load to the clipboard without having to modify the source code. The __.pyw__ extension means that Python won’t show a Terminal window when it runs this program.\n",
    "\n",
    "The program will save each piece of clipboard text under a keyword. For example, when you run _py mcb.pyw save spam_, the current contents of the clipboard will be saved with the keyword __spam__. This text can later be loaded to the clipboard again by running _py mcb.pyw spam_. And if the user forgets what keywords they have, they can run _py mcb.pyw_ list to copy a list of all keywords to the clipboard.\n",
    "\n",
    "Here’s what the program does:\n",
    "\n",
    "1. The command line argument for the keyword is checked.\n",
    "2. If the argument is _save_, then the clipboard contents are saved to the keyword.\n",
    "3. If the argument is _list_, then all the keywords are copied to the clipboard.\n",
    "4. Otherwise, the text for the keyword is copied to the clipboard.\n",
    "\n",
    "This means the code will need to do the following:\n",
    "\n",
    "1. Read the command line arguments from _sys.argv_.\n",
    "2. Read and write to the clipboard.\n",
    "3. Save and load to a shelf file.\n",
    "\n",
    "If you use Windows, you can easily run this script from the Run... window by creating a batch file named __mcb.bat__ with the following content:\n",
    "\n",
    "```python\n",
    "@pyw.exe C:\\Python34\\mcb.pyw %*"
   ]
  },
  {
   "cell_type": "markdown",
   "metadata": {},
   "source": [
    "##### Step 1: Comments and Shelf Setup"
   ]
  },
  {
   "cell_type": "markdown",
   "metadata": {},
   "source": [
    "Let’s start by making a skeleton script with some comments and basic setup.\n",
    "\n",
    "Import your modules. Copying and pasting will require the _pyperclip_ module, and reading the command line arguments will require the _sys_ module. The _shelve_ module will also come in handy: Whenever the user wants to save a new piece of clipboard text, you’ll save it to a shelf file. Then, when the user wants to paste the text back to their clipboard, you’ll open the shelf file and load it back into your program. The shelf file will be named with the prefix __mcb__."
   ]
  },
  {
   "cell_type": "markdown",
   "metadata": {},
   "source": [
    "##### Step 2: Save Clipboard Content with a Keyword"
   ]
  },
  {
   "cell_type": "markdown",
   "metadata": {},
   "source": [
    "The program does different things depending on whether the user wants to save text to a keyword, load text into the clipboard, or list all the existing keywords. Let’s deal with that first case.\n",
    "\n",
    "If the first command line argument is _'save'_, the second command line argument is the keyword for the current content of the clipboard. The keyword will be used as the key for _mcbShelf_, and the value will be the text currently on the clipboard.\n",
    "\n",
    "If there is only one command line argument, you will assume it is either _'list'_ or a keyword to load content onto the clipboard."
   ]
  },
  {
   "cell_type": "markdown",
   "metadata": {},
   "source": [
    "##### Step 3: List Keywords and Load a Keyword’s Content"
   ]
  },
  {
   "cell_type": "markdown",
   "metadata": {},
   "source": [
    "Finally, let’s implement the two remaining cases: the user wants to load clipboard text in from a keyword, or they want a list of all available keywords.\n",
    "\n",
    "If there is only one command line argument, first let’s check whether it’s _'list'_. If so, a string representation of the list of shelf keys will be copied to the clipboard. The user can paste this list into an open text editor to read it.\n",
    "\n",
    "Otherwise, you can assume the command line argument is a keyword. If this keyword exists in the _mcbShelf_ shelf as a key, you can load the value onto the clipboard."
   ]
  },
  {
   "cell_type": "markdown",
   "metadata": {},
   "source": [
    "###### ___mcb.pyw___"
   ]
  },
  {
   "cell_type": "code",
   "execution_count": null,
   "metadata": {},
   "outputs": [],
   "source": [
    "#! python3\n",
    "# mcb.pyw - Saves and loads pieces of text to the clipboard.\n",
    "# Usage: py.exe mcb.pyw save <keyword> - Saves clipboard to keyword.\n",
    "#        py.exe mcb.pyw <keyword> - Loads keyword to clipboard.\n",
    "#        py.exe mcb.pyw list - Loads all keywords to clipboard.\n",
    "\n",
    "import shelve, pyperclip, sys\n",
    "\n",
    "mcbShelf = shelve.open('mcb')\n",
    "\n",
    "# Save clipboard content.\n",
    "if len(sys.argv) == 3 and sys.argv[1].lower() == 'save':\n",
    "    mcbShelf[sys.argv[2]] = pyperclip.paste()\n",
    "elif len(sys.argv) == 2:\n",
    "    # List keywords and load content.\n",
    "    if sys.argv[1].lower() == 'list':\n",
    "        pyperclip.copy(str(list(mcbShelf.keys())))\n",
    "    elif sys.argv[1] in mcbShelf:\n",
    "        pyperclip.copy(mcbShelf[sys.argv[1]])\n",
    "\n",
    "mcbShelf.close()"
   ]
  },
  {
   "cell_type": "markdown",
   "metadata": {},
   "source": [
    "#### ___My answers to the practice questions___"
   ]
  },
  {
   "cell_type": "markdown",
   "metadata": {},
   "source": [
    "1. To the program's current directory.\n",
    "2. _C:\\\\_ or _/_\n",
    "3. _WindowsPath('C:/Users/Al')_\n",
    "4. _error_\n",
    "5. _os.getcwd()_ evaluates to the current working directory and _os.chdir()_ changes it.\n",
    "6. _._ is the current folder, while _.._ is the parent folder. \n",
    "7. _C:\\bacon\\eggs_ is the dir name, and _spam.txt_ the base name.\n",
    "8. 'r' for read mode, 'w' for write mode and 'a' for append mode.\n",
    "9. It's completely overwritten.\n",
    "10. _read_ returns a single string, but _readlines()_ returns a list of lines in the file.\n",
    "11. A python's dictionary.\n"
   ]
  },
  {
   "cell_type": "markdown",
   "metadata": {},
   "source": [
    "#### ___Practice Projects___"
   ]
  },
  {
   "cell_type": "markdown",
   "metadata": {},
   "source": [
    "##### Extending the Multi-Clipboard"
   ]
  },
  {
   "cell_type": "markdown",
   "metadata": {},
   "source": [
    "Extend the multi-clipboard program in this chapter so that it has a _delete <keyword\\>_ command line argument that will delete a keyword from the shelf. Then add a _delete_ command line argument that will delete __all__ keywords."
   ]
  },
  {
   "cell_type": "markdown",
   "metadata": {},
   "source": [
    "##### Mad Libs"
   ]
  },
  {
   "cell_type": "markdown",
   "metadata": {},
   "source": [
    "Create a Mad Libs program that reads in text files and lets the user add their own text anywhere the word __ADJECTIVE__, __NOUN__, __ADVERB__, or __VERB__ appears in the text file.\n",
    "\n",
    "```\n",
    "The ADJECTIVE panda walked to the NOUN and then VERB. A nearby NOUN was unaffected by these events.\n",
    "```\n",
    "\n",
    "The program would find these occurrences and prompt the user to replace them.\n",
    "\n",
    "```\n",
    "Enter an adjective:\n",
    "silly\n",
    "Enter a noun:\n",
    "chandelier\n",
    "Enter a verb:\n",
    "screamed\n",
    "Enter a noun:\n",
    "pickup truck\n",
    "```\n",
    "\n",
    "The following text file would then be created:\n",
    "\n",
    "```\n",
    "The silly panda walked to the chandelier and then screamed. A nearby pickup\n",
    "truck was unaffected by these events.\n",
    "```\n",
    "\n",
    "The results should be printed to the screen and saved to a new text file."
   ]
  },
  {
   "cell_type": "markdown",
   "metadata": {},
   "source": [
    "##### Regex Search"
   ]
  },
  {
   "cell_type": "markdown",
   "metadata": {},
   "source": [
    "Write a program that opens all _.txt_ files in a folder and searches for any line that matches a user-supplied regular expression. The results should be printed to the screen."
   ]
  },
  {
   "cell_type": "markdown",
   "metadata": {},
   "source": [
    "### Chapter 10: Organizing Files"
   ]
  },
  {
   "cell_type": "markdown",
   "metadata": {},
   "source": [
    "#### __The shutil Module__"
   ]
  },
  {
   "cell_type": "markdown",
   "metadata": {},
   "source": [
    "The _shutil_ (or shell utilities) module has functions to let you copy, move, rename, and delete files in your Python programs. To use the _shutil_ functions, you will first need to use _import shutil_."
   ]
  },
  {
   "cell_type": "markdown",
   "metadata": {},
   "source": [
    "##### Copying Files and Folders"
   ]
  },
  {
   "cell_type": "markdown",
   "metadata": {},
   "source": [
    "Calling _shutil.copy(source, destination)_ will copy the file at the path _source_ to the folder at the path _destination_. If _destination_ is a filename, it will be used as the new name of the copied file. This function returns a string or _Path_ object of the copied file.\n",
    "\n",
    "```python\n",
    ">>> import shutil, os\n",
    ">>> from pathlib import Path\n",
    ">>> p = Path.home()\n",
    ">>> shutil.copy(p / 'spam.txt', p / 'some_folder')\n",
    "'C:\\\\Users\\\\Al\\\\some_folder\\\\spam.txt'\n",
    ">>> shutil.copy(p / 'eggs.txt', p / 'some_folder/eggs2.txt')\n",
    "WindowsPath('C:/Users/Al/some_folder/eggs2.txt')\n",
    "```\n",
    "\n",
    "Calling _shutil.copytree(source, destination)_ will copy the folder at the path source, along with all of its files and subfolders, to the folder at the path destination. \n",
    "\n",
    "```python\n",
    ">>> import shutil, os\n",
    ">>> from pathlib import Path\n",
    ">>> p = Path.home()\n",
    ">>> shutil.copytree(p / 'spam', p / 'spam_backup')\n",
    "WindowsPath('C:/Users/Al/spam_backup')"
   ]
  },
  {
   "cell_type": "markdown",
   "metadata": {},
   "source": [
    "##### Moving and Renaming Files and Folders"
   ]
  },
  {
   "cell_type": "markdown",
   "metadata": {},
   "source": [
    "Calling _shutil.move(source, destination)_ will move the file or folder at the path _source_ to the path _destination_ and will return a string of the absolute path of the new location. If destination points to a folder, the source file gets moved into destination and keeps its current filename. \n",
    "\n",
    "```python\n",
    ">>> import shutil\n",
    ">>> shutil.move('C:\\\\bacon.txt', 'C:\\\\eggs')\n",
    "'C:\\\\eggs\\\\bacon.txt'\n",
    "```\n",
    "\n",
    "If there had been a bacon.txt file already in _C:\\eggs_, it would have been overwritten. The destination path can also specify a filename.\n",
    "\n",
    "```python\n",
    ">>> shutil.move('C:\\\\bacon.txt', 'C:\\\\eggs\\\\new_bacon.txt')\n",
    "'C:\\\\eggs\\\\new_bacon.txt'\n",
    "```\n",
    "\n",
    "Both of the previous examples worked under the assumption that there was a folder __eggs__ in the C:\\ directory. But if there is no __eggs__ folder, then _move()_ will rename __bacon.txt__ to a file named __eggs__.\n",
    "\n",
    "```python\n",
    ">>> shutil.move('C:\\\\bacon.txt', 'C:\\\\eggs')\n",
    "'C:\\\\eggs'\n",
    "```\n",
    "\n",
    "Finally, the folders that make up the destination must already exist, or else Python will throw an exception. \n",
    "\n",
    "```python\n",
    ">>> shutil.move('spam.txt', 'c:\\\\does_not_exist\\\\eggs\\\\ham')\n",
    "Traceback (most recent call last):\n",
    "  --snip--\n",
    "FileNotFoundError: [Errno 2] No such file or directory: 'c:\\\\does_not_exist\\\\\n",
    "eggs\\\\ham'"
   ]
  },
  {
   "cell_type": "markdown",
   "metadata": {},
   "source": [
    "##### Permanently Deleting Files and Folders"
   ]
  },
  {
   "cell_type": "markdown",
   "metadata": {},
   "source": [
    "You can delete a single file or a single empty folder with functions in the _os_ module, whereas to delete a folder and all of its contents, you use the _shutil_ module.\n",
    "\n",
    "- Calling _os.unlink(path)_ will delete the file at _path_.\n",
    "- Calling _os.rmdir(path)_ will delete the folder at _path_. This folder must be empty of any files or folders.\n",
    "- Calling _shutil.rmtree(path)_ will remove the folder at _path_, and all files and folders it contains will also be deleted.\n",
    "\n",
    "It’s often a good idea to first run your program with these calls commented out and with _print()_ calls added to show the files that would be deleted.\n",
    "\n",
    "```python\n",
    "import os\n",
    "from pathlib import Path\n",
    "for filename in Path.home().glob('*.rxt'):\n",
    "    os.unlink(filename)\n",
    "```\n",
    "\n",
    "Instead, you should have first run the program like this:\n",
    "\n",
    "```python\n",
    "import os\n",
    "from pathlib import Path\n",
    "for filename in Path.home().glob('*.rxt'):\n",
    "    #os.unlink(filename)\n",
    "    print(filename)"
   ]
  },
  {
   "cell_type": "markdown",
   "metadata": {},
   "source": [
    "##### Safe Deletes with the send2trash Module"
   ]
  },
  {
   "cell_type": "markdown",
   "metadata": {},
   "source": [
    "_send2trash_ will send folders and files to your computer’s trash or recycle bin instead of permanently deleting them.\n",
    "\n",
    "```python\n",
    ">>> import send2trash\n",
    ">>> baconFile = open('bacon.txt', 'a')   # creates the file\n",
    ">>> baconFile.write('Bacon is not a vegetable.')\n",
    "25\n",
    ">>> baconFile.close()\n",
    ">>> send2trash.send2trash('bacon.txt')\n",
    "```\n",
    "\n",
    "While sending files to the recycle bin lets you recover them later, it will not free up disk space like permanently deleting them does."
   ]
  },
  {
   "cell_type": "markdown",
   "metadata": {},
   "source": [
    "#### __Walking a Directory Tree__"
   ]
  },
  {
   "cell_type": "markdown",
   "metadata": {},
   "source": [
    "```python\n",
    "import os\n",
    "\n",
    "for folderName, subfolders, filenames in os.walk('C:\\\\delicious'):\n",
    "    print('The current folder is ' + folderName)\n",
    "\n",
    "    for subfolder in subfolders:\n",
    "        print('SUBFOLDER OF ' + folderName + ': ' + subfolder)\n",
    "\n",
    "    for filename in filenames:\n",
    "        print('FILE INSIDE ' + folderName + ': '+ filename)\n",
    "\n",
    "    print('')\n",
    "```\n",
    "\n",
    "The _os.walk()_ function is passed a single string value: the path of a folder. You can use _os.walk()_ in a _for_ loop statement to walk a directory tree, the _os.walk()_ function will return three values on each iteration through the loop:\n",
    "\n",
    "- A string of the current folder’s name.\n",
    "- A list of strings of the folders in the current folder.\n",
    "- A list of strings of the files in the current folder.\n",
    "\n",
    "When you run this program, it will output the following:\n",
    "\n",
    "```python\n",
    "The current folder is C:\\delicious\n",
    "SUBFOLDER OF C:\\delicious: cats\n",
    "SUBFOLDER OF C:\\delicious: walnut\n",
    "FILE INSIDE C:\\delicious: spam.txt\n",
    "\n",
    "The current folder is C:\\delicious\\cats\n",
    "FILE INSIDE C:\\delicious\\cats: catnames.txt\n",
    "FILE INSIDE C:\\delicious\\cats: zophie.jpg\n",
    "\n",
    "The current folder is C:\\delicious\\walnut\n",
    "SUBFOLDER OF C:\\delicious\\walnut: waffles\n",
    "\n",
    "The current folder is C:\\delicious\\walnut\\waffles\n",
    "FILE INSIDE C:\\delicious\\walnut\\waffles: butter.txt."
   ]
  },
  {
   "cell_type": "markdown",
   "metadata": {},
   "source": [
    "#### __Compressing Files with the zipfile Module__"
   ]
  },
  {
   "cell_type": "markdown",
   "metadata": {},
   "source": [
    "ZIP files can hold the compressed contents of many other files. This single file, called an __archive file__, can be attached to an email. Your Python programs can create and open (or __extract__) ZIP files using functions in the _zipfile_ module."
   ]
  },
  {
   "cell_type": "markdown",
   "metadata": {},
   "source": [
    "##### Reading ZIP Files"
   ]
  },
  {
   "cell_type": "markdown",
   "metadata": {},
   "source": [
    "_ZipFile_ objects are values through which the program interacts with the file. To create a _ZipFile_ object, call the _zipfile.ZipFile()_ function, passing it a string of the __.ZIP__ file’s filename.\n",
    "\n",
    "```python\n",
    ">>> import zipfile, os\n",
    "\n",
    ">>> from pathlib import Path\n",
    ">>> p = Path.home()\n",
    ">>> exampleZip = zipfile.ZipFile(p / 'example.zip')\n",
    ">>> exampleZip.namelist()\n",
    "['spam.txt', 'cats/', 'cats/catnames.txt', 'cats/zophie.jpg']\n",
    ">>> spamInfo = exampleZip.getinfo('spam.txt')\n",
    ">>> spamInfo.file_size\n",
    "13908\n",
    ">>> spamInfo.compress_size\n",
    "3828\n",
    ">>> f'Compressed file is {round(spamInfo.file_size / spamInfo.compress_size, 2)}x smaller!'\n",
    "'Compressed file is 3.63x smaller!'\n",
    ">>> exampleZip.close()"
   ]
  },
  {
   "cell_type": "markdown",
   "metadata": {},
   "source": [
    "##### Extracting from ZIP Files"
   ]
  },
  {
   "cell_type": "markdown",
   "metadata": {},
   "source": [
    "The _extractall()_ method for ZipFile objects extracts all the files and folders from a ZIP file into the current working directory.\n",
    "\n",
    "```python\n",
    ">>> import zipfile, os\n",
    ">>> from pathlib import Path\n",
    ">>> p = Path.home()\n",
    ">>> exampleZip = zipfile.ZipFile(p / 'example.zip')\n",
    ">>> exampleZip.extractall()\n",
    ">>> exampleZip.close()\n",
    "```\n",
    "\n",
    "After running this code, the contents of __example.zip__ will be extracted to C:\\. Optionally, you can pass a folder name to _extractall()_ to have it extract the files into a folder other than the current working directory. If the folder passed to the _extractall()_ method does not exist, it will be created. \n",
    "\n",
    "The _extract()_ method for _ZipFile_ objects will extract a single file from the ZIP file.\n",
    "\n",
    "```python\n",
    ">>> exampleZip.extract('spam.txt')\n",
    "'C:\\\\spam.txt'\n",
    ">>> exampleZip.extract('spam.txt', 'C:\\\\some\\\\new\\\\folders')\n",
    "'C:\\\\some\\\\new\\\\folders\\\\spam.txt'\n",
    ">>> exampleZip.close()\n",
    "```\n",
    "\n",
    "The string you pass to _extract()_ must match one of the strings in the list returned by _namelist()_. The value that _extract()_ returns is the absolute path to which the file was extracted."
   ]
  },
  {
   "cell_type": "markdown",
   "metadata": {},
   "source": [
    "##### Creating and Adding to ZIP Files"
   ]
  },
  {
   "cell_type": "markdown",
   "metadata": {},
   "source": [
    "To create your own compressed ZIP files, you must open the ZipFile object in write mode by passing _'w'_ as the second argument. The _write()_ method’s first argument is a string of the filename to add. The second argument is the __compression type__ parameter, which tells the computer what algorithm it should use to compress the files; you can always just set this value to _zipfile.ZIP\\_DEFLATED_. (This specifies the __deflate__ compression algorithm, which works well on all types of data.) \n",
    "\n",
    "```python\n",
    ">>> import zipfile\n",
    ">>> newZip = zipfile.ZipFile('new.zip', 'w')\n",
    ">>> newZip.write('spam.txt', compress_type=zipfile.ZIP_DEFLATED)\n",
    ">>> newZip.close()\n",
    "```\n",
    "\n",
    "This code will create a new ZIP file named __new.zip__ that has the compressed contents of __spam.txt__. If you want to simply add files to an existing ZIP file, pass _'a'_ as the second argument to _zipfile.ZipFile()_ to open the ZIP file in __append mode__."
   ]
  },
  {
   "cell_type": "markdown",
   "metadata": {},
   "source": [
    "#### __Project: Renaming Files with American-Style Dates to European-Style Dates__"
   ]
  },
  {
   "cell_type": "markdown",
   "metadata": {},
   "source": [
    "Say your boss emails you thousands of files with American-style dates (MM-DD-YYYY) in their names and needs them renamed to European-style dates (DD-MM-YYYY). \n",
    "\n",
    "Here’s what the program does:\n",
    "\n",
    "1. It searches all the filenames in the current working directory for American-style dates.\n",
    "2. When one is found, it renames the file with the month and day swapped to make it European-style.\n",
    "\n",
    "This means the code will need to do the following:\n",
    "\n",
    "1. Create a regex that can identify the text pattern of American-style dates.\n",
    "2. Call _os.listdir()_ to find all the files in the working directory.\n",
    "3. Loop over each filename, using the regex to check whether it has a date.\n",
    "4. If it has a date, rename the file with _shutil.move()_."
   ]
  },
  {
   "cell_type": "markdown",
   "metadata": {},
   "source": [
    "##### Step 1: Create a Regex for American-Style Dates"
   ]
  },
  {
   "cell_type": "markdown",
   "metadata": {},
   "source": [
    "The first part of the program will need to import the necessary modules and create a regex that can identify MM-DD-YYYY dates.\n",
    "\n",
    "First, we import the _shutill_ module. Filenames with dates such as __spam4-4-1984.txt__ and __01-03-2014eggs.zip__ should be renamed, while filenames without dates can be ignored.\n",
    "\n",
    "After importing the _re_ module at the top, call _re.compile()_ to create a _Regex_ object. \n",
    "\n",
    "The regular expression string begins with _^(.*?)_ to match any text at the beginning of the filename that might come before the date. The _((0|1)?\\d)_ group matches the month. The group for the day is _((0|1|2|3)?\\d)_ and follows similar logic; 3, 03, and 31 are all valid numbers for days. (Yes, this regex will accept some invalid dates such as 4-31-2014, 2-29-2013, and 0-15-2014. Dates have a lot of thorny special cases that can be easy to miss. But for simplicity, the regex in this program works well enough.) The _(.*?)$_ part of the regex will match any text that comes after the date."
   ]
  },
  {
   "cell_type": "markdown",
   "metadata": {},
   "source": [
    "##### Step 2: Identify the Date Parts from the Filenames"
   ]
  },
  {
   "cell_type": "markdown",
   "metadata": {},
   "source": [
    "Next, the program will have to loop over the list of filename strings returned from _os.listdir()_ and match them against the regex. For filenames that have a date, the matched text will be stored in several variables.\n",
    "\n",
    "If the Match object returned from the _search()_ method is _None_, the _continue_ statement will skip the rest of the loop and move on to the next filename. Otherwise, the various strings matched in the regular expression groups are stored in variables named _beforePart_, _monthPart_, _dayPart_, _yearPart_, and _afterPart_."
   ]
  },
  {
   "cell_type": "markdown",
   "metadata": {},
   "source": [
    "##### Step 3: Form the New Filename and Rename the Files"
   ]
  },
  {
   "cell_type": "markdown",
   "metadata": {},
   "source": [
    "As the final step, concatenate the strings in the variables made in the previous step with the European-style date.\n",
    "\n",
    "Store the concatenated string in a variable named _euroFilename_. Then, pass the original filename in _amerFilename_ and the new _euroFilename_ variable to the _shutil.move()_ function to rename the file."
   ]
  },
  {
   "cell_type": "markdown",
   "metadata": {},
   "source": [
    "###### ___renameDates.py___"
   ]
  },
  {
   "cell_type": "code",
   "execution_count": 1,
   "metadata": {},
   "outputs": [],
   "source": [
    "#! python3\n",
    "# renameDates.py - Renames filenames with American MM-DD-YYYY date format\n",
    "# to European DD-MM-YYYY.\n",
    "\n",
    "import shutil, os, re\n",
    "\n",
    "# Create a regex that matches files with the American date format.\n",
    "datePattern = re.compile(r\"\"\"^(.*?)   # all text before the date\n",
    "      ((0|1)?\\d)-                     # one or two digits for the month\n",
    "      ((0|1|2|3)?\\d)-                 # one or two digits for the day\n",
    "      ((19|20)\\d\\d)                   # four digits for the year\n",
    "      (.*?)$                          # all text after the date\n",
    "      \"\"\", re.VERBOSE)\n",
    "\n",
    "# Loop over the files in the working directory.\n",
    "for amerFilename in os.listdir('.'):\n",
    "    mo = datePattern.search(amerFilename)\n",
    "\n",
    "    # Skip files without a date.\n",
    "    if mo == None:\n",
    "        continue\n",
    "    \n",
    "    # Get the different parts of the filename.\n",
    "    beforePart = mo.group(1)\n",
    "    monthPart  = mo.group(2)\n",
    "    dayPart    = mo.group(4)\n",
    "    yearPart   = mo.group(6)\n",
    "    afterPart  = mo.group(8)\n",
    "\n",
    "    # Form the European-style filename.\n",
    "    euroFilename = beforePart + dayPart + '-' + monthPart + '-' + yearPart + afterPart\n",
    "\n",
    "    # Get the full, absolute file paths.\n",
    "    absWorkingDir = os.path.abspath('.')\n",
    "    amerFilename = os.path.join(absWorkingDir, amerFilename)\n",
    "    euroFilename = os.path.join(absWorkingDir, euroFilename)\n",
    "\n",
    "    # Rename the files.\n",
    "    print(f'Renaming \"{amerFilename}\" to \"{euroFilename}\"...')\n",
    "    #shutil.move(amerFilename, euroFilename)   # uncomment after testing"
   ]
  },
  {
   "cell_type": "markdown",
   "metadata": {},
   "source": [
    "##### Ideas for Similar Programs"
   ]
  },
  {
   "cell_type": "markdown",
   "metadata": {},
   "source": [
    "Other reasons you might want to rename a large number of files:\n",
    "\n",
    "- To add a prefix to the start of the filename, such as adding _spam\\__ to rename _eggs.txt_ to _spam\\_eggs.txt_.\n",
    "- To change filenames with European-style dates to American-style dates.\n",
    "- To remove the zeros from files such as _spam0042.txt_."
   ]
  },
  {
   "cell_type": "markdown",
   "metadata": {},
   "source": [
    "#### __Project: Backing Up a Folder into a ZIP File__"
   ]
  },
  {
   "cell_type": "markdown",
   "metadata": {},
   "source": [
    "Say you’re working on a project whose files you keep in a folder named __C:\\AlsPythonBook__. You’re worried about losing your work, so you’d like to create ZIP file “snapshots” of the entire folder. You’d like to keep different versions, so you want the ZIP file’s filename to increment each time it is made."
   ]
  },
  {
   "cell_type": "markdown",
   "metadata": {},
   "source": [
    "##### Step 1: Figure Out the ZIP File’s Name"
   ]
  },
  {
   "cell_type": "markdown",
   "metadata": {},
   "source": [
    "The code for this program will be placed into a function named _backupToZip()_. At the end of the program, the function will be called to perform the backup.\n",
    "\n",
    "Do the basics first: add the shebang (#!) line, describe what the program does, and import the _zipfile_ and _os_ modules.\n",
    "\n",
    "Define a _backupToZip()_ function that takes just one parameter, _folder_. This parameter is a string path to the folder whose contents should be backed up. The function will determine what filename to use for the ZIP file it will create; then the function will create the file, walk the folder folder, and add each of the subfolders and files to the ZIP file.\n",
    "\n",
    "The first part, naming the ZIP file, uses the base name of the absolute path of _folder_. If the folder being backed up is _C:\\delicious_, the ZIP file’s name should be _delicious\\_N.zip_.\n",
    "\n",
    "Use a variable named _number_ for __N__, and keep incrementing it inside the loop that calls _os.path.exists()_ to check whether the file exists. The first nonexistent filename found will cause the loop to _break_, since it will have found the filename of the new zip."
   ]
  },
  {
   "cell_type": "markdown",
   "metadata": {},
   "source": [
    "##### Step 2: Create the New ZIP File"
   ]
  },
  {
   "cell_type": "markdown",
   "metadata": {},
   "source": [
    "Now that the new ZIP file’s name is stored in the _zipFilename_ variable, call _zipfile.ZipFile()_ to actually create the ZIP file."
   ]
  },
  {
   "cell_type": "markdown",
   "metadata": {},
   "source": [
    "##### Step 3: Walk the Directory Tree and Add to the ZIP File"
   ]
  },
  {
   "cell_type": "markdown",
   "metadata": {},
   "source": [
    "Now you need to use the _os.walk()_ function to do the work of listing every file in the folder and its subfolders.\n",
    "\n",
    "In the _for_ loop, the folder is added to the ZIP file. The nested for loop can go through each filename in the _filenames_ list. Each of these is added to the ZIP file, except for previously made backup ZIPs.\n",
    "\n",
    "When you run this program, it will produce output that will look something like this:\n",
    "\n",
    "```python\n",
    "Creating delicious_1.zip...\n",
    "Adding files in C:\\delicious...\n",
    "Adding files in C:\\delicious\\cats...\n",
    "Adding files in C:\\delicious\\waffles...\n",
    "Adding files in C:\\delicious\\walnut...\n",
    "Adding files in C:\\delicious\\walnut\\waffles...\n",
    "Done.\n",
    "```\n",
    "\n",
    "The second time you run it, it will put all the files in __C:\\delicious__ into a ZIP file named __delicious\\_2.zip__, and so on."
   ]
  },
  {
   "cell_type": "markdown",
   "metadata": {},
   "source": [
    "###### ___backupToZip.py___"
   ]
  },
  {
   "cell_type": "code",
   "execution_count": 2,
   "metadata": {},
   "outputs": [
    {
     "name": "stdout",
     "output_type": "stream",
     "text": [
      "Creating delicious_1.zip...\n",
      "Done.\n"
     ]
    }
   ],
   "source": [
    "#! python3\n",
    "# backupToZip.py - Copies an entire folder and its contents into\n",
    "# a ZIP file whose filename increments.\n",
    "\n",
    "import zipfile, os\n",
    "\n",
    "def backupToZip(folder):\n",
    "    # Back up the entire contents of \"folder\" into a ZIP file.\n",
    "\n",
    "    folder = os.path.abspath(folder)   # make sure folder is absolute\n",
    "\n",
    "    # Figure out the filename this code should use based on\n",
    "    # what files already exist.\n",
    "    number = 1\n",
    "    while True:\n",
    "        zipFilename = os.path.basename(folder) + '_' + str(number) + '.zip'\n",
    "        if not os.path.exists(zipFilename):\n",
    "            break\n",
    "        number = number + 1\n",
    "\n",
    "    # Create the ZIP file.\n",
    "    print(f'Creating {zipFilename}...')\n",
    "    backupZip = zipfile.ZipFile(zipFilename, 'w')\n",
    "\n",
    "    # Walk the entire folder tree and compress the files in each folder.\n",
    "    for foldername, subfolders, filenames in os.walk(folder):\n",
    "        print(f'Adding files in {foldername}...')\n",
    "        # Add the current folder to the ZIP file.\n",
    "        backupZip.write(foldername)\n",
    "\n",
    "        # Add all the files in this folder to the ZIP file.\n",
    "        for filename in filenames:\n",
    "            newBase = os.path.basename(folder) + '_'\n",
    "            if filename.startswith(newBase) and filename.endswith('.zip'):\n",
    "                continue   # don't back up the backup ZIP files\n",
    "            backupZip.write(os.path.join(foldername, filename))\n",
    "    backupZip.close()\n",
    "    print('Done.')\n",
    "\n",
    "backupToZip('C:\\\\delicious')"
   ]
  },
  {
   "cell_type": "markdown",
   "metadata": {},
   "source": [
    "##### Ideas for Similar Programs"
   ]
  },
  {
   "cell_type": "markdown",
   "metadata": {},
   "source": [
    "You can write programs that do the following:\n",
    "\n",
    "- Walk a directory tree and archive just files with certain extensions, such as __.txt__ or __.py__, and nothing else.\n",
    "- Walk a directory tree and archive every file except the __.txt__ and __.py__ ones.\n",
    "- Find the folder in a directory tree that has the greatest number of files or the folder that uses the most disk space."
   ]
  },
  {
   "cell_type": "markdown",
   "metadata": {},
   "source": [
    "#### ___My answers to the practice questions___"
   ]
  },
  {
   "cell_type": "markdown",
   "metadata": {},
   "source": [
    "1. The first will copy a file or an empty folder, while the other will copy everything inside a folder too.\n",
    "2. _shutil.move()_\n",
    "3. _send2trash_ will send it to the recycle byn in the computer, while _shutil_ will delete it permanently.\n",
    "4. _zipfile.ZipFile()_"
   ]
  },
  {
   "cell_type": "markdown",
   "metadata": {},
   "source": [
    "#### ___Practice Projects___"
   ]
  },
  {
   "cell_type": "markdown",
   "metadata": {},
   "source": [
    "##### Selective Copy"
   ]
  },
  {
   "cell_type": "markdown",
   "metadata": {},
   "source": [
    "Write a program that walks through a folder tree and searches for files with a certain file extension (such as __.pdf__ or __.jpg__). Copy these files from whatever location they are in to a new folder."
   ]
  },
  {
   "cell_type": "markdown",
   "metadata": {},
   "source": [
    "##### Deleting Unneeded Files"
   ]
  },
  {
   "cell_type": "markdown",
   "metadata": {},
   "source": [
    "Write a program that walks through a folder tree and searches for exceptionally large files or folders—say, ones that have a file size of more than 100MB. (Remember that to get a file’s size, you can use _os.path.getsize()_ from the _os_ module.) Print these files with their absolute path to the screen."
   ]
  },
  {
   "cell_type": "markdown",
   "metadata": {},
   "source": [
    "##### Filling in the Gaps"
   ]
  },
  {
   "cell_type": "markdown",
   "metadata": {},
   "source": [
    "Write a program that finds all files with a given prefix, such as __spam001.txt__, __spam002.txt__, and so on, in a single folder and locates any gaps in the numbering. Have the program rename all the later files to close this gap.\n",
    "\n",
    "As an added challenge, write another program that can insert gaps into numbered files so that a new file can be added."
   ]
  },
  {
   "cell_type": "markdown",
   "metadata": {},
   "source": [
    "### Chapter 11: Debugging"
   ]
  },
  {
   "cell_type": "markdown",
   "metadata": {},
   "source": [
    "#### __Raising Exceptions__"
   ]
  },
  {
   "cell_type": "markdown",
   "metadata": {},
   "source": [
    "#### __Getting the Traceback as a String__"
   ]
  },
  {
   "cell_type": "markdown",
   "metadata": {},
   "source": [
    "#### __Assertions__"
   ]
  },
  {
   "cell_type": "markdown",
   "metadata": {},
   "source": [
    "##### Using an Assertion in a Traffic Light Simulation"
   ]
  },
  {
   "cell_type": "markdown",
   "metadata": {},
   "source": [
    "#### __Logging__"
   ]
  },
  {
   "cell_type": "markdown",
   "metadata": {},
   "source": [
    "##### Using the logging Module"
   ]
  },
  {
   "cell_type": "markdown",
   "metadata": {},
   "source": [
    "##### Don’t Debug with the print() Function"
   ]
  },
  {
   "cell_type": "markdown",
   "metadata": {},
   "source": [
    "##### Logging Levels"
   ]
  },
  {
   "cell_type": "markdown",
   "metadata": {},
   "source": [
    "##### Disabling Logging"
   ]
  },
  {
   "cell_type": "markdown",
   "metadata": {},
   "source": [
    "##### Logging to a File"
   ]
  },
  {
   "cell_type": "markdown",
   "metadata": {},
   "source": [
    "#### __Mu’s Debugger__"
   ]
  },
  {
   "cell_type": "markdown",
   "metadata": {},
   "source": [
    "##### Continue"
   ]
  },
  {
   "cell_type": "markdown",
   "metadata": {},
   "source": [
    "##### Step In"
   ]
  },
  {
   "cell_type": "markdown",
   "metadata": {},
   "source": [
    "##### Step Over"
   ]
  },
  {
   "cell_type": "markdown",
   "metadata": {},
   "source": [
    "##### Step Out"
   ]
  },
  {
   "cell_type": "markdown",
   "metadata": {},
   "source": [
    "##### Stop"
   ]
  },
  {
   "cell_type": "markdown",
   "metadata": {},
   "source": [
    "##### Debugging a Number Adding Program"
   ]
  },
  {
   "cell_type": "markdown",
   "metadata": {},
   "source": [
    "##### Breakpoints"
   ]
  },
  {
   "cell_type": "markdown",
   "metadata": {},
   "source": [
    "#### ___My answers to the practice questions___"
   ]
  },
  {
   "cell_type": "markdown",
   "metadata": {},
   "source": [
    "#### ___Practice Project___"
   ]
  },
  {
   "cell_type": "markdown",
   "metadata": {},
   "source": [
    "##### Debugging Coin Toss"
   ]
  },
  {
   "cell_type": "markdown",
   "metadata": {},
   "source": [
    "### Chapter 12: Web Scraping"
   ]
  },
  {
   "cell_type": "markdown",
   "metadata": {},
   "source": [
    "#### __Project: mapIt.py with the webbrowser Module__"
   ]
  },
  {
   "cell_type": "markdown",
   "metadata": {},
   "source": [
    "##### Step 1: Figure Out the URL"
   ]
  },
  {
   "cell_type": "markdown",
   "metadata": {},
   "source": [
    "##### Step 2: Handle the Command Line Arguments"
   ]
  },
  {
   "cell_type": "markdown",
   "metadata": {},
   "source": [
    "##### Step 3: Handle the Clipboard Content and Launch the Browser"
   ]
  },
  {
   "cell_type": "markdown",
   "metadata": {},
   "source": [
    "##### Ideas for Similar Programs"
   ]
  },
  {
   "cell_type": "markdown",
   "metadata": {},
   "source": [
    "#### __Downloading Files from the Web with the requests Module__"
   ]
  },
  {
   "cell_type": "markdown",
   "metadata": {},
   "source": [
    "##### Downloading a Web Page with the requests.get() Function"
   ]
  },
  {
   "cell_type": "markdown",
   "metadata": {},
   "source": [
    "##### Checking for Errors"
   ]
  },
  {
   "cell_type": "markdown",
   "metadata": {},
   "source": [
    "#### __Saving Downloaded Files to the Hard Drive__"
   ]
  },
  {
   "cell_type": "markdown",
   "metadata": {},
   "source": [
    "#### __HTML__"
   ]
  },
  {
   "cell_type": "markdown",
   "metadata": {},
   "source": [
    "##### Resources for Learning HTML"
   ]
  },
  {
   "cell_type": "markdown",
   "metadata": {},
   "source": [
    "##### A Quick Refresher"
   ]
  },
  {
   "cell_type": "markdown",
   "metadata": {},
   "source": [
    "##### Viewing the Source HTML of a Web Page"
   ]
  },
  {
   "cell_type": "markdown",
   "metadata": {},
   "source": [
    "##### Opening Your Browser’s Developer Tools"
   ]
  },
  {
   "cell_type": "markdown",
   "metadata": {},
   "source": [
    "##### Using the Developer Tools to Find HTML Elements"
   ]
  },
  {
   "cell_type": "markdown",
   "metadata": {},
   "source": [
    "#### __Parsing HTML with the bs4 Module__"
   ]
  },
  {
   "cell_type": "markdown",
   "metadata": {},
   "source": [
    "##### Creating a BeautifulSoup Object from HTML"
   ]
  },
  {
   "cell_type": "markdown",
   "metadata": {},
   "source": [
    "##### Finding an Element with the select() Method"
   ]
  },
  {
   "cell_type": "markdown",
   "metadata": {},
   "source": [
    "##### Getting Data from an Element’s Attributes"
   ]
  },
  {
   "cell_type": "markdown",
   "metadata": {},
   "source": [
    "#### __Project: Opening All Search Results__"
   ]
  },
  {
   "cell_type": "markdown",
   "metadata": {},
   "source": [
    "##### Step 1: Get the Command Line Arguments and Request the Search Page"
   ]
  },
  {
   "cell_type": "markdown",
   "metadata": {},
   "source": [
    "##### Step 2: Find All the Results"
   ]
  },
  {
   "cell_type": "markdown",
   "metadata": {},
   "source": [
    "##### Step 3: Open Web Browsers for Each Result"
   ]
  },
  {
   "cell_type": "markdown",
   "metadata": {},
   "source": [
    "##### Ideas for Similar Programs"
   ]
  },
  {
   "cell_type": "markdown",
   "metadata": {},
   "source": [
    "#### __Project: Downloading All XKCD Comics__"
   ]
  },
  {
   "cell_type": "markdown",
   "metadata": {},
   "source": [
    "##### Step 1: Design the Program"
   ]
  },
  {
   "cell_type": "markdown",
   "metadata": {},
   "source": [
    "##### Step 2: Download the Web Page"
   ]
  },
  {
   "cell_type": "markdown",
   "metadata": {},
   "source": [
    "##### Step 3: Find and Download the Comic Image"
   ]
  },
  {
   "cell_type": "markdown",
   "metadata": {},
   "source": [
    "##### Step 4: Save the Image and Find the Previous Comic"
   ]
  },
  {
   "cell_type": "markdown",
   "metadata": {},
   "source": [
    "##### Ideas for Similar Programs"
   ]
  },
  {
   "cell_type": "markdown",
   "metadata": {},
   "source": [
    "#### __Controlling the Browser with the selenium Module__"
   ]
  },
  {
   "cell_type": "markdown",
   "metadata": {},
   "source": [
    "##### Starting a selenium-Controlled Browser"
   ]
  },
  {
   "cell_type": "markdown",
   "metadata": {},
   "source": [
    "##### Finding Elements on the Page"
   ]
  },
  {
   "cell_type": "markdown",
   "metadata": {},
   "source": [
    "##### Clicking the Page"
   ]
  },
  {
   "cell_type": "markdown",
   "metadata": {},
   "source": [
    "##### Filling Out and Submitting Forms"
   ]
  },
  {
   "cell_type": "markdown",
   "metadata": {},
   "source": [
    "##### Sending Special Keys"
   ]
  },
  {
   "cell_type": "markdown",
   "metadata": {},
   "source": [
    "##### Clicking Browser Buttons"
   ]
  },
  {
   "cell_type": "markdown",
   "metadata": {},
   "source": [
    "##### More Information on Selenium"
   ]
  },
  {
   "cell_type": "markdown",
   "metadata": {},
   "source": [
    "#### ___My answers to the practice questions___"
   ]
  },
  {
   "cell_type": "markdown",
   "metadata": {},
   "source": [
    "#### ___Practice Projects___"
   ]
  },
  {
   "cell_type": "markdown",
   "metadata": {},
   "source": [
    "##### Command Line Emailer"
   ]
  },
  {
   "cell_type": "markdown",
   "metadata": {},
   "source": [
    "##### Image Site Downloader"
   ]
  },
  {
   "cell_type": "markdown",
   "metadata": {},
   "source": [
    "##### 2048"
   ]
  },
  {
   "cell_type": "markdown",
   "metadata": {},
   "source": [
    "##### Link Verification"
   ]
  },
  {
   "cell_type": "markdown",
   "metadata": {},
   "source": [
    "### Chapter 13: Working with Excel Spreadsheets"
   ]
  },
  {
   "cell_type": "markdown",
   "metadata": {},
   "source": [
    "#### __Excel Documents__"
   ]
  },
  {
   "cell_type": "markdown",
   "metadata": {},
   "source": [
    "#### __Installing the openpyxl Module__"
   ]
  },
  {
   "cell_type": "markdown",
   "metadata": {},
   "source": [
    "#### __Reading Excel Documents__"
   ]
  },
  {
   "cell_type": "markdown",
   "metadata": {},
   "source": [
    "##### Opening Excel Documents with OpenPyXL"
   ]
  },
  {
   "cell_type": "markdown",
   "metadata": {},
   "source": [
    "##### Getting Sheets from the Workbook"
   ]
  },
  {
   "cell_type": "markdown",
   "metadata": {},
   "source": [
    "##### Getting Cells from the Sheets"
   ]
  },
  {
   "cell_type": "markdown",
   "metadata": {},
   "source": [
    "##### Converting Between Column Letters and Numbers"
   ]
  },
  {
   "cell_type": "markdown",
   "metadata": {},
   "source": [
    "##### Getting Rows and Columns from the Sheets"
   ]
  },
  {
   "cell_type": "markdown",
   "metadata": {},
   "source": [
    "##### Workbooks, Sheets, Cells"
   ]
  },
  {
   "cell_type": "markdown",
   "metadata": {},
   "source": [
    "#### __Project: Reading Data from a Spreadsheet__"
   ]
  },
  {
   "cell_type": "markdown",
   "metadata": {},
   "source": [
    "##### Step 1: Read the Spreadsheet Data"
   ]
  },
  {
   "cell_type": "markdown",
   "metadata": {},
   "source": [
    "##### Step 2: Populate the Data Structure"
   ]
  },
  {
   "cell_type": "markdown",
   "metadata": {},
   "source": [
    "##### Step 3: Write the Results to a File"
   ]
  },
  {
   "cell_type": "markdown",
   "metadata": {},
   "source": [
    "##### Ideas for Similar Programs"
   ]
  },
  {
   "cell_type": "markdown",
   "metadata": {},
   "source": [
    "#### __Writing Excel Documents__"
   ]
  },
  {
   "cell_type": "markdown",
   "metadata": {},
   "source": [
    "##### Creating and Saving Excel Documents"
   ]
  },
  {
   "cell_type": "markdown",
   "metadata": {},
   "source": [
    "##### Creating and Removing Sheets"
   ]
  },
  {
   "cell_type": "markdown",
   "metadata": {},
   "source": [
    "##### Writing Values to Cells"
   ]
  },
  {
   "cell_type": "markdown",
   "metadata": {},
   "source": [
    "#### __Project: Updating a Spreadsheet__"
   ]
  },
  {
   "cell_type": "markdown",
   "metadata": {},
   "source": [
    "##### Step 1: Set Up a Data Structure with the Update Information"
   ]
  },
  {
   "cell_type": "markdown",
   "metadata": {},
   "source": [
    "##### Step 2: Check All Rows and Update Incorrect Prices"
   ]
  },
  {
   "cell_type": "markdown",
   "metadata": {},
   "source": [
    "##### Ideas for Similar Programs"
   ]
  },
  {
   "cell_type": "markdown",
   "metadata": {},
   "source": [
    "#### __Setting the Font Style of Cells__"
   ]
  },
  {
   "cell_type": "markdown",
   "metadata": {},
   "source": [
    "#### __Font Objects__"
   ]
  },
  {
   "cell_type": "markdown",
   "metadata": {},
   "source": [
    "#### __Formulas__"
   ]
  },
  {
   "cell_type": "markdown",
   "metadata": {},
   "source": [
    "#### __Adjusting Rows and Columns__"
   ]
  },
  {
   "cell_type": "markdown",
   "metadata": {},
   "source": [
    "##### Setting Row Height and Column Width"
   ]
  },
  {
   "cell_type": "markdown",
   "metadata": {},
   "source": [
    "##### Merging and Unmerging Cells"
   ]
  },
  {
   "cell_type": "markdown",
   "metadata": {},
   "source": [
    "##### Freezing Panes"
   ]
  },
  {
   "cell_type": "markdown",
   "metadata": {},
   "source": [
    "#### __Charts__"
   ]
  },
  {
   "cell_type": "markdown",
   "metadata": {},
   "source": [
    "#### ___My answers to the practice questions___"
   ]
  },
  {
   "cell_type": "markdown",
   "metadata": {},
   "source": [
    "#### __Practice Projects__"
   ]
  },
  {
   "cell_type": "markdown",
   "metadata": {},
   "source": [
    "##### Multiplication Table Maker"
   ]
  },
  {
   "cell_type": "markdown",
   "metadata": {},
   "source": [
    "##### Blank Row Inserter"
   ]
  },
  {
   "cell_type": "markdown",
   "metadata": {},
   "source": [
    "##### Spreadsheet Cell Inverter"
   ]
  },
  {
   "cell_type": "markdown",
   "metadata": {},
   "source": [
    "##### Text Files to Spreadsheet"
   ]
  },
  {
   "cell_type": "markdown",
   "metadata": {},
   "source": [
    "##### Spreadsheet to Text Files"
   ]
  },
  {
   "cell_type": "markdown",
   "metadata": {},
   "source": [
    "### Chapter 14: Working with Google Spreadsheets"
   ]
  },
  {
   "cell_type": "markdown",
   "metadata": {},
   "source": [
    "#### __Installing and Setting Up EZSheets__"
   ]
  },
  {
   "cell_type": "markdown",
   "metadata": {},
   "source": [
    "##### Obtaining Credentials and Token Files"
   ]
  },
  {
   "cell_type": "markdown",
   "metadata": {},
   "source": [
    "##### Revoking the Credentials File"
   ]
  },
  {
   "cell_type": "markdown",
   "metadata": {},
   "source": [
    "#### __Spreadsheet Objects__"
   ]
  },
  {
   "cell_type": "markdown",
   "metadata": {},
   "source": [
    "##### Creating, Uploading, and Listing Spreadsheets"
   ]
  },
  {
   "cell_type": "markdown",
   "metadata": {},
   "source": [
    "##### Spreadsheet Attributes"
   ]
  },
  {
   "cell_type": "markdown",
   "metadata": {},
   "source": [
    "##### Downloading and Uploading Spreadsheets"
   ]
  },
  {
   "cell_type": "markdown",
   "metadata": {},
   "source": [
    "##### Deleting Spreadsheets"
   ]
  },
  {
   "cell_type": "markdown",
   "metadata": {},
   "source": [
    "#### __Sheet Objects__"
   ]
  },
  {
   "cell_type": "markdown",
   "metadata": {},
   "source": [
    "##### Reading and Writing Data"
   ]
  },
  {
   "cell_type": "markdown",
   "metadata": {},
   "source": [
    "#### __Column and Row Addressing__"
   ]
  },
  {
   "cell_type": "markdown",
   "metadata": {},
   "source": [
    "#### __Reading and Writing Entire Columns and Rows__"
   ]
  },
  {
   "cell_type": "markdown",
   "metadata": {},
   "source": [
    "##### Creating and Deleting Sheets"
   ]
  },
  {
   "cell_type": "markdown",
   "metadata": {},
   "source": [
    "##### Copying Sheets"
   ]
  },
  {
   "cell_type": "markdown",
   "metadata": {},
   "source": [
    "#### __Working with Google Sheets Quotas__"
   ]
  },
  {
   "cell_type": "markdown",
   "metadata": {},
   "source": [
    "#### ___My answers to the practice questions___"
   ]
  },
  {
   "cell_type": "markdown",
   "metadata": {},
   "source": [
    "#### ___Practice Projects___"
   ]
  },
  {
   "cell_type": "markdown",
   "metadata": {},
   "source": [
    "##### Downloading Google Forms Data"
   ]
  },
  {
   "cell_type": "markdown",
   "metadata": {},
   "source": [
    "##### Converting Spreadsheets to Other Formats"
   ]
  },
  {
   "cell_type": "markdown",
   "metadata": {},
   "source": [
    "##### Finding Mistakes in a Spreadsheet"
   ]
  },
  {
   "cell_type": "markdown",
   "metadata": {},
   "source": [
    "### Chapter 15: Working with PDF and Word Documents"
   ]
  },
  {
   "cell_type": "markdown",
   "metadata": {},
   "source": [
    "#### __PDF Documents__"
   ]
  },
  {
   "cell_type": "markdown",
   "metadata": {},
   "source": [
    "##### Extracting Text from PDFs"
   ]
  },
  {
   "cell_type": "markdown",
   "metadata": {},
   "source": [
    "##### Decrypting PDFs"
   ]
  },
  {
   "cell_type": "markdown",
   "metadata": {},
   "source": [
    "##### Creating PDFs"
   ]
  },
  {
   "cell_type": "markdown",
   "metadata": {},
   "source": [
    "#### __Copying Pages__"
   ]
  },
  {
   "cell_type": "markdown",
   "metadata": {},
   "source": [
    "#### __Rotating Pages__"
   ]
  },
  {
   "cell_type": "markdown",
   "metadata": {},
   "source": [
    "#### __Overlaying Pages__"
   ]
  },
  {
   "cell_type": "markdown",
   "metadata": {},
   "source": [
    "#### __Encrypting PDFs__"
   ]
  },
  {
   "cell_type": "markdown",
   "metadata": {},
   "source": [
    "#### __Project: Combining Select Pages from Many PDFs__"
   ]
  },
  {
   "cell_type": "markdown",
   "metadata": {},
   "source": [
    "##### Step 1: Find All PDF Files"
   ]
  },
  {
   "cell_type": "markdown",
   "metadata": {},
   "source": [
    "##### Step 2: Open Each PDF"
   ]
  },
  {
   "cell_type": "markdown",
   "metadata": {},
   "source": [
    "##### Step 3: Add Each Page"
   ]
  },
  {
   "cell_type": "markdown",
   "metadata": {},
   "source": [
    "##### Step 4: Save the Results"
   ]
  },
  {
   "cell_type": "markdown",
   "metadata": {},
   "source": [
    "##### Ideas for Similar Programs"
   ]
  },
  {
   "cell_type": "markdown",
   "metadata": {},
   "source": [
    "#### __Word Documents__"
   ]
  },
  {
   "cell_type": "markdown",
   "metadata": {},
   "source": [
    "##### Reading Word Documents"
   ]
  },
  {
   "cell_type": "markdown",
   "metadata": {},
   "source": [
    "##### Getting the Full Text from a .docx File"
   ]
  },
  {
   "cell_type": "markdown",
   "metadata": {},
   "source": [
    "##### Styling Paragraph and Run Objects"
   ]
  },
  {
   "cell_type": "markdown",
   "metadata": {},
   "source": [
    "##### Creating Word Documents with Nondefault Styles"
   ]
  },
  {
   "cell_type": "markdown",
   "metadata": {},
   "source": [
    "##### Run Attributes"
   ]
  },
  {
   "cell_type": "markdown",
   "metadata": {},
   "source": [
    "##### Writing Word Documents"
   ]
  },
  {
   "cell_type": "markdown",
   "metadata": {},
   "source": [
    "##### Adding Headings"
   ]
  },
  {
   "cell_type": "markdown",
   "metadata": {},
   "source": [
    "##### Adding Line and Page Breaks"
   ]
  },
  {
   "cell_type": "markdown",
   "metadata": {},
   "source": [
    "##### Adding Pictures"
   ]
  },
  {
   "cell_type": "markdown",
   "metadata": {},
   "source": [
    "#### __Creating PDFs from Word Documents__"
   ]
  },
  {
   "cell_type": "markdown",
   "metadata": {},
   "source": [
    "#### ___My answers to the practice questions___"
   ]
  },
  {
   "cell_type": "markdown",
   "metadata": {},
   "source": [
    "#### ___Practice Projects___"
   ]
  },
  {
   "cell_type": "markdown",
   "metadata": {},
   "source": [
    "##### PDF Paranoia"
   ]
  },
  {
   "cell_type": "markdown",
   "metadata": {},
   "source": [
    "##### Custom Invitations as Word Documents"
   ]
  },
  {
   "cell_type": "markdown",
   "metadata": {},
   "source": [
    "##### Brute-Force PDF Password Breaker"
   ]
  },
  {
   "cell_type": "markdown",
   "metadata": {},
   "source": [
    "### Chapter 16: Working with CSV Files and JSON Data"
   ]
  },
  {
   "cell_type": "markdown",
   "metadata": {},
   "source": [
    "#### __The csv Module__"
   ]
  },
  {
   "cell_type": "markdown",
   "metadata": {},
   "source": [
    "##### reader Objects"
   ]
  },
  {
   "cell_type": "markdown",
   "metadata": {},
   "source": [
    "##### Reading Data from reader Objects in a for Loop"
   ]
  },
  {
   "cell_type": "markdown",
   "metadata": {},
   "source": [
    "##### writer Objects"
   ]
  },
  {
   "cell_type": "markdown",
   "metadata": {},
   "source": [
    "##### The delimiter and lineterminator Keyword Arguments"
   ]
  },
  {
   "cell_type": "markdown",
   "metadata": {},
   "source": [
    "##### DictReader and DictWriter CSV Objects"
   ]
  },
  {
   "cell_type": "markdown",
   "metadata": {},
   "source": [
    "#### __Project: Removing the Header from CSV Files__"
   ]
  },
  {
   "cell_type": "markdown",
   "metadata": {},
   "source": [
    "##### Step 1: Loop Through Each CSV File"
   ]
  },
  {
   "cell_type": "markdown",
   "metadata": {},
   "source": [
    "##### Step 2: Read in the CSV File"
   ]
  },
  {
   "cell_type": "markdown",
   "metadata": {},
   "source": [
    "##### Step 3: Write Out the CSV File Without the First Row"
   ]
  },
  {
   "cell_type": "markdown",
   "metadata": {},
   "source": [
    "##### Ideas for Similar Programs"
   ]
  },
  {
   "cell_type": "markdown",
   "metadata": {},
   "source": [
    "#### __JSON and APIs__"
   ]
  },
  {
   "cell_type": "markdown",
   "metadata": {},
   "source": [
    "#### __The json Module__"
   ]
  },
  {
   "cell_type": "markdown",
   "metadata": {},
   "source": [
    "##### Reading JSON with the loads() Function"
   ]
  },
  {
   "cell_type": "markdown",
   "metadata": {},
   "source": [
    "##### Writing JSON with the dumps() Function"
   ]
  },
  {
   "cell_type": "markdown",
   "metadata": {},
   "source": [
    "#### __Project: Fetching Current Weather Data__"
   ]
  },
  {
   "cell_type": "markdown",
   "metadata": {},
   "source": [
    "##### Step 1: Get Location from the Command Line Argument"
   ]
  },
  {
   "cell_type": "markdown",
   "metadata": {},
   "source": [
    "##### Step 2: Download the JSON Data"
   ]
  },
  {
   "cell_type": "markdown",
   "metadata": {},
   "source": [
    "##### Step 3: Load JSON Data and Print Weather"
   ]
  },
  {
   "cell_type": "markdown",
   "metadata": {},
   "source": [
    "##### Ideas for Similar Programs"
   ]
  },
  {
   "cell_type": "markdown",
   "metadata": {},
   "source": [
    "#### ___My answers to the practice questions___"
   ]
  },
  {
   "cell_type": "markdown",
   "metadata": {},
   "source": [
    "#### ___Practice Project___"
   ]
  },
  {
   "cell_type": "markdown",
   "metadata": {},
   "source": [
    "##### Excel-to-CSV Converter"
   ]
  },
  {
   "cell_type": "markdown",
   "metadata": {},
   "source": [
    "### Chapter 17: Keeping Time, Scheduling Tasks, and Launching Programs"
   ]
  },
  {
   "cell_type": "markdown",
   "metadata": {},
   "source": [
    "#### __The time Module__"
   ]
  },
  {
   "cell_type": "markdown",
   "metadata": {},
   "source": [
    "##### The time.time() Function"
   ]
  },
  {
   "cell_type": "markdown",
   "metadata": {},
   "source": [
    "##### The time.sleep() Function"
   ]
  },
  {
   "cell_type": "markdown",
   "metadata": {},
   "source": [
    "#### __Rounding Numbers__"
   ]
  },
  {
   "cell_type": "markdown",
   "metadata": {},
   "source": [
    "#### __Project: Super Stopwatch__"
   ]
  },
  {
   "cell_type": "markdown",
   "metadata": {},
   "source": [
    "##### Step 1: Set Up the Program to Track Times"
   ]
  },
  {
   "cell_type": "markdown",
   "metadata": {},
   "source": [
    "##### Step 2: Track and Print Lap Times"
   ]
  },
  {
   "cell_type": "markdown",
   "metadata": {},
   "source": [
    "##### Ideas for Similar Programs"
   ]
  },
  {
   "cell_type": "markdown",
   "metadata": {},
   "source": [
    "#### __The datetime Module__"
   ]
  },
  {
   "cell_type": "markdown",
   "metadata": {},
   "source": [
    "##### The timedelta Data Type"
   ]
  },
  {
   "cell_type": "markdown",
   "metadata": {},
   "source": [
    "##### Pausing Until a Specific Date"
   ]
  },
  {
   "cell_type": "markdown",
   "metadata": {},
   "source": [
    "##### Converting datetime Objects into Strings"
   ]
  },
  {
   "cell_type": "markdown",
   "metadata": {},
   "source": [
    "##### Converting Strings into datetime Objects"
   ]
  },
  {
   "cell_type": "markdown",
   "metadata": {},
   "source": [
    "#### __Review of Python’s Time Functions__"
   ]
  },
  {
   "cell_type": "markdown",
   "metadata": {},
   "source": [
    "#### __Multithreading__"
   ]
  },
  {
   "cell_type": "markdown",
   "metadata": {},
   "source": [
    "##### Passing Arguments to the Thread’s Target Function"
   ]
  },
  {
   "cell_type": "markdown",
   "metadata": {},
   "source": [
    "##### Concurrency Issues"
   ]
  },
  {
   "cell_type": "markdown",
   "metadata": {},
   "source": [
    "#### __Project: Multithreaded XKCD Downloader__"
   ]
  },
  {
   "cell_type": "markdown",
   "metadata": {},
   "source": [
    "##### Step 1: Modify the Program to Use a Function"
   ]
  },
  {
   "cell_type": "markdown",
   "metadata": {},
   "source": [
    "##### Step 2: Create and Start Threads"
   ]
  },
  {
   "cell_type": "markdown",
   "metadata": {},
   "source": [
    "##### Step 3: Wait for All Threads to End"
   ]
  },
  {
   "cell_type": "markdown",
   "metadata": {},
   "source": [
    "#### __Launching Other Programs from Python__"
   ]
  },
  {
   "cell_type": "markdown",
   "metadata": {},
   "source": [
    "##### Passing Command Line Arguments to the Popen() Function"
   ]
  },
  {
   "cell_type": "markdown",
   "metadata": {},
   "source": [
    "##### Task Scheduler, launchd, and cron"
   ]
  },
  {
   "cell_type": "markdown",
   "metadata": {},
   "source": [
    "##### Opening Websites with Python"
   ]
  },
  {
   "cell_type": "markdown",
   "metadata": {},
   "source": [
    "##### Running Other Python Scripts"
   ]
  },
  {
   "cell_type": "markdown",
   "metadata": {},
   "source": [
    "##### Opening Files with Default Applications"
   ]
  },
  {
   "cell_type": "markdown",
   "metadata": {},
   "source": [
    "#### __Project: Simple Countdown Program__"
   ]
  },
  {
   "cell_type": "markdown",
   "metadata": {},
   "source": [
    "##### Step 1: Count Down"
   ]
  },
  {
   "cell_type": "markdown",
   "metadata": {},
   "source": [
    "##### Step 2: Play the Sound File"
   ]
  },
  {
   "cell_type": "markdown",
   "metadata": {},
   "source": [
    "##### Ideas for Similar Programs"
   ]
  },
  {
   "cell_type": "markdown",
   "metadata": {},
   "source": [
    "#### ___My answers to the practice questions___"
   ]
  },
  {
   "cell_type": "markdown",
   "metadata": {},
   "source": [
    "#### ___Practice Projects___"
   ]
  },
  {
   "cell_type": "markdown",
   "metadata": {},
   "source": [
    "##### Prettified Stopwatch"
   ]
  },
  {
   "cell_type": "markdown",
   "metadata": {},
   "source": [
    "##### Scheduled Web Comic Downloader"
   ]
  },
  {
   "cell_type": "markdown",
   "metadata": {},
   "source": [
    "### Chapter 18: Sending Email and Text Messages"
   ]
  },
  {
   "cell_type": "markdown",
   "metadata": {},
   "source": [
    "#### __Sending and Receiving Email with the Gmail API__"
   ]
  },
  {
   "cell_type": "markdown",
   "metadata": {},
   "source": [
    "##### Enabling the Gmail API"
   ]
  },
  {
   "cell_type": "markdown",
   "metadata": {},
   "source": [
    "##### Sending Mail from a Gmail Account"
   ]
  },
  {
   "cell_type": "markdown",
   "metadata": {},
   "source": [
    "##### Reading Mail from a Gmail Account"
   ]
  },
  {
   "cell_type": "markdown",
   "metadata": {},
   "source": [
    "##### Searching Mail from a Gmail Account"
   ]
  },
  {
   "cell_type": "markdown",
   "metadata": {},
   "source": [
    "##### Downloading Attachments from a Gmail Account"
   ]
  },
  {
   "cell_type": "markdown",
   "metadata": {},
   "source": [
    "#### __SMTP__"
   ]
  },
  {
   "cell_type": "markdown",
   "metadata": {},
   "source": [
    "#### __Sending Email__"
   ]
  },
  {
   "cell_type": "markdown",
   "metadata": {},
   "source": [
    "##### Connecting to an SMTP Server"
   ]
  },
  {
   "cell_type": "markdown",
   "metadata": {},
   "source": [
    "##### Sending the SMTP “Hello” Message"
   ]
  },
  {
   "cell_type": "markdown",
   "metadata": {},
   "source": [
    "##### Starting TLS Encryption"
   ]
  },
  {
   "cell_type": "markdown",
   "metadata": {},
   "source": [
    "##### Logging In to the SMTP Server"
   ]
  },
  {
   "cell_type": "markdown",
   "metadata": {},
   "source": [
    "##### Sending an Email"
   ]
  },
  {
   "cell_type": "markdown",
   "metadata": {},
   "source": [
    "##### Disconnecting from the SMTP Server"
   ]
  },
  {
   "cell_type": "markdown",
   "metadata": {},
   "source": [
    "#### __IMAP__"
   ]
  },
  {
   "cell_type": "markdown",
   "metadata": {},
   "source": [
    "#### __Retrieving and Deleting Emails with IMAP__"
   ]
  },
  {
   "cell_type": "markdown",
   "metadata": {},
   "source": [
    "##### Connecting to an IMAP Server"
   ]
  },
  {
   "cell_type": "markdown",
   "metadata": {},
   "source": [
    "##### Logging In to the IMAP Server"
   ]
  },
  {
   "cell_type": "markdown",
   "metadata": {},
   "source": [
    "##### Searching for Email"
   ]
  },
  {
   "cell_type": "markdown",
   "metadata": {},
   "source": [
    "#### __Selecting a Folder__"
   ]
  },
  {
   "cell_type": "markdown",
   "metadata": {},
   "source": [
    "#### __Performing the Search__"
   ]
  },
  {
   "cell_type": "markdown",
   "metadata": {},
   "source": [
    "#### __Size Limits__"
   ]
  },
  {
   "cell_type": "markdown",
   "metadata": {},
   "source": [
    "##### Fetching an Email and Marking It as Read"
   ]
  },
  {
   "cell_type": "markdown",
   "metadata": {},
   "source": [
    "##### Getting Email Addresses from a Raw Message"
   ]
  },
  {
   "cell_type": "markdown",
   "metadata": {},
   "source": [
    "##### Getting the Body from a Raw Message"
   ]
  },
  {
   "cell_type": "markdown",
   "metadata": {},
   "source": [
    "##### Deleting Emails"
   ]
  },
  {
   "cell_type": "markdown",
   "metadata": {},
   "source": [
    "##### Disconnecting from the IMAP Server"
   ]
  },
  {
   "cell_type": "markdown",
   "metadata": {},
   "source": [
    "#### __Project: Sending Member Dues Reminder Emails__"
   ]
  },
  {
   "cell_type": "markdown",
   "metadata": {},
   "source": [
    "##### Step 1: Open the Excel File"
   ]
  },
  {
   "cell_type": "markdown",
   "metadata": {},
   "source": [
    "##### Step 2: Find All Unpaid Members"
   ]
  },
  {
   "cell_type": "markdown",
   "metadata": {},
   "source": [
    "##### Step 3: Send Customized Email Reminders"
   ]
  },
  {
   "cell_type": "markdown",
   "metadata": {},
   "source": [
    "#### __Sending Text Messages with SMS Email Gateways__"
   ]
  },
  {
   "cell_type": "markdown",
   "metadata": {},
   "source": [
    "#### __Sending Text Messages with Twilio__"
   ]
  },
  {
   "cell_type": "markdown",
   "metadata": {},
   "source": [
    "##### Signing Up for a Twilio Account"
   ]
  },
  {
   "cell_type": "markdown",
   "metadata": {},
   "source": [
    "##### Sending Text Messages"
   ]
  },
  {
   "cell_type": "markdown",
   "metadata": {},
   "source": [
    "#### __Project: “Just Text Me” Module__"
   ]
  },
  {
   "cell_type": "markdown",
   "metadata": {},
   "source": [
    "#### ___My answers to the practice questions___"
   ]
  },
  {
   "cell_type": "markdown",
   "metadata": {},
   "source": [
    "#### ___Practice Projects___"
   ]
  },
  {
   "cell_type": "markdown",
   "metadata": {},
   "source": [
    "##### Random Chore Assignment Emailer"
   ]
  },
  {
   "cell_type": "markdown",
   "metadata": {},
   "source": [
    "##### Umbrella Reminder"
   ]
  },
  {
   "cell_type": "markdown",
   "metadata": {},
   "source": [
    "##### Auto Unsubscriber"
   ]
  },
  {
   "cell_type": "markdown",
   "metadata": {},
   "source": [
    "##### Controlling Your Computer Through Email"
   ]
  },
  {
   "cell_type": "markdown",
   "metadata": {},
   "source": [
    "### Chapter 19: Manipulating Images"
   ]
  },
  {
   "cell_type": "markdown",
   "metadata": {},
   "source": [
    "#### __Computer Image Fundamentals__"
   ]
  },
  {
   "cell_type": "markdown",
   "metadata": {},
   "source": [
    "##### Colors and RGBA Values"
   ]
  },
  {
   "cell_type": "markdown",
   "metadata": {},
   "source": [
    "##### Coordinates and Box Tuples"
   ]
  },
  {
   "cell_type": "markdown",
   "metadata": {},
   "source": [
    "#### __Manipulating Images with Pillow__"
   ]
  },
  {
   "cell_type": "markdown",
   "metadata": {},
   "source": [
    "##### Working with the Image Data Type"
   ]
  },
  {
   "cell_type": "markdown",
   "metadata": {},
   "source": [
    "##### Cropping Images"
   ]
  },
  {
   "cell_type": "markdown",
   "metadata": {},
   "source": [
    "##### Copying and Pasting Images onto Other Images"
   ]
  },
  {
   "cell_type": "markdown",
   "metadata": {},
   "source": [
    "##### Resizing an Image"
   ]
  },
  {
   "cell_type": "markdown",
   "metadata": {},
   "source": [
    "##### Rotating and Flipping Images"
   ]
  },
  {
   "cell_type": "markdown",
   "metadata": {},
   "source": [
    "##### Changing Individual Pixels"
   ]
  },
  {
   "cell_type": "markdown",
   "metadata": {},
   "source": [
    "#### __Project: Adding a Logo__"
   ]
  },
  {
   "cell_type": "markdown",
   "metadata": {},
   "source": [
    "##### Step 1: Open the Logo Image"
   ]
  },
  {
   "cell_type": "markdown",
   "metadata": {},
   "source": [
    "##### Step 2: Loop Over All Files and Open Images"
   ]
  },
  {
   "cell_type": "markdown",
   "metadata": {},
   "source": [
    "##### Step 3: Resize the Images"
   ]
  },
  {
   "cell_type": "markdown",
   "metadata": {},
   "source": [
    "##### Step 4: Add the Logo and Save the Changes"
   ]
  },
  {
   "cell_type": "markdown",
   "metadata": {},
   "source": [
    "##### Ideas for Similar Programs"
   ]
  },
  {
   "cell_type": "markdown",
   "metadata": {},
   "source": [
    "#### __Drawing on Images__"
   ]
  },
  {
   "cell_type": "markdown",
   "metadata": {},
   "source": [
    "##### Drawing Shapes"
   ]
  },
  {
   "cell_type": "markdown",
   "metadata": {},
   "source": [
    "#### __Points__"
   ]
  },
  {
   "cell_type": "markdown",
   "metadata": {},
   "source": [
    "#### __Lines__"
   ]
  },
  {
   "cell_type": "markdown",
   "metadata": {},
   "source": [
    "#### __Rectangles__"
   ]
  },
  {
   "cell_type": "markdown",
   "metadata": {},
   "source": [
    "#### __Ellipses__"
   ]
  },
  {
   "cell_type": "markdown",
   "metadata": {},
   "source": [
    "#### __Polygons__"
   ]
  },
  {
   "cell_type": "markdown",
   "metadata": {},
   "source": [
    "#### __Drawing Example__"
   ]
  },
  {
   "cell_type": "markdown",
   "metadata": {},
   "source": [
    "##### Drawing Text"
   ]
  },
  {
   "cell_type": "markdown",
   "metadata": {},
   "source": [
    "#### ___My answers to the practice questions___"
   ]
  },
  {
   "cell_type": "markdown",
   "metadata": {},
   "source": [
    "#### ___Practice Projects___"
   ]
  },
  {
   "cell_type": "markdown",
   "metadata": {},
   "source": [
    "##### Extending and Fixing the Chapter Project Programs"
   ]
  },
  {
   "cell_type": "markdown",
   "metadata": {},
   "source": [
    "##### Identifying Photo Folders on the Hard Drive"
   ]
  },
  {
   "cell_type": "markdown",
   "metadata": {},
   "source": [
    "##### Custom Seating Cards\n"
   ]
  },
  {
   "cell_type": "markdown",
   "metadata": {},
   "source": [
    "### Chapter 20: Controlling the Keyboard and Mouse with GUI Automation"
   ]
  },
  {
   "cell_type": "markdown",
   "metadata": {},
   "source": [
    "#### __Installing the pyautogui Module__"
   ]
  },
  {
   "cell_type": "markdown",
   "metadata": {},
   "source": [
    "#### __Setting Up Accessibility Apps on macOS__"
   ]
  },
  {
   "cell_type": "markdown",
   "metadata": {},
   "source": [
    "#### __Staying on Track__"
   ]
  },
  {
   "cell_type": "markdown",
   "metadata": {},
   "source": [
    "##### Pauses and Fail-Safes"
   ]
  },
  {
   "cell_type": "markdown",
   "metadata": {},
   "source": [
    "##### Shutting Down Everything by Logging Out"
   ]
  },
  {
   "cell_type": "markdown",
   "metadata": {},
   "source": [
    "#### __Controlling Mouse Movement__"
   ]
  },
  {
   "cell_type": "markdown",
   "metadata": {},
   "source": [
    "##### Moving the Mouse"
   ]
  },
  {
   "cell_type": "markdown",
   "metadata": {},
   "source": [
    "##### Getting the Mouse Position"
   ]
  },
  {
   "cell_type": "markdown",
   "metadata": {},
   "source": [
    "#### __Controlling Mouse Interaction__"
   ]
  },
  {
   "cell_type": "markdown",
   "metadata": {},
   "source": [
    "##### Clicking the Mouse"
   ]
  },
  {
   "cell_type": "markdown",
   "metadata": {},
   "source": [
    "##### Dragging the Mouse"
   ]
  },
  {
   "cell_type": "markdown",
   "metadata": {},
   "source": [
    "##### Scrolling the Mouse"
   ]
  },
  {
   "cell_type": "markdown",
   "metadata": {},
   "source": [
    "#### __Planning Your Mouse Movements__"
   ]
  },
  {
   "cell_type": "markdown",
   "metadata": {},
   "source": [
    "#### __Working with the Screen__"
   ]
  },
  {
   "cell_type": "markdown",
   "metadata": {},
   "source": [
    "##### Getting a Screenshot"
   ]
  },
  {
   "cell_type": "markdown",
   "metadata": {},
   "source": [
    "##### Analyzing the Screenshot"
   ]
  },
  {
   "cell_type": "markdown",
   "metadata": {},
   "source": [
    "#### __Image Recognition__"
   ]
  },
  {
   "cell_type": "markdown",
   "metadata": {},
   "source": [
    "#### __Getting Window Information__"
   ]
  },
  {
   "cell_type": "markdown",
   "metadata": {},
   "source": [
    "##### Obtaining the Active Window"
   ]
  },
  {
   "cell_type": "markdown",
   "metadata": {},
   "source": [
    "##### Other Ways of Obtaining Windows"
   ]
  },
  {
   "cell_type": "markdown",
   "metadata": {},
   "source": [
    "##### Manipulating Windows"
   ]
  },
  {
   "cell_type": "markdown",
   "metadata": {},
   "source": [
    "#### __Controlling the Keyboard__"
   ]
  },
  {
   "cell_type": "markdown",
   "metadata": {},
   "source": [
    "##### Sending a String from the Keyboard"
   ]
  },
  {
   "cell_type": "markdown",
   "metadata": {},
   "source": [
    "##### Key Names"
   ]
  },
  {
   "cell_type": "markdown",
   "metadata": {},
   "source": [
    "##### Pressing and Releasing the Keyboard"
   ]
  },
  {
   "cell_type": "markdown",
   "metadata": {},
   "source": [
    "##### Hotkey Combinations"
   ]
  },
  {
   "cell_type": "markdown",
   "metadata": {},
   "source": [
    "#### __Setting Up Your GUI Automation Scripts__"
   ]
  },
  {
   "cell_type": "markdown",
   "metadata": {},
   "source": [
    "#### __Review of the PyAutoGUI Functions__"
   ]
  },
  {
   "cell_type": "markdown",
   "metadata": {},
   "source": [
    "#### __Project: Automatic Form Filler__"
   ]
  },
  {
   "cell_type": "markdown",
   "metadata": {},
   "source": [
    "##### Step 1: Figure Out the Steps"
   ]
  },
  {
   "cell_type": "markdown",
   "metadata": {},
   "source": [
    "##### Step 2: Set Up Coordinates"
   ]
  },
  {
   "cell_type": "markdown",
   "metadata": {},
   "source": [
    "##### Step 3: Start Typing Data"
   ]
  },
  {
   "cell_type": "markdown",
   "metadata": {},
   "source": [
    "##### Step 4: Handle Select Lists and Radio Buttons"
   ]
  },
  {
   "cell_type": "markdown",
   "metadata": {},
   "source": [
    "##### Step 5: Submit the Form and Wait"
   ]
  },
  {
   "cell_type": "markdown",
   "metadata": {},
   "source": [
    "#### __Displaying Message Boxes__"
   ]
  },
  {
   "cell_type": "markdown",
   "metadata": {},
   "source": [
    "#### ___My answers to the practice questions___"
   ]
  },
  {
   "cell_type": "markdown",
   "metadata": {},
   "source": [
    "#### ___Practice Projects___"
   ]
  },
  {
   "cell_type": "markdown",
   "metadata": {},
   "source": [
    "##### Looking Busy"
   ]
  },
  {
   "cell_type": "markdown",
   "metadata": {},
   "source": [
    "##### Using the Clipboard to Read a Text Field"
   ]
  },
  {
   "cell_type": "markdown",
   "metadata": {},
   "source": [
    "##### Instant Messenger Bot"
   ]
  },
  {
   "cell_type": "markdown",
   "metadata": {},
   "source": [
    "##### Game-Playing Bot Tutorial"
   ]
  },
  {
   "cell_type": "markdown",
   "metadata": {},
   "source": []
  }
 ],
 "metadata": {
  "kernelspec": {
   "display_name": "Python 3",
   "language": "python",
   "name": "python3"
  },
  "language_info": {
   "codemirror_mode": {
    "name": "ipython",
    "version": 3
   },
   "file_extension": ".py",
   "mimetype": "text/x-python",
   "name": "python",
   "nbconvert_exporter": "python",
   "pygments_lexer": "ipython3",
   "version": "3.12.3"
  }
 },
 "nbformat": 4,
 "nbformat_minor": 2
}
